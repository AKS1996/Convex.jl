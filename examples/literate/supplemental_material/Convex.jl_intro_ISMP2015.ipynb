{
 "cells": [
  {
   "cell_type": "code",
   "execution_count": 3,
   "metadata": {},
   "outputs": [
    {
     "name": "stdout",
     "output_type": "stream",
     "text": [
      "\u001b[32m\u001b[1mActivating\u001b[22m\u001b[39m environment at `~/Dropbox (Personal)/LinkedFolders/Julia/dev/Convex/examples/literate/supplemental_material/Project.toml`\n"
     ]
    }
   ],
   "source": [
    "using Pkg; pkg\"activate .\""
   ]
  },
  {
   "cell_type": "markdown",
   "metadata": {},
   "source": [
    "# Convex Optimization in Julia\n",
    "\n",
    "## Madeleine Udell | ISMP 2015"
   ]
  },
  {
   "cell_type": "markdown",
   "metadata": {},
   "source": [
    "## Convex.jl team\n",
    "\n",
    "* [Convex.jl](https://github.com/cvxgrp/Convex.jl): Madeleine Udell, Karanveer Mohan, David Zeng, Jenny Hong"
   ]
  },
  {
   "cell_type": "markdown",
   "metadata": {},
   "source": [
    "## Collaborators/Inspiration:\n",
    "\n",
    "* [CVX](http://www.cvxr.com): Michael Grant, Stephen Boyd\n",
    "* [CVXPY](https://github.com/cvxgrp/cvxpy): Steven Diamond, Eric Chu, Stephen Boyd\n",
    "* [JuliaOpt](https://github.com/JuliaOpt): Miles Lubin, Iain Dunning, Joey Huchette"
   ]
  },
  {
   "cell_type": "code",
   "execution_count": 28,
   "metadata": {},
   "outputs": [
    {
     "name": "stdout",
     "output_type": "stream",
     "text": [
      "problem status is Optimal\n",
      "optimal value is 35.116781131709125\n"
     ]
    }
   ],
   "source": [
    "# Make the Convex.jl module available\n",
    "using Convex, SparseArrays, LinearAlgebra\n",
    "using SCS # first order splitting conic solver [O'Donoghue et al., 2014]\n",
    "\n",
    "# Generate random problem data\n",
    "m = 50;  n = 100\n",
    "A = randn(m, n)\n",
    "x♮ = sprand(n, 1, .5) # true (sparse nonnegative) parameter vector\n",
    "noise = .1*randn(m)    # gaussian noise\n",
    "b = A*x♮ + noise      # noisy linear observations\n",
    "\n",
    "# Create a (column vector) variable of size n.\n",
    "x = Variable(n)\n",
    "\n",
    "# nonnegative elastic net with regularization\n",
    "λ = 1\n",
    "μ = 1\n",
    "problem = minimize(square(norm(A * x - b)) + λ*square(norm(x)) + μ*norm(x, 1),\n",
    "                   x >= 0)\n",
    "\n",
    "# Solve the problem by calling solve!\n",
    "solve!(problem, SCSSolver(verbose=0))\n",
    "\n",
    "println(\"problem status is \", problem.status) # :Optimal, :Infeasible, :Unbounded etc.\n",
    "println(\"optimal value is \", problem.optval)"
   ]
  },
  {
   "cell_type": "code",
   "execution_count": 32,
   "metadata": {},
   "outputs": [
    {
     "data": {
      "text/plain": [
       "19.866024005526477"
      ]
     },
     "metadata": {},
     "output_type": "display_data"
    },
    {
     "data": {
      "application/vnd.webio.node+json": {
       "children": [
        {
         "children": [
          {
           "children": [
            {
             "children": [
              {
               "children": [
                {
                 "children": [
                  "λ"
                 ],
                 "instanceArgs": {
                  "namespace": "html",
                  "tag": "label"
                 },
                 "nodeType": "DOM",
                 "props": {
                  "className": "interact ",
                  "style": {
                   "padding": "5px 10px 0px 10px"
                  }
                 },
                 "type": "node"
                }
               ],
               "instanceArgs": {
                "namespace": "html",
                "tag": "div"
               },
               "nodeType": "DOM",
               "props": {
                "className": "interact-flex-row-left"
               },
               "type": "node"
              },
              {
               "children": [
                {
                 "children": [],
                 "instanceArgs": {
                  "namespace": "html",
                  "tag": "input"
                 },
                 "nodeType": "DOM",
                 "props": {
                  "attributes": {
                   "data-bind": "numericValue: index, valueUpdate: 'input', event: {change: function (){this.changes(this.changes()+1)}}",
                   "orient": "horizontal",
                   "type": "range"
                  },
                  "className": "slider slider is-fullwidth",
                  "max": 51,
                  "min": 1,
                  "step": 1,
                  "style": {}
                 },
                 "type": "node"
                }
               ],
               "instanceArgs": {
                "namespace": "html",
                "tag": "div"
               },
               "nodeType": "DOM",
               "props": {
                "className": "interact-flex-row-center"
               },
               "type": "node"
              },
              {
               "children": [
                {
                 "children": [],
                 "instanceArgs": {
                  "namespace": "html",
                  "tag": "p"
                 },
                 "nodeType": "DOM",
                 "props": {
                  "attributes": {
                   "data-bind": "text: formatted_val"
                  }
                 },
                 "type": "node"
                }
               ],
               "instanceArgs": {
                "namespace": "html",
                "tag": "div"
               },
               "nodeType": "DOM",
               "props": {
                "className": "interact-flex-row-right"
               },
               "type": "node"
              }
             ],
             "instanceArgs": {
              "namespace": "html",
              "tag": "div"
             },
             "nodeType": "DOM",
             "props": {
              "className": "interact-flex-row interact-widget"
             },
             "type": "node"
            }
           ],
           "instanceArgs": {
            "handlers": {
             "changes": [
              "(function (val){return (val!=this.model[\"changes\"]()) ? (this.valueFromJulia[\"changes\"]=true, this.model[\"changes\"](val)) : undefined})"
             ],
             "index": [
              "(function (val){return (val!=this.model[\"index\"]()) ? (this.valueFromJulia[\"index\"]=true, this.model[\"index\"](val)) : undefined})"
             ]
            },
            "id": "2417741808340917538",
            "imports": {
             "data": [
              {
               "name": "knockout",
               "type": "js",
               "url": "/assetserver/550a5fd2fcd404d3bd8030056d3c050d590e9061-knockout.js"
              },
              {
               "name": "knockout_punches",
               "type": "js",
               "url": "/assetserver/1b270d0089efe5107bb25eb0370cbc4abf713b46-knockout_punches.js"
              },
              {
               "name": null,
               "type": "js",
               "url": "/assetserver/fdccc34707f9bd2a22921cc597c290d158337650-all.js"
              },
              {
               "name": null,
               "type": "css",
               "url": "/assetserver/e6a3bdae2af96b7d0d82eaf552f26d1444b6987e-style.css"
              },
              {
               "name": null,
               "type": "css",
               "url": "/assetserver/ce3971c325d8252d336bd34a09d455c6f60b4317-bulma_confined.min.css"
              }
             ],
             "type": "async_block"
            },
            "mount_callbacks": [
             "function () {\n    var handler = (function (ko, koPunches) {\n    ko.punches.enableAll();\n    ko.bindingHandlers.numericValue = {\n        init: function(element, valueAccessor, allBindings, data, context) {\n            var stringified = ko.observable(ko.unwrap(valueAccessor()));\n            stringified.subscribe(function(value) {\n                var val = parseFloat(value);\n                if (!isNaN(val)) {\n                    valueAccessor()(val);\n                }\n            });\n            valueAccessor().subscribe(function(value) {\n                var str = JSON.stringify(value);\n                if ((str == \"0\") && ([\"-0\", \"-0.\"].indexOf(stringified()) >= 0))\n                     return;\n                 if ([\"null\", \"\"].indexOf(str) >= 0)\n                     return;\n                stringified(str);\n            });\n            ko.applyBindingsToNode(\n                element,\n                {\n                    value: stringified,\n                    valueUpdate: allBindings.get('valueUpdate'),\n                },\n                context,\n            );\n        }\n    };\n    var json_data = {\"formatted_vals\":[\"0.0\",\"0.1\",\"0.2\",\"0.3\",\"0.4\",\"0.5\",\"0.6\",\"0.7\",\"0.8\",\"0.9\",\"1.0\",\"1.1\",\"1.2\",\"1.3\",\"1.4\",\"1.5\",\"1.6\",\"1.7\",\"1.8\",\"1.9\",\"2.0\",\"2.1\",\"2.2\",\"2.3\",\"2.4\",\"2.5\",\"2.6\",\"2.7\",\"2.8\",\"2.9\",\"3.0\",\"3.1\",\"3.2\",\"3.3\",\"3.4\",\"3.5\",\"3.6\",\"3.7\",\"3.8\",\"3.9\",\"4.0\",\"4.1\",\"4.2\",\"4.3\",\"4.4\",\"4.5\",\"4.6\",\"4.7\",\"4.8\",\"4.9\",\"5.0\"],\"changes\":WebIO.getval({\"name\":\"changes\",\"scope\":\"2417741808340917538\",\"id\":\"ob_65\",\"type\":\"observable\"}),\"index\":WebIO.getval({\"name\":\"index\",\"scope\":\"2417741808340917538\",\"id\":\"ob_64\",\"type\":\"observable\"})};\n    var self = this;\n    function AppViewModel() {\n        for (var key in json_data) {\n            var el = json_data[key];\n            this[key] = Array.isArray(el) ? ko.observableArray(el) : ko.observable(el);\n        }\n        \n        [this[\"formatted_val\"]=ko.computed(    function(){\n        return this.formatted_vals()[parseInt(this.index())-(1)];\n    }\n,this)]\n        [this[\"changes\"].subscribe((function (val){!(this.valueFromJulia[\"changes\"]) ? (WebIO.setval({\"name\":\"changes\",\"scope\":\"2417741808340917538\",\"id\":\"ob_65\",\"type\":\"observable\"},val)) : undefined; return this.valueFromJulia[\"changes\"]=false}),self),this[\"index\"].subscribe((function (val){!(this.valueFromJulia[\"index\"]) ? (WebIO.setval({\"name\":\"index\",\"scope\":\"2417741808340917538\",\"id\":\"ob_64\",\"type\":\"observable\"},val)) : undefined; return this.valueFromJulia[\"index\"]=false}),self)]\n        \n    }\n    self.model = new AppViewModel();\n    self.valueFromJulia = {};\n    for (var key in json_data) {\n        self.valueFromJulia[key] = false;\n    }\n    ko.applyBindings(self.model, self.dom);\n}\n);\n    (WebIO.importBlock({\"data\":[{\"name\":\"knockout\",\"type\":\"js\",\"url\":\"/assetserver/550a5fd2fcd404d3bd8030056d3c050d590e9061-knockout.js\"},{\"name\":\"knockout_punches\",\"type\":\"js\",\"url\":\"/assetserver/1b270d0089efe5107bb25eb0370cbc4abf713b46-knockout_punches.js\"}],\"type\":\"async_block\"})).then((imports) => handler.apply(this, imports));\n}\n"
            ],
            "observables": {
             "changes": {
              "id": "ob_65",
              "sync": false,
              "value": 0
             },
             "index": {
              "id": "ob_64",
              "sync": true,
              "value": 26
             }
            },
            "systemjs_options": null
           },
           "nodeType": "Scope",
           "props": {},
           "type": "node"
          }
         ],
         "instanceArgs": {
          "namespace": "html",
          "tag": "div"
         },
         "nodeType": "DOM",
         "props": {
          "className": "field interact-widget"
         },
         "type": "node"
        },
        {
         "children": [
          {
           "children": [
            {
             "children": [
              {
               "children": [
                {
                 "children": [
                  "μ"
                 ],
                 "instanceArgs": {
                  "namespace": "html",
                  "tag": "label"
                 },
                 "nodeType": "DOM",
                 "props": {
                  "className": "interact ",
                  "style": {
                   "padding": "5px 10px 0px 10px"
                  }
                 },
                 "type": "node"
                }
               ],
               "instanceArgs": {
                "namespace": "html",
                "tag": "div"
               },
               "nodeType": "DOM",
               "props": {
                "className": "interact-flex-row-left"
               },
               "type": "node"
              },
              {
               "children": [
                {
                 "children": [],
                 "instanceArgs": {
                  "namespace": "html",
                  "tag": "input"
                 },
                 "nodeType": "DOM",
                 "props": {
                  "attributes": {
                   "data-bind": "numericValue: index, valueUpdate: 'input', event: {change: function (){this.changes(this.changes()+1)}}",
                   "orient": "horizontal",
                   "type": "range"
                  },
                  "className": "slider slider is-fullwidth",
                  "max": 51,
                  "min": 1,
                  "step": 1,
                  "style": {}
                 },
                 "type": "node"
                }
               ],
               "instanceArgs": {
                "namespace": "html",
                "tag": "div"
               },
               "nodeType": "DOM",
               "props": {
                "className": "interact-flex-row-center"
               },
               "type": "node"
              },
              {
               "children": [
                {
                 "children": [],
                 "instanceArgs": {
                  "namespace": "html",
                  "tag": "p"
                 },
                 "nodeType": "DOM",
                 "props": {
                  "attributes": {
                   "data-bind": "text: formatted_val"
                  }
                 },
                 "type": "node"
                }
               ],
               "instanceArgs": {
                "namespace": "html",
                "tag": "div"
               },
               "nodeType": "DOM",
               "props": {
                "className": "interact-flex-row-right"
               },
               "type": "node"
              }
             ],
             "instanceArgs": {
              "namespace": "html",
              "tag": "div"
             },
             "nodeType": "DOM",
             "props": {
              "className": "interact-flex-row interact-widget"
             },
             "type": "node"
            }
           ],
           "instanceArgs": {
            "handlers": {
             "changes": [
              "(function (val){return (val!=this.model[\"changes\"]()) ? (this.valueFromJulia[\"changes\"]=true, this.model[\"changes\"](val)) : undefined})"
             ],
             "index": [
              "(function (val){return (val!=this.model[\"index\"]()) ? (this.valueFromJulia[\"index\"]=true, this.model[\"index\"](val)) : undefined})"
             ]
            },
            "id": "18228690072874791829",
            "imports": {
             "data": [
              {
               "name": "knockout",
               "type": "js",
               "url": "/assetserver/550a5fd2fcd404d3bd8030056d3c050d590e9061-knockout.js"
              },
              {
               "name": "knockout_punches",
               "type": "js",
               "url": "/assetserver/1b270d0089efe5107bb25eb0370cbc4abf713b46-knockout_punches.js"
              },
              {
               "name": null,
               "type": "js",
               "url": "/assetserver/fdccc34707f9bd2a22921cc597c290d158337650-all.js"
              },
              {
               "name": null,
               "type": "css",
               "url": "/assetserver/e6a3bdae2af96b7d0d82eaf552f26d1444b6987e-style.css"
              },
              {
               "name": null,
               "type": "css",
               "url": "/assetserver/ce3971c325d8252d336bd34a09d455c6f60b4317-bulma_confined.min.css"
              }
             ],
             "type": "async_block"
            },
            "mount_callbacks": [
             "function () {\n    var handler = (function (ko, koPunches) {\n    ko.punches.enableAll();\n    ko.bindingHandlers.numericValue = {\n        init: function(element, valueAccessor, allBindings, data, context) {\n            var stringified = ko.observable(ko.unwrap(valueAccessor()));\n            stringified.subscribe(function(value) {\n                var val = parseFloat(value);\n                if (!isNaN(val)) {\n                    valueAccessor()(val);\n                }\n            });\n            valueAccessor().subscribe(function(value) {\n                var str = JSON.stringify(value);\n                if ((str == \"0\") && ([\"-0\", \"-0.\"].indexOf(stringified()) >= 0))\n                     return;\n                 if ([\"null\", \"\"].indexOf(str) >= 0)\n                     return;\n                stringified(str);\n            });\n            ko.applyBindingsToNode(\n                element,\n                {\n                    value: stringified,\n                    valueUpdate: allBindings.get('valueUpdate'),\n                },\n                context,\n            );\n        }\n    };\n    var json_data = {\"formatted_vals\":[\"0.0\",\"0.1\",\"0.2\",\"0.3\",\"0.4\",\"0.5\",\"0.6\",\"0.7\",\"0.8\",\"0.9\",\"1.0\",\"1.1\",\"1.2\",\"1.3\",\"1.4\",\"1.5\",\"1.6\",\"1.7\",\"1.8\",\"1.9\",\"2.0\",\"2.1\",\"2.2\",\"2.3\",\"2.4\",\"2.5\",\"2.6\",\"2.7\",\"2.8\",\"2.9\",\"3.0\",\"3.1\",\"3.2\",\"3.3\",\"3.4\",\"3.5\",\"3.6\",\"3.7\",\"3.8\",\"3.9\",\"4.0\",\"4.1\",\"4.2\",\"4.3\",\"4.4\",\"4.5\",\"4.6\",\"4.7\",\"4.8\",\"4.9\",\"5.0\"],\"changes\":WebIO.getval({\"name\":\"changes\",\"scope\":\"18228690072874791829\",\"id\":\"ob_68\",\"type\":\"observable\"}),\"index\":WebIO.getval({\"name\":\"index\",\"scope\":\"18228690072874791829\",\"id\":\"ob_67\",\"type\":\"observable\"})};\n    var self = this;\n    function AppViewModel() {\n        for (var key in json_data) {\n            var el = json_data[key];\n            this[key] = Array.isArray(el) ? ko.observableArray(el) : ko.observable(el);\n        }\n        \n        [this[\"formatted_val\"]=ko.computed(    function(){\n        return this.formatted_vals()[parseInt(this.index())-(1)];\n    }\n,this)]\n        [this[\"changes\"].subscribe((function (val){!(this.valueFromJulia[\"changes\"]) ? (WebIO.setval({\"name\":\"changes\",\"scope\":\"18228690072874791829\",\"id\":\"ob_68\",\"type\":\"observable\"},val)) : undefined; return this.valueFromJulia[\"changes\"]=false}),self),this[\"index\"].subscribe((function (val){!(this.valueFromJulia[\"index\"]) ? (WebIO.setval({\"name\":\"index\",\"scope\":\"18228690072874791829\",\"id\":\"ob_67\",\"type\":\"observable\"},val)) : undefined; return this.valueFromJulia[\"index\"]=false}),self)]\n        \n    }\n    self.model = new AppViewModel();\n    self.valueFromJulia = {};\n    for (var key in json_data) {\n        self.valueFromJulia[key] = false;\n    }\n    ko.applyBindings(self.model, self.dom);\n}\n);\n    (WebIO.importBlock({\"data\":[{\"name\":\"knockout\",\"type\":\"js\",\"url\":\"/assetserver/550a5fd2fcd404d3bd8030056d3c050d590e9061-knockout.js\"},{\"name\":\"knockout_punches\",\"type\":\"js\",\"url\":\"/assetserver/1b270d0089efe5107bb25eb0370cbc4abf713b46-knockout_punches.js\"}],\"type\":\"async_block\"})).then((imports) => handler.apply(this, imports));\n}\n"
            ],
            "observables": {
             "changes": {
              "id": "ob_68",
              "sync": false,
              "value": 0
             },
             "index": {
              "id": "ob_67",
              "sync": true,
              "value": 26
             }
            },
            "systemjs_options": null
           },
           "nodeType": "Scope",
           "props": {},
           "type": "node"
          }
         ],
         "instanceArgs": {
          "namespace": "html",
          "tag": "div"
         },
         "nodeType": "DOM",
         "props": {
          "className": "field interact-widget"
         },
         "type": "node"
        },
        {
         "children": [
          {
           "children": [],
           "instanceArgs": {
            "id": "ob_78",
            "name": "obs-node"
           },
           "nodeType": "ObservableNode",
           "props": {},
           "type": "node"
          }
         ],
         "instanceArgs": {
          "handlers": {},
          "id": "5709730467065840122",
          "imports": {
           "data": [],
           "type": "async_block"
          },
          "mount_callbacks": [],
          "observables": {
           "obs-node": {
            "id": "ob_78",
            "sync": false,
            "value": {
             "children": [
              {
               "children": [],
               "instanceArgs": {
                "namespace": "html",
                "tag": "div"
               },
               "nodeType": "DOM",
               "props": {
                "setInnerHtml": "<?xml version=\"1.0\" encoding=\"utf-8\"?>\n<svg xmlns=\"http://www.w3.org/2000/svg\" xmlns:xlink=\"http://www.w3.org/1999/xlink\" width=\"600\" height=\"400\" viewBox=\"0 0 2400 1600\">\n<defs>\n  <clipPath id=\"clip8100\">\n    <rect x=\"0\" y=\"0\" width=\"2400\" height=\"1600\"/>\n  </clipPath>\n</defs>\n<path clip-path=\"url(#clip8100)\" d=\"\nM0 1600 L2400 1600 L2400 0 L0 0  Z\n  \" fill=\"#ffffff\" fill-rule=\"evenodd\" fill-opacity=\"1\"/>\n<defs>\n  <clipPath id=\"clip8101\">\n    <rect x=\"480\" y=\"0\" width=\"1681\" height=\"1600\"/>\n  </clipPath>\n</defs>\n<path clip-path=\"url(#clip8100)\" d=\"\nM140.517 1487.47 L2352.76 1487.47 L2352.76 47.2441 L140.517 47.2441  Z\n  \" fill=\"#ffffff\" fill-rule=\"evenodd\" fill-opacity=\"1\"/>\n<defs>\n  <clipPath id=\"clip8102\">\n    <rect x=\"140\" y=\"47\" width=\"2213\" height=\"1441\"/>\n  </clipPath>\n</defs>\n<polyline clip-path=\"url(#clip8102)\" style=\"stroke:#000000; stroke-width:2; stroke-opacity:0.1; fill:none\" points=\"\n  140.517,1487.47 140.517,47.2441 \n  \"/>\n<polyline clip-path=\"url(#clip8102)\" style=\"stroke:#000000; stroke-width:2; stroke-opacity:0.1; fill:none\" points=\"\n  456.551,1487.47 456.551,47.2441 \n  \"/>\n<polyline clip-path=\"url(#clip8102)\" style=\"stroke:#000000; stroke-width:2; stroke-opacity:0.1; fill:none\" points=\"\n  772.585,1487.47 772.585,47.2441 \n  \"/>\n<polyline clip-path=\"url(#clip8102)\" style=\"stroke:#000000; stroke-width:2; stroke-opacity:0.1; fill:none\" points=\"\n  1088.62,1487.47 1088.62,47.2441 \n  \"/>\n<polyline clip-path=\"url(#clip8102)\" style=\"stroke:#000000; stroke-width:2; stroke-opacity:0.1; fill:none\" points=\"\n  1404.65,1487.47 1404.65,47.2441 \n  \"/>\n<polyline clip-path=\"url(#clip8102)\" style=\"stroke:#000000; stroke-width:2; stroke-opacity:0.1; fill:none\" points=\"\n  1720.69,1487.47 1720.69,47.2441 \n  \"/>\n<polyline clip-path=\"url(#clip8102)\" style=\"stroke:#000000; stroke-width:2; stroke-opacity:0.1; fill:none\" points=\"\n  2036.72,1487.47 2036.72,47.2441 \n  \"/>\n<polyline clip-path=\"url(#clip8102)\" style=\"stroke:#000000; stroke-width:2; stroke-opacity:0.1; fill:none\" points=\"\n  2352.76,1487.47 2352.76,47.2441 \n  \"/>\n<polyline clip-path=\"url(#clip8102)\" style=\"stroke:#000000; stroke-width:2; stroke-opacity:0.1; fill:none\" points=\"\n  140.517,1446.71 2352.76,1446.71 \n  \"/>\n<polyline clip-path=\"url(#clip8102)\" style=\"stroke:#000000; stroke-width:2; stroke-opacity:0.1; fill:none\" points=\"\n  140.517,1130.73 2352.76,1130.73 \n  \"/>\n<polyline clip-path=\"url(#clip8102)\" style=\"stroke:#000000; stroke-width:2; stroke-opacity:0.1; fill:none\" points=\"\n  140.517,814.756 2352.76,814.756 \n  \"/>\n<polyline clip-path=\"url(#clip8102)\" style=\"stroke:#000000; stroke-width:2; stroke-opacity:0.1; fill:none\" points=\"\n  140.517,498.778 2352.76,498.778 \n  \"/>\n<polyline clip-path=\"url(#clip8102)\" style=\"stroke:#000000; stroke-width:2; stroke-opacity:0.1; fill:none\" points=\"\n  140.517,182.799 2352.76,182.799 \n  \"/>\n<polyline clip-path=\"url(#clip8100)\" style=\"stroke:#000000; stroke-width:4; stroke-opacity:1; fill:none\" points=\"\n  140.517,1487.47 2352.76,1487.47 \n  \"/>\n<polyline clip-path=\"url(#clip8100)\" style=\"stroke:#000000; stroke-width:4; stroke-opacity:1; fill:none\" points=\"\n  140.517,1487.47 140.517,47.2441 \n  \"/>\n<polyline clip-path=\"url(#clip8100)\" style=\"stroke:#000000; stroke-width:4; stroke-opacity:1; fill:none\" points=\"\n  140.517,1487.47 140.517,1465.87 \n  \"/>\n<polyline clip-path=\"url(#clip8100)\" style=\"stroke:#000000; stroke-width:4; stroke-opacity:1; fill:none\" points=\"\n  456.551,1487.47 456.551,1465.87 \n  \"/>\n<polyline clip-path=\"url(#clip8100)\" style=\"stroke:#000000; stroke-width:4; stroke-opacity:1; fill:none\" points=\"\n  772.585,1487.47 772.585,1465.87 \n  \"/>\n<polyline clip-path=\"url(#clip8100)\" style=\"stroke:#000000; stroke-width:4; stroke-opacity:1; fill:none\" points=\"\n  1088.62,1487.47 1088.62,1465.87 \n  \"/>\n<polyline clip-path=\"url(#clip8100)\" style=\"stroke:#000000; stroke-width:4; stroke-opacity:1; fill:none\" points=\"\n  1404.65,1487.47 1404.65,1465.87 \n  \"/>\n<polyline clip-path=\"url(#clip8100)\" style=\"stroke:#000000; stroke-width:4; stroke-opacity:1; fill:none\" points=\"\n  1720.69,1487.47 1720.69,1465.87 \n  \"/>\n<polyline clip-path=\"url(#clip8100)\" style=\"stroke:#000000; stroke-width:4; stroke-opacity:1; fill:none\" points=\"\n  2036.72,1487.47 2036.72,1465.87 \n  \"/>\n<polyline clip-path=\"url(#clip8100)\" style=\"stroke:#000000; stroke-width:4; stroke-opacity:1; fill:none\" points=\"\n  2352.76,1487.47 2352.76,1465.87 \n  \"/>\n<polyline clip-path=\"url(#clip8100)\" style=\"stroke:#000000; stroke-width:4; stroke-opacity:1; fill:none\" points=\"\n  140.517,1446.71 173.7,1446.71 \n  \"/>\n<polyline clip-path=\"url(#clip8100)\" style=\"stroke:#000000; stroke-width:4; stroke-opacity:1; fill:none\" points=\"\n  140.517,1130.73 173.7,1130.73 \n  \"/>\n<polyline clip-path=\"url(#clip8100)\" style=\"stroke:#000000; stroke-width:4; stroke-opacity:1; fill:none\" points=\"\n  140.517,814.756 173.7,814.756 \n  \"/>\n<polyline clip-path=\"url(#clip8100)\" style=\"stroke:#000000; stroke-width:4; stroke-opacity:1; fill:none\" points=\"\n  140.517,498.778 173.7,498.778 \n  \"/>\n<polyline clip-path=\"url(#clip8100)\" style=\"stroke:#000000; stroke-width:4; stroke-opacity:1; fill:none\" points=\"\n  140.517,182.799 173.7,182.799 \n  \"/>\n<g clip-path=\"url(#clip8100)\">\n<text style=\"fill:#000000; fill-opacity:1; font-family:Arial,Helvetica Neue,Helvetica,sans-serif; font-size:48px; text-anchor:middle;\" transform=\"rotate(0, 140.517, 1541.47)\" x=\"140.517\" y=\"1541.47\">0.0</text>\n</g>\n<g clip-path=\"url(#clip8100)\">\n<text style=\"fill:#000000; fill-opacity:1; font-family:Arial,Helvetica Neue,Helvetica,sans-serif; font-size:48px; text-anchor:middle;\" transform=\"rotate(0, 456.551, 1541.47)\" x=\"456.551\" y=\"1541.47\">0.5</text>\n</g>\n<g clip-path=\"url(#clip8100)\">\n<text style=\"fill:#000000; fill-opacity:1; font-family:Arial,Helvetica Neue,Helvetica,sans-serif; font-size:48px; text-anchor:middle;\" transform=\"rotate(0, 772.585, 1541.47)\" x=\"772.585\" y=\"1541.47\">1.0</text>\n</g>\n<g clip-path=\"url(#clip8100)\">\n<text style=\"fill:#000000; fill-opacity:1; font-family:Arial,Helvetica Neue,Helvetica,sans-serif; font-size:48px; text-anchor:middle;\" transform=\"rotate(0, 1088.62, 1541.47)\" x=\"1088.62\" y=\"1541.47\">1.5</text>\n</g>\n<g clip-path=\"url(#clip8100)\">\n<text style=\"fill:#000000; fill-opacity:1; font-family:Arial,Helvetica Neue,Helvetica,sans-serif; font-size:48px; text-anchor:middle;\" transform=\"rotate(0, 1404.65, 1541.47)\" x=\"1404.65\" y=\"1541.47\">2.0</text>\n</g>\n<g clip-path=\"url(#clip8100)\">\n<text style=\"fill:#000000; fill-opacity:1; font-family:Arial,Helvetica Neue,Helvetica,sans-serif; font-size:48px; text-anchor:middle;\" transform=\"rotate(0, 1720.69, 1541.47)\" x=\"1720.69\" y=\"1541.47\">2.5</text>\n</g>\n<g clip-path=\"url(#clip8100)\">\n<text style=\"fill:#000000; fill-opacity:1; font-family:Arial,Helvetica Neue,Helvetica,sans-serif; font-size:48px; text-anchor:middle;\" transform=\"rotate(0, 2036.72, 1541.47)\" x=\"2036.72\" y=\"1541.47\">3.0</text>\n</g>\n<g clip-path=\"url(#clip8100)\">\n<text style=\"fill:#000000; fill-opacity:1; font-family:Arial,Helvetica Neue,Helvetica,sans-serif; font-size:48px; text-anchor:middle;\" transform=\"rotate(0, 2352.76, 1541.47)\" x=\"2352.76\" y=\"1541.47\">3.5</text>\n</g>\n<g clip-path=\"url(#clip8100)\">\n<text style=\"fill:#000000; fill-opacity:1; font-family:Arial,Helvetica Neue,Helvetica,sans-serif; font-size:48px; text-anchor:end;\" transform=\"rotate(0, 116.517, 1464.21)\" x=\"116.517\" y=\"1464.21\">0</text>\n</g>\n<g clip-path=\"url(#clip8100)\">\n<text style=\"fill:#000000; fill-opacity:1; font-family:Arial,Helvetica Neue,Helvetica,sans-serif; font-size:48px; text-anchor:end;\" transform=\"rotate(0, 116.517, 1148.23)\" x=\"116.517\" y=\"1148.23\">10</text>\n</g>\n<g clip-path=\"url(#clip8100)\">\n<text style=\"fill:#000000; fill-opacity:1; font-family:Arial,Helvetica Neue,Helvetica,sans-serif; font-size:48px; text-anchor:end;\" transform=\"rotate(0, 116.517, 832.256)\" x=\"116.517\" y=\"832.256\">20</text>\n</g>\n<g clip-path=\"url(#clip8100)\">\n<text style=\"fill:#000000; fill-opacity:1; font-family:Arial,Helvetica Neue,Helvetica,sans-serif; font-size:48px; text-anchor:end;\" transform=\"rotate(0, 116.517, 516.278)\" x=\"116.517\" y=\"516.278\">30</text>\n</g>\n<g clip-path=\"url(#clip8100)\">\n<text style=\"fill:#000000; fill-opacity:1; font-family:Arial,Helvetica Neue,Helvetica,sans-serif; font-size:48px; text-anchor:end;\" transform=\"rotate(0, 116.517, 200.299)\" x=\"116.517\" y=\"200.299\">40</text>\n</g>\n<path clip-path=\"url(#clip8102)\" d=\"\nM14.1031 751.56 L14.1031 1446.71 L140.517 1446.71 L140.517 751.56 L14.1031 751.56 L14.1031 751.56  Z\n  \" fill=\"#009af9\" fill-rule=\"evenodd\" fill-opacity=\"1\"/>\n<polyline clip-path=\"url(#clip8102)\" style=\"stroke:#000000; stroke-width:4; stroke-opacity:1; fill:none\" points=\"\n  14.1031,751.56 14.1031,1446.71 140.517,1446.71 140.517,751.56 14.1031,751.56 \n  \"/>\n<path clip-path=\"url(#clip8102)\" d=\"\nM140.517 88.0053 L140.517 1446.71 L266.93 1446.71 L266.93 88.0053 L140.517 88.0053 L140.517 88.0053  Z\n  \" fill=\"#009af9\" fill-rule=\"evenodd\" fill-opacity=\"1\"/>\n<polyline clip-path=\"url(#clip8102)\" style=\"stroke:#000000; stroke-width:4; stroke-opacity:1; fill:none\" points=\"\n  140.517,88.0053 140.517,1446.71 266.93,1446.71 266.93,88.0053 140.517,88.0053 \n  \"/>\n<path clip-path=\"url(#clip8102)\" d=\"\nM266.93 941.148 L266.93 1446.71 L393.344 1446.71 L393.344 941.148 L266.93 941.148 L266.93 941.148  Z\n  \" fill=\"#009af9\" fill-rule=\"evenodd\" fill-opacity=\"1\"/>\n<polyline clip-path=\"url(#clip8102)\" style=\"stroke:#000000; stroke-width:4; stroke-opacity:1; fill:none\" points=\"\n  266.93,941.148 266.93,1446.71 393.344,1446.71 393.344,941.148 266.93,941.148 \n  \"/>\n<path clip-path=\"url(#clip8102)\" d=\"\nM393.344 1193.93 L393.344 1446.71 L519.758 1446.71 L519.758 1193.93 L393.344 1193.93 L393.344 1193.93  Z\n  \" fill=\"#009af9\" fill-rule=\"evenodd\" fill-opacity=\"1\"/>\n<polyline clip-path=\"url(#clip8102)\" style=\"stroke:#000000; stroke-width:4; stroke-opacity:1; fill:none\" points=\"\n  393.344,1193.93 393.344,1446.71 519.758,1446.71 519.758,1193.93 393.344,1193.93 \n  \"/>\n<path clip-path=\"url(#clip8102)\" d=\"\nM519.758 1257.13 L519.758 1446.71 L646.171 1446.71 L646.171 1257.13 L519.758 1257.13 L519.758 1257.13  Z\n  \" fill=\"#009af9\" fill-rule=\"evenodd\" fill-opacity=\"1\"/>\n<polyline clip-path=\"url(#clip8102)\" style=\"stroke:#000000; stroke-width:4; stroke-opacity:1; fill:none\" points=\"\n  519.758,1257.13 519.758,1446.71 646.171,1446.71 646.171,1257.13 519.758,1257.13 \n  \"/>\n<path clip-path=\"url(#clip8102)\" d=\"\nM646.171 1351.92 L646.171 1446.71 L772.585 1446.71 L772.585 1351.92 L646.171 1351.92 L646.171 1351.92  Z\n  \" fill=\"#009af9\" fill-rule=\"evenodd\" fill-opacity=\"1\"/>\n<polyline clip-path=\"url(#clip8102)\" style=\"stroke:#000000; stroke-width:4; stroke-opacity:1; fill:none\" points=\"\n  646.171,1351.92 646.171,1446.71 772.585,1446.71 772.585,1351.92 646.171,1351.92 \n  \"/>\n<path clip-path=\"url(#clip8102)\" d=\"\nM772.585 1415.12 L772.585 1446.71 L898.999 1446.71 L898.999 1415.12 L772.585 1415.12 L772.585 1415.12  Z\n  \" fill=\"#009af9\" fill-rule=\"evenodd\" fill-opacity=\"1\"/>\n<polyline clip-path=\"url(#clip8102)\" style=\"stroke:#000000; stroke-width:4; stroke-opacity:1; fill:none\" points=\"\n  772.585,1415.12 772.585,1446.71 898.999,1446.71 898.999,1415.12 772.585,1415.12 \n  \"/>\n<path clip-path=\"url(#clip8102)\" d=\"\nM898.999 1415.12 L898.999 1446.71 L1025.41 1446.71 L1025.41 1415.12 L898.999 1415.12 L898.999 1415.12  Z\n  \" fill=\"#009af9\" fill-rule=\"evenodd\" fill-opacity=\"1\"/>\n<polyline clip-path=\"url(#clip8102)\" style=\"stroke:#000000; stroke-width:4; stroke-opacity:1; fill:none\" points=\"\n  898.999,1415.12 898.999,1446.71 1025.41,1446.71 1025.41,1415.12 898.999,1415.12 \n  \"/>\n<path clip-path=\"url(#clip8100)\" d=\"\nM1989.93 251.724 L2280.76 251.724 L2280.76 130.764 L1989.93 130.764  Z\n  \" fill=\"#ffffff\" fill-rule=\"evenodd\" fill-opacity=\"1\"/>\n<polyline clip-path=\"url(#clip8100)\" style=\"stroke:#000000; stroke-width:4; stroke-opacity:1; fill:none\" points=\"\n  1989.93,251.724 2280.76,251.724 2280.76,130.764 1989.93,130.764 1989.93,251.724 \n  \"/>\n<path clip-path=\"url(#clip8100)\" d=\"\nM2013.93 215.436 L2157.93 215.436 L2157.93 167.052 L2013.93 167.052 L2013.93 215.436  Z\n  \" fill=\"#009af9\" fill-rule=\"evenodd\" fill-opacity=\"1\"/>\n<polyline clip-path=\"url(#clip8100)\" style=\"stroke:#000000; stroke-width:4; stroke-opacity:1; fill:none\" points=\"\n  2013.93,215.436 2157.93,215.436 2157.93,167.052 2013.93,167.052 2013.93,215.436 \n  \"/>\n<g clip-path=\"url(#clip8100)\">\n<text style=\"fill:#000000; fill-opacity:1; font-family:Arial,Helvetica Neue,Helvetica,sans-serif; font-size:48px; text-anchor:start;\" transform=\"rotate(0, 2181.93, 208.744)\" x=\"2181.93\" y=\"208.744\">y1</text>\n</g>\n</svg>\n"
               },
               "type": "node"
              }
             ],
             "instanceArgs": {
              "namespace": "html",
              "tag": "div"
             },
             "nodeType": "DOM",
             "props": {
              "className": "interact-flex-row interact-widget"
             },
             "type": "node"
            }
           }
          },
          "systemjs_options": null
         },
         "nodeType": "Scope",
         "props": {},
         "type": "node"
        }
       ],
       "instanceArgs": {
        "namespace": "html",
        "tag": "div"
       },
       "nodeType": "DOM",
       "props": {},
       "type": "node"
      },
      "text/html": [
       "<div\n",
       "    class=\"webio-mountpoint\"\n",
       "    data-webio-mountpoint=\"3638709203073607991\"\n",
       ">\n",
       "    <script>\n",
       "    if (window.require && require.defined && require.defined(\"nbextensions/webio-jupyter-notebook\")) {\n",
       "        console.log(\"Jupyter WebIO extension detected, not mounting.\");\n",
       "    } else if (window.WebIO) {\n",
       "        WebIO.mount(\n",
       "            document.querySelector('[data-webio-mountpoint=\"3638709203073607991\"]'),\n",
       "            {\"props\":{},\"nodeType\":\"DOM\",\"type\":\"node\",\"instanceArgs\":{\"namespace\":\"html\",\"tag\":\"div\"},\"children\":[{\"props\":{\"className\":\"field interact-widget\"},\"nodeType\":\"DOM\",\"type\":\"node\",\"instanceArgs\":{\"namespace\":\"html\",\"tag\":\"div\"},\"children\":[{\"props\":{},\"nodeType\":\"Scope\",\"type\":\"node\",\"instanceArgs\":{\"imports\":{\"data\":[{\"name\":\"knockout\",\"type\":\"js\",\"url\":\"\\/assetserver\\/550a5fd2fcd404d3bd8030056d3c050d590e9061-knockout.js\"},{\"name\":\"knockout_punches\",\"type\":\"js\",\"url\":\"\\/assetserver\\/1b270d0089efe5107bb25eb0370cbc4abf713b46-knockout_punches.js\"},{\"name\":null,\"type\":\"js\",\"url\":\"\\/assetserver\\/fdccc34707f9bd2a22921cc597c290d158337650-all.js\"},{\"name\":null,\"type\":\"css\",\"url\":\"\\/assetserver\\/e6a3bdae2af96b7d0d82eaf552f26d1444b6987e-style.css\"},{\"name\":null,\"type\":\"css\",\"url\":\"\\/assetserver\\/ce3971c325d8252d336bd34a09d455c6f60b4317-bulma_confined.min.css\"}],\"type\":\"async_block\"},\"id\":\"2417741808340917538\",\"handlers\":{\"changes\":[\"(function (val){return (val!=this.model[\\\"changes\\\"]()) ? (this.valueFromJulia[\\\"changes\\\"]=true, this.model[\\\"changes\\\"](val)) : undefined})\"],\"index\":[\"(function (val){return (val!=this.model[\\\"index\\\"]()) ? (this.valueFromJulia[\\\"index\\\"]=true, this.model[\\\"index\\\"](val)) : undefined})\"]},\"systemjs_options\":null,\"mount_callbacks\":[\"function () {\\n    var handler = (function (ko, koPunches) {\\n    ko.punches.enableAll();\\n    ko.bindingHandlers.numericValue = {\\n        init: function(element, valueAccessor, allBindings, data, context) {\\n            var stringified = ko.observable(ko.unwrap(valueAccessor()));\\n            stringified.subscribe(function(value) {\\n                var val = parseFloat(value);\\n                if (!isNaN(val)) {\\n                    valueAccessor()(val);\\n                }\\n            });\\n            valueAccessor().subscribe(function(value) {\\n                var str = JSON.stringify(value);\\n                if ((str == \\\"0\\\") && ([\\\"-0\\\", \\\"-0.\\\"].indexOf(stringified()) >= 0))\\n                     return;\\n                 if ([\\\"null\\\", \\\"\\\"].indexOf(str) >= 0)\\n                     return;\\n                stringified(str);\\n            });\\n            ko.applyBindingsToNode(\\n                element,\\n                {\\n                    value: stringified,\\n                    valueUpdate: allBindings.get('valueUpdate'),\\n                },\\n                context,\\n            );\\n        }\\n    };\\n    var json_data = {\\\"formatted_vals\\\":[\\\"0.0\\\",\\\"0.1\\\",\\\"0.2\\\",\\\"0.3\\\",\\\"0.4\\\",\\\"0.5\\\",\\\"0.6\\\",\\\"0.7\\\",\\\"0.8\\\",\\\"0.9\\\",\\\"1.0\\\",\\\"1.1\\\",\\\"1.2\\\",\\\"1.3\\\",\\\"1.4\\\",\\\"1.5\\\",\\\"1.6\\\",\\\"1.7\\\",\\\"1.8\\\",\\\"1.9\\\",\\\"2.0\\\",\\\"2.1\\\",\\\"2.2\\\",\\\"2.3\\\",\\\"2.4\\\",\\\"2.5\\\",\\\"2.6\\\",\\\"2.7\\\",\\\"2.8\\\",\\\"2.9\\\",\\\"3.0\\\",\\\"3.1\\\",\\\"3.2\\\",\\\"3.3\\\",\\\"3.4\\\",\\\"3.5\\\",\\\"3.6\\\",\\\"3.7\\\",\\\"3.8\\\",\\\"3.9\\\",\\\"4.0\\\",\\\"4.1\\\",\\\"4.2\\\",\\\"4.3\\\",\\\"4.4\\\",\\\"4.5\\\",\\\"4.6\\\",\\\"4.7\\\",\\\"4.8\\\",\\\"4.9\\\",\\\"5.0\\\"],\\\"changes\\\":WebIO.getval({\\\"name\\\":\\\"changes\\\",\\\"scope\\\":\\\"2417741808340917538\\\",\\\"id\\\":\\\"ob_65\\\",\\\"type\\\":\\\"observable\\\"}),\\\"index\\\":WebIO.getval({\\\"name\\\":\\\"index\\\",\\\"scope\\\":\\\"2417741808340917538\\\",\\\"id\\\":\\\"ob_64\\\",\\\"type\\\":\\\"observable\\\"})};\\n    var self = this;\\n    function AppViewModel() {\\n        for (var key in json_data) {\\n            var el = json_data[key];\\n            this[key] = Array.isArray(el) ? ko.observableArray(el) : ko.observable(el);\\n        }\\n        \\n        [this[\\\"formatted_val\\\"]=ko.computed(    function(){\\n        return this.formatted_vals()[parseInt(this.index())-(1)];\\n    }\\n,this)]\\n        [this[\\\"changes\\\"].subscribe((function (val){!(this.valueFromJulia[\\\"changes\\\"]) ? (WebIO.setval({\\\"name\\\":\\\"changes\\\",\\\"scope\\\":\\\"2417741808340917538\\\",\\\"id\\\":\\\"ob_65\\\",\\\"type\\\":\\\"observable\\\"},val)) : undefined; return this.valueFromJulia[\\\"changes\\\"]=false}),self),this[\\\"index\\\"].subscribe((function (val){!(this.valueFromJulia[\\\"index\\\"]) ? (WebIO.setval({\\\"name\\\":\\\"index\\\",\\\"scope\\\":\\\"2417741808340917538\\\",\\\"id\\\":\\\"ob_64\\\",\\\"type\\\":\\\"observable\\\"},val)) : undefined; return this.valueFromJulia[\\\"index\\\"]=false}),self)]\\n        \\n    }\\n    self.model = new AppViewModel();\\n    self.valueFromJulia = {};\\n    for (var key in json_data) {\\n        self.valueFromJulia[key] = false;\\n    }\\n    ko.applyBindings(self.model, self.dom);\\n}\\n);\\n    (WebIO.importBlock({\\\"data\\\":[{\\\"name\\\":\\\"knockout\\\",\\\"type\\\":\\\"js\\\",\\\"url\\\":\\\"\\/assetserver\\/550a5fd2fcd404d3bd8030056d3c050d590e9061-knockout.js\\\"},{\\\"name\\\":\\\"knockout_punches\\\",\\\"type\\\":\\\"js\\\",\\\"url\\\":\\\"\\/assetserver\\/1b270d0089efe5107bb25eb0370cbc4abf713b46-knockout_punches.js\\\"}],\\\"type\\\":\\\"async_block\\\"})).then((imports) => handler.apply(this, imports));\\n}\\n\"],\"observables\":{\"changes\":{\"sync\":false,\"id\":\"ob_65\",\"value\":0},\"index\":{\"sync\":true,\"id\":\"ob_64\",\"value\":26}}},\"children\":[{\"props\":{\"className\":\"interact-flex-row interact-widget\"},\"nodeType\":\"DOM\",\"type\":\"node\",\"instanceArgs\":{\"namespace\":\"html\",\"tag\":\"div\"},\"children\":[{\"props\":{\"className\":\"interact-flex-row-left\"},\"nodeType\":\"DOM\",\"type\":\"node\",\"instanceArgs\":{\"namespace\":\"html\",\"tag\":\"div\"},\"children\":[{\"props\":{\"className\":\"interact \",\"style\":{\"padding\":\"5px 10px 0px 10px\"}},\"nodeType\":\"DOM\",\"type\":\"node\",\"instanceArgs\":{\"namespace\":\"html\",\"tag\":\"label\"},\"children\":[\"λ\"]}]},{\"props\":{\"className\":\"interact-flex-row-center\"},\"nodeType\":\"DOM\",\"type\":\"node\",\"instanceArgs\":{\"namespace\":\"html\",\"tag\":\"div\"},\"children\":[{\"props\":{\"max\":51,\"min\":1,\"attributes\":{\"type\":\"range\",\"data-bind\":\"numericValue: index, valueUpdate: 'input', event: {change: function (){this.changes(this.changes()+1)}}\",\"orient\":\"horizontal\"},\"step\":1,\"className\":\"slider slider is-fullwidth\",\"style\":{}},\"nodeType\":\"DOM\",\"type\":\"node\",\"instanceArgs\":{\"namespace\":\"html\",\"tag\":\"input\"},\"children\":[]}]},{\"props\":{\"className\":\"interact-flex-row-right\"},\"nodeType\":\"DOM\",\"type\":\"node\",\"instanceArgs\":{\"namespace\":\"html\",\"tag\":\"div\"},\"children\":[{\"props\":{\"attributes\":{\"data-bind\":\"text: formatted_val\"}},\"nodeType\":\"DOM\",\"type\":\"node\",\"instanceArgs\":{\"namespace\":\"html\",\"tag\":\"p\"},\"children\":[]}]}]}]}]},{\"props\":{\"className\":\"field interact-widget\"},\"nodeType\":\"DOM\",\"type\":\"node\",\"instanceArgs\":{\"namespace\":\"html\",\"tag\":\"div\"},\"children\":[{\"props\":{},\"nodeType\":\"Scope\",\"type\":\"node\",\"instanceArgs\":{\"imports\":{\"data\":[{\"name\":\"knockout\",\"type\":\"js\",\"url\":\"\\/assetserver\\/550a5fd2fcd404d3bd8030056d3c050d590e9061-knockout.js\"},{\"name\":\"knockout_punches\",\"type\":\"js\",\"url\":\"\\/assetserver\\/1b270d0089efe5107bb25eb0370cbc4abf713b46-knockout_punches.js\"},{\"name\":null,\"type\":\"js\",\"url\":\"\\/assetserver\\/fdccc34707f9bd2a22921cc597c290d158337650-all.js\"},{\"name\":null,\"type\":\"css\",\"url\":\"\\/assetserver\\/e6a3bdae2af96b7d0d82eaf552f26d1444b6987e-style.css\"},{\"name\":null,\"type\":\"css\",\"url\":\"\\/assetserver\\/ce3971c325d8252d336bd34a09d455c6f60b4317-bulma_confined.min.css\"}],\"type\":\"async_block\"},\"id\":\"18228690072874791829\",\"handlers\":{\"changes\":[\"(function (val){return (val!=this.model[\\\"changes\\\"]()) ? (this.valueFromJulia[\\\"changes\\\"]=true, this.model[\\\"changes\\\"](val)) : undefined})\"],\"index\":[\"(function (val){return (val!=this.model[\\\"index\\\"]()) ? (this.valueFromJulia[\\\"index\\\"]=true, this.model[\\\"index\\\"](val)) : undefined})\"]},\"systemjs_options\":null,\"mount_callbacks\":[\"function () {\\n    var handler = (function (ko, koPunches) {\\n    ko.punches.enableAll();\\n    ko.bindingHandlers.numericValue = {\\n        init: function(element, valueAccessor, allBindings, data, context) {\\n            var stringified = ko.observable(ko.unwrap(valueAccessor()));\\n            stringified.subscribe(function(value) {\\n                var val = parseFloat(value);\\n                if (!isNaN(val)) {\\n                    valueAccessor()(val);\\n                }\\n            });\\n            valueAccessor().subscribe(function(value) {\\n                var str = JSON.stringify(value);\\n                if ((str == \\\"0\\\") && ([\\\"-0\\\", \\\"-0.\\\"].indexOf(stringified()) >= 0))\\n                     return;\\n                 if ([\\\"null\\\", \\\"\\\"].indexOf(str) >= 0)\\n                     return;\\n                stringified(str);\\n            });\\n            ko.applyBindingsToNode(\\n                element,\\n                {\\n                    value: stringified,\\n                    valueUpdate: allBindings.get('valueUpdate'),\\n                },\\n                context,\\n            );\\n        }\\n    };\\n    var json_data = {\\\"formatted_vals\\\":[\\\"0.0\\\",\\\"0.1\\\",\\\"0.2\\\",\\\"0.3\\\",\\\"0.4\\\",\\\"0.5\\\",\\\"0.6\\\",\\\"0.7\\\",\\\"0.8\\\",\\\"0.9\\\",\\\"1.0\\\",\\\"1.1\\\",\\\"1.2\\\",\\\"1.3\\\",\\\"1.4\\\",\\\"1.5\\\",\\\"1.6\\\",\\\"1.7\\\",\\\"1.8\\\",\\\"1.9\\\",\\\"2.0\\\",\\\"2.1\\\",\\\"2.2\\\",\\\"2.3\\\",\\\"2.4\\\",\\\"2.5\\\",\\\"2.6\\\",\\\"2.7\\\",\\\"2.8\\\",\\\"2.9\\\",\\\"3.0\\\",\\\"3.1\\\",\\\"3.2\\\",\\\"3.3\\\",\\\"3.4\\\",\\\"3.5\\\",\\\"3.6\\\",\\\"3.7\\\",\\\"3.8\\\",\\\"3.9\\\",\\\"4.0\\\",\\\"4.1\\\",\\\"4.2\\\",\\\"4.3\\\",\\\"4.4\\\",\\\"4.5\\\",\\\"4.6\\\",\\\"4.7\\\",\\\"4.8\\\",\\\"4.9\\\",\\\"5.0\\\"],\\\"changes\\\":WebIO.getval({\\\"name\\\":\\\"changes\\\",\\\"scope\\\":\\\"18228690072874791829\\\",\\\"id\\\":\\\"ob_68\\\",\\\"type\\\":\\\"observable\\\"}),\\\"index\\\":WebIO.getval({\\\"name\\\":\\\"index\\\",\\\"scope\\\":\\\"18228690072874791829\\\",\\\"id\\\":\\\"ob_67\\\",\\\"type\\\":\\\"observable\\\"})};\\n    var self = this;\\n    function AppViewModel() {\\n        for (var key in json_data) {\\n            var el = json_data[key];\\n            this[key] = Array.isArray(el) ? ko.observableArray(el) : ko.observable(el);\\n        }\\n        \\n        [this[\\\"formatted_val\\\"]=ko.computed(    function(){\\n        return this.formatted_vals()[parseInt(this.index())-(1)];\\n    }\\n,this)]\\n        [this[\\\"changes\\\"].subscribe((function (val){!(this.valueFromJulia[\\\"changes\\\"]) ? (WebIO.setval({\\\"name\\\":\\\"changes\\\",\\\"scope\\\":\\\"18228690072874791829\\\",\\\"id\\\":\\\"ob_68\\\",\\\"type\\\":\\\"observable\\\"},val)) : undefined; return this.valueFromJulia[\\\"changes\\\"]=false}),self),this[\\\"index\\\"].subscribe((function (val){!(this.valueFromJulia[\\\"index\\\"]) ? (WebIO.setval({\\\"name\\\":\\\"index\\\",\\\"scope\\\":\\\"18228690072874791829\\\",\\\"id\\\":\\\"ob_67\\\",\\\"type\\\":\\\"observable\\\"},val)) : undefined; return this.valueFromJulia[\\\"index\\\"]=false}),self)]\\n        \\n    }\\n    self.model = new AppViewModel();\\n    self.valueFromJulia = {};\\n    for (var key in json_data) {\\n        self.valueFromJulia[key] = false;\\n    }\\n    ko.applyBindings(self.model, self.dom);\\n}\\n);\\n    (WebIO.importBlock({\\\"data\\\":[{\\\"name\\\":\\\"knockout\\\",\\\"type\\\":\\\"js\\\",\\\"url\\\":\\\"\\/assetserver\\/550a5fd2fcd404d3bd8030056d3c050d590e9061-knockout.js\\\"},{\\\"name\\\":\\\"knockout_punches\\\",\\\"type\\\":\\\"js\\\",\\\"url\\\":\\\"\\/assetserver\\/1b270d0089efe5107bb25eb0370cbc4abf713b46-knockout_punches.js\\\"}],\\\"type\\\":\\\"async_block\\\"})).then((imports) => handler.apply(this, imports));\\n}\\n\"],\"observables\":{\"changes\":{\"sync\":false,\"id\":\"ob_68\",\"value\":0},\"index\":{\"sync\":true,\"id\":\"ob_67\",\"value\":26}}},\"children\":[{\"props\":{\"className\":\"interact-flex-row interact-widget\"},\"nodeType\":\"DOM\",\"type\":\"node\",\"instanceArgs\":{\"namespace\":\"html\",\"tag\":\"div\"},\"children\":[{\"props\":{\"className\":\"interact-flex-row-left\"},\"nodeType\":\"DOM\",\"type\":\"node\",\"instanceArgs\":{\"namespace\":\"html\",\"tag\":\"div\"},\"children\":[{\"props\":{\"className\":\"interact \",\"style\":{\"padding\":\"5px 10px 0px 10px\"}},\"nodeType\":\"DOM\",\"type\":\"node\",\"instanceArgs\":{\"namespace\":\"html\",\"tag\":\"label\"},\"children\":[\"μ\"]}]},{\"props\":{\"className\":\"interact-flex-row-center\"},\"nodeType\":\"DOM\",\"type\":\"node\",\"instanceArgs\":{\"namespace\":\"html\",\"tag\":\"div\"},\"children\":[{\"props\":{\"max\":51,\"min\":1,\"attributes\":{\"type\":\"range\",\"data-bind\":\"numericValue: index, valueUpdate: 'input', event: {change: function (){this.changes(this.changes()+1)}}\",\"orient\":\"horizontal\"},\"step\":1,\"className\":\"slider slider is-fullwidth\",\"style\":{}},\"nodeType\":\"DOM\",\"type\":\"node\",\"instanceArgs\":{\"namespace\":\"html\",\"tag\":\"input\"},\"children\":[]}]},{\"props\":{\"className\":\"interact-flex-row-right\"},\"nodeType\":\"DOM\",\"type\":\"node\",\"instanceArgs\":{\"namespace\":\"html\",\"tag\":\"div\"},\"children\":[{\"props\":{\"attributes\":{\"data-bind\":\"text: formatted_val\"}},\"nodeType\":\"DOM\",\"type\":\"node\",\"instanceArgs\":{\"namespace\":\"html\",\"tag\":\"p\"},\"children\":[]}]}]}]}]},{\"props\":{},\"nodeType\":\"Scope\",\"type\":\"node\",\"instanceArgs\":{\"imports\":{\"data\":[],\"type\":\"async_block\"},\"id\":\"9627812185651465998\",\"handlers\":{},\"systemjs_options\":null,\"mount_callbacks\":[],\"observables\":{\"obs-node\":{\"sync\":false,\"id\":\"ob_76\",\"value\":{\"props\":{\"className\":\"interact-flex-row interact-widget\"},\"nodeType\":\"DOM\",\"type\":\"node\",\"instanceArgs\":{\"namespace\":\"html\",\"tag\":\"div\"},\"children\":[{\"props\":{\"setInnerHtml\":\"<?xml version=\\\"1.0\\\" encoding=\\\"utf-8\\\"?>\\n<svg xmlns=\\\"http:\\/\\/www.w3.org\\/2000\\/svg\\\" xmlns:xlink=\\\"http:\\/\\/www.w3.org\\/1999\\/xlink\\\" width=\\\"600\\\" height=\\\"400\\\" viewBox=\\\"0 0 2400 1600\\\">\\n<defs>\\n  <clipPath id=\\\"clip7700\\\">\\n    <rect x=\\\"0\\\" y=\\\"0\\\" width=\\\"2400\\\" height=\\\"1600\\\"\\/>\\n  <\\/clipPath>\\n<\\/defs>\\n<path clip-path=\\\"url(#clip7700)\\\" d=\\\"\\nM0 1600 L2400 1600 L2400 0 L0 0  Z\\n  \\\" fill=\\\"#ffffff\\\" fill-rule=\\\"evenodd\\\" fill-opacity=\\\"1\\\"\\/>\\n<defs>\\n  <clipPath id=\\\"clip7701\\\">\\n    <rect x=\\\"480\\\" y=\\\"0\\\" width=\\\"1681\\\" height=\\\"1600\\\"\\/>\\n  <\\/clipPath>\\n<\\/defs>\\n<path clip-path=\\\"url(#clip7700)\\\" d=\\\"\\nM140.517 1487.47 L2352.76 1487.47 L2352.76 47.2441 L140.517 47.2441  Z\\n  \\\" fill=\\\"#ffffff\\\" fill-rule=\\\"evenodd\\\" fill-opacity=\\\"1\\\"\\/>\\n<defs>\\n  <clipPath id=\\\"clip7702\\\">\\n    <rect x=\\\"140\\\" y=\\\"47\\\" width=\\\"2213\\\" height=\\\"1441\\\"\\/>\\n  <\\/clipPath>\\n<\\/defs>\\n<polyline clip-path=\\\"url(#clip7702)\\\" style=\\\"stroke:#000000; stroke-width:2; stroke-opacity:0.1; fill:none\\\" points=\\\"\\n  140.517,1487.47 140.517,47.2441 \\n  \\\"\\/>\\n<polyline clip-path=\\\"url(#clip7702)\\\" style=\\\"stroke:#000000; stroke-width:2; stroke-opacity:0.1; fill:none\\\" points=\\\"\\n  456.551,1487.47 456.551,47.2441 \\n  \\\"\\/>\\n<polyline clip-path=\\\"url(#clip7702)\\\" style=\\\"stroke:#000000; stroke-width:2; stroke-opacity:0.1; fill:none\\\" points=\\\"\\n  772.585,1487.47 772.585,47.2441 \\n  \\\"\\/>\\n<polyline clip-path=\\\"url(#clip7702)\\\" style=\\\"stroke:#000000; stroke-width:2; stroke-opacity:0.1; fill:none\\\" points=\\\"\\n  1088.62,1487.47 1088.62,47.2441 \\n  \\\"\\/>\\n<polyline clip-path=\\\"url(#clip7702)\\\" style=\\\"stroke:#000000; stroke-width:2; stroke-opacity:0.1; fill:none\\\" points=\\\"\\n  1404.65,1487.47 1404.65,47.2441 \\n  \\\"\\/>\\n<polyline clip-path=\\\"url(#clip7702)\\\" style=\\\"stroke:#000000; stroke-width:2; stroke-opacity:0.1; fill:none\\\" points=\\\"\\n  1720.69,1487.47 1720.69,47.2441 \\n  \\\"\\/>\\n<polyline clip-path=\\\"url(#clip7702)\\\" style=\\\"stroke:#000000; stroke-width:2; stroke-opacity:0.1; fill:none\\\" points=\\\"\\n  2036.72,1487.47 2036.72,47.2441 \\n  \\\"\\/>\\n<polyline clip-path=\\\"url(#clip7702)\\\" style=\\\"stroke:#000000; stroke-width:2; stroke-opacity:0.1; fill:none\\\" points=\\\"\\n  2352.76,1487.47 2352.76,47.2441 \\n  \\\"\\/>\\n<polyline clip-path=\\\"url(#clip7702)\\\" style=\\\"stroke:#000000; stroke-width:2; stroke-opacity:0.1; fill:none\\\" points=\\\"\\n  140.517,1446.71 2352.76,1446.71 \\n  \\\"\\/>\\n<polyline clip-path=\\\"url(#clip7702)\\\" style=\\\"stroke:#000000; stroke-width:2; stroke-opacity:0.1; fill:none\\\" points=\\\"\\n  140.517,1130.73 2352.76,1130.73 \\n  \\\"\\/>\\n<polyline clip-path=\\\"url(#clip7702)\\\" style=\\\"stroke:#000000; stroke-width:2; stroke-opacity:0.1; fill:none\\\" points=\\\"\\n  140.517,814.756 2352.76,814.756 \\n  \\\"\\/>\\n<polyline clip-path=\\\"url(#clip7702)\\\" style=\\\"stroke:#000000; stroke-width:2; stroke-opacity:0.1; fill:none\\\" points=\\\"\\n  140.517,498.778 2352.76,498.778 \\n  \\\"\\/>\\n<polyline clip-path=\\\"url(#clip7702)\\\" style=\\\"stroke:#000000; stroke-width:2; stroke-opacity:0.1; fill:none\\\" points=\\\"\\n  140.517,182.799 2352.76,182.799 \\n  \\\"\\/>\\n<polyline clip-path=\\\"url(#clip7700)\\\" style=\\\"stroke:#000000; stroke-width:4; stroke-opacity:1; fill:none\\\" points=\\\"\\n  140.517,1487.47 2352.76,1487.47 \\n  \\\"\\/>\\n<polyline clip-path=\\\"url(#clip7700)\\\" style=\\\"stroke:#000000; stroke-width:4; stroke-opacity:1; fill:none\\\" points=\\\"\\n  140.517,1487.47 140.517,47.2441 \\n  \\\"\\/>\\n<polyline clip-path=\\\"url(#clip7700)\\\" style=\\\"stroke:#000000; stroke-width:4; stroke-opacity:1; fill:none\\\" points=\\\"\\n  140.517,1487.47 140.517,1465.87 \\n  \\\"\\/>\\n<polyline clip-path=\\\"url(#clip7700)\\\" style=\\\"stroke:#000000; stroke-width:4; stroke-opacity:1; fill:none\\\" points=\\\"\\n  456.551,1487.47 456.551,1465.87 \\n  \\\"\\/>\\n<polyline clip-path=\\\"url(#clip7700)\\\" style=\\\"stroke:#000000; stroke-width:4; stroke-opacity:1; fill:none\\\" points=\\\"\\n  772.585,1487.47 772.585,1465.87 \\n  \\\"\\/>\\n<polyline clip-path=\\\"url(#clip7700)\\\" style=\\\"stroke:#000000; stroke-width:4; stroke-opacity:1; fill:none\\\" points=\\\"\\n  1088.62,1487.47 1088.62,1465.87 \\n  \\\"\\/>\\n<polyline clip-path=\\\"url(#clip7700)\\\" style=\\\"stroke:#000000; stroke-width:4; stroke-opacity:1; fill:none\\\" points=\\\"\\n  1404.65,1487.47 1404.65,1465.87 \\n  \\\"\\/>\\n<polyline clip-path=\\\"url(#clip7700)\\\" style=\\\"stroke:#000000; stroke-width:4; stroke-opacity:1; fill:none\\\" points=\\\"\\n  1720.69,1487.47 1720.69,1465.87 \\n  \\\"\\/>\\n<polyline clip-path=\\\"url(#clip7700)\\\" style=\\\"stroke:#000000; stroke-width:4; stroke-opacity:1; fill:none\\\" points=\\\"\\n  2036.72,1487.47 2036.72,1465.87 \\n  \\\"\\/>\\n<polyline clip-path=\\\"url(#clip7700)\\\" style=\\\"stroke:#000000; stroke-width:4; stroke-opacity:1; fill:none\\\" points=\\\"\\n  2352.76,1487.47 2352.76,1465.87 \\n  \\\"\\/>\\n<polyline clip-path=\\\"url(#clip7700)\\\" style=\\\"stroke:#000000; stroke-width:4; stroke-opacity:1; fill:none\\\" points=\\\"\\n  140.517,1446.71 173.7,1446.71 \\n  \\\"\\/>\\n<polyline clip-path=\\\"url(#clip7700)\\\" style=\\\"stroke:#000000; stroke-width:4; stroke-opacity:1; fill:none\\\" points=\\\"\\n  140.517,1130.73 173.7,1130.73 \\n  \\\"\\/>\\n<polyline clip-path=\\\"url(#clip7700)\\\" style=\\\"stroke:#000000; stroke-width:4; stroke-opacity:1; fill:none\\\" points=\\\"\\n  140.517,814.756 173.7,814.756 \\n  \\\"\\/>\\n<polyline clip-path=\\\"url(#clip7700)\\\" style=\\\"stroke:#000000; stroke-width:4; stroke-opacity:1; fill:none\\\" points=\\\"\\n  140.517,498.778 173.7,498.778 \\n  \\\"\\/>\\n<polyline clip-path=\\\"url(#clip7700)\\\" style=\\\"stroke:#000000; stroke-width:4; stroke-opacity:1; fill:none\\\" points=\\\"\\n  140.517,182.799 173.7,182.799 \\n  \\\"\\/>\\n<g clip-path=\\\"url(#clip7700)\\\">\\n<text style=\\\"fill:#000000; fill-opacity:1; font-family:Arial,Helvetica Neue,Helvetica,sans-serif; font-size:48px; text-anchor:middle;\\\" transform=\\\"rotate(0, 140.517, 1541.47)\\\" x=\\\"140.517\\\" y=\\\"1541.47\\\">0.0<\\/text>\\n<\\/g>\\n<g clip-path=\\\"url(#clip7700)\\\">\\n<text style=\\\"fill:#000000; fill-opacity:1; font-family:Arial,Helvetica Neue,Helvetica,sans-serif; font-size:48px; text-anchor:middle;\\\" transform=\\\"rotate(0, 456.551, 1541.47)\\\" x=\\\"456.551\\\" y=\\\"1541.47\\\">0.5<\\/text>\\n<\\/g>\\n<g clip-path=\\\"url(#clip7700)\\\">\\n<text style=\\\"fill:#000000; fill-opacity:1; font-family:Arial,Helvetica Neue,Helvetica,sans-serif; font-size:48px; text-anchor:middle;\\\" transform=\\\"rotate(0, 772.585, 1541.47)\\\" x=\\\"772.585\\\" y=\\\"1541.47\\\">1.0<\\/text>\\n<\\/g>\\n<g clip-path=\\\"url(#clip7700)\\\">\\n<text style=\\\"fill:#000000; fill-opacity:1; font-family:Arial,Helvetica Neue,Helvetica,sans-serif; font-size:48px; text-anchor:middle;\\\" transform=\\\"rotate(0, 1088.62, 1541.47)\\\" x=\\\"1088.62\\\" y=\\\"1541.47\\\">1.5<\\/text>\\n<\\/g>\\n<g clip-path=\\\"url(#clip7700)\\\">\\n<text style=\\\"fill:#000000; fill-opacity:1; font-family:Arial,Helvetica Neue,Helvetica,sans-serif; font-size:48px; text-anchor:middle;\\\" transform=\\\"rotate(0, 1404.65, 1541.47)\\\" x=\\\"1404.65\\\" y=\\\"1541.47\\\">2.0<\\/text>\\n<\\/g>\\n<g clip-path=\\\"url(#clip7700)\\\">\\n<text style=\\\"fill:#000000; fill-opacity:1; font-family:Arial,Helvetica Neue,Helvetica,sans-serif; font-size:48px; text-anchor:middle;\\\" transform=\\\"rotate(0, 1720.69, 1541.47)\\\" x=\\\"1720.69\\\" y=\\\"1541.47\\\">2.5<\\/text>\\n<\\/g>\\n<g clip-path=\\\"url(#clip7700)\\\">\\n<text style=\\\"fill:#000000; fill-opacity:1; font-family:Arial,Helvetica Neue,Helvetica,sans-serif; font-size:48px; text-anchor:middle;\\\" transform=\\\"rotate(0, 2036.72, 1541.47)\\\" x=\\\"2036.72\\\" y=\\\"1541.47\\\">3.0<\\/text>\\n<\\/g>\\n<g clip-path=\\\"url(#clip7700)\\\">\\n<text style=\\\"fill:#000000; fill-opacity:1; font-family:Arial,Helvetica Neue,Helvetica,sans-serif; font-size:48px; text-anchor:middle;\\\" transform=\\\"rotate(0, 2352.76, 1541.47)\\\" x=\\\"2352.76\\\" y=\\\"1541.47\\\">3.5<\\/text>\\n<\\/g>\\n<g clip-path=\\\"url(#clip7700)\\\">\\n<text style=\\\"fill:#000000; fill-opacity:1; font-family:Arial,Helvetica Neue,Helvetica,sans-serif; font-size:48px; text-anchor:end;\\\" transform=\\\"rotate(0, 116.517, 1464.21)\\\" x=\\\"116.517\\\" y=\\\"1464.21\\\">0<\\/text>\\n<\\/g>\\n<g clip-path=\\\"url(#clip7700)\\\">\\n<text style=\\\"fill:#000000; fill-opacity:1; font-family:Arial,Helvetica Neue,Helvetica,sans-serif; font-size:48px; text-anchor:end;\\\" transform=\\\"rotate(0, 116.517, 1148.23)\\\" x=\\\"116.517\\\" y=\\\"1148.23\\\">10<\\/text>\\n<\\/g>\\n<g clip-path=\\\"url(#clip7700)\\\">\\n<text style=\\\"fill:#000000; fill-opacity:1; font-family:Arial,Helvetica Neue,Helvetica,sans-serif; font-size:48px; text-anchor:end;\\\" transform=\\\"rotate(0, 116.517, 832.256)\\\" x=\\\"116.517\\\" y=\\\"832.256\\\">20<\\/text>\\n<\\/g>\\n<g clip-path=\\\"url(#clip7700)\\\">\\n<text style=\\\"fill:#000000; fill-opacity:1; font-family:Arial,Helvetica Neue,Helvetica,sans-serif; font-size:48px; text-anchor:end;\\\" transform=\\\"rotate(0, 116.517, 516.278)\\\" x=\\\"116.517\\\" y=\\\"516.278\\\">30<\\/text>\\n<\\/g>\\n<g clip-path=\\\"url(#clip7700)\\\">\\n<text style=\\\"fill:#000000; fill-opacity:1; font-family:Arial,Helvetica Neue,Helvetica,sans-serif; font-size:48px; text-anchor:end;\\\" transform=\\\"rotate(0, 116.517, 200.299)\\\" x=\\\"116.517\\\" y=\\\"200.299\\\">40<\\/text>\\n<\\/g>\\n<path clip-path=\\\"url(#clip7702)\\\" d=\\\"\\nM14.1031 751.56 L14.1031 1446.71 L140.517 1446.71 L140.517 751.56 L14.1031 751.56 L14.1031 751.56  Z\\n  \\\" fill=\\\"#009af9\\\" fill-rule=\\\"evenodd\\\" fill-opacity=\\\"1\\\"\\/>\\n<polyline clip-path=\\\"url(#clip7702)\\\" style=\\\"stroke:#000000; stroke-width:4; stroke-opacity:1; fill:none\\\" points=\\\"\\n  14.1031,751.56 14.1031,1446.71 140.517,1446.71 140.517,751.56 14.1031,751.56 \\n  \\\"\\/>\\n<path clip-path=\\\"url(#clip7702)\\\" d=\\\"\\nM140.517 88.0053 L140.517 1446.71 L266.93 1446.71 L266.93 88.0053 L140.517 88.0053 L140.517 88.0053  Z\\n  \\\" fill=\\\"#009af9\\\" fill-rule=\\\"evenodd\\\" fill-opacity=\\\"1\\\"\\/>\\n<polyline clip-path=\\\"url(#clip7702)\\\" style=\\\"stroke:#000000; stroke-width:4; stroke-opacity:1; fill:none\\\" points=\\\"\\n  140.517,88.0053 140.517,1446.71 266.93,1446.71 266.93,88.0053 140.517,88.0053 \\n  \\\"\\/>\\n<path clip-path=\\\"url(#clip7702)\\\" d=\\\"\\nM266.93 941.148 L266.93 1446.71 L393.344 1446.71 L393.344 941.148 L266.93 941.148 L266.93 941.148  Z\\n  \\\" fill=\\\"#009af9\\\" fill-rule=\\\"evenodd\\\" fill-opacity=\\\"1\\\"\\/>\\n<polyline clip-path=\\\"url(#clip7702)\\\" style=\\\"stroke:#000000; stroke-width:4; stroke-opacity:1; fill:none\\\" points=\\\"\\n  266.93,941.148 266.93,1446.71 393.344,1446.71 393.344,941.148 266.93,941.148 \\n  \\\"\\/>\\n<path clip-path=\\\"url(#clip7702)\\\" d=\\\"\\nM393.344 1193.93 L393.344 1446.71 L519.758 1446.71 L519.758 1193.93 L393.344 1193.93 L393.344 1193.93  Z\\n  \\\" fill=\\\"#009af9\\\" fill-rule=\\\"evenodd\\\" fill-opacity=\\\"1\\\"\\/>\\n<polyline clip-path=\\\"url(#clip7702)\\\" style=\\\"stroke:#000000; stroke-width:4; stroke-opacity:1; fill:none\\\" points=\\\"\\n  393.344,1193.93 393.344,1446.71 519.758,1446.71 519.758,1193.93 393.344,1193.93 \\n  \\\"\\/>\\n<path clip-path=\\\"url(#clip7702)\\\" d=\\\"\\nM519.758 1257.13 L519.758 1446.71 L646.171 1446.71 L646.171 1257.13 L519.758 1257.13 L519.758 1257.13  Z\\n  \\\" fill=\\\"#009af9\\\" fill-rule=\\\"evenodd\\\" fill-opacity=\\\"1\\\"\\/>\\n<polyline clip-path=\\\"url(#clip7702)\\\" style=\\\"stroke:#000000; stroke-width:4; stroke-opacity:1; fill:none\\\" points=\\\"\\n  519.758,1257.13 519.758,1446.71 646.171,1446.71 646.171,1257.13 519.758,1257.13 \\n  \\\"\\/>\\n<path clip-path=\\\"url(#clip7702)\\\" d=\\\"\\nM646.171 1351.92 L646.171 1446.71 L772.585 1446.71 L772.585 1351.92 L646.171 1351.92 L646.171 1351.92  Z\\n  \\\" fill=\\\"#009af9\\\" fill-rule=\\\"evenodd\\\" fill-opacity=\\\"1\\\"\\/>\\n<polyline clip-path=\\\"url(#clip7702)\\\" style=\\\"stroke:#000000; stroke-width:4; stroke-opacity:1; fill:none\\\" points=\\\"\\n  646.171,1351.92 646.171,1446.71 772.585,1446.71 772.585,1351.92 646.171,1351.92 \\n  \\\"\\/>\\n<path clip-path=\\\"url(#clip7702)\\\" d=\\\"\\nM772.585 1415.12 L772.585 1446.71 L898.999 1446.71 L898.999 1415.12 L772.585 1415.12 L772.585 1415.12  Z\\n  \\\" fill=\\\"#009af9\\\" fill-rule=\\\"evenodd\\\" fill-opacity=\\\"1\\\"\\/>\\n<polyline clip-path=\\\"url(#clip7702)\\\" style=\\\"stroke:#000000; stroke-width:4; stroke-opacity:1; fill:none\\\" points=\\\"\\n  772.585,1415.12 772.585,1446.71 898.999,1446.71 898.999,1415.12 772.585,1415.12 \\n  \\\"\\/>\\n<path clip-path=\\\"url(#clip7702)\\\" d=\\\"\\nM898.999 1415.12 L898.999 1446.71 L1025.41 1446.71 L1025.41 1415.12 L898.999 1415.12 L898.999 1415.12  Z\\n  \\\" fill=\\\"#009af9\\\" fill-rule=\\\"evenodd\\\" fill-opacity=\\\"1\\\"\\/>\\n<polyline clip-path=\\\"url(#clip7702)\\\" style=\\\"stroke:#000000; stroke-width:4; stroke-opacity:1; fill:none\\\" points=\\\"\\n  898.999,1415.12 898.999,1446.71 1025.41,1446.71 1025.41,1415.12 898.999,1415.12 \\n  \\\"\\/>\\n<path clip-path=\\\"url(#clip7700)\\\" d=\\\"\\nM1989.93 251.724 L2280.76 251.724 L2280.76 130.764 L1989.93 130.764  Z\\n  \\\" fill=\\\"#ffffff\\\" fill-rule=\\\"evenodd\\\" fill-opacity=\\\"1\\\"\\/>\\n<polyline clip-path=\\\"url(#clip7700)\\\" style=\\\"stroke:#000000; stroke-width:4; stroke-opacity:1; fill:none\\\" points=\\\"\\n  1989.93,251.724 2280.76,251.724 2280.76,130.764 1989.93,130.764 1989.93,251.724 \\n  \\\"\\/>\\n<path clip-path=\\\"url(#clip7700)\\\" d=\\\"\\nM2013.93 215.436 L2157.93 215.436 L2157.93 167.052 L2013.93 167.052 L2013.93 215.436  Z\\n  \\\" fill=\\\"#009af9\\\" fill-rule=\\\"evenodd\\\" fill-opacity=\\\"1\\\"\\/>\\n<polyline clip-path=\\\"url(#clip7700)\\\" style=\\\"stroke:#000000; stroke-width:4; stroke-opacity:1; fill:none\\\" points=\\\"\\n  2013.93,215.436 2157.93,215.436 2157.93,167.052 2013.93,167.052 2013.93,215.436 \\n  \\\"\\/>\\n<g clip-path=\\\"url(#clip7700)\\\">\\n<text style=\\\"fill:#000000; fill-opacity:1; font-family:Arial,Helvetica Neue,Helvetica,sans-serif; font-size:48px; text-anchor:start;\\\" transform=\\\"rotate(0, 2181.93, 208.744)\\\" x=\\\"2181.93\\\" y=\\\"208.744\\\">y1<\\/text>\\n<\\/g>\\n<\\/svg>\\n\"},\"nodeType\":\"DOM\",\"type\":\"node\",\"instanceArgs\":{\"namespace\":\"html\",\"tag\":\"div\"},\"children\":[]}]}}}},\"children\":[{\"props\":{},\"nodeType\":\"ObservableNode\",\"type\":\"node\",\"instanceArgs\":{\"id\":\"ob_76\",\"name\":\"obs-node\"},\"children\":[]}]}]},\n",
       "            window,\n",
       "        );\n",
       "    } else {\n",
       "        document\n",
       "            .querySelector('[data-webio-mountpoint=\"3638709203073607991\"]')\n",
       "            .innerHTML = (\n",
       "                '<strong>WebIO not detected. Please read ' +\n",
       "                '<a href=\"https://juliagizmos.github.io/WebIO.jl/latest/troubleshooting/not-detected/\">the troubleshooting guide</a> ' +\n",
       "                'for more information on how to resolve this issue.' +\n",
       "                '</strong>'\n",
       "            );\n",
       "    }\n",
       "    </script>\n",
       "</div>\n"
      ],
      "text/plain": [
       "Node{WebIO.DOM}(WebIO.DOM(:html, :div), Any[Node{WebIO.DOM}(WebIO.DOM(:html, :div), Any[Scope(Node{WebIO.DOM}(WebIO.DOM(:html, :div), Any[Node{WebIO.DOM}(WebIO.DOM(:html, :div), Any[Node{WebIO.DOM}(WebIO.DOM(:html, :label), Any[\"λ\"], Dict{Symbol,Any}(:className => \"interact \",:style => Dict{Any,Any}(:padding => \"5px 10px 0px 10px\")))], Dict{Symbol,Any}(:className => \"interact-flex-row-left\")), Node{WebIO.DOM}(WebIO.DOM(:html, :div), Any[Node{WebIO.DOM}(WebIO.DOM(:html, :input), Any[], Dict{Symbol,Any}(:max => 51,:min => 1,:attributes => Dict{Any,Any}(:type => \"range\",Symbol(\"data-bind\") => \"numericValue: index, valueUpdate: 'input', event: {change: function (){this.changes(this.changes()+1)}}\",\"orient\" => \"horizontal\"),:step => 1,:className => \"slider slider is-fullwidth\",:style => Dict{Any,Any}()))], Dict{Symbol,Any}(:className => \"interact-flex-row-center\")), Node{WebIO.DOM}(WebIO.DOM(:html, :div), Any[Node{WebIO.DOM}(WebIO.DOM(:html, :p), Any[], Dict{Symbol,Any}(:attributes => Dict(\"data-bind\" => \"text: formatted_val\")))], Dict{Symbol,Any}(:className => \"interact-flex-row-right\"))], Dict{Symbol,Any}(:className => \"interact-flex-row interact-widget\")), Dict{String,Tuple{Observables.AbstractObservable,Union{Nothing, Bool}}}(\"changes\" => (Observable{Int64} with 1 listeners. Value:\n",
       "0, nothing),\"index\" => (Observable{Any} with 2 listeners. Value:\n",
       "26, nothing)), Set(String[]), nothing, Asset[Asset(\"js\", \"knockout\", \"/Users/eh540/.julia/packages/Knockout/1sDlc/src/../assets/knockout.js\"), Asset(\"js\", \"knockout_punches\", \"/Users/eh540/.julia/packages/Knockout/1sDlc/src/../assets/knockout_punches.js\"), Asset(\"js\", nothing, \"/Users/eh540/.julia/packages/InteractBase/9mFwe/src/../assets/all.js\"), Asset(\"css\", nothing, \"/Users/eh540/.julia/packages/InteractBase/9mFwe/src/../assets/style.css\"), Asset(\"css\", nothing, \"/Users/eh540/.julia/packages/Interact/SbgIk/src/../assets/bulma_confined.min.css\")], Dict{Any,Any}(\"changes\" => Any[WebIO.JSString(\"(function (val){return (val!=this.model[\\\"changes\\\"]()) ? (this.valueFromJulia[\\\"changes\\\"]=true, this.model[\\\"changes\\\"](val)) : undefined})\")],\"index\" => Any[WebIO.JSString(\"(function (val){return (val!=this.model[\\\"index\\\"]()) ? (this.valueFromJulia[\\\"index\\\"]=true, this.model[\\\"index\\\"](val)) : undefined})\")]), WebIO.ConnectionPool(Channel{Any}(sz_max:32,sz_curr:0), Set(AbstractConnection[]), Base.GenericCondition{Base.AlwaysLockedST}(Base.InvasiveLinkedList{Task}(Task (runnable) @0x0000000112d8cfd0, Task (runnable) @0x0000000112d8cfd0), Base.AlwaysLockedST(1))), WebIO.JSString[WebIO.JSString(\"function () {\\n    var handler = (function (ko, koPunches) {\\n    ko.punches.enableAll();\\n    ko.bindingHandlers.numericValue = {\\n        init: function(element, valueAccessor, allBindings, data, context) {\\n            var stringified = ko.observable(ko.unwrap(valueAccessor()));\\n            stringified.subscribe(function(value) {\\n                var val = parseFloat(value);\\n                if (!isNaN(val)) {\\n                    valueAccessor()(val);\\n                }\\n            });\\n            valueAccessor().subscribe(function(value) {\\n                var str = JSON.stringify(value);\\n                if ((str == \\\"0\\\") && ([\\\"-0\\\", \\\"-0.\\\"].indexOf(stringified()) >= 0))\\n                     return;\\n                 if ([\\\"null\\\", \\\"\\\"].indexOf(str) >= 0)\\n                     return;\\n                stringified(str);\\n            });\\n            ko.applyBindingsToNode(\\n                element,\\n                {\\n                    value: stringified,\\n                    valueUpdate: allBindings.get('valueUpdate'),\\n                },\\n                context,\\n            );\\n        }\\n    };\\n    var json_data = {\\\"formatted_vals\\\":[\\\"0.0\\\",\\\"0.1\\\",\\\"0.2\\\",\\\"0.3\\\",\\\"0.4\\\",\\\"0.5\\\",\\\"0.6\\\",\\\"0.7\\\",\\\"0.8\\\",\\\"0.9\\\",\\\"1.0\\\",\\\"1.1\\\",\\\"1.2\\\",\\\"1.3\\\",\\\"1.4\\\",\\\"1.5\\\",\\\"1.6\\\",\\\"1.7\\\",\\\"1.8\\\",\\\"1.9\\\",\\\"2.0\\\",\\\"2.1\\\",\\\"2.2\\\",\\\"2.3\\\",\\\"2.4\\\",\\\"2.5\\\",\\\"2.6\\\",\\\"2.7\\\",\\\"2.8\\\",\\\"2.9\\\",\\\"3.0\\\",\\\"3.1\\\",\\\"3.2\\\",\\\"3.3\\\",\\\"3.4\\\",\\\"3.5\\\",\\\"3.6\\\",\\\"3.7\\\",\\\"3.8\\\",\\\"3.9\\\",\\\"4.0\\\",\\\"4.1\\\",\\\"4.2\\\",\\\"4.3\\\",\\\"4.4\\\",\\\"4.5\\\",\\\"4.6\\\",\\\"4.7\\\",\\\"4.8\\\",\\\"4.9\\\",\\\"5.0\\\"],\\\"changes\\\":WebIO.getval({\\\"name\\\":\\\"changes\\\",\\\"scope\\\":\\\"2417741808340917538\\\",\\\"id\\\":\\\"ob_65\\\",\\\"type\\\":\\\"observable\\\"}),\\\"index\\\":WebIO.getval({\\\"name\\\":\\\"index\\\",\\\"scope\\\":\\\"2417741808340917538\\\",\\\"id\\\":\\\"ob_64\\\",\\\"type\\\":\\\"observable\\\"})};\\n    var self = this;\\n    function AppViewModel() {\\n        for (var key in json_data) {\\n            var el = json_data[key];\\n            this[key] = Array.isArray(el) ? ko.observableArray(el) : ko.observable(el);\\n        }\\n        \\n        [this[\\\"formatted_val\\\"]=ko.computed(    function(){\\n        return this.formatted_vals()[parseInt(this.index())-(1)];\\n    }\\n,this)]\\n        [this[\\\"changes\\\"].subscribe((function (val){!(this.valueFromJulia[\\\"changes\\\"]) ? (WebIO.setval({\\\"name\\\":\\\"changes\\\",\\\"scope\\\":\\\"2417741808340917538\\\",\\\"id\\\":\\\"ob_65\\\",\\\"type\\\":\\\"observable\\\"},val)) : undefined; return this.valueFromJulia[\\\"changes\\\"]=false}),self),this[\\\"index\\\"].subscribe((function (val){!(this.valueFromJulia[\\\"index\\\"]) ? (WebIO.setval({\\\"name\\\":\\\"index\\\",\\\"scope\\\":\\\"2417741808340917538\\\",\\\"id\\\":\\\"ob_64\\\",\\\"type\\\":\\\"observable\\\"},val)) : undefined; return this.valueFromJulia[\\\"index\\\"]=false}),self)]\\n        \\n    }\\n    self.model = new AppViewModel();\\n    self.valueFromJulia = {};\\n    for (var key in json_data) {\\n        self.valueFromJulia[key] = false;\\n    }\\n    ko.applyBindings(self.model, self.dom);\\n}\\n);\\n    (WebIO.importBlock({\\\"data\\\":[{\\\"name\\\":\\\"knockout\\\",\\\"type\\\":\\\"js\\\",\\\"url\\\":\\\"/assetserver/550a5fd2fcd404d3bd8030056d3c050d590e9061-knockout.js\\\"},{\\\"name\\\":\\\"knockout_punches\\\",\\\"type\\\":\\\"js\\\",\\\"url\\\":\\\"/assetserver/1b270d0089efe5107bb25eb0370cbc4abf713b46-knockout_punches.js\\\"}],\\\"type\\\":\\\"async_block\\\"})).then((imports) => handler.apply(this, imports));\\n}\\n\")])], Dict{Symbol,Any}(:className => \"field interact-widget\")), Node{WebIO.DOM}(WebIO.DOM(:html, :div), Any[Scope(Node{WebIO.DOM}(WebIO.DOM(:html, :div), Any[Node{WebIO.DOM}(WebIO.DOM(:html, :div), Any[Node{WebIO.DOM}(WebIO.DOM(:html, :label), Any[\"μ\"], Dict{Symbol,Any}(:className => \"interact \",:style => Dict{Any,Any}(:padding => \"5px 10px 0px 10px\")))], Dict{Symbol,Any}(:className => \"interact-flex-row-left\")), Node{WebIO.DOM}(WebIO.DOM(:html, :div), Any[Node{WebIO.DOM}(WebIO.DOM(:html, :input), Any[], Dict{Symbol,Any}(:max => 51,:min => 1,:attributes => Dict{Any,Any}(:type => \"range\",Symbol(\"data-bind\") => \"numericValue: index, valueUpdate: 'input', event: {change: function (){this.changes(this.changes()+1)}}\",\"orient\" => \"horizontal\"),:step => 1,:className => \"slider slider is-fullwidth\",:style => Dict{Any,Any}()))], Dict{Symbol,Any}(:className => \"interact-flex-row-center\")), Node{WebIO.DOM}(WebIO.DOM(:html, :div), Any[Node{WebIO.DOM}(WebIO.DOM(:html, :p), Any[], Dict{Symbol,Any}(:attributes => Dict(\"data-bind\" => \"text: formatted_val\")))], Dict{Symbol,Any}(:className => \"interact-flex-row-right\"))], Dict{Symbol,Any}(:className => \"interact-flex-row interact-widget\")), Dict{String,Tuple{Observables.AbstractObservable,Union{Nothing, Bool}}}(\"changes\" => (Observable{Int64} with 1 listeners. Value:\n",
       "0, nothing),\"index\" => (Observable{Any} with 2 listeners. Value:\n",
       "26, nothing)), Set(String[]), nothing, Asset[Asset(\"js\", \"knockout\", \"/Users/eh540/.julia/packages/Knockout/1sDlc/src/../assets/knockout.js\"), Asset(\"js\", \"knockout_punches\", \"/Users/eh540/.julia/packages/Knockout/1sDlc/src/../assets/knockout_punches.js\"), Asset(\"js\", nothing, \"/Users/eh540/.julia/packages/InteractBase/9mFwe/src/../assets/all.js\"), Asset(\"css\", nothing, \"/Users/eh540/.julia/packages/InteractBase/9mFwe/src/../assets/style.css\"), Asset(\"css\", nothing, \"/Users/eh540/.julia/packages/Interact/SbgIk/src/../assets/bulma_confined.min.css\")], Dict{Any,Any}(\"changes\" => Any[WebIO.JSString(\"(function (val){return (val!=this.model[\\\"changes\\\"]()) ? (this.valueFromJulia[\\\"changes\\\"]=true, this.model[\\\"changes\\\"](val)) : undefined})\")],\"index\" => Any[WebIO.JSString(\"(function (val){return (val!=this.model[\\\"index\\\"]()) ? (this.valueFromJulia[\\\"index\\\"]=true, this.model[\\\"index\\\"](val)) : undefined})\")]), WebIO.ConnectionPool(Channel{Any}(sz_max:32,sz_curr:0), Set(AbstractConnection[]), Base.GenericCondition{Base.AlwaysLockedST}(Base.InvasiveLinkedList{Task}(Task (runnable) @0x00000001138498d0, Task (runnable) @0x00000001138498d0), Base.AlwaysLockedST(1))), WebIO.JSString[WebIO.JSString(\"function () {\\n    var handler = (function (ko, koPunches) {\\n    ko.punches.enableAll();\\n    ko.bindingHandlers.numericValue = {\\n        init: function(element, valueAccessor, allBindings, data, context) {\\n            var stringified = ko.observable(ko.unwrap(valueAccessor()));\\n            stringified.subscribe(function(value) {\\n                var val = parseFloat(value);\\n                if (!isNaN(val)) {\\n                    valueAccessor()(val);\\n                }\\n            });\\n            valueAccessor().subscribe(function(value) {\\n                var str = JSON.stringify(value);\\n                if ((str == \\\"0\\\") && ([\\\"-0\\\", \\\"-0.\\\"].indexOf(stringified()) >= 0))\\n                     return;\\n                 if ([\\\"null\\\", \\\"\\\"].indexOf(str) >= 0)\\n                     return;\\n                stringified(str);\\n            });\\n            ko.applyBindingsToNode(\\n                element,\\n                {\\n                    value: stringified,\\n                    valueUpdate: allBindings.get('valueUpdate'),\\n                },\\n                context,\\n            );\\n        }\\n    };\\n    var json_data = {\\\"formatted_vals\\\":[\\\"0.0\\\",\\\"0.1\\\",\\\"0.2\\\",\\\"0.3\\\",\\\"0.4\\\",\\\"0.5\\\",\\\"0.6\\\",\\\"0.7\\\",\\\"0.8\\\",\\\"0.9\\\",\\\"1.0\\\",\\\"1.1\\\",\\\"1.2\\\",\\\"1.3\\\",\\\"1.4\\\",\\\"1.5\\\",\\\"1.6\\\",\\\"1.7\\\",\\\"1.8\\\",\\\"1.9\\\",\\\"2.0\\\",\\\"2.1\\\",\\\"2.2\\\",\\\"2.3\\\",\\\"2.4\\\",\\\"2.5\\\",\\\"2.6\\\",\\\"2.7\\\",\\\"2.8\\\",\\\"2.9\\\",\\\"3.0\\\",\\\"3.1\\\",\\\"3.2\\\",\\\"3.3\\\",\\\"3.4\\\",\\\"3.5\\\",\\\"3.6\\\",\\\"3.7\\\",\\\"3.8\\\",\\\"3.9\\\",\\\"4.0\\\",\\\"4.1\\\",\\\"4.2\\\",\\\"4.3\\\",\\\"4.4\\\",\\\"4.5\\\",\\\"4.6\\\",\\\"4.7\\\",\\\"4.8\\\",\\\"4.9\\\",\\\"5.0\\\"],\\\"changes\\\":WebIO.getval({\\\"name\\\":\\\"changes\\\",\\\"scope\\\":\\\"18228690072874791829\\\",\\\"id\\\":\\\"ob_68\\\",\\\"type\\\":\\\"observable\\\"}),\\\"index\\\":WebIO.getval({\\\"name\\\":\\\"index\\\",\\\"scope\\\":\\\"18228690072874791829\\\",\\\"id\\\":\\\"ob_67\\\",\\\"type\\\":\\\"observable\\\"})};\\n    var self = this;\\n    function AppViewModel() {\\n        for (var key in json_data) {\\n            var el = json_data[key];\\n            this[key] = Array.isArray(el) ? ko.observableArray(el) : ko.observable(el);\\n        }\\n        \\n        [this[\\\"formatted_val\\\"]=ko.computed(    function(){\\n        return this.formatted_vals()[parseInt(this.index())-(1)];\\n    }\\n,this)]\\n        [this[\\\"changes\\\"].subscribe((function (val){!(this.valueFromJulia[\\\"changes\\\"]) ? (WebIO.setval({\\\"name\\\":\\\"changes\\\",\\\"scope\\\":\\\"18228690072874791829\\\",\\\"id\\\":\\\"ob_68\\\",\\\"type\\\":\\\"observable\\\"},val)) : undefined; return this.valueFromJulia[\\\"changes\\\"]=false}),self),this[\\\"index\\\"].subscribe((function (val){!(this.valueFromJulia[\\\"index\\\"]) ? (WebIO.setval({\\\"name\\\":\\\"index\\\",\\\"scope\\\":\\\"18228690072874791829\\\",\\\"id\\\":\\\"ob_67\\\",\\\"type\\\":\\\"observable\\\"},val)) : undefined; return this.valueFromJulia[\\\"index\\\"]=false}),self)]\\n        \\n    }\\n    self.model = new AppViewModel();\\n    self.valueFromJulia = {};\\n    for (var key in json_data) {\\n        self.valueFromJulia[key] = false;\\n    }\\n    ko.applyBindings(self.model, self.dom);\\n}\\n);\\n    (WebIO.importBlock({\\\"data\\\":[{\\\"name\\\":\\\"knockout\\\",\\\"type\\\":\\\"js\\\",\\\"url\\\":\\\"/assetserver/550a5fd2fcd404d3bd8030056d3c050d590e9061-knockout.js\\\"},{\\\"name\\\":\\\"knockout_punches\\\",\\\"type\\\":\\\"js\\\",\\\"url\\\":\\\"/assetserver/1b270d0089efe5107bb25eb0370cbc4abf713b46-knockout_punches.js\\\"}],\\\"type\\\":\\\"async_block\\\"})).then((imports) => handler.apply(this, imports));\\n}\\n\")])], Dict{Symbol,Any}(:className => \"field interact-widget\")), Observable{Any} with 0 listeners. Value:\n",
       "Node{WebIO.DOM}(WebIO.DOM(:html, :div), Any[Plot{Plots.GRBackend() n=1}], Dict{Symbol,Any}(:className => \"interact-flex-row interact-widget\"))], Dict{Symbol,Any}())"
      ]
     },
     "execution_count": 32,
     "metadata": {
      "application/vnd.webio.node+json": {
       "kernelId": "38ab185f-30ed-47e2-aa08-c89ada6122e3"
      }
     },
     "output_type": "execute_result"
    }
   ],
   "source": [
    "using Interact, Plots\n",
    "@manipulate throttle=.1 for λ=0:.1:5, μ=0:.1:5\n",
    "    global A\n",
    "    problem = minimize(square(norm(A * x - b)) + λ*square(norm(x)) + μ*norm(x, 1),\n",
    "                   x >= 0)\n",
    "    solve!(problem, SCSSolver(verbose=0))\n",
    "    h = histogram(evaluate(x), xlims=(0,3.5))\n",
    "    display( norm(evaluate(x), 1))\n",
    "    h\n",
    "end"
   ]
  },
  {
   "cell_type": "markdown",
   "metadata": {},
   "source": [
    "# Quick convex prototyping"
   ]
  },
  {
   "cell_type": "markdown",
   "metadata": {},
   "source": [
    "## Variables"
   ]
  },
  {
   "cell_type": "code",
   "execution_count": 7,
   "metadata": {},
   "outputs": [
    {
     "data": {
      "text/plain": [
       "Variable\n",
       "size: (1, 1)\n",
       "sign: real\n",
       "vexity: affine\n",
       "id: 130…088"
      ]
     },
     "execution_count": 7,
     "metadata": {},
     "output_type": "execute_result"
    }
   ],
   "source": [
    "# Scalar variable\n",
    "x = Variable()"
   ]
  },
  {
   "cell_type": "code",
   "execution_count": 8,
   "metadata": {},
   "outputs": [
    {
     "data": {
      "text/plain": [
       "Variable\n",
       "size: (4, 1)\n",
       "sign: real\n",
       "vexity: affine\n",
       "id: 586…103"
      ]
     },
     "execution_count": 8,
     "metadata": {},
     "output_type": "execute_result"
    }
   ],
   "source": [
    "# (Column) vector variable\n",
    "y = Variable(4)"
   ]
  },
  {
   "cell_type": "code",
   "execution_count": 9,
   "metadata": {},
   "outputs": [
    {
     "data": {
      "text/plain": [
       "Variable\n",
       "size: (4, 4)\n",
       "sign: real\n",
       "vexity: affine\n",
       "id: 945…784"
      ]
     },
     "execution_count": 9,
     "metadata": {},
     "output_type": "execute_result"
    }
   ],
   "source": [
    "# Matrix variable\n",
    "Z = Variable(4, 4)"
   ]
  },
  {
   "cell_type": "markdown",
   "metadata": {},
   "source": [
    "# Expressions"
   ]
  },
  {
   "cell_type": "markdown",
   "metadata": {},
   "source": [
    "Convex.jl allows you to use a [wide variety of functions](http://convexjl.readthedocs.org/en/latest/operations.html) on variables and on expressions to form new expressions."
   ]
  },
  {
   "cell_type": "code",
   "execution_count": 10,
   "metadata": {},
   "outputs": [
    {
     "data": {
      "text/plain": [
       "+ (affine; real)\n",
       "├─ real variable (id: 130…088)\n",
       "└─ * (affine; real)\n",
       "   ├─ 2\n",
       "   └─ real variable (id: 130…088)"
      ]
     },
     "execution_count": 10,
     "metadata": {},
     "output_type": "execute_result"
    }
   ],
   "source": [
    "x + 2x"
   ]
  },
  {
   "cell_type": "code",
   "execution_count": 11,
   "metadata": {},
   "outputs": [
    {
     "data": {
      "text/plain": [
       "+ (concave; real)\n",
       "├─ index (affine; real)\n",
       "│  └─ 4-element real variable (id: 586…103)\n",
       "├─ logdet (concave; real)\n",
       "│  └─ 4×4 real variable (id: 945…784)\n",
       "├─ geomean (concave; positive)\n",
       "│  ├─ real variable (id: 130…088)\n",
       "│  └─ [1.0]\n",
       "└─ minimum (concave; real)\n",
       "   └─ 4-element real variable (id: 586…103)"
      ]
     },
     "execution_count": 11,
     "metadata": {},
     "output_type": "execute_result"
    }
   ],
   "source": [
    "e = y[1] + logdet(Z) + sqrt(x) + minimum(y)"
   ]
  },
  {
   "cell_type": "markdown",
   "metadata": {},
   "source": [
    "### Examine the expression tree"
   ]
  },
  {
   "cell_type": "code",
   "execution_count": 12,
   "metadata": {},
   "outputs": [
    {
     "data": {
      "text/plain": [
       "logdet (concave; real)\n",
       "└─ 4×4 real variable (id: 945…784)"
      ]
     },
     "execution_count": 12,
     "metadata": {},
     "output_type": "execute_result"
    }
   ],
   "source": [
    "e.children[2]"
   ]
  },
  {
   "cell_type": "markdown",
   "metadata": {},
   "source": [
    "# Constraints\n",
    "\n",
    "A constraint is convex if convex combinations of feasible points are also feasible. Equivalently, feasible sets are convex sets.\n",
    "\n",
    "In other words, convex constraints are of the form\n",
    "\n",
    "* `convexExpr <= 0`\n",
    "* `concaveExpr >= 0`\n",
    "* `affineExpr == 0`"
   ]
  },
  {
   "cell_type": "code",
   "execution_count": 13,
   "metadata": {},
   "outputs": [
    {
     "data": {
      "text/plain": [
       "<= constraint (affine)\n",
       "├─ real variable (id: 130…088)\n",
       "└─ 0"
      ]
     },
     "execution_count": 13,
     "metadata": {},
     "output_type": "execute_result"
    }
   ],
   "source": [
    "x <= 0"
   ]
  },
  {
   "cell_type": "code",
   "execution_count": 14,
   "metadata": {},
   "outputs": [
    {
     "ename": "MethodError",
     "evalue": "MethodError: no method matching ^(::Variable, ::Int64)\nClosest candidates are:\n  ^(!Matched::Float16, ::Integer) at math.jl:862\n  ^(!Matched::Regex, ::Integer) at regex.jl:712\n  ^(!Matched::Missing, ::Integer) at missing.jl:151\n  ...",
     "output_type": "error",
     "traceback": [
      "MethodError: no method matching ^(::Variable, ::Int64)\nClosest candidates are:\n  ^(!Matched::Float16, ::Integer) at math.jl:862\n  ^(!Matched::Regex, ::Integer) at regex.jl:712\n  ^(!Matched::Missing, ::Integer) at missing.jl:151\n  ...",
      "",
      "Stacktrace:",
      " [1] macro expansion at ./none:0 [inlined]",
      " [2] literal_pow(::typeof(^), ::Variable, ::Val{2}) at ./none:0",
      " [3] top-level scope at In[14]:1"
     ]
    }
   ],
   "source": [
    "x^2 <= sum(y)"
   ]
  },
  {
   "cell_type": "code",
   "execution_count": 15,
   "metadata": {},
   "outputs": [
    {
     "data": {
      "text/plain": [
       "sdp constraint (affine)\n",
       "└─ + (affine; real)\n",
       "   ├─ 4×4 real variable (id: 945…784)\n",
       "   ├─ * (affine; real)\n",
       "   │  ├─ 4\n",
       "   │  └─ index (affine; real)\n",
       "   │     └─ …\n",
       "   ├─ * (affine; real)\n",
       "   │  ├─ 4\n",
       "   │  └─ index (affine; real)\n",
       "   │     └─ …\n",
       "   ├─ * (affine; real)\n",
       "   │  ├─ 4\n",
       "   │  └─ index (affine; real)\n",
       "   │     └─ …\n",
       "   └─ * (affine; real)\n",
       "      ├─ 4\n",
       "      └─ index (affine; real)\n",
       "         └─ …"
      ]
     },
     "execution_count": 15,
     "metadata": {},
     "output_type": "execute_result"
    }
   ],
   "source": [
    "M = Z\n",
    "for i = 1:length(y)\n",
    "    global M += rand(size(Z))*y[i]\n",
    "end\n",
    "M ⪰ 0"
   ]
  },
  {
   "cell_type": "markdown",
   "metadata": {},
   "source": [
    "# Problems"
   ]
  },
  {
   "cell_type": "code",
   "execution_count": 16,
   "metadata": {},
   "outputs": [
    {
     "data": {
      "text/plain": [
       "minimize\n",
       "└─ + (convex; real)\n",
       "   ├─ * (affine; real)\n",
       "   │  ├─ 2\n",
       "   │  └─ real variable (id: 159…869)\n",
       "   ├─ 1\n",
       "   └─ - (convex; negative)\n",
       "      └─ geomean (concave; positive)\n",
       "         ├─ …\n",
       "         └─ …\n",
       "subject to\n",
       "└─ >= constraint (convex)\n",
       "   ├─ real variable (id: 159…869)\n",
       "   └─ maximum (convex; real)\n",
       "      └─ 4-element real variable (id: 376…175)\n",
       "\n",
       "current status: not yet solved"
      ]
     },
     "execution_count": 16,
     "metadata": {},
     "output_type": "execute_result"
    }
   ],
   "source": [
    "x = Variable()\n",
    "y = Variable(4)\n",
    "objective = 2*x + 1 - sqrt(sum(y))\n",
    "constraint = x >= maximum(y)\n",
    "p = minimize(objective, constraint)"
   ]
  },
  {
   "cell_type": "code",
   "execution_count": 17,
   "metadata": {},
   "outputs": [
    {
     "data": {
      "text/plain": [
       ":Optimal"
      ]
     },
     "execution_count": 17,
     "metadata": {},
     "output_type": "execute_result"
    }
   ],
   "source": [
    "# solve the problem\n",
    "solve!(p, SCSSolver(verbose=0))\n",
    "p.status"
   ]
  },
  {
   "cell_type": "code",
   "execution_count": 18,
   "metadata": {},
   "outputs": [
    {
     "data": {
      "text/plain": [
       "0.24999870249151884"
      ]
     },
     "execution_count": 18,
     "metadata": {},
     "output_type": "execute_result"
    }
   ],
   "source": [
    "x.value"
   ]
  },
  {
   "cell_type": "code",
   "execution_count": 19,
   "metadata": {},
   "outputs": [
    {
     "data": {
      "text/plain": [
       "1×1 Array{Float64,2}:\n",
       " 0.5000006743077758"
      ]
     },
     "execution_count": 19,
     "metadata": {},
     "output_type": "execute_result"
    }
   ],
   "source": [
    "# can evaluate expressions directly\n",
    "evaluate(objective)"
   ]
  },
  {
   "cell_type": "markdown",
   "metadata": {},
   "source": [
    "## Pass to solver\n",
    "\n",
    "call a `MathProgBase` solver suited for your problem class\n",
    "\n",
    "* see the [list of Convex.jl operations](http://convexjl.readthedocs.org/en/latest/operations.html) to find which cones you're using\n",
    "* see the [list of solvers](http://www.juliaopt.org/) for an up-to-date list of solvers and which cones they support"
   ]
  },
  {
   "cell_type": "markdown",
   "metadata": {},
   "source": [
    "to solve problem using a different solver, just import the solver package and pass the solver to the `solve!` method: eg\n",
    "\n",
    "    using Mosek\n",
    "    solve!(p, MosekSolver())"
   ]
  },
  {
   "cell_type": "markdown",
   "metadata": {},
   "source": [
    "## Warmstart"
   ]
  },
  {
   "cell_type": "code",
   "execution_count": 20,
   "metadata": {},
   "outputs": [
    {
     "ename": "MethodError",
     "evalue": "MethodError: no method matching ^(::EucNormAtom, ::Int64)\nClosest candidates are:\n  ^(!Matched::Float16, ::Integer) at math.jl:862\n  ^(!Matched::Regex, ::Integer) at regex.jl:712\n  ^(!Matched::Missing, ::Integer) at missing.jl:151\n  ...",
     "output_type": "error",
     "traceback": [
      "MethodError: no method matching ^(::EucNormAtom, ::Int64)\nClosest candidates are:\n  ^(!Matched::Float16, ::Integer) at math.jl:862\n  ^(!Matched::Regex, ::Integer) at regex.jl:712\n  ^(!Matched::Missing, ::Integer) at missing.jl:151\n  ...",
      "",
      "Stacktrace:",
      " [1] macro expansion at ./none:0 [inlined]",
      " [2] literal_pow(::typeof(^), ::EucNormAtom, ::Val{2}) at ./none:0",
      " [3] top-level scope at In[20]:14"
     ]
    }
   ],
   "source": [
    "# Generate random problem data\n",
    "m = 50;  n = 100\n",
    "A = randn(m, n)\n",
    "x♮ = sprand(n, 1, .5) # true (sparse nonnegative) parameter vector\n",
    "noise = .1*randn(m)    # gaussian noise\n",
    "b = A*x♮ + noise      # noisy linear observations\n",
    "\n",
    "# Create a (column vector) variable of size n.\n",
    "x = Variable(n)\n",
    "\n",
    "# nonnegative elastic net with regularization\n",
    "λ = 1\n",
    "μ = 1\n",
    "problem = minimize(norm(A * x - b)^2 + λ*norm(x)^2 + μ*norm(x, 1),\n",
    "                   x >= 0)\n",
    "@time solve!(problem, SCSSolver(verbose=0))\n",
    "λ = 1.5\n",
    "@time solve!(problem, SCSSolver(verbose=0), warmstart = true)"
   ]
  },
  {
   "cell_type": "markdown",
   "metadata": {},
   "source": [
    "# DCP examples"
   ]
  },
  {
   "cell_type": "code",
   "execution_count": 21,
   "metadata": {},
   "outputs": [
    {
     "data": {
      "text/plain": [
       "+ (affine; real)\n",
       "├─ sum (affine; real)\n",
       "│  └─ 4-element real variable (id: 132…455)\n",
       "└─ index (affine; real)\n",
       "   └─ 2-element real variable (id: 549…579)"
      ]
     },
     "execution_count": 21,
     "metadata": {},
     "output_type": "execute_result"
    }
   ],
   "source": [
    "# affine\n",
    "x = Variable(4)\n",
    "y = Variable(2)\n",
    "sum(x) + y[2]"
   ]
  },
  {
   "cell_type": "code",
   "execution_count": 22,
   "metadata": {},
   "outputs": [
    {
     "data": {
      "text/plain": [
       "+ (convex; real)\n",
       "├─ * (convex; real)\n",
       "│  ├─ 2\n",
       "│  └─ maximum (convex; real)\n",
       "│     └─ 4-element real variable (id: 132…455)\n",
       "├─ * (affine; real)\n",
       "│  ├─ 4\n",
       "│  └─ sum (affine; real)\n",
       "│     └─ 2-element real variable (id: 549…579)\n",
       "├─ - (convex; negative)\n",
       "│  └─ geomean (concave; positive)\n",
       "│     ├─ + (affine; real)\n",
       "│     │  ├─ …\n",
       "│     │  └─ …\n",
       "│     └─ [1.0]\n",
       "└─ - (convex; real)\n",
       "   └─ * (concave; real)\n",
       "      ├─ 7\n",
       "      └─ minimum (concave; real)\n",
       "         └─ …"
      ]
     },
     "execution_count": 22,
     "metadata": {},
     "output_type": "execute_result"
    }
   ],
   "source": [
    "2*maximum(x) + 4*sum(y) - sqrt(y[1] + x[1]) - 7 * minimum(x[2:4])"
   ]
  },
  {
   "cell_type": "code",
   "execution_count": 23,
   "metadata": {},
   "outputs": [
    {
     "ename": "MethodError",
     "evalue": "MethodError: no method matching ^(::Variable, ::Int64)\nClosest candidates are:\n  ^(!Matched::Float16, ::Integer) at math.jl:862\n  ^(!Matched::Regex, ::Integer) at regex.jl:712\n  ^(!Matched::Missing, ::Integer) at missing.jl:151\n  ...",
     "output_type": "error",
     "traceback": [
      "MethodError: no method matching ^(::Variable, ::Int64)\nClosest candidates are:\n  ^(!Matched::Float16, ::Integer) at math.jl:862\n  ^(!Matched::Regex, ::Integer) at regex.jl:712\n  ^(!Matched::Missing, ::Integer) at missing.jl:151\n  ...",
      "",
      "Stacktrace:",
      " [1] macro expansion at ./none:0 [inlined]",
      " [2] literal_pow(::typeof(^), ::Variable, ::Val{2}) at ./none:0",
      " [3] top-level scope at In[23]:1"
     ]
    }
   ],
   "source": [
    "# not dcp compliant\n",
    "log(x) + x^2"
   ]
  },
  {
   "cell_type": "code",
   "execution_count": 24,
   "metadata": {},
   "outputs": [
    {
     "data": {
      "text/plain": [
       "qol_elem (convex; positive)\n",
       "├─ max (convex; positive)\n",
       "│  ├─ 4-element real variable (id: 132…455)\n",
       "│  └─ 0\n",
       "└─ 4×1 Array{Float64,2}"
      ]
     },
     "execution_count": 24,
     "metadata": {},
     "output_type": "execute_result"
    }
   ],
   "source": [
    "# $f$ is convex increasing and $g$ is convex\n",
    "square(pos(x))"
   ]
  },
  {
   "cell_type": "code",
   "execution_count": 25,
   "metadata": {},
   "outputs": [
    {
     "data": {
      "text/plain": [
       "qol_elem (convex; positive)\n",
       "├─ 4×1 Array{Float64,2}\n",
       "└─ geomean (concave; positive)\n",
       "   ├─ 4-element real variable (id: 132…455)\n",
       "   └─ 4×1 Array{Float64,2}"
      ]
     },
     "execution_count": 25,
     "metadata": {},
     "output_type": "execute_result"
    }
   ],
   "source": [
    "# $f$ is convex decreasing and $g$ is concave\n",
    "invpos(sqrt(x))"
   ]
  },
  {
   "cell_type": "code",
   "execution_count": 26,
   "metadata": {},
   "outputs": [
    {
     "data": {
      "text/plain": [
       "geomean (concave; positive)\n",
       "├─ geomean (concave; positive)\n",
       "│  ├─ 4-element real variable (id: 132…455)\n",
       "│  └─ 4×1 Array{Float64,2}\n",
       "└─ 4×1 Array{Float64,2}"
      ]
     },
     "execution_count": 26,
     "metadata": {},
     "output_type": "execute_result"
    },
    {
     "name": "stderr",
     "output_type": "stream",
     "text": [
      "Cannot multiply two expressions of sizes (50, 100) and (4, 1)\n",
      "Stacktrace:\n",
      " [1] \u001b[1merror\u001b[22m\u001b[1m(\u001b[22m::String\u001b[1m)\u001b[22m at \u001b[1m./error.jl:33\u001b[22m\n",
      " [2] \u001b[1mMultiplyAtom\u001b[22m at \u001b[1m/Users/eh540/Dropbox (Personal)/LinkedFolders/Julia/dev/Convex/src/atoms/affine/multiply_divide.jl:28\u001b[22m [inlined]\n",
      " [3] \u001b[1m*\u001b[22m\u001b[1m(\u001b[22m::Array{Float64,2}, ::Variable\u001b[1m)\u001b[22m at \u001b[1m/Users/eh540/Dropbox (Personal)/LinkedFolders/Julia/dev/Convex/src/atoms/affine/multiply_divide.jl:103\u001b[22m\n",
      " [4] \u001b[1m(::var\"#7#8\")\u001b[22m\u001b[1m(\u001b[22m::Float64, ::Float64\u001b[1m)\u001b[22m at \u001b[1m./In[6]:4\u001b[22m\n",
      " [5] \u001b[1m(::Observables.var\"#16#17\"{var\"#7#8\",Observable{Any}})\u001b[22m\u001b[1m(\u001b[22m::Float64, ::Vararg{Float64,N} where N\u001b[1m)\u001b[22m at \u001b[1m/Users/eh540/.julia/packages/Observables/qCJWB/src/Observables.jl:152\u001b[22m\n",
      " [6] \u001b[1m(::Observables.var\"#g#15\"{Observables.var\"#16#17\"{var\"#7#8\",Observable{Any}},Tuple{Widget{:slider,Float64},Widget{:slider,Float64}}})\u001b[22m\u001b[1m(\u001b[22m::Float64\u001b[1m)\u001b[22m at \u001b[1m/Users/eh540/.julia/packages/Observables/qCJWB/src/Observables.jl:136\u001b[22m\n",
      " [7] \u001b[1m#setindex!#1\u001b[22m\u001b[1m(\u001b[22m::Base.var\"#58#59\"{Base.Fix2{typeof(in),Array{Function,1}}}, ::typeof(setindex!), ::Observable{Float64}, ::Float64\u001b[1m)\u001b[22m at \u001b[1m/Users/eh540/.julia/packages/Observables/qCJWB/src/Observables.jl:87\u001b[22m\n",
      " [8] \u001b[1m(::Base.var\"#kw##setindex!\")\u001b[22m\u001b[1m(\u001b[22m::NamedTuple{(:notify,),Tuple{Base.var\"#58#59\"{Base.Fix2{typeof(in),Array{Function,1}}}}}, ::typeof(setindex!), ::Observable{Float64}, ::Float64\u001b[1m)\u001b[22m at \u001b[1m./none:0\u001b[22m\n",
      " [9] \u001b[1m(::Observables.var\"#25#28\"{InteractBase.var\"#77#80\",Observable{Float64},Array{Function,1}})\u001b[22m\u001b[1m(\u001b[22m::Int64\u001b[1m)\u001b[22m at \u001b[1m/Users/eh540/.julia/packages/Observables/qCJWB/src/observablepair.jl:14\u001b[22m\n",
      " [10] \u001b[1m#setindex!#1\u001b[22m\u001b[1m(\u001b[22m::WebIO.var\"#44#45\", ::typeof(setindex!), ::Observable{Any}, ::Int64\u001b[1m)\u001b[22m at \u001b[1m/Users/eh540/.julia/packages/Observables/qCJWB/src/Observables.jl:87\u001b[22m\n",
      " [11] \u001b[1m#setindex!\u001b[22m at \u001b[1m./none:0\u001b[22m [inlined]\n",
      " [12] \u001b[1msetexcludinghandlers\u001b[22m at \u001b[1m/Users/eh540/.julia/packages/Observables/qCJWB/src/Observables.jl:103\u001b[22m [inlined]\n",
      " [13] \u001b[1mset_nosync\u001b[22m\u001b[1m(\u001b[22m::Observable{Any}, ::Int64\u001b[1m)\u001b[22m at \u001b[1m/Users/eh540/.julia/packages/WebIO/2mZPb/src/scope.jl:339\u001b[22m\n",
      " [14] \u001b[1mdispatch\u001b[22m\u001b[1m(\u001b[22m::Scope, ::String, ::Int64\u001b[1m)\u001b[22m at \u001b[1m/Users/eh540/.julia/packages/WebIO/2mZPb/src/scope.jl:348\u001b[22m\n",
      " [15] \u001b[1mdispatch_command\u001b[22m\u001b[1m(\u001b[22m::WebIO.IJuliaConnection, ::Dict{String,Any}\u001b[1m)\u001b[22m at \u001b[1m/Users/eh540/.julia/packages/WebIO/2mZPb/src/messaging.jl:104\u001b[22m\n",
      " [16] \u001b[1mdispatch\u001b[22m\u001b[1m(\u001b[22m::WebIO.IJuliaConnection, ::Dict{String,Any}\u001b[1m)\u001b[22m at \u001b[1m/Users/eh540/.julia/packages/WebIO/2mZPb/src/messaging.jl:81\u001b[22m\n",
      " [17] \u001b[1m(::WebIO.var\"#92#93\"{WebIO.IJuliaConnection})\u001b[22m\u001b[1m(\u001b[22m::IJulia.Msg\u001b[1m)\u001b[22m at \u001b[1m/Users/eh540/.julia/packages/WebIO/2mZPb/src/providers/ijulia.jl:21\u001b[22m\n",
      " [18] \u001b[1mcomm_msg\u001b[22m\u001b[1m(\u001b[22m::ZMQ.Socket, ::IJulia.Msg\u001b[1m)\u001b[22m at \u001b[1m/Users/eh540/.julia/packages/IJulia/fRegO/src/comm_manager.jl:134\u001b[22m\n",
      " [19] \u001b[1m#invokelatest#1\u001b[22m at \u001b[1m./essentials.jl:709\u001b[22m [inlined]\n",
      " [20] \u001b[1minvokelatest\u001b[22m at \u001b[1m./essentials.jl:708\u001b[22m [inlined]\n",
      " [21] \u001b[1meventloop\u001b[22m\u001b[1m(\u001b[22m::ZMQ.Socket\u001b[1m)\u001b[22m at \u001b[1m/Users/eh540/.julia/packages/IJulia/fRegO/src/eventloop.jl:8\u001b[22m\n",
      " [22] \u001b[1m(::IJulia.var\"#15#18\")\u001b[22m\u001b[1m(\u001b[22m\u001b[1m)\u001b[22m at \u001b[1m./task.jl:333\u001b[22mCannot multiply two expressions of sizes (50, 100) and (4, 1)\n",
      "Stacktrace:\n",
      " [1] \u001b[1merror\u001b[22m\u001b[1m(\u001b[22m::String\u001b[1m)\u001b[22m at \u001b[1m./error.jl:33\u001b[22m\n",
      " [2] \u001b[1mMultiplyAtom\u001b[22m at \u001b[1m/Users/eh540/Dropbox (Personal)/LinkedFolders/Julia/dev/Convex/src/atoms/affine/multiply_divide.jl:28\u001b[22m [inlined]\n",
      " [3] \u001b[1m*\u001b[22m\u001b[1m(\u001b[22m::Array{Float64,2}, ::Variable\u001b[1m)\u001b[22m at \u001b[1m/Users/eh540/Dropbox (Personal)/LinkedFolders/Julia/dev/Convex/src/atoms/affine/multiply_divide.jl:103\u001b[22m\n",
      " [4] \u001b[1m(::var\"#7#8\")\u001b[22m\u001b[1m(\u001b[22m::Float64"
     ]
    },
    {
     "ename": "ErrorException",
     "evalue": "Cannot multiply two expressions of sizes (50, 100) and (4, 1)",
     "output_type": "error",
     "traceback": [
      "KERNEL EXCEPTION",
      "Cannot multiply two expressions of sizes (50, 100) and (4, 1)",
      "",
      "Stacktrace:",
      " [1] error(::String) at ./error.jl:33",
      " [2] MultiplyAtom at /Users/eh540/Dropbox (Personal)/LinkedFolders/Julia/dev/Convex/src/atoms/affine/multiply_divide.jl:28 [inlined]",
      " [3] *(::Array{Float64,2}, ::Variable) at /Users/eh540/Dropbox (Personal)/LinkedFolders/Julia/dev/Convex/src/atoms/affine/multiply_divide.jl:103",
      " [4] (::var\"#7#8\")(::Float64, ::Float64) at ./In[6]:4",
      " [5] (::Observables.var\"#16#17\"{var\"#7#8\",Observable{Any}})(::Float64, ::Vararg{Float64,N} where N) at /Users/eh540/.julia/packages/Observables/qCJWB/src/Observables.jl:152",
      " [6] (::Observables.var\"#g#15\"{Observables.var\"#16#17\"{var\"#7#8\",Observable{Any}},Tuple{Widget{:slider,Float64},Widget{:slider,Float64}}})(::Float64) at /Users/eh540/.julia/packages/Observables/qCJWB/src/Observables.jl:136",
      " [7] #setindex!#1(::Base.var\"#58#59\"{Base.Fix2{typeof(in),Array{Function,1}}}, ::typeof(setindex!), ::Observable{Float64}, ::Float64) at /Users/eh540/.julia/packages/Observables/qCJWB/src/Observables.jl:87",
      " [8] (::Base.var\"#kw##setindex!\")(::NamedTuple{(:notify,),Tuple{Base.var\"#58#59\"{Base.Fix2{typeof(in),Array{Function,1}}}}}, ::typeof(setindex!), ::Observable{Float64}, ::Float64) at ./none:0",
      " [9] (::Observables.var\"#25#28\"{InteractBase.var\"#77#80\",Observable{Float64},Array{Function,1}})(::Int64) at /Users/eh540/.julia/packages/Observables/qCJWB/src/observablepair.jl:14",
      " [10] #setindex!#1(::WebIO.var\"#44#45\", ::typeof(setindex!), ::Observable{Any}, ::Int64) at /Users/eh540/.julia/packages/Observables/qCJWB/src/Observables.jl:87",
      " [11] #setindex! at ./none:0 [inlined]",
      " [12] setexcludinghandlers at /Users/eh540/.julia/packages/Observables/qCJWB/src/Observables.jl:103 [inlined]",
      " [13] set_nosync(::Observable{Any}, ::Int64) at /Users/eh540/.julia/packages/WebIO/2mZPb/src/scope.jl:339",
      " [14] dispatch(::Scope, ::String, ::Int64) at /Users/eh540/.julia/packages/WebIO/2mZPb/src/scope.jl:348",
      " [15] dispatch_command(::WebIO.IJuliaConnection, ::Dict{String,Any}) at /Users/eh540/.julia/packages/WebIO/2mZPb/src/messaging.jl:104",
      " [16] dispatch(::WebIO.IJuliaConnection, ::Dict{String,Any}) at /Users/eh540/.julia/packages/WebIO/2mZPb/src/messaging.jl:81",
      " [17] (::WebIO.var\"#92#93\"{WebIO.IJuliaConnection})(::IJulia.Msg) at /Users/eh540/.julia/packages/WebIO/2mZPb/src/providers/ijulia.jl:21",
      " [18] comm_msg(::ZMQ.Socket, ::IJulia.Msg) at /Users/eh540/.julia/packages/IJulia/fRegO/src/comm_manager.jl:134",
      " [19] #invokelatest#1 at ./essentials.jl:709 [inlined]",
      " [20] invokelatest at ./essentials.jl:708 [inlined]",
      " [21] eventloop(::ZMQ.Socket) at /Users/eh540/.julia/packages/IJulia/fRegO/src/eventloop.jl:8",
      " [22] (::IJulia.var\"#15#18\")() at ./task.jl:333"
     ]
    },
    {
     "name": "stderr",
     "output_type": "stream",
     "text": [
      ", ::Float64\u001b[1m)\u001b[22m at \u001b[1m./In[6]:4\u001b[22m\n",
      " [5] \u001b[1m(::Observables.var\"#16#17\"{var\"#7#8\",Observable{Any}})\u001b[22m\u001b[1m(\u001b[22m::Float64, ::Vararg{Float64,N} where N\u001b[1m)\u001b[22m at \u001b[1m/Users/eh540/.julia/packages/Observables/qCJWB/src/Observables.jl:152\u001b[22m\n",
      " [6] \u001b[1m(::Observables.var\"#g#15\"{Observables.var\"#16#17\"{var\"#7#8\",Observable{Any}},Tuple{Widget{:slider,Float64},Widget{:slider,Float64}}})\u001b[22m\u001b[1m(\u001b[22m::Float64\u001b[1m)\u001b[22m at \u001b[1m/Users/eh540/.julia/packages/Observables/qCJWB/src/Observables.jl:136\u001b[22m\n",
      " [7] \u001b[1m#setindex!#1\u001b[22m\u001b[1m(\u001b[22m::Base.var\"#58#59\"{Base.Fix2{typeof(in),Array{Function,1}}}, ::typeof(setindex!), ::Observable{Float64}, ::Float64\u001b[1m)\u001b[22m at \u001b[1m/Users/eh540/.julia/packages/Observables/qCJWB/src/Observables.jl:87\u001b[22m\n",
      " [8] \u001b[1m(::Base.var\"#kw##setindex!\")\u001b[22m\u001b[1m(\u001b[22m::NamedTuple{(:notify,),Tuple{Base.var\"#58#59\"{Base.Fix2{typeof(in),Array{Function,1}}}}}, ::typeof(setindex!), ::Observable{Float64}, ::Float64\u001b[1m)\u001b[22m at \u001b[1m./none:0\u001b[22m\n",
      " [9] \u001b[1m(::Observables.var\"#25#28\"{InteractBase.var\"#77#80\",Observable{Float64},Array{Function,1}})\u001b[22m\u001b[1m(\u001b[22m::Int64\u001b[1m)\u001b[22m at \u001b[1m/Users/eh540/.julia/packages/Observables/qCJWB/src/observablepair.jl:14\u001b[22m\n",
      " [10] \u001b[1m#setindex!#1\u001b[22m\u001b[1m(\u001b[22m::WebIO.var\"#44#45\", ::typeof(setindex!), ::Observable{Any}, ::Int64\u001b[1m)\u001b[22m at \u001b[1m/Users/eh540/.julia/packages/Observables/qCJWB/src/Observables.jl:87\u001b[22m\n",
      " [11] \u001b[1m#setindex!\u001b[22m at \u001b[1m./none:0\u001b[22m [inlined]\n",
      " [12] \u001b[1msetexcludinghandlers\u001b[22m at \u001b[1m/Users/eh540/.julia/packages/Observables/qCJWB/src/Observables.jl:103\u001b[22m [inlined]\n",
      " [13] \u001b[1mset_nosync\u001b[22m\u001b[1m(\u001b[22m::Observable{Any}, ::Int64\u001b[1m)\u001b[22m at \u001b[1m/Users/eh540/.julia/packages/WebIO/2mZPb/src/scope.jl:339\u001b[22m\n",
      " [14] \u001b[1mdispatch\u001b[22m\u001b[1m(\u001b[22m::Scope, ::String, ::Int64\u001b[1m)\u001b[22m at \u001b[1m/Users/eh540/.julia/packages/WebIO/2mZPb/src/scope.jl:348\u001b[22m\n",
      " [15] \u001b[1mdispatch_command\u001b[22m\u001b[1m(\u001b[22m::WebIO.IJuliaConnection, ::Dict{String,Any}\u001b[1m)\u001b[22m at \u001b[1m/Users/eh540/.julia/packages/WebIO/2mZPb/src/messaging.jl:104\u001b[22m\n",
      " [16] \u001b[1mdispatch\u001b[22m\u001b[1m(\u001b[22m::WebIO.IJuliaConnection, ::Dict{String,Any}\u001b[1m)\u001b[22m at \u001b[1m/Users/eh540/.julia/packages/WebIO/2mZPb/src/messaging.jl:81\u001b[22m\n",
      " [17] \u001b[1m(::WebIO.var\"#92#93\"{WebIO.IJuliaConnection})\u001b[22m\u001b[1m(\u001b[22m::IJulia.Msg\u001b[1m)\u001b[22m at \u001b[1m/Users/eh540/.julia/packages/WebIO/2mZPb/src/providers/ijulia.jl:21\u001b[22m\n",
      " [18] \u001b[1mcomm_msg\u001b[22m\u001b[1m(\u001b[22m::ZMQ.Socket, ::IJulia.Msg\u001b[1m)\u001b[22m at \u001b[1m/Users/eh540/.julia/packages/IJulia/fRegO/src/comm_manager.jl:134\u001b[22m\n",
      " [19] \u001b[1m#invokelatest#1\u001b[22m at \u001b[1m./essentials.jl:709\u001b[22m [inlined]\n",
      " [20] \u001b[1minvokelatest\u001b[22m at \u001b[1m./essentials.jl:708\u001b[22m [inlined]\n",
      " [21] \u001b[1meventloop\u001b[22m\u001b[1m(\u001b[22m::ZMQ.Socket\u001b[1m)\u001b[22m at \u001b[1m/Users/eh540/.julia/packages/IJulia/fRegO/src/eventloop.jl:8\u001b[22m\n",
      " [22] \u001b[1m(::IJulia.var\"#15#18\")\u001b[22m\u001b[1m(\u001b[22m\u001b[1m)\u001b[22m at \u001b[1m./task.jl:333\u001b[22m"
     ]
    },
    {
     "ename": "ErrorException",
     "evalue": "Cannot multiply two expressions of sizes (50, 100) and (4, 1)",
     "output_type": "error",
     "traceback": [
      "KERNEL EXCEPTION",
      "Cannot multiply two expressions of sizes (50, 100) and (4, 1)",
      "",
      "Stacktrace:",
      " [1] error(::String) at ./error.jl:33",
      " [2] MultiplyAtom at /Users/eh540/Dropbox (Personal)/LinkedFolders/Julia/dev/Convex/src/atoms/affine/multiply_divide.jl:28 [inlined]",
      " [3] *(::Array{Float64,2}, ::Variable) at /Users/eh540/Dropbox (Personal)/LinkedFolders/Julia/dev/Convex/src/atoms/affine/multiply_divide.jl:103",
      " [4] (::var\"#7#8\")(::Float64, ::Float64) at ./In[6]:4",
      " [5] (::Observables.var\"#16#17\"{var\"#7#8\",Observable{Any}})(::Float64, ::Vararg{Float64,N} where N) at /Users/eh540/.julia/packages/Observables/qCJWB/src/Observables.jl:152",
      " [6] (::Observables.var\"#g#15\"{Observables.var\"#16#17\"{var\"#7#8\",Observable{Any}},Tuple{Widget{:slider,Float64},Widget{:slider,Float64}}})(::Float64) at /Users/eh540/.julia/packages/Observables/qCJWB/src/Observables.jl:136",
      " [7] #setindex!#1(::Base.var\"#58#59\"{Base.Fix2{typeof(in),Array{Function,1}}}, ::typeof(setindex!), ::Observable{Float64}, ::Float64) at /Users/eh540/.julia/packages/Observables/qCJWB/src/Observables.jl:87",
      " [8] (::Base.var\"#kw##setindex!\")(::NamedTuple{(:notify,),Tuple{Base.var\"#58#59\"{Base.Fix2{typeof(in),Array{Function,1}}}}}, ::typeof(setindex!), ::Observable{Float64}, ::Float64) at ./none:0",
      " [9] (::Observables.var\"#25#28\"{InteractBase.var\"#77#80\",Observable{Float64},Array{Function,1}})(::Int64) at /Users/eh540/.julia/packages/Observables/qCJWB/src/observablepair.jl:14",
      " [10] #setindex!#1(::WebIO.var\"#44#45\", ::typeof(setindex!), ::Observable{Any}, ::Int64) at /Users/eh540/.julia/packages/Observables/qCJWB/src/Observables.jl:87",
      " [11] #setindex! at ./none:0 [inlined]",
      " [12] setexcludinghandlers at /Users/eh540/.julia/packages/Observables/qCJWB/src/Observables.jl:103 [inlined]",
      " [13] set_nosync(::Observable{Any}, ::Int64) at /Users/eh540/.julia/packages/WebIO/2mZPb/src/scope.jl:339",
      " [14] dispatch(::Scope, ::String, ::Int64) at /Users/eh540/.julia/packages/WebIO/2mZPb/src/scope.jl:348",
      " [15] dispatch_command(::WebIO.IJuliaConnection, ::Dict{String,Any}) at /Users/eh540/.julia/packages/WebIO/2mZPb/src/messaging.jl:104",
      " [16] dispatch(::WebIO.IJuliaConnection, ::Dict{String,Any}) at /Users/eh540/.julia/packages/WebIO/2mZPb/src/messaging.jl:81",
      " [17] (::WebIO.var\"#92#93\"{WebIO.IJuliaConnection})(::IJulia.Msg) at /Users/eh540/.julia/packages/WebIO/2mZPb/src/providers/ijulia.jl:21",
      " [18] comm_msg(::ZMQ.Socket, ::IJulia.Msg) at /Users/eh540/.julia/packages/IJulia/fRegO/src/comm_manager.jl:134",
      " [19] #invokelatest#1 at ./essentials.jl:709 [inlined]",
      " [20] invokelatest at ./essentials.jl:708 [inlined]",
      " [21] eventloop(::ZMQ.Socket) at /Users/eh540/.julia/packages/IJulia/fRegO/src/eventloop.jl:8",
      " [22] (::IJulia.var\"#15#18\")() at ./task.jl:333"
     ]
    },
    {
     "name": "stderr",
     "output_type": "stream",
     "text": [
      "Cannot multiply two expressions of sizes (50, 100) and (4, 1)\n",
      "Stacktrace:\n",
      " [1] \u001b[1merror\u001b[22m\u001b[1m(\u001b[22m::String\u001b[1m)\u001b[22m at \u001b[1m./error.jl:33\u001b[22m\n",
      " [2] \u001b[1mMultiplyAtom\u001b[22m at \u001b[1m/Users/eh540/Dropbox (Personal)/LinkedFolders/Julia/dev/Convex/src/atoms/affine/multiply_divide.jl:28\u001b[22m [inlined]\n",
      " [3] \u001b[1m*\u001b[22m\u001b[1m(\u001b[22m::Array{Float64,2}, ::Variable\u001b[1m)\u001b[22m at \u001b[1m/Users/eh540/Dropbox (Personal)/LinkedFolders/Julia/dev/Convex/src/atoms/affine/multiply_divide.jl:103\u001b[22m\n",
      " [4] \u001b[1m(::var\"#7#8\")\u001b[22m\u001b[1m(\u001b[22m::Float64, ::Float64\u001b[1m)\u001b[22m at \u001b[1m./In[6]:4\u001b[22m\n",
      " [5] \u001b[1m(::Observables.var\"#16#17\"{var\"#7#8\",Observable{Any}})\u001b[22m\u001b[1m(\u001b[22m::Float64, ::Vararg{Float64,N} where N\u001b[1m)\u001b[22m at \u001b[1m/Users/eh540/.julia/packages/Observables/qCJWB/src/Observables.jl:152\u001b[22m\n",
      " [6] \u001b[1m(::Observables.var\"#g#15\"{Observables.var\"#16#17\"{var\"#7#8\",Observable{Any}},Tuple{Widget{:slider,Float64},Widget{:slider,Float64}}})\u001b[22m\u001b[1m(\u001b[22m::Float64\u001b[1m)\u001b[22m at \u001b[1m/Users/eh540/.julia/packages/Observables/qCJWB/src/Observables.jl:136\u001b[22m\n",
      " [7] \u001b[1m#setindex!#1\u001b[22m\u001b[1m(\u001b[22m::Base.var\"#58#59\"{Base.Fix2{typeof(in),Array{Function,1}}}, ::typeof(setindex!), ::Observable{Float64}, ::Float64\u001b[1m)\u001b[22m at \u001b[1m/Users/eh540/.julia/packages/Observables/qCJWB/src/Observables.jl:87\u001b[22m\n",
      " [8] \u001b[1m(::Base.var\"#kw##setindex!\")\u001b[22m\u001b[1m(\u001b[22m::NamedTuple{(:notify,),Tuple{Base.var\"#58#59\"{Base.Fix2{typeof(in),Array{Function,1}}}}}, ::typeof(setindex!), ::Observable{Float64}, ::Float64\u001b[1m)\u001b[22m at \u001b[1m./none:0\u001b[22m\n",
      " [9] \u001b[1m(::Observables.var\"#25#28\"{InteractBase.var\"#77#80\",Observable{Float64},Array{Function,1}})\u001b[22m\u001b[1m(\u001b[22m::Int64\u001b[1m)\u001b[22m at \u001b[1m/Users/eh540/.julia/packages/Observables/qCJWB/src/observablepair.jl:14\u001b[22m\n",
      " [10] \u001b[1m#setindex!#1\u001b[22m\u001b[1m(\u001b[22m::WebIO.var\"#44#45\", ::typeof(setindex!), ::Observable{Any}, ::Int64\u001b[1m)\u001b[22m at \u001b[1m/Users/eh540/.julia/packages/Observables/qCJWB/src/Observables.jl:87\u001b[22m\n",
      " [11] \u001b[1m#setindex!\u001b[22m at \u001b[1m./none:0\u001b[22m [inlined]\n",
      " [12] \u001b[1msetexcludinghandlers\u001b[22m at \u001b[1m/Users/eh540/.julia/packages/Observables/qCJWB/src/Observables.jl:103\u001b[22m [inlined]\n",
      " [13] \u001b[1mset_nosync\u001b[22m\u001b[1m(\u001b[22m::Observable{Any}, ::Int64\u001b[1m)\u001b[22m at \u001b[1m/Users/eh540/.julia/packages/WebIO/2mZPb/src/scope.jl:339\u001b[22m\n",
      " [14] \u001b[1mdispatch\u001b[22m\u001b[1m(\u001b[22m::Scope, ::String, ::Int64\u001b[1m)\u001b[22m at \u001b[1m/Users/eh540/.julia/packages/WebIO/2mZPb/src/scope.jl:348\u001b[22m\n",
      " [15] \u001b[1mdispatch_command\u001b[22m\u001b[1m(\u001b[22m::WebIO.IJuliaConnection, ::Dict{String,Any}\u001b[1m)\u001b[22m at \u001b[1m/Users/eh540/.julia/packages/WebIO/2mZPb/src/messaging.jl:104\u001b[22m\n",
      " [16] \u001b[1mdispatch\u001b[22m\u001b[1m(\u001b[22m::WebIO.IJuliaConnection, ::Dict{String,Any}\u001b[1m)\u001b[22m at \u001b[1m/Users/eh540/.julia/packages/WebIO/2mZPb/src/messaging.jl:81\u001b[22m\n",
      " [17] \u001b[1m(::WebIO.var\"#92#93\"{WebIO.IJuliaConnection})\u001b[22m\u001b[1m(\u001b[22m::IJulia.Msg\u001b[1m)\u001b[22m at \u001b[1m/Users/eh540/.julia/packages/WebIO/2mZPb/src/providers/ijulia.jl:21\u001b[22m\n",
      " [18] \u001b[1mcomm_msg\u001b[22m\u001b[1m(\u001b[22m::ZMQ.Socket, ::IJulia.Msg\u001b[1m)\u001b[22m at \u001b[1m/Users/eh540/.julia/packages/IJulia/fRegO/src/comm_manager.jl:134\u001b[22m\n",
      " [19] \u001b[1m#invokelatest#1\u001b[22m at \u001b[1m./essentials.jl:709\u001b[22m [inlined]\n",
      " [20] \u001b[1minvokelatest\u001b[22m at \u001b[1m./essentials.jl:708\u001b[22m [inlined]\n",
      " [21] \u001b[1meventloop\u001b[22m\u001b[1m(\u001b[22m::ZMQ.Socket\u001b[1m)\u001b[22m at \u001b[1m/Users/eh540/.julia/packages/IJulia/fRegO/src/eventloop.jl:8\u001b[22m\n",
      " [22] \u001b[1m(::IJulia.var\"#15#18\")\u001b[22m\u001b[1m(\u001b[22m\u001b[1m)\u001b[22m at \u001b[1m./task.jl:333\u001b[22mCannot multiply two expressions of sizes (50, 100) and (4, 1)\n",
      "Stacktrace:\n",
      " [1] \u001b[1merror\u001b[22m\u001b[1m(\u001b[22m::String\u001b[1m)\u001b[22m at \u001b[1m./error.jl:33\u001b[22m\n",
      " [2] \u001b[1mMultiplyAtom\u001b[22m at \u001b[1m/Users/eh540/Dropbox (Personal)/LinkedFolders/Julia/dev/Convex/src/atoms/affine/multiply_divide.jl:28\u001b[22m [inlined]\n",
      " [3] \u001b[1m*\u001b[22m\u001b[1m(\u001b[22m::Array{Float64,2}, ::Variable\u001b[1m)\u001b[22m at \u001b[1m/Users/eh540/Dropbox (Personal)/LinkedFolders/Julia/dev/Convex/src/atoms/affine/multiply_divide.jl:103\u001b[22m\n",
      " [4] \u001b[1m(::var\"#7#8\")\u001b[22m\u001b[1m(\u001b[22m::Float64, ::Float64\u001b[1m)\u001b[22m at \u001b[1m./In[6]:4\u001b[22m\n",
      " [5] \u001b[1m(::Observables.var\"#16#17\"{var\"#7#8\",Observable{Any}})\u001b[22m\u001b[1m(\u001b[22m::Float64, ::Vararg{Float64,N} where N\u001b[1m)\u001b[22m at \u001b[1m/Users/eh540/.julia/packages/Observables/qCJWB/src/Observables.jl:152\u001b[22m\n",
      " [6] \u001b[1m(::Observables.var\"#g#15\"{Observables.var\"#16#17\"{var\"#7#8\",Observable{Any}},Tuple{Widget{:slider,Float64},Widget{:slider,Float64}}})\u001b[22m\u001b[1m(\u001b[22m::Float64\u001b[1m)\u001b[22m at \u001b[1m/Users/eh540/.julia/packages/Observables/qCJWB/src/Observables.jl:136\u001b[22m\n",
      " [7] \u001b[1m#setindex!#1\u001b[22m\u001b[1m(\u001b[22m::Base.var\"#58#59\"{Base.Fix2{typeof(in),Array{Function,1}}}, ::typeof(setindex!), ::Observable{Float64}, ::Float64\u001b[1m)\u001b[22m at \u001b[1m/Users/eh540/.julia/packages/Observables/qCJWB/src/Observables.jl:87\u001b[22m\n",
      " [8] \u001b[1m(::Base.var\"#kw##setindex!\")\u001b[22m\u001b[1m(\u001b[22m::NamedTuple{(:notify,),Tuple{Base.var\"#58#59\"{Base.Fix2{typeof(in),Array{Function,1}}}}}, ::typeof(setindex!), ::Observable{Float64}, ::Float64\u001b[1m)\u001b[22m at \u001b[1m./none:0\u001b[22m\n",
      " [9] \u001b[1m(::Observables.var\"#25#28\"{InteractBase.var\"#77#80\",Observable{Float64},Array{Function,1}})\u001b[22m\u001b[1m(\u001b[22m::Int64\u001b[1m)\u001b[22m at \u001b[1m/Users/eh540/.julia/packages/Observables/qCJWB/src/observablepair.jl:14\u001b[22m\n",
      " [10] \u001b[1m#setindex!#1\u001b[22m\u001b[1m(\u001b[22m::WebIO.var\"#44#45\", ::typeof(setindex!), ::Observable{Any}, ::Int64\u001b[1m)\u001b[22m at \u001b[1m/Users/eh540/.julia/packages/Observables/qCJWB/src/Observables.jl:87\u001b[22m\n",
      " [11] \u001b[1m#setindex!\u001b[22m at \u001b[1m./none:0\u001b[22m [inlined]\n",
      " [12] \u001b[1msetexcludinghandlers\u001b[22m at \u001b[1m/Users/eh540/.julia/packages/Observables/qCJWB/src/Observables.jl:103\u001b[22m [inlined]\n",
      " [13] \u001b[1mset_nosync\u001b[22m\u001b[1m(\u001b[22m::Observable{Any}, ::Int64\u001b[1m)\u001b[22m at \u001b[1m/Users/eh540/.julia/packages/WebIO/2mZPb/src/scope.jl:339\u001b[22m\n",
      " [14] \u001b[1mdispatch\u001b[22m\u001b[1m(\u001b[22m::Scope, ::String, ::Int64\u001b[1m)\u001b[22m at \u001b[1m/Users/eh540/.julia/packages/WebIO/2mZPb/src/scope.jl:348\u001b[22m\n",
      " [15] \u001b[1mdispatch_command\u001b[22m\u001b[1m(\u001b[22m::WebIO.IJuliaConnection, ::Dict{String,Any}\u001b[1m)\u001b[22m at \u001b[1m/Users/eh540/.julia/packages/WebIO/2mZPb/src/messaging.jl:104\u001b[22m\n",
      " [16] \u001b[1mdispatch\u001b[22m\u001b[1m(\u001b[22m::WebIO.IJuliaConnection, ::Dict{String,Any}\u001b[1m)\u001b[22m at \u001b[1m/Users/eh540/.julia/packages/WebIO/2mZPb/src/messaging.jl:81\u001b[22m\n",
      " [17] \u001b[1m(::WebIO.var\"#92#93\"{WebIO.IJuliaConnection})\u001b[22m\u001b[1m(\u001b[22m::IJulia.Msg\u001b[1m)\u001b[22m at \u001b[1m/Users/eh540/.julia/packages/WebIO/2mZPb/src/providers/ijulia.jl:21\u001b[22m\n",
      " [18] \u001b[1mcomm_msg\u001b[22m\u001b[1m(\u001b[22m::ZMQ.Socket, ::IJulia.Msg\u001b[1m)\u001b[22m at \u001b[1m/Users/eh540/.julia/packages/IJulia/fRegO/src/comm_manager.jl:134\u001b[22m\n",
      " [19] \u001b[1m#invokelatest#1\u001b[22m at \u001b[1m./essentials.jl:709\u001b[22m [inlined]\n",
      " [20] \u001b[1minvokelatest\u001b[22m at \u001b[1m./essentials.jl:708\u001b[22m [inlined]\n",
      " [21] \u001b[1meventloop\u001b[22m\u001b[1m(\u001b[22m::ZMQ.Socket\u001b[1m)\u001b[22m at \u001b[1m/Users/eh540/.julia/packages/IJulia/fRegO/src/eventloop.jl:8\u001b[22m\n",
      " [22] \u001b[1m(::IJulia.var\"#15#18\")\u001b[22m\u001b[1m(\u001b[22m\u001b[1m)\u001b[22m at \u001b[1m./task.jl:333\u001b[22m"
     ]
    },
    {
     "ename": "ErrorException",
     "evalue": "Cannot multiply two expressions of sizes (50, 100) and (4, 1)",
     "output_type": "error",
     "traceback": [
      "KERNEL EXCEPTION",
      "Cannot multiply two expressions of sizes (50, 100) and (4, 1)",
      "",
      "Stacktrace:",
      " [1] error(::String) at ./error.jl:33",
      " [2] MultiplyAtom at /Users/eh540/Dropbox (Personal)/LinkedFolders/Julia/dev/Convex/src/atoms/affine/multiply_divide.jl:28 [inlined]",
      " [3] *(::Array{Float64,2}, ::Variable) at /Users/eh540/Dropbox (Personal)/LinkedFolders/Julia/dev/Convex/src/atoms/affine/multiply_divide.jl:103",
      " [4] (::var\"#7#8\")(::Float64, ::Float64) at ./In[6]:4",
      " [5] (::Observables.var\"#16#17\"{var\"#7#8\",Observable{Any}})(::Float64, ::Vararg{Float64,N} where N) at /Users/eh540/.julia/packages/Observables/qCJWB/src/Observables.jl:152",
      " [6] (::Observables.var\"#g#15\"{Observables.var\"#16#17\"{var\"#7#8\",Observable{Any}},Tuple{Widget{:slider,Float64},Widget{:slider,Float64}}})(::Float64) at /Users/eh540/.julia/packages/Observables/qCJWB/src/Observables.jl:136",
      " [7] #setindex!#1(::Base.var\"#58#59\"{Base.Fix2{typeof(in),Array{Function,1}}}, ::typeof(setindex!), ::Observable{Float64}, ::Float64) at /Users/eh540/.julia/packages/Observables/qCJWB/src/Observables.jl:87",
      " [8] (::Base.var\"#kw##setindex!\")(::NamedTuple{(:notify,),Tuple{Base.var\"#58#59\"{Base.Fix2{typeof(in),Array{Function,1}}}}}, ::typeof(setindex!), ::Observable{Float64}, ::Float64) at ./none:0",
      " [9] (::Observables.var\"#25#28\"{InteractBase.var\"#77#80\",Observable{Float64},Array{Function,1}})(::Int64) at /Users/eh540/.julia/packages/Observables/qCJWB/src/observablepair.jl:14",
      " [10] #setindex!#1(::WebIO.var\"#44#45\", ::typeof(setindex!), ::Observable{Any}, ::Int64) at /Users/eh540/.julia/packages/Observables/qCJWB/src/Observables.jl:87",
      " [11] #setindex! at ./none:0 [inlined]",
      " [12] setexcludinghandlers at /Users/eh540/.julia/packages/Observables/qCJWB/src/Observables.jl:103 [inlined]",
      " [13] set_nosync(::Observable{Any}, ::Int64) at /Users/eh540/.julia/packages/WebIO/2mZPb/src/scope.jl:339",
      " [14] dispatch(::Scope, ::String, ::Int64) at /Users/eh540/.julia/packages/WebIO/2mZPb/src/scope.jl:348",
      " [15] dispatch_command(::WebIO.IJuliaConnection, ::Dict{String,Any}) at /Users/eh540/.julia/packages/WebIO/2mZPb/src/messaging.jl:104",
      " [16] dispatch(::WebIO.IJuliaConnection, ::Dict{String,Any}) at /Users/eh540/.julia/packages/WebIO/2mZPb/src/messaging.jl:81",
      " [17] (::WebIO.var\"#92#93\"{WebIO.IJuliaConnection})(::IJulia.Msg) at /Users/eh540/.julia/packages/WebIO/2mZPb/src/providers/ijulia.jl:21",
      " [18] comm_msg(::ZMQ.Socket, ::IJulia.Msg) at /Users/eh540/.julia/packages/IJulia/fRegO/src/comm_manager.jl:134",
      " [19] #invokelatest#1 at ./essentials.jl:709 [inlined]",
      " [20] invokelatest at ./essentials.jl:708 [inlined]",
      " [21] eventloop(::ZMQ.Socket) at /Users/eh540/.julia/packages/IJulia/fRegO/src/eventloop.jl:8",
      " [22] (::IJulia.var\"#15#18\")() at ./task.jl:333"
     ]
    },
    {
     "name": "stderr",
     "output_type": "stream",
     "text": [
      "Cannot multiply two expressions of sizes (50, 100) and (4, 1)\n",
      "Stacktrace:\n",
      " [1] \u001b[1merror\u001b[22m\u001b[1m(\u001b[22m::String\u001b[1m)\u001b[22m at \u001b[1m./error.jl:33\u001b[22m\n",
      " [2] \u001b[1mMultiplyAtom\u001b[22m at \u001b[1m/Users/eh540/Dropbox (Personal)/LinkedFolders/Julia/dev/Convex/src/atoms/affine/multiply_divide.jl:28\u001b[22m [inlined]\n",
      " [3] \u001b[1m*\u001b[22m\u001b[1m(\u001b[22m::Array{Float64,2}, ::Variable\u001b[1m)\u001b[22m at \u001b[1m/Users/eh540/Dropbox (Personal)/LinkedFolders/Julia/dev/Convex/src/atoms/affine/multiply_divide.jl:103\u001b[22m\n",
      " [4] \u001b[1m(::var\"#7#8\")\u001b[22m\u001b[1m(\u001b[22m::Float64, ::Float64\u001b[1m)\u001b[22m at \u001b[1m./In[6]:4\u001b[22m\n",
      " [5] \u001b[1m(::Observables.var\"#16#17\"{var\"#7#8\",Observable{Any}})\u001b[22m\u001b[1m(\u001b[22m::Float64, ::Vararg{Float64,N} where N\u001b[1m)\u001b[22m at \u001b[1m/Users/eh540/.julia/packages/Observables/qCJWB/src/Observables.jl:152\u001b[22m\n",
      " [6] \u001b[1m(::Observables.var\"#g#15\"{Observables.var\"#16#17\"{var\"#7#8\",Observable{Any}},Tuple{Widget{:slider,Float64},Widget{:slider,Float64}}})\u001b[22m\u001b[1m(\u001b[22m::Float64\u001b[1m)\u001b[22m at \u001b[1m/Users/eh540/.julia/packages/Observables/qCJWB/src/Observables.jl:136\u001b[22m\n",
      " [7] \u001b[1m#setindex!#1\u001b[22m\u001b[1m(\u001b[22m::Base.var\"#58#59\"{Base.Fix2{typeof(in),Array{Function,1}}}, ::typeof(setindex!), ::Observable{Float64}, ::Float64\u001b[1m)\u001b[22m at \u001b[1m/Users/eh540/.julia/packages/Observables/qCJWB/src/Observables.jl:87\u001b[22m\n",
      " [8] \u001b[1m(::Base.var\"#kw##setindex!\")\u001b[22m\u001b[1m(\u001b[22m::NamedTuple{(:notify,),Tuple{Base.var\"#58#59\"{Base.Fix2{typeof(in),Array{Function,1}}}}}, ::typeof(setindex!), ::Observable{Float64}, ::Float64\u001b[1m)\u001b[22m at \u001b[1m./none:0\u001b[22m\n",
      " [9] \u001b[1m(::Observables.var\"#25#28\"{InteractBase.var\"#77#80\",Observable{Float64},Array{Function,1}})\u001b[22m\u001b[1m(\u001b[22m::Int64\u001b[1m)\u001b[22m at \u001b[1m/Users/eh540/.julia/packages/Observables/qCJWB/src/observablepair.jl:14\u001b[22m\n",
      " [10] \u001b[1m#setindex!#1\u001b[22m\u001b[1m(\u001b[22m::WebIO.var\"#44#45\", ::typeof(setindex!), ::Observable{Any}, ::Int64\u001b[1m)\u001b[22m at \u001b[1m/Users/eh540/.julia/packages/Observables/qCJWB/src/Observables.jl:87\u001b[22m\n",
      " [11] \u001b[1m#setindex!\u001b[22m at \u001b[1m./none:0\u001b[22m [inlined]\n",
      " [12] \u001b[1msetexcludinghandlers\u001b[22m at \u001b[1m/Users/eh540/.julia/packages/Observables/qCJWB/src/Observables.jl:103\u001b[22m [inlined]\n",
      " [13] \u001b[1mset_nosync\u001b[22m\u001b[1m(\u001b[22m::Observable{Any}, ::Int64\u001b[1m)\u001b[22m at \u001b[1m/Users/eh540/.julia/packages/WebIO/2mZPb/src/scope.jl:339\u001b[22m\n",
      " [14] \u001b[1mdispatch\u001b[22m\u001b[1m(\u001b[22m::Scope, ::String, ::Int64\u001b[1m)\u001b[22m at \u001b[1m/Users/eh540/.julia/packages/WebIO/2mZPb/src/scope.jl:348\u001b[22m\n",
      " [15] \u001b[1mdispatch_command\u001b[22m\u001b[1m(\u001b[22m::WebIO.IJuliaConnection, ::Dict{String,Any}\u001b[1m)\u001b[22m at \u001b[1m/Users/eh540/.julia/packages/WebIO/2mZPb/src/messaging.jl:104\u001b[22m\n",
      " [16] \u001b[1mdispatch\u001b[22m\u001b[1m(\u001b[22m::WebIO.IJuliaConnection, ::Dict{String,Any}\u001b[1m)\u001b[22m at \u001b[1m/Users/eh540/.julia/packages/WebIO/2mZPb/src/messaging.jl:81\u001b[22m\n",
      " [17] \u001b[1m(::WebIO.var\"#92#93\"{WebIO.IJuliaConnection})\u001b[22m\u001b[1m(\u001b[22m::IJulia.Msg\u001b[1m)\u001b[22m at \u001b[1m/Users/eh540/.julia/packages/WebIO/2mZPb/src/providers/ijulia.jl:21\u001b[22m\n",
      " [18] \u001b[1mcomm_msg\u001b[22m\u001b[1m(\u001b[22m::ZMQ.Socket, ::IJulia.Msg\u001b[1m)\u001b[22m at \u001b[1m/Users/eh540/.julia/packages/IJulia/fRegO/src/comm_manager.jl:134\u001b[22m\n",
      " [19] \u001b[1m#invokelatest#1\u001b[22m at \u001b[1m./essentials.jl:709\u001b[22m [inlined]\n",
      " [20] \u001b[1minvokelatest\u001b[22m at \u001b[1m./essentials.jl:708\u001b[22m [inlined]\n",
      " [21] \u001b[1meventloop\u001b[22m\u001b[1m(\u001b[22m::ZMQ.Socket\u001b[1m)\u001b[22m at \u001b[1m/Users/eh540/.julia/packages/IJulia/fRegO/src/eventloop.jl:8\u001b[22m\n",
      " [22] \u001b[1m(::IJulia.var\"#15#18\")\u001b[22m\u001b[1m(\u001b[22m\u001b[1m)\u001b[22m at \u001b[1m./task.jl:333\u001b[22mCannot multiply two expressions of sizes (50, 100) and (4, 1)\n",
      "Stacktrace:\n",
      " [1] \u001b[1merror\u001b[22m\u001b[1m(\u001b[22m::String\u001b[1m)\u001b[22m at \u001b[1m./error.jl:33\u001b[22m\n",
      " [2] \u001b[1mMultiplyAtom\u001b[22m at \u001b[1m/Users/eh540/Dropbox (Personal)/LinkedFolders/Julia/dev/Convex/src/atoms/affine/multiply_divide.jl:28\u001b[22m [inlined]\n",
      " [3] \u001b[1m*\u001b[22m\u001b[1m(\u001b[22m::Array{Float64,2}, ::Variable\u001b[1m)\u001b[22m at \u001b[1m/Users/eh540/Dropbox (Personal)/LinkedFolders/Julia/dev/Convex/src/atoms/affine/multiply_divide.jl:103\u001b[22m\n",
      " [4] \u001b[1m(::var\"#7#8\")\u001b[22m\u001b[1m(\u001b[22m::Float64, ::Float64\u001b[1m)\u001b[22m at \u001b[1m./In[6]:4\u001b[22m\n",
      " [5] \u001b[1m(::Observables.var\"#16#17\"{var\"#7#8\",Observable{Any}})\u001b[22m\u001b[1m(\u001b[22m::Float64, ::Vararg{Float64,N} where N\u001b[1m)\u001b[22m at \u001b[1m/Users/eh540/.julia/packages/Observables/qCJWB/src/Observables.jl:152\u001b[22m\n",
      " [6] \u001b[1m(::Observables.var\"#g#15\"{Observables.var\"#16#17\"{var\"#7#8\",Observable{Any}},Tuple{Widget{:slider,Float64},Widget{:slider,Float64}}})\u001b[22m\u001b[1m(\u001b[22m::Float64\u001b[1m)\u001b[22m at \u001b[1m/Users/eh540/.julia/packages/Observables/qCJWB/src/Observables.jl:136\u001b[22m\n",
      " [7] \u001b[1m#setindex!#1\u001b[22m\u001b[1m(\u001b[22m::Base.var\"#58#59\"{Base.Fix2{typeof(in),Array{Function,1}}}, ::typeof(setindex!), ::Observable{Float64}, ::Float64\u001b[1m)\u001b[22m at \u001b[1m/Users/eh540/.julia/packages/Observables/qCJWB/src/Observables.jl:87\u001b[22m\n",
      " [8] \u001b[1m(::Base.var\"#kw##setindex!\")\u001b[22m\u001b[1m(\u001b[22m::NamedTuple{(:notify,),Tuple{Base.var\"#58#59\"{Base.Fix2{typeof(in),Array{Function,1}}}}}, ::typeof(setindex!), ::Observable{Float64}, ::Float64\u001b[1m)\u001b[22m at \u001b[1m./none:0\u001b[22m\n",
      " [9] \u001b[1m(::Observables.var\"#25#28\"{InteractBase.var\"#77#80\",Observable{Float64},Array{Function,1}})\u001b[22m\u001b[1m(\u001b[22m::Int64\u001b[1m)\u001b[22m at \u001b[1m/Users/eh540/.julia/packages/Observables/qCJWB/src/observablepair.jl:14\u001b[22m\n",
      " [10] \u001b[1m#setindex!#1\u001b[22m\u001b[1m(\u001b[22m::WebIO.var\"#44#45\", ::typeof(setindex!), ::Observable{Any}, ::Int64\u001b[1m)\u001b[22m at \u001b[1m/Users/eh540/.julia/packages/Observables/qCJWB/src/Observables.jl:87\u001b[22m\n",
      " [11] \u001b[1m#setindex!\u001b[22m at \u001b[1m./none:0\u001b[22m [inlined]\n",
      " [12] \u001b[1msetexcludinghandlers\u001b[22m at \u001b[1m/Users/eh540/.julia/packages/Observables/qCJWB/src/Observables.jl:103\u001b[22m [inlined]\n",
      " [13] \u001b[1mset_nosync\u001b[22m\u001b[1m(\u001b[22m::Observable{Any}, ::Int64\u001b[1m)\u001b[22m at \u001b[1m/Users/eh540/.julia/packages/WebIO/2mZPb/src/scope.jl:339\u001b[22m\n",
      " [14] \u001b[1mdispatch\u001b[22m\u001b[1m(\u001b[22m::Scope, ::String, ::Int64\u001b[1m)\u001b[22m at \u001b[1m/Users/eh540/.julia/packages/WebIO/2mZPb/src/scope.jl:348\u001b[22m\n",
      " [15] \u001b[1mdispatch_command\u001b[22m\u001b[1m(\u001b[22m::WebIO.IJuliaConnection, ::Dict{String,Any}\u001b[1m)\u001b[22m at \u001b[1m/Users/eh540/.julia/packages/WebIO/2mZPb/src/messaging.jl:104\u001b[22m\n",
      " [16] \u001b[1mdispatch\u001b[22m\u001b[1m(\u001b[22m::WebIO.IJuliaConnection, ::Dict{String,Any}\u001b[1m)\u001b[22m at \u001b[1m/Users/eh540/.julia/packages/WebIO/2mZPb/src/messaging.jl:81\u001b[22m\n",
      " [17] \u001b[1m(::WebIO.var\"#92#93\"{WebIO.IJuliaConnection})\u001b[22m\u001b[1m(\u001b[22m::IJulia.Msg\u001b[1m)\u001b[22m at \u001b[1m/Users/eh540/.julia/packages/WebIO/2mZPb/src/providers/ijulia.jl:21\u001b[22m\n",
      " [18] \u001b[1mcomm_msg\u001b[22m\u001b[1m(\u001b[22m::ZMQ.Socket, ::IJulia.Msg\u001b[1m)\u001b[22m at \u001b[1m/Users/eh540/.julia/packages/IJulia/fRegO/src/comm_manager.jl:134\u001b[22m\n",
      " [19] \u001b[1m#invokelatest#1\u001b[22m at \u001b[1m./essentials.jl:709\u001b[22m [inlined]\n",
      " [20] \u001b[1minvokelatest\u001b[22m at \u001b[1m./essentials.jl:708\u001b[22m [inlined]\n",
      " [21] \u001b[1meventloop\u001b[22m\u001b[1m(\u001b[22m::ZMQ.Socket\u001b[1m)\u001b[22m at \u001b[1m/Users/eh540/.julia/packages/IJulia/fRegO/src/eventloop.jl:8\u001b[22m\n",
      " [22] \u001b[1m(::IJulia.var\"#15#18\")\u001b[22m\u001b[1m(\u001b[22m\u001b[1m)\u001b[22m at \u001b[1m./task.jl:333\u001b[22mCannot multiply two expressions of sizes (50, 100) and (4, 1)\n",
      "Stacktrace:\n",
      " [1] \u001b[1merror\u001b[22m\u001b[1m(\u001b[22m::String\u001b[1m)\u001b[22m at \u001b[1m./error.jl:33\u001b[22m\n",
      " [2] \u001b[1mMultiplyAtom\u001b[22m at \u001b[1m/Users/eh540/Dropbox (Personal)/LinkedFolders/Julia/dev/Convex/src/atoms/affine/multiply_divide.jl:28\u001b[22m [inlined]\n",
      " [3] \u001b[1m*\u001b[22m\u001b[1m(\u001b[22m::Array{Float64,2}, ::Variable\u001b[1m)\u001b[22m at \u001b[1m/Users/eh540/Dropbox (Personal)/LinkedFolders/Julia/dev/Convex/src/atoms/affine/multiply_divide.jl:103\u001b[22m\n",
      " [4] \u001b[1m(::var\"#7#8\")\u001b[22m\u001b[1m(\u001b[22m::Float64, ::Float64\u001b[1m)\u001b[22m at \u001b[1m./In[6]:4\u001b[22m\n",
      " [5] \u001b[1m(::Observables.var\"#16#17\"{var\"#7#8\",Observable{Any}})\u001b[22m\u001b[1m(\u001b[22m::Float64, ::Vararg{Float64,N} where N\u001b[1m)\u001b[22m at \u001b[1m/Users/eh540/.julia/packages/Observables/qCJWB/src/Observables.jl:152\u001b[22m\n",
      " [6] \u001b[1m(::Observables.var\"#g#15\"{Observables.var\"#16#17\"{var\"#7#8\",Observable{Any}},Tuple{Widget{:slider,Float64},Widget{:slider,Float64}}})\u001b[22m\u001b[1m(\u001b[22m::Float64\u001b[1m)\u001b[22m at \u001b[1m/Users/eh540/.julia/packages/Observables/qCJWB/src/Observables.jl:136\u001b[22m\n",
      " [7] \u001b[1m#setindex!#1\u001b[22m\u001b[1m(\u001b[22m::Base.var\"#58#59\"{Base.Fix2{typeof(in),Array{Function,1}}}, ::typeof(setindex!), ::Observable{Float64}, ::Float64\u001b[1m)\u001b[22m at \u001b[1m/Users/eh540/.julia/packages/Observables/qCJWB/src/Observables.jl:87\u001b[22m\n",
      " [8] \u001b[1m(::Base.var\"#kw##setindex!\")\u001b[22m\u001b[1m(\u001b[22m::NamedTuple{(:notify,),Tuple{Base.var\"#58#59\"{Base.Fix2{typeof(in),Array{Function,1}}}}}, ::typeof(setindex!), ::Observable{Float64}, ::Float64\u001b[1m)\u001b[22m at \u001b[1m./none:0\u001b[22m\n",
      " [9] \u001b[1m(::Observables.var\"#25#28\"{InteractBase.var\"#77#80\",Observable{Float64},Array{Function,1}})\u001b[22m\u001b[1m(\u001b[22m::Int64\u001b[1m)\u001b[22m at \u001b[1m/Users/eh540/.julia/packages/Observables/qCJWB/src/observablepair.jl:14\u001b[22m\n",
      " [10] \u001b[1m#setindex!#1\u001b[22m\u001b[1m(\u001b[22m::WebIO.var\"#44#45\", ::typeof(setindex!), ::Observable{Any}, ::Int64\u001b[1m)\u001b[22m at \u001b[1m/Users/eh540/.julia/packages/Observables/qCJWB/src/Observables.jl:87\u001b[22m\n",
      " [11] \u001b[1m#setindex!\u001b[22m at \u001b[1m./none:0\u001b[22m [inlined]\n",
      " [12] \u001b[1msetexcludinghandlers\u001b[22m at \u001b[1m/Users/eh540/.julia/packages/Observables/qCJWB/src/Observables.jl:103\u001b[22m [inlined]\n",
      " [13] \u001b[1mset_nosync\u001b[22m\u001b[1m(\u001b[22m::Observable{Any}, ::Int64\u001b[1m)\u001b[22m at \u001b[1m/Users/eh540/.julia/packages/WebIO/2mZPb/src/scope.jl:339\u001b[22m\n",
      " [14] \u001b[1mdispatch\u001b[22m\u001b[1m(\u001b[22m::Scope, ::String, ::Int64\u001b[1m)\u001b[22m at \u001b[1m/Users/eh540/.julia/packages/WebIO/2mZPb/src/scope.jl:348\u001b[22m\n",
      " [15] \u001b[1mdispatch_command\u001b[22m\u001b[1m(\u001b[22m::WebIO.IJuliaConnection, ::Dict{String,Any}\u001b[1m)\u001b[22m at \u001b[1m/Users/eh540/.julia/packages/WebIO/2mZPb/src/messaging.jl:104\u001b[22m\n",
      " [16] \u001b[1mdispatch\u001b[22m\u001b[1m(\u001b[22m::WebIO.IJuliaConnection, ::Dict{String,Any}\u001b[1m)\u001b[22m at \u001b[1m/Users/eh540/.julia/packages/WebIO/2mZPb/src/messaging.jl:81\u001b[22m\n",
      " [17] \u001b[1m(::WebIO.var\"#92#93\"{WebIO.IJuliaConnection})\u001b[22m\u001b[1m(\u001b[22m::IJulia.Msg\u001b[1m)\u001b[22m at \u001b[1m/Users/eh540/.julia/packages/WebIO/2mZPb/src/providers/ijulia.jl:21\u001b[22m\n",
      " [18] \u001b[1mcomm_msg\u001b[22m\u001b[1m(\u001b[22m::ZMQ.Socket, ::IJulia.Msg\u001b[1m)\u001b[22m at \u001b[1m/Users/eh540/.julia/packages/IJulia/fRegO/src/comm_manager.jl:134\u001b[22m\n",
      " [19] \u001b[1m#invokelatest#1\u001b[22m at \u001b[1m./essentials.jl:709\u001b[22m [inlined]\n",
      " [20] \u001b[1minvokelatest\u001b[22m at \u001b[1m./essentials.jl:708\u001b[22m [inlined]\n",
      " [21] \u001b[1meventloop\u001b[22m\u001b[1m(\u001b[22m::ZMQ.Socket\u001b[1m)\u001b[22m at \u001b[1m/Users/eh540/.julia/packages/IJulia/fRegO/src/eventloop.jl:8\u001b[22m\n",
      " [22] \u001b[1m(::IJulia.var\"#15#18\")\u001b[22m\u001b[1m(\u001b[22m\u001b[1m)\u001b[22m at \u001b[1m./task.jl:333\u001b[22mCannot multiply two expressions of sizes (50, 100) and (4, 1)\n",
      "Stacktrace:\n",
      " [1] \u001b[1merror\u001b[22m\u001b[1m(\u001b[22m::String\u001b[1m)\u001b[22m at \u001b[1m./error.jl:33\u001b[22m\n",
      " [2] \u001b[1mMultiplyAtom\u001b[22m at \u001b[1m/Users/eh540/Dropbox (Personal)/LinkedFolders/Julia/dev/Convex/src/atoms/affine/multiply_divide.jl:28\u001b[22m [inlined]\n",
      " [3] \u001b[1m*\u001b[22m\u001b[1m(\u001b[22m::Array{Float64,2}, ::Variable\u001b[1m)\u001b[22m at \u001b[1m/Users/eh540/Dropbox (Personal)/LinkedFolders/Julia/dev/Convex/src/atoms/affine/multiply_divide.jl:103\u001b[22m\n",
      " [4] \u001b[1m(::var\"#7#8\")\u001b[22m\u001b[1m(\u001b[22m::Float64, ::Float64\u001b[1m)\u001b[22m at \u001b[1m./In[6]:4\u001b[22m\n",
      " [5] \u001b[1m(::Observables.var\"#16#17\"{var\"#7#8\",Observable{Any}})\u001b[22m\u001b[1m(\u001b[22m::Float64, ::Vararg{Float64,N} where N\u001b[1m)\u001b[22m at \u001b[1m/Users/eh540/.julia/packages/Observables/qCJWB/src/Observables.jl:152\u001b[22m\n",
      " [6] \u001b[1m(::Observables.var\"#g#15\"{Observables.var\"#16#17\"{var\"#7#8\",Observable{Any}},Tuple{Widget{:slider,Float64},Widget{:slider,Float64}}})\u001b[22m\u001b[1m(\u001b[22m::Float64\u001b[1m)\u001b[22m at \u001b[1m/Users/eh540/.julia/packages/Observables/qCJWB/src/Observables.jl:136\u001b[22m\n",
      " [7] \u001b[1m#setindex!#1\u001b[22m\u001b[1m(\u001b[22m::Base.var\"#58#59\"{Base.Fix2{typeof(in),Array{Function,1}}}, ::typeof(setindex!"
     ]
    },
    {
     "ename": "ErrorException",
     "evalue": "Cannot multiply two expressions of sizes (50, 100) and (4, 1)",
     "output_type": "error",
     "traceback": [
      "KERNEL EXCEPTION",
      "Cannot multiply two expressions of sizes (50, 100) and (4, 1)",
      "",
      "Stacktrace:",
      " [1] error(::String) at ./error.jl:33",
      " [2] MultiplyAtom at /Users/eh540/Dropbox (Personal)/LinkedFolders/Julia/dev/Convex/src/atoms/affine/multiply_divide.jl:28 [inlined]",
      " [3] *(::Array{Float64,2}, ::Variable) at /Users/eh540/Dropbox (Personal)/LinkedFolders/Julia/dev/Convex/src/atoms/affine/multiply_divide.jl:103",
      " [4] (::var\"#7#8\")(::Float64, ::Float64) at ./In[6]:4",
      " [5] (::Observables.var\"#16#17\"{var\"#7#8\",Observable{Any}})(::Float64, ::Vararg{Float64,N} where N) at /Users/eh540/.julia/packages/Observables/qCJWB/src/Observables.jl:152",
      " [6] (::Observables.var\"#g#15\"{Observables.var\"#16#17\"{var\"#7#8\",Observable{Any}},Tuple{Widget{:slider,Float64},Widget{:slider,Float64}}})(::Float64) at /Users/eh540/.julia/packages/Observables/qCJWB/src/Observables.jl:136",
      " [7] #setindex!#1(::Base.var\"#58#59\"{Base.Fix2{typeof(in),Array{Function,1}}}, ::typeof(setindex!), ::Observable{Float64}, ::Float64) at /Users/eh540/.julia/packages/Observables/qCJWB/src/Observables.jl:87",
      " [8] (::Base.var\"#kw##setindex!\")(::NamedTuple{(:notify,),Tuple{Base.var\"#58#59\"{Base.Fix2{typeof(in),Array{Function,1}}}}}, ::typeof(setindex!), ::Observable{Float64}, ::Float64) at ./none:0",
      " [9] (::Observables.var\"#25#28\"{InteractBase.var\"#77#80\",Observable{Float64},Array{Function,1}})(::Int64) at /Users/eh540/.julia/packages/Observables/qCJWB/src/observablepair.jl:14",
      " [10] #setindex!#1(::WebIO.var\"#44#45\", ::typeof(setindex!), ::Observable{Any}, ::Int64) at /Users/eh540/.julia/packages/Observables/qCJWB/src/Observables.jl:87",
      " [11] #setindex! at ./none:0 [inlined]",
      " [12] setexcludinghandlers at /Users/eh540/.julia/packages/Observables/qCJWB/src/Observables.jl:103 [inlined]",
      " [13] set_nosync(::Observable{Any}, ::Int64) at /Users/eh540/.julia/packages/WebIO/2mZPb/src/scope.jl:339",
      " [14] dispatch(::Scope, ::String, ::Int64) at /Users/eh540/.julia/packages/WebIO/2mZPb/src/scope.jl:348",
      " [15] dispatch_command(::WebIO.IJuliaConnection, ::Dict{String,Any}) at /Users/eh540/.julia/packages/WebIO/2mZPb/src/messaging.jl:104",
      " [16] dispatch(::WebIO.IJuliaConnection, ::Dict{String,Any}) at /Users/eh540/.julia/packages/WebIO/2mZPb/src/messaging.jl:81",
      " [17] (::WebIO.var\"#92#93\"{WebIO.IJuliaConnection})(::IJulia.Msg) at /Users/eh540/.julia/packages/WebIO/2mZPb/src/providers/ijulia.jl:21",
      " [18] comm_msg(::ZMQ.Socket, ::IJulia.Msg) at /Users/eh540/.julia/packages/IJulia/fRegO/src/comm_manager.jl:134",
      " [19] #invokelatest#1 at ./essentials.jl:709 [inlined]",
      " [20] invokelatest at ./essentials.jl:708 [inlined]",
      " [21] eventloop(::ZMQ.Socket) at /Users/eh540/.julia/packages/IJulia/fRegO/src/eventloop.jl:8",
      " [22] (::IJulia.var\"#15#18\")() at ./task.jl:333"
     ]
    },
    {
     "name": "stderr",
     "output_type": "stream",
     "text": [
      "), ::Observable{Float64}, ::Float64\u001b[1m)\u001b[22m at \u001b[1m/Users/eh540/.julia/packages/Observables/qCJWB/src/Observables.jl:87\u001b[22m\n",
      " [8] \u001b[1m(::Base.var\"#kw##setindex!\")\u001b[22m\u001b[1m(\u001b[22m::NamedTuple{(:notify,),Tuple{Base.var\"#58#59\"{Base.Fix2{typeof(in),Array{Function,1}}}}}, ::typeof(setindex!), ::Observable{Float64}, ::Float64\u001b[1m)\u001b[22m at \u001b[1m./none:0\u001b[22m\n",
      " [9] \u001b[1m(::Observables.var\"#25#28\"{InteractBase.var\"#77#80\",Observable{Float64},Array{Function,1}})\u001b[22m\u001b[1m(\u001b[22m::Int64\u001b[1m)\u001b[22m at \u001b[1m/Users/eh540/.julia/packages/Observables/qCJWB/src/observablepair.jl:14\u001b[22m\n",
      " [10] \u001b[1m#setindex!#1\u001b[22m\u001b[1m(\u001b[22m::WebIO.var\"#44#45\", ::typeof(setindex!), ::Observable{Any}, ::Int64\u001b[1m)\u001b[22m at \u001b[1m/Users/eh540/.julia/packages/Observables/qCJWB/src/Observables.jl:87\u001b[22m\n",
      " [11] \u001b[1m#setindex!\u001b[22m at \u001b[1m./none:0\u001b[22m [inlined]\n",
      " [12] \u001b[1msetexcludinghandlers\u001b[22m at \u001b[1m/Users/eh540/.julia/packages/Observables/qCJWB/src/Observables.jl:103\u001b[22m [inlined]\n",
      " [13] \u001b[1mset_nosync\u001b[22m\u001b[1m(\u001b[22m::Observable{Any}, ::Int64\u001b[1m)\u001b[22m at \u001b[1m/Users/eh540/.julia/packages/WebIO/2mZPb/src/scope.jl:339\u001b[22m\n",
      " [14] \u001b[1mdispatch\u001b[22m\u001b[1m(\u001b[22m::Scope, ::String, ::Int64\u001b[1m)\u001b[22m at \u001b[1m/Users/eh540/.julia/packages/WebIO/2mZPb/src/scope.jl:348\u001b[22m\n",
      " [15] \u001b[1mdispatch_command\u001b[22m\u001b[1m(\u001b[22m::WebIO.IJuliaConnection, ::Dict{String,Any}\u001b[1m)\u001b[22m at \u001b[1m/Users/eh540/.julia/packages/WebIO/2mZPb/src/messaging.jl:104\u001b[22m\n",
      " [16] \u001b[1mdispatch\u001b[22m\u001b[1m(\u001b[22m::WebIO.IJuliaConnection, ::Dict{String,Any}\u001b[1m)\u001b[22m at \u001b[1m/Users/eh540/.julia/packages/WebIO/2mZPb/src/messaging.jl:81\u001b[22m\n",
      " [17] \u001b[1m(::WebIO.var\"#92#93\"{WebIO.IJuliaConnection})\u001b[22m\u001b[1m(\u001b[22m::IJulia.Msg\u001b[1m)\u001b[22m at \u001b[1m/Users/eh540/.julia/packages/WebIO/2mZPb/src/providers/ijulia.jl:21\u001b[22m\n",
      " [18] \u001b[1mcomm_msg\u001b[22m\u001b[1m(\u001b[22m::ZMQ.Socket, ::IJulia.Msg\u001b[1m)\u001b[22m at \u001b[1m/Users/eh540/.julia/packages/IJulia/fRegO/src/comm_manager.jl:134\u001b[22m\n",
      " [19] \u001b[1m#invokelatest#1\u001b[22m at \u001b[1m./essentials.jl:709\u001b[22m [inlined]\n",
      " [20] \u001b[1minvokelatest\u001b[22m at \u001b[1m./essentials.jl:708\u001b[22m [inlined]\n",
      " [21] \u001b[1meventloop\u001b[22m\u001b[1m(\u001b[22m::ZMQ.Socket\u001b[1m)\u001b[22m at \u001b[1m/Users/eh540/.julia/packages/IJulia/fRegO/src/eventloop.jl:8\u001b[22m\n",
      " [22] \u001b[1m(::IJulia.var\"#15#18\")\u001b[22m\u001b[1m(\u001b[22m\u001b[1m)\u001b[22m at \u001b[1m./task.jl:333\u001b[22m"
     ]
    },
    {
     "ename": "ErrorException",
     "evalue": "Cannot multiply two expressions of sizes (50, 100) and (4, 1)",
     "output_type": "error",
     "traceback": [
      "KERNEL EXCEPTION",
      "Cannot multiply two expressions of sizes (50, 100) and (4, 1)",
      "",
      "Stacktrace:",
      " [1] error(::String) at ./error.jl:33",
      " [2] MultiplyAtom at /Users/eh540/Dropbox (Personal)/LinkedFolders/Julia/dev/Convex/src/atoms/affine/multiply_divide.jl:28 [inlined]",
      " [3] *(::Array{Float64,2}, ::Variable) at /Users/eh540/Dropbox (Personal)/LinkedFolders/Julia/dev/Convex/src/atoms/affine/multiply_divide.jl:103",
      " [4] (::var\"#7#8\")(::Float64, ::Float64) at ./In[6]:4",
      " [5] (::Observables.var\"#16#17\"{var\"#7#8\",Observable{Any}})(::Float64, ::Vararg{Float64,N} where N) at /Users/eh540/.julia/packages/Observables/qCJWB/src/Observables.jl:152",
      " [6] (::Observables.var\"#g#15\"{Observables.var\"#16#17\"{var\"#7#8\",Observable{Any}},Tuple{Widget{:slider,Float64},Widget{:slider,Float64}}})(::Float64) at /Users/eh540/.julia/packages/Observables/qCJWB/src/Observables.jl:136",
      " [7] #setindex!#1(::Base.var\"#58#59\"{Base.Fix2{typeof(in),Array{Function,1}}}, ::typeof(setindex!), ::Observable{Float64}, ::Float64) at /Users/eh540/.julia/packages/Observables/qCJWB/src/Observables.jl:87",
      " [8] (::Base.var\"#kw##setindex!\")(::NamedTuple{(:notify,),Tuple{Base.var\"#58#59\"{Base.Fix2{typeof(in),Array{Function,1}}}}}, ::typeof(setindex!), ::Observable{Float64}, ::Float64) at ./none:0",
      " [9] (::Observables.var\"#25#28\"{InteractBase.var\"#77#80\",Observable{Float64},Array{Function,1}})(::Int64) at /Users/eh540/.julia/packages/Observables/qCJWB/src/observablepair.jl:14",
      " [10] #setindex!#1(::WebIO.var\"#44#45\", ::typeof(setindex!), ::Observable{Any}, ::Int64) at /Users/eh540/.julia/packages/Observables/qCJWB/src/Observables.jl:87",
      " [11] #setindex! at ./none:0 [inlined]",
      " [12] setexcludinghandlers at /Users/eh540/.julia/packages/Observables/qCJWB/src/Observables.jl:103 [inlined]",
      " [13] set_nosync(::Observable{Any}, ::Int64) at /Users/eh540/.julia/packages/WebIO/2mZPb/src/scope.jl:339",
      " [14] dispatch(::Scope, ::String, ::Int64) at /Users/eh540/.julia/packages/WebIO/2mZPb/src/scope.jl:348",
      " [15] dispatch_command(::WebIO.IJuliaConnection, ::Dict{String,Any}) at /Users/eh540/.julia/packages/WebIO/2mZPb/src/messaging.jl:104",
      " [16] dispatch(::WebIO.IJuliaConnection, ::Dict{String,Any}) at /Users/eh540/.julia/packages/WebIO/2mZPb/src/messaging.jl:81",
      " [17] (::WebIO.var\"#92#93\"{WebIO.IJuliaConnection})(::IJulia.Msg) at /Users/eh540/.julia/packages/WebIO/2mZPb/src/providers/ijulia.jl:21",
      " [18] comm_msg(::ZMQ.Socket, ::IJulia.Msg) at /Users/eh540/.julia/packages/IJulia/fRegO/src/comm_manager.jl:134",
      " [19] #invokelatest#1 at ./essentials.jl:709 [inlined]",
      " [20] invokelatest at ./essentials.jl:708 [inlined]",
      " [21] eventloop(::ZMQ.Socket) at /Users/eh540/.julia/packages/IJulia/fRegO/src/eventloop.jl:8",
      " [22] (::IJulia.var\"#15#18\")() at ./task.jl:333"
     ]
    },
    {
     "name": "stderr",
     "output_type": "stream",
     "text": [
      "Cannot multiply two expressions of sizes (50, 100) and (4, 1)\n",
      "Stacktrace:\n",
      " [1] \u001b[1merror\u001b[22m\u001b[1m(\u001b[22m::String\u001b[1m)\u001b[22m at \u001b[1m./error.jl:33\u001b[22m\n",
      " [2] \u001b[1mMultiplyAtom\u001b[22m at \u001b[1m/Users/eh540/Dropbox (Personal)/LinkedFolders/Julia/dev/Convex/src/atoms/affine/multiply_divide.jl:28\u001b[22m [inlined]\n",
      " [3] \u001b[1m*\u001b[22m\u001b[1m(\u001b[22m::Array{Float64,2}, ::Variable\u001b[1m)\u001b[22m at \u001b[1m/Users/eh540/Dropbox (Personal)/LinkedFolders/Julia/dev/Convex/src/atoms/affine/multiply_divide.jl:103\u001b[22m\n",
      " [4] \u001b[1m(::var\"#7#8\")\u001b[22m\u001b[1m(\u001b[22m::Float64, ::Float64\u001b[1m)\u001b[22m at \u001b[1m./In[6]:4\u001b[22m\n",
      " [5] \u001b[1m(::Observables.var\"#16#17\"{var\"#7#8\",Observable{Any}})\u001b[22m\u001b[1m(\u001b[22m::Float64, ::Vararg{Float64,N} where N\u001b[1m)\u001b[22m at \u001b[1m/Users/eh540/.julia/packages/Observables/qCJWB/src/Observables.jl:152\u001b[22m\n",
      " [6] \u001b[1m(::Observables.var\"#g#15\"{Observables.var\"#16#17\"{var\"#7#8\",Observable{Any}},Tuple{Widget{:slider,Float64},Widget{:slider,Float64}}})\u001b[22m\u001b[1m(\u001b[22m::Float64\u001b[1m)\u001b[22m at \u001b[1m/Users/eh540/.julia/packages/Observables/qCJWB/src/Observables.jl:136\u001b[22m\n",
      " [7] \u001b[1m#setindex!#1\u001b[22m\u001b[1m(\u001b[22m::Base.var\"#58#59\"{Base.Fix2{typeof(in),Array{Function,1}}}, ::typeof(setindex!), ::Observable{Float64}, ::Float64\u001b[1m)\u001b[22m at \u001b[1m/Users/eh540/.julia/packages/Observables/qCJWB/src/Observables.jl:87\u001b[22m\n",
      " [8] \u001b[1m(::Base.var\"#kw##setindex!\")\u001b[22m\u001b[1m(\u001b[22m::NamedTuple{(:notify,),Tuple{Base.var\"#58#59\"{Base.Fix2{typeof(in),Array{Function,1}}}}}, ::typeof(setindex!), ::Observable{Float64}, ::Float64\u001b[1m)\u001b[22m at \u001b[1m./none:0\u001b[22m\n",
      " [9] \u001b[1m(::Observables.var\"#25#28\"{InteractBase.var\"#77#80\",Observable{Float64},Array{Function,1}})\u001b[22m\u001b[1m(\u001b[22m::Int64\u001b[1m)\u001b[22m at \u001b[1m/Users/eh540/.julia/packages/Observables/qCJWB/src/observablepair.jl:14\u001b[22m\n",
      " [10] \u001b[1m#setindex!#1\u001b[22m\u001b[1m(\u001b[22m::WebIO.var\"#44#45\", ::typeof(setindex!), ::Observable{Any}, ::Int64\u001b[1m)\u001b[22m at \u001b[1m/Users/eh540/.julia/packages/Observables/qCJWB/src/Observables.jl:87\u001b[22m\n",
      " [11] \u001b[1m#setindex!\u001b[22m at \u001b[1m./none:0\u001b[22m [inlined]\n",
      " [12] \u001b[1msetexcludinghandlers\u001b[22m at \u001b[1m/Users/eh540/.julia/packages/Observables/qCJWB/src/Observables.jl:103\u001b[22m [inlined]\n",
      " [13] \u001b[1mset_nosync\u001b[22m\u001b[1m(\u001b[22m::Observable{Any}, ::Int64\u001b[1m)\u001b[22m at \u001b[1m/Users/eh540/.julia/packages/WebIO/2mZPb/src/scope.jl:339\u001b[22m\n",
      " [14] \u001b[1mdispatch\u001b[22m\u001b[1m(\u001b[22m::Scope, ::String, ::Int64\u001b[1m)\u001b[22m at \u001b[1m/Users/eh540/.julia/packages/WebIO/2mZPb/src/scope.jl:348\u001b[22m\n",
      " [15] \u001b[1mdispatch_command\u001b[22m\u001b[1m(\u001b[22m::WebIO.IJuliaConnection, ::Dict{String,Any}\u001b[1m)\u001b[22m at \u001b[1m/Users/eh540/.julia/packages/WebIO/2mZPb/src/messaging.jl:104\u001b[22m\n",
      " [16] \u001b[1mdispatch\u001b[22m\u001b[1m(\u001b[22m::WebIO.IJuliaConnection, ::Dict{String,Any}\u001b[1m)\u001b[22m at \u001b[1m/Users/eh540/.julia/packages/WebIO/2mZPb/src/messaging.jl:81\u001b[22m\n",
      " [17] \u001b[1m(::WebIO.var\"#92#93\"{WebIO.IJuliaConnection})\u001b[22m\u001b[1m(\u001b[22m::IJulia.Msg\u001b[1m)\u001b[22m at \u001b[1m/Users/eh540/.julia/packages/WebIO/2mZPb/src/providers/ijulia.jl:21\u001b[22m\n",
      " [18] \u001b[1mcomm_msg\u001b[22m\u001b[1m(\u001b[22m::ZMQ.Socket, ::IJulia.Msg\u001b[1m)\u001b[22m at \u001b[1m/Users/eh540/.julia/packages/IJulia/fRegO/src/comm_manager.jl:134\u001b[22m\n",
      " [19] \u001b[1m#invokelatest#1\u001b[22m at \u001b[1m./essentials.jl:709\u001b[22m [inlined]\n",
      " [20] \u001b[1minvokelatest\u001b[22m at \u001b[1m./essentials.jl:708\u001b[22m [inlined]\n",
      " [21] \u001b[1meventloop\u001b[22m\u001b[1m(\u001b[22m::ZMQ.Socket\u001b[1m)\u001b[22m at \u001b[1m/Users/eh540/.julia/packages/IJulia/fRegO/src/eventloop.jl:8\u001b[22m\n",
      " [22] \u001b[1m(::IJulia.var\"#15#18\")\u001b[22m\u001b[1m(\u001b[22m\u001b[1m)\u001b[22m at \u001b[1m./task.jl:333\u001b[22mCannot multiply two expressions of sizes (50, 100) and (4, 1)\n",
      "Stacktrace:\n",
      " [1] \u001b[1merror\u001b[22m\u001b[1m(\u001b[22m::String\u001b[1m)\u001b[22m at \u001b[1m./error.jl:33\u001b[22m\n",
      " [2] \u001b[1mMultiplyAtom\u001b[22m at \u001b[1m/Users/eh540/Dropbox (Personal)/LinkedFolders/Julia/dev/Convex/src/atoms/affine/multiply_divide.jl:28\u001b[22m [inlined]\n",
      " [3] \u001b[1m*\u001b[22m\u001b[1m(\u001b[22m::Array{Float64,2}, ::Variable\u001b[1m)\u001b[22m at \u001b[1m/Users/eh540/Dropbox (Personal)/LinkedFolders/Julia/dev/Convex/src/atoms/affine/multiply_divide.jl:103\u001b[22m\n",
      " [4] \u001b[1m(::var\"#7#8\")\u001b[22m\u001b[1m(\u001b[22m::Float64, ::Float64\u001b[1m)\u001b[22m at \u001b[1m./In[6]:4\u001b[22m\n",
      " [5] \u001b[1m(::Observables.var\"#16#17\"{var\"#7#8\",Observable{Any}})\u001b[22m\u001b[1m(\u001b[22m::Float64, ::Vararg{Float64,N} where N\u001b[1m)\u001b[22m at \u001b[1m/Users/eh540/.julia/packages/Observables/qCJWB/src/Observables.jl:152\u001b[22m\n",
      " [6] \u001b[1m(::Observables.var\"#g#15\"{Observables.var\"#16#17\"{var\"#7#8\",Observable{Any}},Tuple{Widget{:slider,Float64},Widget{:slider,Float64}}})\u001b[22m\u001b[1m(\u001b[22m::Float64\u001b[1m)\u001b[22m at \u001b[1m/Users/eh540/.julia/packages/Observables/qCJWB/src/Observables.jl:136\u001b[22m\n",
      " [7] \u001b[1m#setindex!#1\u001b[22m\u001b[1m(\u001b[22m::Base.var\"#58#59\"{Base.Fix2{typeof(in),Array{Function,1}}}, ::typeof(setindex!), ::Observable{Float64}, ::Float64\u001b[1m)\u001b[22m at \u001b[1m/Users/eh540/.julia/packages/Observables/qCJWB/src/Observables.jl:87\u001b[22m\n",
      " [8] \u001b[1m(::Base.var\"#kw##setindex!\")\u001b[22m\u001b[1m(\u001b[22m::NamedTuple{(:notify,),Tuple{Base.var\"#58#59\"{Base.Fix2{typeof(in),Array{Function,1}}}}}, ::typeof(setindex!), ::Observable{Float64}, ::Float64\u001b[1m)\u001b[22m at \u001b[1m./none:0\u001b[22m\n",
      " [9] \u001b[1m(::Observables.var\"#25#28\"{InteractBase.var\"#77#80\",Observable{Float64},Array{Function,1}})\u001b[22m\u001b[1m(\u001b[22m::Int64\u001b[1m)\u001b[22m at \u001b[1m/Users/eh540/.julia/packages/Observables/qCJWB/src/observablepair.jl:14\u001b[22m\n",
      " [10] \u001b[1m#setindex!#1\u001b[22m\u001b[1m(\u001b[22m::WebIO.var\"#44#45\", ::typeof(setindex!), ::Observable{Any}, ::Int64\u001b[1m)\u001b[22m at \u001b[1m/Users/eh540/.julia/packages/Observables/qCJWB/src/Observables.jl:87\u001b[22m\n",
      " [11] \u001b[1m#setindex!\u001b[22m at \u001b[1m./none:0\u001b[22m [inlined]\n",
      " [12] \u001b[1msetexcludinghandlers\u001b[22m at \u001b[1m/Users/eh540/.julia/packages/Observables/qCJWB/src/Observables.jl:103\u001b[22m [inlined]\n",
      " [13] \u001b[1mset_nosync\u001b[22m\u001b[1m(\u001b[22m::Observable{Any}, ::Int64\u001b[1m)\u001b[22m at \u001b[1m/Users/eh540/.julia/packages/WebIO/2mZPb/src/scope.jl:339\u001b[22m\n",
      " [14] \u001b[1mdispatch\u001b[22m\u001b[1m(\u001b[22m::Scope, ::String, ::Int64\u001b[1m)\u001b[22m at \u001b[1m/Users/eh540/.julia/packages/WebIO/2mZPb/src/scope.jl:348\u001b[22m\n",
      " [15] \u001b[1mdispatch_command\u001b[22m\u001b[1m(\u001b[22m::WebIO.IJuliaConnection, ::Dict{String,Any}\u001b[1m)\u001b[22m at \u001b[1m/Users/eh540/.julia/packages/WebIO/2mZPb/src/messaging.jl:104\u001b[22m\n",
      " [16] \u001b[1mdispatch\u001b[22m\u001b[1m(\u001b[22m::WebIO.IJuliaConnection, ::Dict{String,Any}\u001b[1m)\u001b[22m at \u001b[1m/Users/eh540/.julia/packages/WebIO/2mZPb/src/messaging.jl:81\u001b[22m\n",
      " [17] \u001b[1m(::WebIO.var\"#92#93\"{WebIO.IJuliaConnection})\u001b[22m\u001b[1m(\u001b[22m::IJulia.Msg\u001b[1m)\u001b[22m at \u001b[1m/Users/eh540/.julia/packages/WebIO/2mZPb/src/providers/ijulia.jl:21\u001b[22m\n",
      " [18] \u001b[1mcomm_msg\u001b[22m\u001b[1m(\u001b[22m::ZMQ.Socket, ::IJulia.Msg\u001b[1m)\u001b[22m at \u001b[1m/Users/eh540/.julia/packages/IJulia/fRegO/src/comm_manager.jl:134\u001b[22m\n",
      " [19] \u001b[1m#invokelatest#1\u001b[22m at \u001b[1m./essentials.jl:709\u001b[22m [inlined]\n",
      " [20] \u001b[1minvokelatest\u001b[22m at \u001b[1m./essentials.jl:708\u001b[22m [inlined]\n",
      " [21] \u001b[1meventloop\u001b[22m\u001b[1m(\u001b[22m::ZMQ.Socket\u001b[1m)\u001b[22m at \u001b[1m/Users/eh540/.julia/packages/IJulia/fRegO/src/eventloop.jl:8\u001b[22m\n",
      " [22] \u001b[1m(::IJulia.var\"#15#18\")\u001b[22m\u001b[1m(\u001b[22m\u001b[1m)\u001b[22m at \u001b[1m./task.jl:333\u001b[22mCannot multiply two expressions of sizes (50, 100) and (4, 1)\n",
      "Stacktrace:\n",
      " [1] \u001b[1merror\u001b[22m\u001b[1m(\u001b[22m::String\u001b[1m)\u001b[22m at \u001b[1m./error.jl:33\u001b[22m\n",
      " [2] \u001b[1mMultiplyAtom\u001b[22m at \u001b[1m/Users/eh540/Dropbox (Personal)/LinkedFolders/Julia/dev/Convex/src/atoms/affine/multiply_divide.jl:28\u001b[22m [inlined]\n",
      " [3] \u001b[1m*\u001b[22m\u001b[1m(\u001b[22m::Array{Float64,2}, ::Variable\u001b[1m)\u001b[22m at \u001b[1m/Users/eh540/Dropbox (Personal)/LinkedFolders/Julia/dev/Convex/src/atoms/affine/multiply_divide.jl:103\u001b[22m\n",
      " [4] \u001b[1m(::var\"#7#8\")\u001b[22m\u001b[1m(\u001b[22m::Float64, ::Float64\u001b[1m)\u001b[22m at \u001b[1m./In[6]:4\u001b[22m\n",
      " [5] \u001b[1m(::Observables.var\"#16#17\"{var\"#7#8\",Observable{Any}})\u001b[22m\u001b[1m(\u001b[22m::Float64, ::Vararg{Float64,N} where N\u001b[1m)\u001b[22m at \u001b[1m/Users/eh540/.julia/packages/Observables/qCJWB/src/Observables.jl:152\u001b[22m\n",
      " [6] \u001b[1m(::Observables.var\"#g#15\"{Observables.var\"#16#17\"{var\"#7#8\",Observable{Any}},Tuple{Widget{:slider,Float64},Widget{:slider,Float64}}})\u001b[22m\u001b[1m(\u001b[22m::Float64\u001b[1m)\u001b[22m at \u001b[1m/Users/eh540/.julia/packages/Observables/qCJWB/src/Observables.jl:136\u001b[22m\n",
      " [7] \u001b[1m#setindex!#1\u001b[22m\u001b[1m(\u001b[22m::Base.var\"#58#59\"{Base.Fix2{typeof(in),Array{Function,1}}}, ::typeof(setindex!), ::Observable{Float64}, ::Float64\u001b[1m)\u001b[22m at \u001b[1m/Users/eh540/.julia/packages/Observables/qCJWB/src/Observables.jl:87\u001b[22m\n",
      " [8] \u001b[1m(::Base.var\"#kw##setindex!\")\u001b[22m\u001b[1m(\u001b[22m::NamedTuple{(:notify,),Tuple{Base.var\"#58#59\"{Base.Fix2{typeof(in),Array{Function,1}}}}}, ::typeof(setindex!), ::Observable{Float64}, ::Float64\u001b[1m)\u001b[22m at \u001b[1m./none:0\u001b[22m\n",
      " [9] \u001b[1m(::Observables.var\"#25#28\"{InteractBase.var\"#77#80\",Observable{Float64},Array{Function,1}})\u001b[22m\u001b[1m(\u001b[22m::Int64\u001b[1m)\u001b[22m at \u001b[1m/Users/eh540/.julia/packages/Observables/qCJWB/src/observablepair.jl:14\u001b[22m\n",
      " [10] \u001b[1m#setindex!#1\u001b[22m\u001b[1m(\u001b[22m::WebIO.var\"#44#45\", ::typeof(setindex!), ::Observable{Any}, ::Int64\u001b[1m)\u001b[22m at \u001b[1m/Users/eh540/.julia/packages/Observables/qCJWB/src/Observables.jl:87\u001b[22m\n",
      " [11] \u001b[1m#setindex!\u001b[22m at \u001b[1m./none:0\u001b[22m [inlined]\n",
      " [12] \u001b[1msetexcludinghandlers\u001b[22m at \u001b[1m/Users/eh540/.julia/packages/Observables/qCJWB/src/Observables.jl:103\u001b[22m [inlined]\n",
      " [13] \u001b[1mset_nosync\u001b[22m\u001b[1m(\u001b[22m::Observable{Any}, ::Int64\u001b[1m)\u001b[22m at \u001b[1m/Users/eh540/.julia/packages/WebIO/2mZPb/src/scope.jl:339\u001b[22m\n",
      " [14] \u001b[1mdispatch\u001b[22m\u001b[1m(\u001b[22m::Scope, ::String, ::Int64\u001b[1m)\u001b[22m at \u001b[1m/Users/eh540/.julia/packages/WebIO/2mZPb/src/scope.jl:348\u001b[22m\n",
      " [15] \u001b[1mdispatch_command\u001b[22m\u001b[1m(\u001b[22m::WebIO.IJuliaConnection, ::Dict{String,Any}\u001b[1m)\u001b[22m at \u001b[1m/Users/eh540/.julia/packages/WebIO/2mZPb/src/messaging.jl:104\u001b[22m\n",
      " [16] \u001b[1mdispatch\u001b[22m\u001b[1m(\u001b[22m::WebIO.IJuliaConnection, ::Dict{String,Any}\u001b[1m)\u001b[22m at \u001b[1m/Users/eh540/.julia/packages/WebIO/2mZPb/src/messaging.jl:81\u001b[22m\n",
      " [17] \u001b[1m(::WebIO.var\"#92#93\"{WebIO.IJuliaConnection})\u001b[22m\u001b[1m(\u001b[22m::IJulia.Msg\u001b[1m)\u001b[22m at \u001b[1m/Users/eh540/.julia/packages/WebIO/2mZPb/src/providers/ijulia.jl:21\u001b[22m\n",
      " [18] \u001b[1mcomm_msg\u001b[22m\u001b[1m(\u001b[22m::ZMQ.Socket, ::IJulia.Msg\u001b[1m)\u001b[22m at \u001b[1m/Users/eh540/.julia/packages/IJulia/fRegO/src/comm_manager.jl:134\u001b[22m\n",
      " [19] \u001b[1m#invokelatest#1\u001b[22m at \u001b[1m./essentials.jl:709\u001b[22m [inlined]\n",
      " [20] \u001b[1minvokelatest\u001b[22m at \u001b[1m./essentials.jl:708\u001b[22m [inlined]\n",
      " [21] \u001b[1meventloop\u001b[22m\u001b[1m(\u001b[22m::ZMQ.Socket\u001b[1m)\u001b[22m at \u001b[1m/Users/eh540/.julia/packages/IJulia/fRegO/src/eventloop.jl:8\u001b[22m\n",
      " [22] \u001b[1m(::IJulia.var\"#15#18\")\u001b[22m\u001b[1m(\u001b[22m\u001b[1m)\u001b[22m at \u001b[1m./task.jl:333\u001b[22mCannot multiply two expressions of sizes (50, 100) and (4, 1)\n",
      "Stacktrace:\n",
      " [1] \u001b[1merror\u001b[22m\u001b[1m(\u001b[22m::String\u001b[1m)\u001b[22m at \u001b[1m./error.jl:33\u001b[22m\n",
      " [2] \u001b[1mMultiplyAtom\u001b[22m at \u001b[1m/Users/eh540/Dropbox (Personal)/LinkedFolders/Julia/dev/Convex/src/atoms/affine/multiply_divide.jl:28\u001b[22m [inlined]\n",
      " [3] \u001b[1m*\u001b[22m\u001b[1m(\u001b[22m::Array{Float64,2}, ::Variable\u001b[1m)\u001b[22m at \u001b[1m/Users/eh540/Dropbox (Personal)/LinkedFolders/Julia/dev/Convex/src/atoms/affine/multiply_divide.jl:103\u001b[22m\n",
      " [4] \u001b[1m(::var\"#7#8\")\u001b[22m\u001b[1m(\u001b[22m::Float64, ::Float64\u001b[1m)\u001b[22m at \u001b[1m./In[6]:4\u001b[22m\n",
      " [5] \u001b[1m(::Observables.var\"#16#17\"{var\"#7#8\",Observable{Any}})\u001b[22m\u001b[1m(\u001b[22m::Float64, ::Vararg{Float64,N} where N\u001b[1m)\u001b[22m at \u001b[1m/Users/eh540/.julia/packages/Observables/qCJWB/src/Observables.jl:152\u001b[22m\n",
      " [6] \u001b[1m(::Observables.var\"#g#15\"{Observables.var\"#16#17\"{var\"#7#8\",Observable{Any}},Tuple{Widget{:slider,Float64},Widget{:slider,Float64}}})\u001b[22m\u001b[1m(\u001b[22m::Float64\u001b[1m)\u001b[22m"
     ]
    },
    {
     "ename": "ErrorException",
     "evalue": "Cannot multiply two expressions of sizes (50, 100) and (4, 1)",
     "output_type": "error",
     "traceback": [
      "KERNEL EXCEPTION",
      "Cannot multiply two expressions of sizes (50, 100) and (4, 1)",
      "",
      "Stacktrace:",
      " [1] error(::String) at ./error.jl:33",
      " [2] MultiplyAtom at /Users/eh540/Dropbox (Personal)/LinkedFolders/Julia/dev/Convex/src/atoms/affine/multiply_divide.jl:28 [inlined]",
      " [3] *(::Array{Float64,2}, ::Variable) at /Users/eh540/Dropbox (Personal)/LinkedFolders/Julia/dev/Convex/src/atoms/affine/multiply_divide.jl:103",
      " [4] (::var\"#7#8\")(::Float64, ::Float64) at ./In[6]:4",
      " [5] (::Observables.var\"#16#17\"{var\"#7#8\",Observable{Any}})(::Float64, ::Vararg{Float64,N} where N) at /Users/eh540/.julia/packages/Observables/qCJWB/src/Observables.jl:152",
      " [6] (::Observables.var\"#g#15\"{Observables.var\"#16#17\"{var\"#7#8\",Observable{Any}},Tuple{Widget{:slider,Float64},Widget{:slider,Float64}}})(::Float64) at /Users/eh540/.julia/packages/Observables/qCJWB/src/Observables.jl:136",
      " [7] #setindex!#1(::Base.var\"#58#59\"{Base.Fix2{typeof(in),Array{Function,1}}}, ::typeof(setindex!), ::Observable{Float64}, ::Float64) at /Users/eh540/.julia/packages/Observables/qCJWB/src/Observables.jl:87",
      " [8] (::Base.var\"#kw##setindex!\")(::NamedTuple{(:notify,),Tuple{Base.var\"#58#59\"{Base.Fix2{typeof(in),Array{Function,1}}}}}, ::typeof(setindex!), ::Observable{Float64}, ::Float64) at ./none:0",
      " [9] (::Observables.var\"#25#28\"{InteractBase.var\"#77#80\",Observable{Float64},Array{Function,1}})(::Int64) at /Users/eh540/.julia/packages/Observables/qCJWB/src/observablepair.jl:14",
      " [10] #setindex!#1(::WebIO.var\"#44#45\", ::typeof(setindex!), ::Observable{Any}, ::Int64) at /Users/eh540/.julia/packages/Observables/qCJWB/src/Observables.jl:87",
      " [11] #setindex! at ./none:0 [inlined]",
      " [12] setexcludinghandlers at /Users/eh540/.julia/packages/Observables/qCJWB/src/Observables.jl:103 [inlined]",
      " [13] set_nosync(::Observable{Any}, ::Int64) at /Users/eh540/.julia/packages/WebIO/2mZPb/src/scope.jl:339",
      " [14] dispatch(::Scope, ::String, ::Int64) at /Users/eh540/.julia/packages/WebIO/2mZPb/src/scope.jl:348",
      " [15] dispatch_command(::WebIO.IJuliaConnection, ::Dict{String,Any}) at /Users/eh540/.julia/packages/WebIO/2mZPb/src/messaging.jl:104",
      " [16] dispatch(::WebIO.IJuliaConnection, ::Dict{String,Any}) at /Users/eh540/.julia/packages/WebIO/2mZPb/src/messaging.jl:81",
      " [17] (::WebIO.var\"#92#93\"{WebIO.IJuliaConnection})(::IJulia.Msg) at /Users/eh540/.julia/packages/WebIO/2mZPb/src/providers/ijulia.jl:21",
      " [18] comm_msg(::ZMQ.Socket, ::IJulia.Msg) at /Users/eh540/.julia/packages/IJulia/fRegO/src/comm_manager.jl:134",
      " [19] #invokelatest#1 at ./essentials.jl:709 [inlined]",
      " [20] invokelatest at ./essentials.jl:708 [inlined]",
      " [21] eventloop(::ZMQ.Socket) at /Users/eh540/.julia/packages/IJulia/fRegO/src/eventloop.jl:8",
      " [22] (::IJulia.var\"#15#18\")() at ./task.jl:333"
     ]
    },
    {
     "name": "stderr",
     "output_type": "stream",
     "text": [
      " at \u001b[1m/Users/eh540/.julia/packages/Observables/qCJWB/src/Observables.jl:136\u001b[22m\n",
      " [7] \u001b[1m#setindex!#1\u001b[22m\u001b[1m(\u001b[22m::Base.var\"#58#59\"{Base.Fix2{typeof(in),Array{Function,1}}}, ::typeof(setindex!), ::Observable{Float64}, ::Float64\u001b[1m)\u001b[22m at \u001b[1m/Users/eh540/.julia/packages/Observables/qCJWB/src/Observables.jl:87\u001b[22m\n",
      " [8] \u001b[1m(::Base.var\"#kw##setindex!\")\u001b[22m\u001b[1m(\u001b[22m::NamedTuple{(:notify,),Tuple{Base.var\"#58#59\"{Base.Fix2{typeof(in),Array{Function,1}}}}}, ::typeof(setindex!), ::Observable{Float64}, ::Float64\u001b[1m)\u001b[22m at \u001b[1m./none:0\u001b[22m\n",
      " [9] \u001b[1m(::Observables.var\"#25#28\"{InteractBase.var\"#77#80\",Observable{Float64},Array{Function,1}})\u001b[22m\u001b[1m(\u001b[22m::Int64\u001b[1m)\u001b[22m at \u001b[1m/Users/eh540/.julia/packages/Observables/qCJWB/src/observablepair.jl:14\u001b[22m\n",
      " [10] \u001b[1m#setindex!#1\u001b[22m\u001b[1m(\u001b[22m::WebIO.var\"#44#45\", ::typeof(setindex!), ::Observable{Any}, ::Int64\u001b[1m)\u001b[22m at \u001b[1m/Users/eh540/.julia/packages/Observables/qCJWB/src/Observables.jl:87\u001b[22m\n",
      " [11] \u001b[1m#setindex!\u001b[22m at \u001b[1m./none:0\u001b[22m [inlined]\n",
      " [12] \u001b[1msetexcludinghandlers\u001b[22m at \u001b[1m/Users/eh540/.julia/packages/Observables/qCJWB/src/Observables.jl:103\u001b[22m [inlined]\n",
      " [13] \u001b[1mset_nosync\u001b[22m\u001b[1m(\u001b[22m::Observable{Any}, ::Int64\u001b[1m)\u001b[22m at \u001b[1m/Users/eh540/.julia/packages/WebIO/2mZPb/src/scope.jl:339\u001b[22m\n",
      " [14] \u001b[1mdispatch\u001b[22m\u001b[1m(\u001b[22m::Scope, ::String, ::Int64\u001b[1m)\u001b[22m at \u001b[1m/Users/eh540/.julia/packages/WebIO/2mZPb/src/scope.jl:348\u001b[22m\n",
      " [15] \u001b[1mdispatch_command\u001b[22m\u001b[1m(\u001b[22m::WebIO.IJuliaConnection, ::Dict{String,Any}\u001b[1m)\u001b[22m at \u001b[1m/Users/eh540/.julia/packages/WebIO/2mZPb/src/messaging.jl:104\u001b[22m\n",
      " [16] \u001b[1mdispatch\u001b[22m\u001b[1m(\u001b[22m::WebIO.IJuliaConnection, ::Dict{String,Any}\u001b[1m)\u001b[22m at \u001b[1m/Users/eh540/.julia/packages/WebIO/2mZPb/src/messaging.jl:81\u001b[22m\n",
      " [17] \u001b[1m(::WebIO.var\"#92#93\"{WebIO.IJuliaConnection})\u001b[22m\u001b[1m(\u001b[22m::IJulia.Msg\u001b[1m)\u001b[22m at \u001b[1m/Users/eh540/.julia/packages/WebIO/2mZPb/src/providers/ijulia.jl:21\u001b[22m\n",
      " [18] \u001b[1mcomm_msg\u001b[22m\u001b[1m(\u001b[22m::ZMQ.Socket, ::IJulia.Msg\u001b[1m)\u001b[22m at \u001b[1m/Users/eh540/.julia/packages/IJulia/fRegO/src/comm_manager.jl:134\u001b[22m\n",
      " [19] \u001b[1m#invokelatest#1\u001b[22m at \u001b[1m./essentials.jl:709\u001b[22m [inlined]\n",
      " [20] \u001b[1minvokelatest\u001b[22m at \u001b[1m./essentials.jl:708\u001b[22m [inlined]\n",
      " [21] \u001b[1meventloop\u001b[22m\u001b[1m(\u001b[22m::ZMQ.Socket\u001b[1m)\u001b[22m at \u001b[1m/Users/eh540/.julia/packages/IJulia/fRegO/src/eventloop.jl:8\u001b[22m\n",
      " [22] \u001b[1m(::IJulia.var\"#15#18\")\u001b[22m\u001b[1m(\u001b[22m\u001b[1m)\u001b[22m at \u001b[1m./task.jl:333\u001b[22m"
     ]
    },
    {
     "ename": "ErrorException",
     "evalue": "Cannot multiply two expressions of sizes (50, 100) and (4, 1)",
     "output_type": "error",
     "traceback": [
      "KERNEL EXCEPTION",
      "Cannot multiply two expressions of sizes (50, 100) and (4, 1)",
      "",
      "Stacktrace:",
      " [1] error(::String) at ./error.jl:33",
      " [2] MultiplyAtom at /Users/eh540/Dropbox (Personal)/LinkedFolders/Julia/dev/Convex/src/atoms/affine/multiply_divide.jl:28 [inlined]",
      " [3] *(::Array{Float64,2}, ::Variable) at /Users/eh540/Dropbox (Personal)/LinkedFolders/Julia/dev/Convex/src/atoms/affine/multiply_divide.jl:103",
      " [4] (::var\"#7#8\")(::Float64, ::Float64) at ./In[6]:4",
      " [5] (::Observables.var\"#16#17\"{var\"#7#8\",Observable{Any}})(::Float64, ::Vararg{Float64,N} where N) at /Users/eh540/.julia/packages/Observables/qCJWB/src/Observables.jl:152",
      " [6] (::Observables.var\"#g#15\"{Observables.var\"#16#17\"{var\"#7#8\",Observable{Any}},Tuple{Widget{:slider,Float64},Widget{:slider,Float64}}})(::Float64) at /Users/eh540/.julia/packages/Observables/qCJWB/src/Observables.jl:136",
      " [7] #setindex!#1(::Base.var\"#58#59\"{Base.Fix2{typeof(in),Array{Function,1}}}, ::typeof(setindex!), ::Observable{Float64}, ::Float64) at /Users/eh540/.julia/packages/Observables/qCJWB/src/Observables.jl:87",
      " [8] (::Base.var\"#kw##setindex!\")(::NamedTuple{(:notify,),Tuple{Base.var\"#58#59\"{Base.Fix2{typeof(in),Array{Function,1}}}}}, ::typeof(setindex!), ::Observable{Float64}, ::Float64) at ./none:0",
      " [9] (::Observables.var\"#25#28\"{InteractBase.var\"#77#80\",Observable{Float64},Array{Function,1}})(::Int64) at /Users/eh540/.julia/packages/Observables/qCJWB/src/observablepair.jl:14",
      " [10] #setindex!#1(::WebIO.var\"#44#45\", ::typeof(setindex!), ::Observable{Any}, ::Int64) at /Users/eh540/.julia/packages/Observables/qCJWB/src/Observables.jl:87",
      " [11] #setindex! at ./none:0 [inlined]",
      " [12] setexcludinghandlers at /Users/eh540/.julia/packages/Observables/qCJWB/src/Observables.jl:103 [inlined]",
      " [13] set_nosync(::Observable{Any}, ::Int64) at /Users/eh540/.julia/packages/WebIO/2mZPb/src/scope.jl:339",
      " [14] dispatch(::Scope, ::String, ::Int64) at /Users/eh540/.julia/packages/WebIO/2mZPb/src/scope.jl:348",
      " [15] dispatch_command(::WebIO.IJuliaConnection, ::Dict{String,Any}) at /Users/eh540/.julia/packages/WebIO/2mZPb/src/messaging.jl:104",
      " [16] dispatch(::WebIO.IJuliaConnection, ::Dict{String,Any}) at /Users/eh540/.julia/packages/WebIO/2mZPb/src/messaging.jl:81",
      " [17] (::WebIO.var\"#92#93\"{WebIO.IJuliaConnection})(::IJulia.Msg) at /Users/eh540/.julia/packages/WebIO/2mZPb/src/providers/ijulia.jl:21",
      " [18] comm_msg(::ZMQ.Socket, ::IJulia.Msg) at /Users/eh540/.julia/packages/IJulia/fRegO/src/comm_manager.jl:134",
      " [19] #invokelatest#1 at ./essentials.jl:709 [inlined]",
      " [20] invokelatest at ./essentials.jl:708 [inlined]",
      " [21] eventloop(::ZMQ.Socket) at /Users/eh540/.julia/packages/IJulia/fRegO/src/eventloop.jl:8",
      " [22] (::IJulia.var\"#15#18\")() at ./task.jl:333"
     ]
    },
    {
     "name": "stderr",
     "output_type": "stream",
     "text": [
      "Cannot multiply two expressions of sizes (50, 100) and (4, 1)\n",
      "Stacktrace:\n",
      " [1] \u001b[1merror\u001b[22m\u001b[1m(\u001b[22m::String\u001b[1m)\u001b[22m at \u001b[1m./error.jl:33\u001b[22m\n",
      " [2] \u001b[1mMultiplyAtom\u001b[22m at \u001b[1m/Users/eh540/Dropbox (Personal)/LinkedFolders/Julia/dev/Convex/src/atoms/affine/multiply_divide.jl:28\u001b[22m [inlined]\n",
      " [3] \u001b[1m*\u001b[22m\u001b[1m(\u001b[22m::Array{Float64,2}, ::Variable\u001b[1m)\u001b[22m at \u001b[1m/Users/eh540/Dropbox (Personal)/LinkedFolders/Julia/dev/Convex/src/atoms/affine/multiply_divide.jl:103\u001b[22m\n",
      " [4] \u001b[1m(::var\"#7#8\")\u001b[22m\u001b[1m(\u001b[22m::Float64, ::Float64\u001b[1m)\u001b[22m at \u001b[1m./In[6]:4\u001b[22m\n",
      " [5] \u001b[1m(::Observables.var\"#16#17\"{var\"#7#8\",Observable{Any}})\u001b[22m\u001b[1m(\u001b[22m::Float64, ::Vararg{Float64,N} where N\u001b[1m)\u001b[22m at \u001b[1m/Users/eh540/.julia/packages/Observables/qCJWB/src/Observables.jl:152\u001b[22m\n",
      " [6] \u001b[1m(::Observables.var\"#g#15\"{Observables.var\"#16#17\"{var\"#7#8\",Observable{Any}},Tuple{Widget{:slider,Float64},Widget{:slider,Float64}}})\u001b[22m\u001b[1m(\u001b[22m::Float64\u001b[1m)\u001b[22m at \u001b[1m/Users/eh540/.julia/packages/Observables/qCJWB/src/Observables.jl:136\u001b[22m\n",
      " [7] \u001b[1m#setindex!#1\u001b[22m\u001b[1m(\u001b[22m::Base.var\"#58#59\"{Base.Fix2{typeof(in),Array{Function,1}}}, ::typeof(setindex!), ::Observable{Float64}, ::Float64\u001b[1m)\u001b[22m at \u001b[1m/Users/eh540/.julia/packages/Observables/qCJWB/src/Observables.jl:87\u001b[22m\n",
      " [8] \u001b[1m(::Base.var\"#kw##setindex!\")\u001b[22m\u001b[1m(\u001b[22m::NamedTuple{(:notify,),Tuple{Base.var\"#58#59\"{Base.Fix2{typeof(in),Array{Function,1}}}}}, ::typeof(setindex!), ::Observable{Float64}, ::Float64\u001b[1m)\u001b[22m at \u001b[1m./none:0\u001b[22m\n",
      " [9] \u001b[1m(::Observables.var\"#25#28\"{InteractBase.var\"#77#80\",Observable{Float64},Array{Function,1}})\u001b[22m\u001b[1m(\u001b[22m::Int64\u001b[1m)\u001b[22m at \u001b[1m/Users/eh540/.julia/packages/Observables/qCJWB/src/observablepair.jl:14\u001b[22m\n",
      " [10] \u001b[1m#setindex!#1\u001b[22m\u001b[1m(\u001b[22m::WebIO.var\"#44#45\", ::typeof(setindex!), ::Observable{Any}, ::Int64\u001b[1m)\u001b[22m at \u001b[1m/Users/eh540/.julia/packages/Observables/qCJWB/src/Observables.jl:87\u001b[22m\n",
      " [11] \u001b[1m#setindex!\u001b[22m at \u001b[1m./none:0\u001b[22m [inlined]\n",
      " [12] \u001b[1msetexcludinghandlers\u001b[22m at \u001b[1m/Users/eh540/.julia/packages/Observables/qCJWB/src/Observables.jl:103\u001b[22m [inlined]\n",
      " [13] \u001b[1mset_nosync\u001b[22m\u001b[1m(\u001b[22m::Observable{Any}, ::Int64\u001b[1m)\u001b[22m at \u001b[1m/Users/eh540/.julia/packages/WebIO/2mZPb/src/scope.jl:339\u001b[22m\n",
      " [14] \u001b[1mdispatch\u001b[22m\u001b[1m(\u001b[22m::Scope, ::String, ::Int64\u001b[1m)\u001b[22m at \u001b[1m/Users/eh540/.julia/packages/WebIO/2mZPb/src/scope.jl:348\u001b[22m\n",
      " [15] \u001b[1mdispatch_command\u001b[22m\u001b[1m(\u001b[22m::WebIO.IJuliaConnection, ::Dict{String,Any}\u001b[1m)\u001b[22m at \u001b[1m/Users/eh540/.julia/packages/WebIO/2mZPb/src/messaging.jl:104\u001b[22m\n",
      " [16] \u001b[1mdispatch\u001b[22m\u001b[1m(\u001b[22m::WebIO.IJuliaConnection, ::Dict{String,Any}\u001b[1m)\u001b[22m at \u001b[1m/Users/eh540/.julia/packages/WebIO/2mZPb/src/messaging.jl:81\u001b[22m\n",
      " [17] \u001b[1m(::WebIO.var\"#92#93\"{WebIO.IJuliaConnection})\u001b[22m\u001b[1m(\u001b[22m::IJulia.Msg\u001b[1m)\u001b[22m at \u001b[1m/Users/eh540/.julia/packages/WebIO/2mZPb/src/providers/ijulia.jl:21\u001b[22m\n",
      " [18] \u001b[1mcomm_msg\u001b[22m\u001b[1m(\u001b[22m::ZMQ.Socket, ::IJulia.Msg\u001b[1m)\u001b[22m at \u001b[1m/Users/eh540/.julia/packages/IJulia/fRegO/src/comm_manager.jl:134\u001b[22m\n",
      " [19] \u001b[1m#invokelatest#1\u001b[22m at \u001b[1m./essentials.jl:709\u001b[22m [inlined]\n",
      " [20] \u001b[1minvokelatest\u001b[22m at \u001b[1m./essentials.jl:708\u001b[22m [inlined]\n",
      " [21] \u001b[1meventloop\u001b[22m\u001b[1m(\u001b[22m::ZMQ.Socket\u001b[1m)\u001b[22m at \u001b[1m/Users/eh540/.julia/packages/IJulia/fRegO/src/eventloop.jl:8\u001b[22m\n",
      " [22] \u001b[1m(::IJulia.var\"#15#18\")\u001b[22m\u001b[1m(\u001b[22m\u001b[1m)\u001b[22m at \u001b[1m./task.jl:333\u001b[22mCannot multiply two expressions of sizes (50, 100) and (4, 1)\n",
      "Stacktrace:\n",
      " [1] \u001b[1merror\u001b[22m\u001b[1m(\u001b[22m::String\u001b[1m)\u001b[22m at \u001b[1m./error.jl:33\u001b[22m\n",
      " [2] \u001b[1mMultiplyAtom\u001b[22m at \u001b[1m/Users/eh540/Dropbox (Personal)/LinkedFolders/Julia/dev/Convex/src/atoms/affine/multiply_divide.jl:28\u001b[22m [inlined]\n",
      " [3] \u001b[1m*\u001b[22m\u001b[1m(\u001b[22m::Array{Float64,2}, ::Variable\u001b[1m)\u001b[22m at \u001b[1m/Users/eh540/Dropbox (Personal)/LinkedFolders/Julia/dev/Convex/src/atoms/affine/multiply_divide.jl:103\u001b[22m\n",
      " [4] \u001b[1m(::var\"#7#8\")\u001b[22m\u001b[1m(\u001b[22m::Float64, ::Float64\u001b[1m)\u001b[22m at \u001b[1m./In[6]:4\u001b[22m\n",
      " [5] \u001b[1m(::Observables.var\"#16#17\"{var\"#7#8\",Observable{Any}})\u001b[22m\u001b[1m(\u001b[22m::Float64, ::Vararg{Float64,N} where N\u001b[1m)\u001b[22m at \u001b[1m/Users/eh540/.julia/packages/Observables/qCJWB/src/Observables.jl:152\u001b[22m\n",
      " [6] \u001b[1m(::Observables.var\"#g#15\"{Observables.var\"#16#17\"{var\"#7#8\",Observable{Any}},Tuple{Widget{:slider,Float64},Widget{:slider,Float64}}})\u001b[22m\u001b[1m(\u001b[22m::Float64\u001b[1m)\u001b[22m at \u001b[1m/Users/eh540/.julia/packages/Observables/qCJWB/src/Observables.jl:136\u001b[22m\n",
      " [7] \u001b[1m#setindex!#1\u001b[22m\u001b[1m(\u001b[22m::Base.var\"#58#59\"{Base.Fix2{typeof(in),Array{Function,1}}}, ::typeof(setindex!), ::Observable{Float64}, ::Float64\u001b[1m)\u001b[22m at \u001b[1m/Users/eh540/.julia/packages/Observables/qCJWB/src/Observables.jl:87\u001b[22m\n",
      " [8] \u001b[1m(::Base.var\"#kw##setindex!\")\u001b[22m\u001b[1m(\u001b[22m::NamedTuple{(:notify,),Tuple{Base.var\"#58#59\"{Base.Fix2{typeof(in),Array{Function,1}}}}}, ::typeof(setindex!), ::Observable{Float64}, ::Float64\u001b[1m)\u001b[22m at \u001b[1m./none:0\u001b[22m\n",
      " [9] \u001b[1m(::Observables.var\"#25#28\"{InteractBase.var\"#77#80\",Observable{Float64},Array{Function,1}})\u001b[22m\u001b[1m(\u001b[22m::Int64\u001b[1m)\u001b[22m at \u001b[1m/Users/eh540/.julia/packages/Observables/qCJWB/src/observablepair.jl:14\u001b[22m\n",
      " [10] \u001b[1m#setindex!#1\u001b[22m\u001b[1m(\u001b[22m::WebIO.var\"#44#45\", ::typeof(setindex!), ::Observable{Any}, ::Int64\u001b[1m)\u001b[22m at \u001b[1m/Users/eh540/.julia/packages/Observables/qCJWB/src/Observables.jl:87\u001b[22m\n",
      " [11] \u001b[1m#setindex!\u001b[22m at \u001b[1m./none:0\u001b[22m [inlined]\n",
      " [12] \u001b[1msetexcludinghandlers\u001b[22m at \u001b[1m/Users/eh540/.julia/packages/Observables/qCJWB/src/Observables.jl:103\u001b[22m [inlined]\n",
      " [13] \u001b[1mset_nosync\u001b[22m\u001b[1m(\u001b[22m::Observable{Any}, ::Int64\u001b[1m)\u001b[22m at \u001b[1m/Users/eh540/.julia/packages/WebIO/2mZPb/src/scope.jl:339\u001b[22m\n",
      " [14] \u001b[1mdispatch\u001b[22m\u001b[1m(\u001b[22m::Scope, ::String, ::Int64\u001b[1m)\u001b[22m at \u001b[1m/Users/eh540/.julia/packages/WebIO/2mZPb/src/scope.jl:348\u001b[22m\n",
      " [15] \u001b[1mdispatch_command\u001b[22m\u001b[1m(\u001b[22m::WebIO.IJuliaConnection, ::Dict{String,Any}\u001b[1m)\u001b[22m at \u001b[1m/Users/eh540/.julia/packages/WebIO/2mZPb/src/messaging.jl:104\u001b[22m\n",
      " [16] \u001b[1mdispatch\u001b[22m\u001b[1m(\u001b[22m::WebIO.IJuliaConnection, ::Dict{String,Any}\u001b[1m)\u001b[22m at \u001b[1m/Users/eh540/.julia/packages/WebIO/2mZPb/src/messaging.jl:81\u001b[22m\n",
      " [17] \u001b[1m(::WebIO.var\"#92#93\"{WebIO.IJuliaConnection})\u001b[22m\u001b[1m(\u001b[22m::IJulia.Msg\u001b[1m)\u001b[22m at \u001b[1m/Users/eh540/.julia/packages/WebIO/2mZPb/src/providers/ijulia.jl:21\u001b[22m\n",
      " [18] \u001b[1mcomm_msg\u001b[22m\u001b[1m(\u001b[22m::ZMQ.Socket, ::IJulia.Msg\u001b[1m)\u001b[22m at \u001b[1m/Users/eh540/.julia/packages/IJulia/fRegO/src/comm_manager.jl:134\u001b[22m\n",
      " [19] \u001b[1m#invokelatest#1\u001b[22m at \u001b[1m./essentials.jl:709\u001b[22m [inlined]\n",
      " [20] \u001b[1minvokelatest\u001b[22m at \u001b[1m./essentials.jl:708\u001b[22m [inlined]\n",
      " [21] \u001b[1meventloop\u001b[22m\u001b[1m(\u001b[22m::ZMQ.Socket\u001b[1m)\u001b[22m at \u001b[1m/Users/eh540/.julia/packages/IJulia/fRegO/src/eventloop.jl:8\u001b[22m\n",
      " [22] \u001b[1m(::IJulia.var\"#15#18\")\u001b[22m\u001b[1m(\u001b[22m\u001b[1m)\u001b[22m at \u001b[1m./task.jl:333\u001b[22m"
     ]
    },
    {
     "ename": "ErrorException",
     "evalue": "Cannot multiply two expressions of sizes (50, 100) and (4, 1)",
     "output_type": "error",
     "traceback": [
      "KERNEL EXCEPTION",
      "Cannot multiply two expressions of sizes (50, 100) and (4, 1)",
      "",
      "Stacktrace:",
      " [1] error(::String) at ./error.jl:33",
      " [2] MultiplyAtom at /Users/eh540/Dropbox (Personal)/LinkedFolders/Julia/dev/Convex/src/atoms/affine/multiply_divide.jl:28 [inlined]",
      " [3] *(::Array{Float64,2}, ::Variable) at /Users/eh540/Dropbox (Personal)/LinkedFolders/Julia/dev/Convex/src/atoms/affine/multiply_divide.jl:103",
      " [4] (::var\"#7#8\")(::Float64, ::Float64) at ./In[6]:4",
      " [5] (::Observables.var\"#16#17\"{var\"#7#8\",Observable{Any}})(::Float64, ::Vararg{Float64,N} where N) at /Users/eh540/.julia/packages/Observables/qCJWB/src/Observables.jl:152",
      " [6] (::Observables.var\"#g#15\"{Observables.var\"#16#17\"{var\"#7#8\",Observable{Any}},Tuple{Widget{:slider,Float64},Widget{:slider,Float64}}})(::Float64) at /Users/eh540/.julia/packages/Observables/qCJWB/src/Observables.jl:136",
      " [7] #setindex!#1(::Base.var\"#58#59\"{Base.Fix2{typeof(in),Array{Function,1}}}, ::typeof(setindex!), ::Observable{Float64}, ::Float64) at /Users/eh540/.julia/packages/Observables/qCJWB/src/Observables.jl:87",
      " [8] (::Base.var\"#kw##setindex!\")(::NamedTuple{(:notify,),Tuple{Base.var\"#58#59\"{Base.Fix2{typeof(in),Array{Function,1}}}}}, ::typeof(setindex!), ::Observable{Float64}, ::Float64) at ./none:0",
      " [9] (::Observables.var\"#25#28\"{InteractBase.var\"#77#80\",Observable{Float64},Array{Function,1}})(::Int64) at /Users/eh540/.julia/packages/Observables/qCJWB/src/observablepair.jl:14",
      " [10] #setindex!#1(::WebIO.var\"#44#45\", ::typeof(setindex!), ::Observable{Any}, ::Int64) at /Users/eh540/.julia/packages/Observables/qCJWB/src/Observables.jl:87",
      " [11] #setindex! at ./none:0 [inlined]",
      " [12] setexcludinghandlers at /Users/eh540/.julia/packages/Observables/qCJWB/src/Observables.jl:103 [inlined]",
      " [13] set_nosync(::Observable{Any}, ::Int64) at /Users/eh540/.julia/packages/WebIO/2mZPb/src/scope.jl:339",
      " [14] dispatch(::Scope, ::String, ::Int64) at /Users/eh540/.julia/packages/WebIO/2mZPb/src/scope.jl:348",
      " [15] dispatch_command(::WebIO.IJuliaConnection, ::Dict{String,Any}) at /Users/eh540/.julia/packages/WebIO/2mZPb/src/messaging.jl:104",
      " [16] dispatch(::WebIO.IJuliaConnection, ::Dict{String,Any}) at /Users/eh540/.julia/packages/WebIO/2mZPb/src/messaging.jl:81",
      " [17] (::WebIO.var\"#92#93\"{WebIO.IJuliaConnection})(::IJulia.Msg) at /Users/eh540/.julia/packages/WebIO/2mZPb/src/providers/ijulia.jl:21",
      " [18] comm_msg(::ZMQ.Socket, ::IJulia.Msg) at /Users/eh540/.julia/packages/IJulia/fRegO/src/comm_manager.jl:134",
      " [19] #invokelatest#1 at ./essentials.jl:709 [inlined]",
      " [20] invokelatest at ./essentials.jl:708 [inlined]",
      " [21] eventloop(::ZMQ.Socket) at /Users/eh540/.julia/packages/IJulia/fRegO/src/eventloop.jl:8",
      " [22] (::IJulia.var\"#15#18\")() at ./task.jl:333"
     ]
    },
    {
     "name": "stderr",
     "output_type": "stream",
     "text": [
      "Cannot multiply two expressions of sizes (50, 100) and (4, 1)\n",
      "Stacktrace:\n",
      " [1] \u001b[1merror\u001b[22m\u001b[1m(\u001b[22m::String\u001b[1m)\u001b[22m at \u001b[1m./error.jl:33\u001b[22m\n",
      " [2] \u001b[1mMultiplyAtom\u001b[22m at \u001b[1m/Users/eh540/Dropbox (Personal)/LinkedFolders/Julia/dev/Convex/src/atoms/affine/multiply_divide.jl:28\u001b[22m [inlined]\n",
      " [3] \u001b[1m*\u001b[22m\u001b[1m(\u001b[22m::Array{Float64,2}, ::Variable\u001b[1m)\u001b[22m at \u001b[1m/Users/eh540/Dropbox (Personal)/LinkedFolders/Julia/dev/Convex/src/atoms/affine/multiply_divide.jl:103\u001b[22m\n",
      " [4] \u001b[1m(::var\"#7#8\")\u001b[22m\u001b[1m(\u001b[22m::Float64, ::Float64\u001b[1m)\u001b[22m at \u001b[1m./In[6]:4\u001b[22m\n",
      " [5] \u001b[1m(::Observables.var\"#16#17\"{var\"#7#8\",Observable{Any}})\u001b[22m\u001b[1m(\u001b[22m::Float64, ::Vararg{Float64,N} where N\u001b[1m)\u001b[22m at \u001b[1m/Users/eh540/.julia/packages/Observables/qCJWB/src/Observables.jl:152\u001b[22m\n",
      " [6] \u001b[1m(::Observables.var\"#g#15\"{Observables.var\"#16#17\"{var\"#7#8\",Observable{Any}},Tuple{Widget{:slider,Float64},Widget{:slider,Float64}}})\u001b[22m\u001b[1m(\u001b[22m::Float64\u001b[1m)\u001b[22m at \u001b[1m/Users/eh540/.julia/packages/Observables/qCJWB/src/Observables.jl:136\u001b[22m\n",
      " [7] \u001b[1m#setindex!#1\u001b[22m\u001b[1m(\u001b[22m::Base.var\"#58#59\"{Base.Fix2{typeof(in),Array{Function,1}}}, ::typeof(setindex!), ::Observable{Float64}, ::Float64\u001b[1m)\u001b[22m at \u001b[1m/Users/eh540/.julia/packages/Observables/qCJWB/src/Observables.jl:87\u001b[22m\n",
      " [8] \u001b[1m(::Base.var\"#kw##setindex!\")\u001b[22m\u001b[1m(\u001b[22m::NamedTuple{(:notify,),Tuple{Base.var\"#58#59\"{Base.Fix2{typeof(in),Array{Function,1}}}}}, ::typeof(setindex!), ::Observable{Float64}, ::Float64\u001b[1m)\u001b[22m at \u001b[1m./none:0\u001b[22m\n",
      " [9] \u001b[1m(::Observables.var\"#25#28\"{InteractBase.var\"#77#80\",Observable{Float64},Array{Function,1}})\u001b[22m\u001b[1m(\u001b[22m::Int64\u001b[1m)\u001b[22m at \u001b[1m/Users/eh540/.julia/packages/Observables/qCJWB/src/observablepair.jl:14\u001b[22m\n",
      " [10] \u001b[1m#setindex!#1\u001b[22m\u001b[1m(\u001b[22m::WebIO.var\"#44#45\", ::typeof(setindex!), ::Observable{Any}, ::Int64\u001b[1m)\u001b[22m at \u001b[1m/Users/eh540/.julia/packages/Observables/qCJWB/src/Observables.jl:87\u001b[22m\n",
      " [11] \u001b[1m#setindex!\u001b[22m at \u001b[1m./none:0\u001b[22m [inlined]\n",
      " [12] \u001b[1msetexcludinghandlers\u001b[22m at \u001b[1m/Users/eh540/.julia/packages/Observables/qCJWB/src/Observables.jl:103\u001b[22m [inlined]\n",
      " [13] \u001b[1mset_nosync\u001b[22m\u001b[1m(\u001b[22m::Observable{Any}, ::Int64\u001b[1m)\u001b[22m at \u001b[1m/Users/eh540/.julia/packages/WebIO/2mZPb/src/scope.jl:339\u001b[22m\n",
      " [14] \u001b[1mdispatch\u001b[22m\u001b[1m(\u001b[22m::Scope, ::String, ::Int64\u001b[1m)\u001b[22m at \u001b[1m/Users/eh540/.julia/packages/WebIO/2mZPb/src/scope.jl:348\u001b[22m\n",
      " [15] \u001b[1mdispatch_command\u001b[22m\u001b[1m(\u001b[22m::WebIO.IJuliaConnection, ::Dict{String,Any}\u001b[1m)\u001b[22m at \u001b[1m/Users/eh540/.julia/packages/WebIO/2mZPb/src/messaging.jl:104\u001b[22m\n",
      " [16] \u001b[1mdispatch\u001b[22m\u001b[1m(\u001b[22m::WebIO.IJuliaConnection, ::Dict{String,Any}\u001b[1m)\u001b[22m at \u001b[1m/Users/eh540/.julia/packages/WebIO/2mZPb/src/messaging.jl:81\u001b[22m\n",
      " [17] \u001b[1m(::WebIO.var\"#92#93\"{WebIO.IJuliaConnection})\u001b[22m\u001b[1m(\u001b[22m::IJulia.Msg\u001b[1m)\u001b[22m at \u001b[1m/Users/eh540/.julia/packages/WebIO/2mZPb/src/providers/ijulia.jl:21\u001b[22m\n",
      " [18] \u001b[1mcomm_msg\u001b[22m\u001b[1m(\u001b[22m::ZMQ.Socket, ::IJulia.Msg\u001b[1m)\u001b[22m at \u001b[1m/Users/eh540/.julia/packages/IJulia/fRegO/src/comm_manager.jl:134\u001b[22m\n",
      " [19] \u001b[1m#invokelatest#1\u001b[22m at \u001b[1m./essentials.jl:709\u001b[22m [inlined]\n",
      " [20] \u001b[1minvokelatest\u001b[22m at \u001b[1m./essentials.jl:708\u001b[22m [inlined]\n",
      " [21] \u001b[1meventloop\u001b[22m\u001b[1m(\u001b[22m::ZMQ.Socket\u001b[1m)\u001b[22m at \u001b[1m/Users/eh540/.julia/packages/IJulia/fRegO/src/eventloop.jl:8\u001b[22m\n",
      " [22] \u001b[1m(::IJulia.var\"#15#18\")\u001b[22m\u001b[1m(\u001b[22m\u001b[1m)\u001b[22m at \u001b[1m./task.jl:333\u001b[22mCannot multiply two expressions of sizes (50, 100) and (4, 1)\n",
      "Stacktrace:\n",
      " [1] \u001b[1merror\u001b[22m\u001b[1m(\u001b[22m::String\u001b[1m)\u001b[22m at \u001b[1m./error.jl:33\u001b[22m\n",
      " [2] \u001b[1mMultiplyAtom\u001b[22m at \u001b[1m/Users/eh540/Dropbox (Personal)/LinkedFolders/Julia/dev/Convex/src/atoms/affine/multiply_divide.jl:28\u001b[22m [inlined]\n",
      " [3] \u001b[1m*\u001b[22m\u001b[1m(\u001b[22m::Array{Float64,2}, ::Variable\u001b[1m)\u001b[22m at \u001b[1m/Users/eh540/Dropbox (Personal)/LinkedFolders/Julia/dev/Convex/src/atoms/affine/multiply_divide.jl:103\u001b[22m\n",
      " [4] \u001b[1m(::var\"#7#8\")\u001b[22m\u001b[1m(\u001b[22m::Float64, ::Float64\u001b[1m)\u001b[22m at \u001b[1m./In[6]:4\u001b[22m\n",
      " [5] \u001b[1m(::Observables.var\"#16#17\"{var\"#7#8\",Observable{Any}})\u001b[22m\u001b[1m(\u001b[22m::Float64, ::Vararg{Float64,N} where N\u001b[1m)\u001b[22m at \u001b[1m/Users/eh540/.julia/packages/Observables/qCJWB/src/Observables.jl:152\u001b[22m\n",
      " [6] \u001b[1m(::Observables.var\"#g#15\"{Observables.var\"#16#17\"{var\"#7#8\",Observable{Any}},Tuple{Widget{:slider,Float64},Widget{:slider,Float64}}})\u001b[22m\u001b[1m(\u001b[22m::Float64\u001b[1m)\u001b[22m at \u001b[1m/Users/eh540/.julia/packages/Observables/qCJWB/src/Observables.jl:136\u001b[22m\n",
      " [7] \u001b[1m#setindex!#1\u001b[22m\u001b[1m(\u001b[22m::Base.var\"#58#59\"{Base.Fix2{typeof(in),Array{Function,1}}}, ::typeof(setindex!), ::Observable{Float64}, ::Float64\u001b[1m)\u001b[22m at \u001b[1m/Users/eh540/.julia/packages/Observables/qCJWB/src/Observables.jl:87\u001b[22m\n",
      " [8] \u001b[1m(::Base.var\"#kw##setindex!\")\u001b[22m\u001b[1m(\u001b[22m::NamedTuple{(:notify,),Tuple{Base.var\"#58#59\"{Base.Fix2{typeof(in),Array{Function,1}}}}}, ::typeof(setindex!), ::Observable{Float64}, ::Float64\u001b[1m)\u001b[22m at \u001b[1m./none:0\u001b[22m\n",
      " [9] \u001b[1m(::Observables.var\"#25#28\"{InteractBase.var\"#77#80\",Observable{Float64},Array{Function,1}})\u001b[22m\u001b[1m(\u001b[22m::Int64\u001b[1m)\u001b[22m at \u001b[1m/Users/eh540/.julia/packages/Observables/qCJWB/src/observablepair.jl:14\u001b[22m\n",
      " [10] \u001b[1m#setindex!#1\u001b[22m\u001b[1m(\u001b[22m::WebIO.var\"#44#45\", ::typeof(setindex!), ::Observable{Any}, ::Int64\u001b[1m)\u001b[22m at \u001b[1m/Users/eh540/.julia/packages/Observables/qCJWB/src/Observables.jl:87\u001b[22m\n",
      " [11] \u001b[1m#setindex!\u001b[22m at \u001b[1m./none:0\u001b[22m [inlined]\n",
      " [12] \u001b[1msetexcludinghandlers\u001b[22m at \u001b[1m/Users/eh540/.julia/packages/Observables/qCJWB/src/Observables.jl:103\u001b[22m [inlined]\n",
      " [13] \u001b[1mset_nosync\u001b[22m\u001b[1m(\u001b[22m::Observable{Any}, ::Int64\u001b[1m)\u001b[22m at \u001b[1m/Users/eh540/.julia/packages/WebIO/2mZPb/src/scope.jl:339\u001b[22m\n",
      " [14] \u001b[1mdispatch\u001b[22m\u001b[1m(\u001b[22m::Scope, ::String, ::Int64\u001b[1m)\u001b[22m at \u001b[1m/Users/eh540/.julia/packages/WebIO/2mZPb/src/scope.jl:348\u001b[22m\n",
      " [15] \u001b[1mdispatch_command\u001b[22m\u001b[1m(\u001b[22m::WebIO.IJuliaConnection, ::Dict{String,Any}\u001b[1m)\u001b[22m at \u001b[1m/Users/eh540/.julia/packages/WebIO/2mZPb/src/messaging.jl:104\u001b[22m\n",
      " [16] \u001b[1mdispatch\u001b[22m\u001b[1m(\u001b[22m::WebIO.IJuliaConnection, ::Dict{String,Any}\u001b[1m)\u001b[22m at \u001b[1m/Users/eh540/.julia/packages/WebIO/2mZPb/src/messaging.jl:81\u001b[22m\n",
      " [17] \u001b[1m(::WebIO.var\"#92#93\"{WebIO.IJuliaConnection})\u001b[22m\u001b[1m(\u001b[22m::IJulia.Msg\u001b[1m)\u001b[22m at \u001b[1m/Users/eh540/.julia/packages/WebIO/2mZPb/src/providers/ijulia.jl:21\u001b[22m\n",
      " [18] \u001b[1mcomm_msg\u001b[22m\u001b[1m(\u001b[22m::ZMQ.Socket, ::IJulia.Msg\u001b[1m)\u001b[22m at \u001b[1m/Users/eh540/.julia/packages/IJulia/fRegO/src/comm_manager.jl:134\u001b[22m\n",
      " [19] \u001b[1m#invokelatest#1\u001b[22m at \u001b[1m./essentials.jl:709\u001b[22m [inlined]\n",
      " [20] \u001b[1minvokelatest\u001b[22m at \u001b[1m./essentials.jl:708\u001b[22m [inlined]\n",
      " [21] \u001b[1meventloop\u001b[22m\u001b[1m(\u001b[22m::ZMQ.Socket\u001b[1m)\u001b[22m at \u001b[1m/Users/eh540/.julia/packages/IJulia/fRegO/src/eventloop.jl:8\u001b[22m\n",
      " [22] \u001b[1m(::IJulia.var\"#15#18\")\u001b[22m\u001b[1m(\u001b[22m\u001b[1m)\u001b[22m at \u001b[1m./task.jl:333\u001b[22mCannot multiply two expressions of sizes (50, 100) and (4, 1)\n",
      "Stacktrace:\n",
      " [1] \u001b[1merror\u001b[22m\u001b[1m(\u001b[22m::String\u001b[1m)\u001b[22m at \u001b[1m./error.jl:33\u001b[22m\n",
      " [2] \u001b[1mMultiplyAtom\u001b[22m at \u001b[1m/Users/eh540/Dropbox (Personal)/LinkedFolders/Julia/dev/Convex/src/atoms/affine/multiply_divide.jl:28\u001b[22m [inlined]\n",
      " [3] \u001b[1m*\u001b[22m\u001b[1m(\u001b[22m::Array{Float64,2}, ::Variable\u001b[1m)\u001b[22m at \u001b[1m/Users/eh540/Dropbox (Personal)/LinkedFolders/Julia/dev/Convex/src/atoms/affine/multiply_divide.jl:103\u001b[22m\n",
      " [4] \u001b[1m(::var\"#7#8\")\u001b[22m\u001b[1m(\u001b[22m::Float64, ::Float64\u001b[1m)\u001b[22m at \u001b[1m./In[6]:4\u001b[22m\n",
      " [5] \u001b[1m(::Observables.var\"#16#17\"{var\"#7#8\",Observable{Any}})\u001b[22m\u001b[1m(\u001b[22m::Float64, ::Vararg{Float64,N} where N\u001b[1m)\u001b[22m at \u001b[1m/Users/eh540/.julia/packages/Observables/qCJWB/src/Observables.jl:152\u001b[22m\n",
      " [6] \u001b[1m(::Observables.var\"#g#15\"{Observables.var\"#16#17\"{var\"#7#8\",Observable{Any}},Tuple{Widget{:slider,Float64},Widget{:slider,Float64}}})\u001b[22m\u001b[1m(\u001b[22m::Float64\u001b[1m)\u001b[22m at \u001b[1m/Users/eh540/.julia/packages/Observables/qCJWB/src/Observables.jl:136\u001b[22m\n",
      " [7] \u001b[1m#setindex!#1\u001b[22m\u001b[1m(\u001b[22m::Base.var\"#58#59\"{Base.Fix2{typeof(in),Array{Function,1}}}, ::typeof(setindex!), ::Observable{Float64}, ::Float64\u001b[1m)\u001b[22m at \u001b[1m/Users/eh540/.julia/packages/Observables/qCJWB/src/Observables.jl:87\u001b[22m\n",
      " [8] \u001b[1m(::Base.var\"#kw##setindex!\")\u001b[22m\u001b[1m(\u001b[22m::NamedTuple{(:notify,),Tuple{Base.var\"#58#59\"{Base.Fix2{typeof(in),Array{Function,1}}}}}, ::typeof(setindex!), ::Observable{Float64}, ::Float64\u001b[1m)\u001b[22m at \u001b[1m./none:0\u001b[22m\n",
      " [9] \u001b[1m(::Observables.var\"#25#28\"{InteractBase.var\"#77#80\",Observable{Float64},Array{Function,1}})\u001b[22m\u001b[1m(\u001b[22m::Int64\u001b[1m)\u001b[22m at \u001b[1m/Users/eh540/.julia/packages/Observables/qCJWB/src/observablepair.jl:14\u001b[22m\n",
      " [10] \u001b[1m#setindex!#1\u001b[22m\u001b[1m(\u001b[22m::WebIO.var\"#44#45\", ::typeof(setindex!), ::Observable{Any}, ::Int64\u001b[1m)\u001b[22m at \u001b[1m/Users/eh540/.julia/packages/Observables/qCJWB/src/Observables.jl:87\u001b[22m\n",
      " [11] \u001b[1m#setindex!\u001b[22m at \u001b[1m./none:0\u001b[22m [inlined]\n",
      " [12] \u001b[1msetexcludinghandlers\u001b[22m at \u001b[1m/Users/eh540/.julia/packages/Observables/qCJWB/src/Observables.jl:103\u001b[22m [inlined]\n",
      " [13] \u001b[1mset_nosync\u001b[22m\u001b[1m(\u001b[22m::Observable{Any}, ::Int64\u001b[1m)\u001b[22m at \u001b[1m/Users/eh540/.julia/packages/WebIO/2mZPb/src/scope.jl:339\u001b[22m\n",
      " [14] \u001b[1mdispatch\u001b[22m\u001b[1m(\u001b[22m::Scope, ::String, ::Int64\u001b[1m)\u001b[22m at \u001b[1m/Users/eh540/.julia/packages/WebIO/2mZPb/src/scope.jl:348\u001b[22m\n",
      " [15] \u001b[1mdispatch_command\u001b[22m\u001b[1m(\u001b[22m::"
     ]
    },
    {
     "ename": "ErrorException",
     "evalue": "Cannot multiply two expressions of sizes (50, 100) and (4, 1)",
     "output_type": "error",
     "traceback": [
      "KERNEL EXCEPTION",
      "Cannot multiply two expressions of sizes (50, 100) and (4, 1)",
      "",
      "Stacktrace:",
      " [1] error(::String) at ./error.jl:33",
      " [2] MultiplyAtom at /Users/eh540/Dropbox (Personal)/LinkedFolders/Julia/dev/Convex/src/atoms/affine/multiply_divide.jl:28 [inlined]",
      " [3] *(::Array{Float64,2}, ::Variable) at /Users/eh540/Dropbox (Personal)/LinkedFolders/Julia/dev/Convex/src/atoms/affine/multiply_divide.jl:103",
      " [4] (::var\"#7#8\")(::Float64, ::Float64) at ./In[6]:4",
      " [5] (::Observables.var\"#16#17\"{var\"#7#8\",Observable{Any}})(::Float64, ::Vararg{Float64,N} where N) at /Users/eh540/.julia/packages/Observables/qCJWB/src/Observables.jl:152",
      " [6] (::Observables.var\"#g#15\"{Observables.var\"#16#17\"{var\"#7#8\",Observable{Any}},Tuple{Widget{:slider,Float64},Widget{:slider,Float64}}})(::Float64) at /Users/eh540/.julia/packages/Observables/qCJWB/src/Observables.jl:136",
      " [7] #setindex!#1(::Base.var\"#58#59\"{Base.Fix2{typeof(in),Array{Function,1}}}, ::typeof(setindex!), ::Observable{Float64}, ::Float64) at /Users/eh540/.julia/packages/Observables/qCJWB/src/Observables.jl:87",
      " [8] (::Base.var\"#kw##setindex!\")(::NamedTuple{(:notify,),Tuple{Base.var\"#58#59\"{Base.Fix2{typeof(in),Array{Function,1}}}}}, ::typeof(setindex!), ::Observable{Float64}, ::Float64) at ./none:0",
      " [9] (::Observables.var\"#25#28\"{InteractBase.var\"#77#80\",Observable{Float64},Array{Function,1}})(::Int64) at /Users/eh540/.julia/packages/Observables/qCJWB/src/observablepair.jl:14",
      " [10] #setindex!#1(::WebIO.var\"#44#45\", ::typeof(setindex!), ::Observable{Any}, ::Int64) at /Users/eh540/.julia/packages/Observables/qCJWB/src/Observables.jl:87",
      " [11] #setindex! at ./none:0 [inlined]",
      " [12] setexcludinghandlers at /Users/eh540/.julia/packages/Observables/qCJWB/src/Observables.jl:103 [inlined]",
      " [13] set_nosync(::Observable{Any}, ::Int64) at /Users/eh540/.julia/packages/WebIO/2mZPb/src/scope.jl:339",
      " [14] dispatch(::Scope, ::String, ::Int64) at /Users/eh540/.julia/packages/WebIO/2mZPb/src/scope.jl:348",
      " [15] dispatch_command(::WebIO.IJuliaConnection, ::Dict{String,Any}) at /Users/eh540/.julia/packages/WebIO/2mZPb/src/messaging.jl:104",
      " [16] dispatch(::WebIO.IJuliaConnection, ::Dict{String,Any}) at /Users/eh540/.julia/packages/WebIO/2mZPb/src/messaging.jl:81",
      " [17] (::WebIO.var\"#92#93\"{WebIO.IJuliaConnection})(::IJulia.Msg) at /Users/eh540/.julia/packages/WebIO/2mZPb/src/providers/ijulia.jl:21",
      " [18] comm_msg(::ZMQ.Socket, ::IJulia.Msg) at /Users/eh540/.julia/packages/IJulia/fRegO/src/comm_manager.jl:134",
      " [19] #invokelatest#1 at ./essentials.jl:709 [inlined]",
      " [20] invokelatest at ./essentials.jl:708 [inlined]",
      " [21] eventloop(::ZMQ.Socket) at /Users/eh540/.julia/packages/IJulia/fRegO/src/eventloop.jl:8",
      " [22] (::IJulia.var\"#15#18\")() at ./task.jl:333"
     ]
    },
    {
     "name": "stderr",
     "output_type": "stream",
     "text": [
      "WebIO.IJuliaConnection, ::Dict{String,Any}\u001b[1m)\u001b[22m at \u001b[1m/Users/eh540/.julia/packages/WebIO/2mZPb/src/messaging.jl:104\u001b[22m\n",
      " [16] \u001b[1mdispatch\u001b[22m\u001b[1m(\u001b[22m::WebIO.IJuliaConnection, ::Dict{String,Any}\u001b[1m)\u001b[22m at \u001b[1m/Users/eh540/.julia/packages/WebIO/2mZPb/src/messaging.jl:81\u001b[22m\n",
      " [17] \u001b[1m(::WebIO.var\"#92#93\"{WebIO.IJuliaConnection})\u001b[22m\u001b[1m(\u001b[22m::IJulia.Msg\u001b[1m)\u001b[22m at \u001b[1m/Users/eh540/.julia/packages/WebIO/2mZPb/src/providers/ijulia.jl:21\u001b[22m\n",
      " [18] \u001b[1mcomm_msg\u001b[22m\u001b[1m(\u001b[22m::ZMQ.Socket, ::IJulia.Msg\u001b[1m)\u001b[22m at \u001b[1m/Users/eh540/.julia/packages/IJulia/fRegO/src/comm_manager.jl:134\u001b[22m\n",
      " [19] \u001b[1m#invokelatest#1\u001b[22m at \u001b[1m./essentials.jl:709\u001b[22m [inlined]\n",
      " [20] \u001b[1minvokelatest\u001b[22m at \u001b[1m./essentials.jl:708\u001b[22m [inlined]\n",
      " [21] \u001b[1meventloop\u001b[22m\u001b[1m(\u001b[22m::ZMQ.Socket\u001b[1m)\u001b[22m at \u001b[1m/Users/eh540/.julia/packages/IJulia/fRegO/src/eventloop.jl:8\u001b[22m\n",
      " [22] \u001b[1m(::IJulia.var\"#15#18\")\u001b[22m\u001b[1m(\u001b[22m\u001b[1m)\u001b[22m at \u001b[1m./task.jl:333\u001b[22mCannot multiply two expressions of sizes (50, 100) and (4, 1)\n",
      "Stacktrace:\n",
      " [1] \u001b[1merror\u001b[22m\u001b[1m(\u001b[22m::String\u001b[1m)\u001b[22m at \u001b[1m./error.jl:33\u001b[22m\n",
      " [2] \u001b[1mMultiplyAtom\u001b[22m at \u001b[1m/Users/eh540/Dropbox (Personal)/LinkedFolders/Julia/dev/Convex/src/atoms/affine/multiply_divide.jl:28\u001b[22m [inlined]\n",
      " [3] \u001b[1m*\u001b[22m\u001b[1m(\u001b[22m::Array{Float64,2}, ::Variable\u001b[1m)\u001b[22m at \u001b[1m/Users/eh540/Dropbox (Personal)/LinkedFolders/Julia/dev/Convex/src/atoms/affine/multiply_divide.jl:103\u001b[22m\n",
      " [4] \u001b[1m(::var\"#7#8\")\u001b[22m\u001b[1m(\u001b[22m::Float64, ::Float64\u001b[1m)\u001b[22m at \u001b[1m./In[6]:4\u001b[22m\n",
      " [5] \u001b[1m(::Observables.var\"#16#17\"{var\"#7#8\",Observable{Any}})\u001b[22m\u001b[1m(\u001b[22m::Float64, ::Vararg{Float64,N} where N\u001b[1m)\u001b[22m at \u001b[1m/Users/eh540/.julia/packages/Observables/qCJWB/src/Observables.jl:152\u001b[22m\n",
      " [6] \u001b[1m(::Observables.var\"#g#15\"{Observables.var\"#16#17\"{var\"#7#8\",Observable{Any}},Tuple{Widget{:slider,Float64},Widget{:slider,Float64}}})\u001b[22m\u001b[1m(\u001b[22m::Float64\u001b[1m)\u001b[22m at \u001b[1m/Users/eh540/.julia/packages/Observables/qCJWB/src/Observables.jl:136\u001b[22m\n",
      " [7] \u001b[1m#setindex!#1\u001b[22m\u001b[1m(\u001b[22m::Base.var\"#58#59\"{Base.Fix2{typeof(in),Array{Function,1}}}, ::typeof(setindex!), ::Observable{Float64}, ::Float64\u001b[1m)\u001b[22m at \u001b[1m/Users/eh540/.julia/packages/Observables/qCJWB/src/Observables.jl:87\u001b[22m\n",
      " [8] \u001b[1m(::Base.var\"#kw##setindex!\")\u001b[22m\u001b[1m(\u001b[22m::NamedTuple{(:notify,),Tuple{Base.var\"#58#59\"{Base.Fix2{typeof(in),Array{Function,1}}}}}, ::typeof(setindex!), ::Observable{Float64}, ::Float64\u001b[1m)\u001b[22m at \u001b[1m./none:0\u001b[22m\n",
      " [9] \u001b[1m(::Observables.var\"#25#28\"{InteractBase.var\"#77#80\",Observable{Float64},Array{Function,1}})\u001b[22m\u001b[1m(\u001b[22m::Int64\u001b[1m)\u001b[22m at \u001b[1m/Users/eh540/.julia/packages/Observables/qCJWB/src/observablepair.jl:14\u001b[22m\n",
      " [10] \u001b[1m#setindex!#1\u001b[22m\u001b[1m(\u001b[22m::WebIO.var\"#44#45\", ::typeof(setindex!), ::Observable{Any}, ::Int64\u001b[1m)\u001b[22m at \u001b[1m/Users/eh540/.julia/packages/Observables/qCJWB/src/Observables.jl:87\u001b[22m\n",
      " [11] \u001b[1m#setindex!\u001b[22m at \u001b[1m./none:0\u001b[22m [inlined]\n",
      " [12] \u001b[1msetexcludinghandlers\u001b[22m at \u001b[1m/Users/eh540/.julia/packages/Observables/qCJWB/src/Observables.jl:103\u001b[22m [inlined]\n",
      " [13] \u001b[1mset_nosync\u001b[22m\u001b[1m(\u001b[22m::Observable{Any}, ::Int64\u001b[1m)\u001b[22m at \u001b[1m/Users/eh540/.julia/packages/WebIO/2mZPb/src/scope.jl:339\u001b[22m\n",
      " [14] \u001b[1mdispatch\u001b[22m\u001b[1m(\u001b[22m::Scope, ::String, ::Int64\u001b[1m)\u001b[22m at \u001b[1m/Users/eh540/.julia/packages/WebIO/2mZPb/src/scope.jl:348\u001b[22m\n",
      " [15] \u001b[1mdispatch_command\u001b[22m\u001b[1m(\u001b[22m::WebIO.IJuliaConnection, ::Dict{String,Any}\u001b[1m)\u001b[22m at \u001b[1m/Users/eh540/.julia/packages/WebIO/2mZPb/src/messaging.jl:104\u001b[22m\n",
      " [16] \u001b[1mdispatch\u001b[22m\u001b[1m(\u001b[22m::WebIO.IJuliaConnection, ::Dict{String,Any}\u001b[1m)\u001b[22m at \u001b[1m/Users/eh540/.julia/packages/WebIO/2mZPb/src/messaging.jl:81\u001b[22m\n",
      " [17] \u001b[1m(::WebIO.var\"#92#93\"{WebIO.IJuliaConnection})\u001b[22m\u001b[1m(\u001b[22m::IJulia.Msg\u001b[1m)\u001b[22m at \u001b[1m/Users/eh540/.julia/packages/WebIO/2mZPb/src/providers/ijulia.jl:21\u001b[22m\n",
      " [18] \u001b[1mcomm_msg\u001b[22m\u001b[1m(\u001b[22m::ZMQ.Socket, ::IJulia.Msg\u001b[1m)\u001b[22m at \u001b[1m/Users/eh540/.julia/packages/IJulia/fRegO/src/comm_manager.jl:134\u001b[22m\n",
      " [19] \u001b[1m#invokelatest#1\u001b[22m at \u001b[1m./essentials.jl:709\u001b[22m [inlined]\n",
      " [20] \u001b[1minvokelatest\u001b[22m at \u001b[1m./essentials.jl:708\u001b[22m [inlined]\n",
      " [21] \u001b[1meventloop\u001b[22m\u001b[1m(\u001b[22m::ZMQ.Socket\u001b[1m)\u001b[22m at \u001b[1m/Users/eh540/.julia/packages/IJulia/fRegO/src/eventloop.jl:8\u001b[22m\n",
      " [22] \u001b[1m(::IJulia.var\"#15#18\")\u001b[22m\u001b[1m(\u001b[22m\u001b[1m)\u001b[22m at \u001b[1m./task.jl:333\u001b[22m"
     ]
    },
    {
     "ename": "ErrorException",
     "evalue": "Cannot multiply two expressions of sizes (50, 100) and (4, 1)",
     "output_type": "error",
     "traceback": [
      "KERNEL EXCEPTION",
      "Cannot multiply two expressions of sizes (50, 100) and (4, 1)",
      "",
      "Stacktrace:",
      " [1] error(::String) at ./error.jl:33",
      " [2] MultiplyAtom at /Users/eh540/Dropbox (Personal)/LinkedFolders/Julia/dev/Convex/src/atoms/affine/multiply_divide.jl:28 [inlined]",
      " [3] *(::Array{Float64,2}, ::Variable) at /Users/eh540/Dropbox (Personal)/LinkedFolders/Julia/dev/Convex/src/atoms/affine/multiply_divide.jl:103",
      " [4] (::var\"#7#8\")(::Float64, ::Float64) at ./In[6]:4",
      " [5] (::Observables.var\"#16#17\"{var\"#7#8\",Observable{Any}})(::Float64, ::Vararg{Float64,N} where N) at /Users/eh540/.julia/packages/Observables/qCJWB/src/Observables.jl:152",
      " [6] (::Observables.var\"#g#15\"{Observables.var\"#16#17\"{var\"#7#8\",Observable{Any}},Tuple{Widget{:slider,Float64},Widget{:slider,Float64}}})(::Float64) at /Users/eh540/.julia/packages/Observables/qCJWB/src/Observables.jl:136",
      " [7] #setindex!#1(::Base.var\"#58#59\"{Base.Fix2{typeof(in),Array{Function,1}}}, ::typeof(setindex!), ::Observable{Float64}, ::Float64) at /Users/eh540/.julia/packages/Observables/qCJWB/src/Observables.jl:87",
      " [8] (::Base.var\"#kw##setindex!\")(::NamedTuple{(:notify,),Tuple{Base.var\"#58#59\"{Base.Fix2{typeof(in),Array{Function,1}}}}}, ::typeof(setindex!), ::Observable{Float64}, ::Float64) at ./none:0",
      " [9] (::Observables.var\"#25#28\"{InteractBase.var\"#77#80\",Observable{Float64},Array{Function,1}})(::Int64) at /Users/eh540/.julia/packages/Observables/qCJWB/src/observablepair.jl:14",
      " [10] #setindex!#1(::WebIO.var\"#44#45\", ::typeof(setindex!), ::Observable{Any}, ::Int64) at /Users/eh540/.julia/packages/Observables/qCJWB/src/Observables.jl:87",
      " [11] #setindex! at ./none:0 [inlined]",
      " [12] setexcludinghandlers at /Users/eh540/.julia/packages/Observables/qCJWB/src/Observables.jl:103 [inlined]",
      " [13] set_nosync(::Observable{Any}, ::Int64) at /Users/eh540/.julia/packages/WebIO/2mZPb/src/scope.jl:339",
      " [14] dispatch(::Scope, ::String, ::Int64) at /Users/eh540/.julia/packages/WebIO/2mZPb/src/scope.jl:348",
      " [15] dispatch_command(::WebIO.IJuliaConnection, ::Dict{String,Any}) at /Users/eh540/.julia/packages/WebIO/2mZPb/src/messaging.jl:104",
      " [16] dispatch(::WebIO.IJuliaConnection, ::Dict{String,Any}) at /Users/eh540/.julia/packages/WebIO/2mZPb/src/messaging.jl:81",
      " [17] (::WebIO.var\"#92#93\"{WebIO.IJuliaConnection})(::IJulia.Msg) at /Users/eh540/.julia/packages/WebIO/2mZPb/src/providers/ijulia.jl:21",
      " [18] comm_msg(::ZMQ.Socket, ::IJulia.Msg) at /Users/eh540/.julia/packages/IJulia/fRegO/src/comm_manager.jl:134",
      " [19] #invokelatest#1 at ./essentials.jl:709 [inlined]",
      " [20] invokelatest at ./essentials.jl:708 [inlined]",
      " [21] eventloop(::ZMQ.Socket) at /Users/eh540/.julia/packages/IJulia/fRegO/src/eventloop.jl:8",
      " [22] (::IJulia.var\"#15#18\")() at ./task.jl:333"
     ]
    },
    {
     "name": "stderr",
     "output_type": "stream",
     "text": [
      "Cannot multiply two expressions of sizes (50, 100) and (4, 1)\n",
      "Stacktrace:\n",
      " [1] \u001b[1merror\u001b[22m\u001b[1m(\u001b[22m::String\u001b[1m)\u001b[22m at \u001b[1m./error.jl:33\u001b[22m\n",
      " [2] \u001b[1mMultiplyAtom\u001b[22m at \u001b[1m/Users/eh540/Dropbox (Personal)/LinkedFolders/Julia/dev/Convex/src/atoms/affine/multiply_divide.jl:28\u001b[22m [inlined]\n",
      " [3] \u001b[1m*\u001b[22m\u001b[1m(\u001b[22m::Array{Float64,2}, ::Variable\u001b[1m)\u001b[22m at \u001b[1m/Users/eh540/Dropbox (Personal)/LinkedFolders/Julia/dev/Convex/src/atoms/affine/multiply_divide.jl:103\u001b[22m\n",
      " [4] \u001b[1m(::var\"#7#8\")\u001b[22m\u001b[1m(\u001b[22m::Float64, ::Float64\u001b[1m)\u001b[22m at \u001b[1m./In[6]:4\u001b[22m\n",
      " [5] \u001b[1m(::Observables.var\"#16#17\"{var\"#7#8\",Observable{Any}})\u001b[22m\u001b[1m(\u001b[22m::Float64, ::Vararg{Float64,N} where N\u001b[1m)\u001b[22m at \u001b[1m/Users/eh540/.julia/packages/Observables/qCJWB/src/Observables.jl:152\u001b[22m\n",
      " [6] \u001b[1m(::Observables.var\"#g#15\"{Observables.var\"#16#17\"{var\"#7#8\",Observable{Any}},Tuple{Widget{:slider,Float64},Widget{:slider,Float64}}})\u001b[22m\u001b[1m(\u001b[22m::Float64\u001b[1m)\u001b[22m at \u001b[1m/Users/eh540/.julia/packages/Observables/qCJWB/src/Observables.jl:136\u001b[22m\n",
      " [7] \u001b[1m#setindex!#1\u001b[22m\u001b[1m(\u001b[22m::Base.var\"#58#59\"{Base.Fix2{typeof(in),Array{Function,1}}}, ::typeof(setindex!), ::Observable{Float64}, ::Float64\u001b[1m)\u001b[22m at \u001b[1m/Users/eh540/.julia/packages/Observables/qCJWB/src/Observables.jl:87\u001b[22m\n",
      " [8] \u001b[1m(::Base.var\"#kw##setindex!\")\u001b[22m\u001b[1m(\u001b[22m::NamedTuple{(:notify,),Tuple{Base.var\"#58#59\"{Base.Fix2{typeof(in),Array{Function,1}}}}}, ::typeof(setindex!), ::Observable{Float64}, ::Float64\u001b[1m)\u001b[22m at \u001b[1m./none:0\u001b[22m\n",
      " [9] \u001b[1m(::Observables.var\"#25#28\"{InteractBase.var\"#77#80\",Observable{Float64},Array{Function,1}})\u001b[22m\u001b[1m(\u001b[22m::Int64\u001b[1m)\u001b[22m at \u001b[1m/Users/eh540/.julia/packages/Observables/qCJWB/src/observablepair.jl:14\u001b[22m\n",
      " [10] \u001b[1m#setindex!#1\u001b[22m\u001b[1m(\u001b[22m::WebIO.var\"#44#45\", ::typeof(setindex!), ::Observable{Any}, ::Int64\u001b[1m)\u001b[22m at \u001b[1m/Users/eh540/.julia/packages/Observables/qCJWB/src/Observables.jl:87\u001b[22m\n",
      " [11] \u001b[1m#setindex!\u001b[22m at \u001b[1m./none:0\u001b[22m [inlined]\n",
      " [12] \u001b[1msetexcludinghandlers\u001b[22m at \u001b[1m/Users/eh540/.julia/packages/Observables/qCJWB/src/Observables.jl:103\u001b[22m [inlined]\n",
      " [13] \u001b[1mset_nosync\u001b[22m\u001b[1m(\u001b[22m::Observable{Any}, ::Int64\u001b[1m)\u001b[22m at \u001b[1m/Users/eh540/.julia/packages/WebIO/2mZPb/src/scope.jl:339\u001b[22m\n",
      " [14] \u001b[1mdispatch\u001b[22m\u001b[1m(\u001b[22m::Scope, ::String, ::Int64\u001b[1m)\u001b[22m at \u001b[1m/Users/eh540/.julia/packages/WebIO/2mZPb/src/scope.jl:348\u001b[22m\n",
      " [15] \u001b[1mdispatch_command\u001b[22m\u001b[1m(\u001b[22m::WebIO.IJuliaConnection, ::Dict{String,Any}\u001b[1m)\u001b[22m at \u001b[1m/Users/eh540/.julia/packages/WebIO/2mZPb/src/messaging.jl:104\u001b[22m\n",
      " [16] \u001b[1mdispatch\u001b[22m\u001b[1m(\u001b[22m::WebIO.IJuliaConnection, ::Dict{String,Any}\u001b[1m)\u001b[22m at \u001b[1m/Users/eh540/.julia/packages/WebIO/2mZPb/src/messaging.jl:81\u001b[22m\n",
      " [17] \u001b[1m(::WebIO.var\"#92#93\"{WebIO.IJuliaConnection})\u001b[22m\u001b[1m(\u001b[22m::IJulia.Msg\u001b[1m)\u001b[22m at \u001b[1m/Users/eh540/.julia/packages/WebIO/2mZPb/src/providers/ijulia.jl:21\u001b[22m\n",
      " [18] \u001b[1mcomm_msg\u001b[22m\u001b[1m(\u001b[22m::ZMQ.Socket, ::IJulia.Msg\u001b[1m)\u001b[22m at \u001b[1m/Users/eh540/.julia/packages/IJulia/fRegO/src/comm_manager.jl:134\u001b[22m\n",
      " [19] \u001b[1m#invokelatest#1\u001b[22m at \u001b[1m./essentials.jl:709\u001b[22m [inlined]\n",
      " [20] \u001b[1minvokelatest\u001b[22m at \u001b[1m./essentials.jl:708\u001b[22m [inlined]\n",
      " [21] \u001b[1meventloop\u001b[22m\u001b[1m(\u001b[22m::ZMQ.Socket\u001b[1m)\u001b[22m at \u001b[1m/Users/eh540/.julia/packages/IJulia/fRegO/src/eventloop.jl:8\u001b[22m\n",
      " [22] \u001b[1m(::IJulia.var\"#15#18\")\u001b[22m\u001b[1m(\u001b[22m\u001b[1m)\u001b[22m at \u001b[1m./task.jl:333\u001b[22mCannot multiply two expressions of sizes (50, 100) and (4, 1)\n",
      "Stacktrace:\n",
      " [1] \u001b[1merror\u001b[22m\u001b[1m(\u001b[22m::String\u001b[1m)\u001b[22m at \u001b[1m./error.jl:33\u001b[22m\n",
      " [2] \u001b[1mMultiplyAtom\u001b[22m at \u001b[1m/Users/eh540/Dropbox (Personal)/LinkedFolders/Julia/dev/Convex/src/atoms/affine/multiply_divide.jl:28\u001b[22m [inlined]\n",
      " [3] \u001b[1m*\u001b[22m\u001b[1m(\u001b[22m::Array{Float64,2}, ::Variable\u001b[1m)\u001b[22m at \u001b[1m/Users/eh540/Dropbox (Personal)/LinkedFolders/Julia/dev/Convex/src/atoms/affine/multiply_divide.jl:103\u001b[22m\n",
      " [4] \u001b[1m(::var\"#7#8\")\u001b[22m\u001b[1m(\u001b[22m::Float64, ::Float64\u001b[1m)\u001b[22m at \u001b[1m./In[6]:4\u001b[22m\n",
      " [5] \u001b[1m(::Observables.var\"#16#17\"{var\"#7#8\",Observable{Any}})\u001b[22m\u001b[1m(\u001b[22m::Float64, ::Vararg{Float64,N} where N\u001b[1m)\u001b[22m at \u001b[1m/Users/eh540/.julia/packages/Observables/qCJWB/src/Observables.jl:152\u001b[22m\n",
      " [6] \u001b[1m(::Observables.var\"#g#15\"{Observables.var\"#16#17\"{var\"#7#8\",Observable{Any}},Tuple{Widget{:slider,Float64},Widget{:slider,Float64}}})\u001b[22m\u001b[1m(\u001b[22m::Float64\u001b[1m)\u001b[22m at \u001b[1m/Users/eh540/.julia/packages/Observables/qCJWB/src/Observables.jl:136\u001b[22m\n",
      " [7] \u001b[1m#setindex!#1\u001b[22m\u001b[1m(\u001b[22m::Base.var\"#58#59\"{Base.Fix2{typeof(in),Array{Function,1}}}, ::typeof(setindex!), ::Observable{Float64}, ::Float64\u001b[1m)\u001b[22m at \u001b[1m/Users/eh540/.julia/packages/Observables/qCJWB/src/Observables.jl:87\u001b[22m\n",
      " [8] \u001b[1m(::Base.var\"#kw##setindex!\")\u001b[22m\u001b[1m(\u001b[22m::NamedTuple{(:notify,),Tuple{Base.var\"#58#59\"{Base.Fix2{typeof(in),Array{Function,1}}}}}, ::typeof(setindex!), ::Observable{Float64}, ::Float64\u001b[1m)\u001b[22m at \u001b[1m./none:0\u001b[22m\n",
      " [9] \u001b[1m(::Observables.var\"#25#28\"{InteractBase.var\"#77#80\",Observable{Float64},Array{Function,1}})\u001b[22m\u001b[1m(\u001b[22m::Int64\u001b[1m)\u001b[22m at \u001b[1m/Users/eh540/.julia/packages/Observables/qCJWB/src/observablepair.jl:14\u001b[22m\n",
      " [10] \u001b[1m#setindex!#1\u001b[22m\u001b[1m(\u001b[22m::WebIO.var\"#44#45\", ::typeof(setindex!), ::Observable{Any}, ::Int64\u001b[1m)\u001b[22m at \u001b[1m/Users/eh540/.julia/packages/Observables/qCJWB/src/Observables.jl:87\u001b[22m\n",
      " [11] \u001b[1m#setindex!\u001b[22m at \u001b[1m./none:0\u001b[22m [inlined]\n",
      " [12] \u001b[1msetexcludinghandlers\u001b[22m at \u001b[1m/Users/eh540/.julia/packages/Observables/qCJWB/src/Observables.jl:103\u001b[22m [inlined]\n",
      " [13] \u001b[1mset_nosync\u001b[22m\u001b[1m(\u001b[22m::Observable{Any}, ::Int64\u001b[1m)\u001b[22m at \u001b[1m/Users/eh540/.julia/packages/WebIO/2mZPb/src/scope.jl:339\u001b[22m\n",
      " [14] \u001b[1mdispatch\u001b[22m\u001b[1m(\u001b[22m::Scope, ::String, ::Int64\u001b[1m)\u001b[22m at \u001b[1m/Users/eh540/.julia/packages/WebIO/2mZPb/src/scope.jl:348\u001b[22m\n",
      " [15] \u001b[1mdispatch_command\u001b[22m\u001b[1m(\u001b[22m::WebIO.IJuliaConnection, ::Dict{String,Any}\u001b[1m)\u001b[22m at \u001b[1m/Users/eh540/.julia/packages/WebIO/2mZPb/src/messaging.jl:104\u001b[22m\n",
      " [16] \u001b[1mdispatch\u001b[22m\u001b[1m(\u001b[22m::WebIO.IJuliaConnection, ::Dict{String,Any}\u001b[1m)\u001b[22m at \u001b[1m/Users/eh540/.julia/packages/WebIO/2mZPb/src/messaging.jl:81\u001b[22m\n",
      " [17] \u001b[1m(::WebIO.var\"#92#93\"{WebIO.IJuliaConnection})\u001b[22m\u001b[1m(\u001b[22m::IJulia.Msg\u001b[1m)\u001b[22m at \u001b[1m/Users/eh540/.julia/packages/WebIO/2mZPb/src/providers/ijulia.jl:21\u001b[22m\n",
      " [18] \u001b[1mcomm_msg\u001b[22m\u001b[1m(\u001b[22m::ZMQ.Socket, ::IJulia.Msg\u001b[1m)\u001b[22m at \u001b[1m/Users/eh540/.julia/packages/IJulia/fRegO/src/comm_manager.jl:134\u001b[22m\n",
      " [19] \u001b[1m#invokelatest#1\u001b[22m at \u001b[1m./essentials.jl:709\u001b[22m [inlined]\n",
      " [20] \u001b[1minvokelatest\u001b[22m at \u001b[1m./essentials.jl:708\u001b[22m [inlined]\n",
      " [21] \u001b[1meventloop\u001b[22m\u001b[1m(\u001b[22m::ZMQ.Socket\u001b[1m)\u001b[22m at \u001b[1m/Users/eh540/.julia/packages/IJulia/fRegO/src/eventloop.jl:8\u001b[22m\n",
      " [22] \u001b[1m(::IJulia.var\"#15#18\")\u001b[22m\u001b[1m(\u001b[22m\u001b[1m)\u001b[22m at \u001b[1m./task.jl:333\u001b[22m"
     ]
    },
    {
     "ename": "ErrorException",
     "evalue": "Cannot multiply two expressions of sizes (50, 100) and (4, 1)",
     "output_type": "error",
     "traceback": [
      "KERNEL EXCEPTION",
      "Cannot multiply two expressions of sizes (50, 100) and (4, 1)",
      "",
      "Stacktrace:",
      " [1] error(::String) at ./error.jl:33",
      " [2] MultiplyAtom at /Users/eh540/Dropbox (Personal)/LinkedFolders/Julia/dev/Convex/src/atoms/affine/multiply_divide.jl:28 [inlined]",
      " [3] *(::Array{Float64,2}, ::Variable) at /Users/eh540/Dropbox (Personal)/LinkedFolders/Julia/dev/Convex/src/atoms/affine/multiply_divide.jl:103",
      " [4] (::var\"#7#8\")(::Float64, ::Float64) at ./In[6]:4",
      " [5] (::Observables.var\"#16#17\"{var\"#7#8\",Observable{Any}})(::Float64, ::Vararg{Float64,N} where N) at /Users/eh540/.julia/packages/Observables/qCJWB/src/Observables.jl:152",
      " [6] (::Observables.var\"#g#15\"{Observables.var\"#16#17\"{var\"#7#8\",Observable{Any}},Tuple{Widget{:slider,Float64},Widget{:slider,Float64}}})(::Float64) at /Users/eh540/.julia/packages/Observables/qCJWB/src/Observables.jl:136",
      " [7] #setindex!#1(::Base.var\"#58#59\"{Base.Fix2{typeof(in),Array{Function,1}}}, ::typeof(setindex!), ::Observable{Float64}, ::Float64) at /Users/eh540/.julia/packages/Observables/qCJWB/src/Observables.jl:87",
      " [8] (::Base.var\"#kw##setindex!\")(::NamedTuple{(:notify,),Tuple{Base.var\"#58#59\"{Base.Fix2{typeof(in),Array{Function,1}}}}}, ::typeof(setindex!), ::Observable{Float64}, ::Float64) at ./none:0",
      " [9] (::Observables.var\"#25#28\"{InteractBase.var\"#77#80\",Observable{Float64},Array{Function,1}})(::Int64) at /Users/eh540/.julia/packages/Observables/qCJWB/src/observablepair.jl:14",
      " [10] #setindex!#1(::WebIO.var\"#44#45\", ::typeof(setindex!), ::Observable{Any}, ::Int64) at /Users/eh540/.julia/packages/Observables/qCJWB/src/Observables.jl:87",
      " [11] #setindex! at ./none:0 [inlined]",
      " [12] setexcludinghandlers at /Users/eh540/.julia/packages/Observables/qCJWB/src/Observables.jl:103 [inlined]",
      " [13] set_nosync(::Observable{Any}, ::Int64) at /Users/eh540/.julia/packages/WebIO/2mZPb/src/scope.jl:339",
      " [14] dispatch(::Scope, ::String, ::Int64) at /Users/eh540/.julia/packages/WebIO/2mZPb/src/scope.jl:348",
      " [15] dispatch_command(::WebIO.IJuliaConnection, ::Dict{String,Any}) at /Users/eh540/.julia/packages/WebIO/2mZPb/src/messaging.jl:104",
      " [16] dispatch(::WebIO.IJuliaConnection, ::Dict{String,Any}) at /Users/eh540/.julia/packages/WebIO/2mZPb/src/messaging.jl:81",
      " [17] (::WebIO.var\"#92#93\"{WebIO.IJuliaConnection})(::IJulia.Msg) at /Users/eh540/.julia/packages/WebIO/2mZPb/src/providers/ijulia.jl:21",
      " [18] comm_msg(::ZMQ.Socket, ::IJulia.Msg) at /Users/eh540/.julia/packages/IJulia/fRegO/src/comm_manager.jl:134",
      " [19] #invokelatest#1 at ./essentials.jl:709 [inlined]",
      " [20] invokelatest at ./essentials.jl:708 [inlined]",
      " [21] eventloop(::ZMQ.Socket) at /Users/eh540/.julia/packages/IJulia/fRegO/src/eventloop.jl:8",
      " [22] (::IJulia.var\"#15#18\")() at ./task.jl:333"
     ]
    },
    {
     "name": "stderr",
     "output_type": "stream",
     "text": [
      "Cannot multiply two expressions of sizes (50, 100) and (4, 1)\n",
      "Stacktrace:\n",
      " [1] \u001b[1merror\u001b[22m\u001b[1m(\u001b[22m::String\u001b[1m)\u001b[22m at \u001b[1m./error.jl:33\u001b[22m\n",
      " [2] \u001b[1mMultiplyAtom\u001b[22m at \u001b[1m/Users/eh540/Dropbox (Personal)/LinkedFolders/Julia/dev/Convex/src/atoms/affine/multiply_divide.jl:28\u001b[22m [inlined]\n",
      " [3] \u001b[1m*\u001b[22m\u001b[1m(\u001b[22m::Array{Float64,2}, ::Variable\u001b[1m)\u001b[22m at \u001b[1m/Users/eh540/Dropbox (Personal)/LinkedFolders/Julia/dev/Convex/src/atoms/affine/multiply_divide.jl:103\u001b[22m\n",
      " [4] \u001b[1m(::var\"#7#8\")\u001b[22m\u001b[1m(\u001b[22m::Float64, ::Float64\u001b[1m)\u001b[22m at \u001b[1m./In[6]:4\u001b[22m\n",
      " [5] \u001b[1m(::Observables.var\"#16#17\"{var\"#7#8\",Observable{Any}})\u001b[22m\u001b[1m(\u001b[22m::Float64, ::Vararg{Float64,N} where N\u001b[1m)\u001b[22m at \u001b[1m/Users/eh540/.julia/packages/Observables/qCJWB/src/Observables.jl:152\u001b[22m\n",
      " [6] \u001b[1m(::Observables.var\"#g#15\"{Observables.var\"#16#17\"{var\"#7#8\",Observable{Any}},Tuple{Widget{:slider,Float64},Widget{:slider,Float64}}})\u001b[22m\u001b[1m(\u001b[22m::Float64\u001b[1m)\u001b[22m at \u001b[1m/Users/eh540/.julia/packages/Observables/qCJWB/src/Observables.jl:136\u001b[22m\n",
      " [7] \u001b[1m#setindex!#1\u001b[22m\u001b[1m(\u001b[22m::Base.var\"#58#59\"{Base.Fix2{typeof(in),Array{Function,1}}}, ::typeof(setindex!), ::Observable{Float64}, ::Float64\u001b[1m)\u001b[22m at \u001b[1m/Users/eh540/.julia/packages/Observables/qCJWB/src/Observables.jl:87\u001b[22m\n",
      " [8] \u001b[1m(::Base.var\"#kw##setindex!\")\u001b[22m\u001b[1m(\u001b[22m::NamedTuple{(:notify,),Tuple{Base.var\"#58#59\"{Base.Fix2{typeof(in),Array{Function,1}}}}}, ::typeof(setindex!), ::Observable{Float64}, ::Float64\u001b[1m)\u001b[22m at \u001b[1m./none:0\u001b[22m\n",
      " [9] \u001b[1m(::Observables.var\"#25#28\"{InteractBase.var\"#77#80\",Observable{Float64},Array{Function,1}})\u001b[22m\u001b[1m(\u001b[22m::Int64\u001b[1m)\u001b[22m at \u001b[1m/Users/eh540/.julia/packages/Observables/qCJWB/src/observablepair.jl:14\u001b[22m\n",
      " [10] \u001b[1m#setindex!#1\u001b[22m\u001b[1m(\u001b[22m::WebIO.var\"#44#45\", ::typeof(setindex!), ::Observable{Any}, ::Int64\u001b[1m)\u001b[22m at \u001b[1m/Users/eh540/.julia/packages/Observables/qCJWB/src/Observables.jl:87\u001b[22m\n",
      " [11] \u001b[1m#setindex!\u001b[22m at \u001b[1m./none:0\u001b[22m [inlined]\n",
      " [12] \u001b[1msetexcludinghandlers\u001b[22m at \u001b[1m/Users/eh540/.julia/packages/Observables/qCJWB/src/Observables.jl:103\u001b[22m [inlined]\n",
      " [13] \u001b[1mset_nosync\u001b[22m\u001b[1m(\u001b[22m::Observable{Any}, ::Int64\u001b[1m)\u001b[22m at \u001b[1m/Users/eh540/.julia/packages/WebIO/2mZPb/src/scope.jl:339\u001b[22m\n",
      " [14] \u001b[1mdispatch\u001b[22m\u001b[1m(\u001b[22m::Scope, ::String, ::Int64\u001b[1m)\u001b[22m at \u001b[1m/Users/eh540/.julia/packages/WebIO/2mZPb/src/scope.jl:348\u001b[22m\n",
      " [15] \u001b[1mdispatch_command\u001b[22m\u001b[1m(\u001b[22m::WebIO.IJuliaConnection, ::Dict{String,Any}\u001b[1m)\u001b[22m at \u001b[1m/Users/eh540/.julia/packages/WebIO/2mZPb/src/messaging.jl:104\u001b[22m\n",
      " [16] \u001b[1mdispatch\u001b[22m\u001b[1m(\u001b[22m::WebIO.IJuliaConnection, ::Dict{String,Any}\u001b[1m)\u001b[22m at \u001b[1m/Users/eh540/.julia/packages/WebIO/2mZPb/src/messaging.jl:81\u001b[22m\n",
      " [17] \u001b[1m(::WebIO.var\"#92#93\"{WebIO.IJuliaConnection})\u001b[22m\u001b[1m(\u001b[22m::IJulia.Msg\u001b[1m)\u001b[22m at \u001b[1m/Users/eh540/.julia/packages/WebIO/2mZPb/src/providers/ijulia.jl:21\u001b[22m\n",
      " [18] \u001b[1mcomm_msg\u001b[22m\u001b[1m(\u001b[22m::ZMQ.Socket, ::IJulia.Msg\u001b[1m)\u001b[22m at \u001b[1m/Users/eh540/.julia/packages/IJulia/fRegO/src/comm_manager.jl:134\u001b[22m\n",
      " [19] \u001b[1m#invokelatest#1\u001b[22m at \u001b[1m./essentials.jl:709\u001b[22m [inlined]\n",
      " [20] \u001b[1minvokelatest\u001b[22m at \u001b[1m./essentials.jl:708\u001b[22m [inlined]\n",
      " [21] \u001b[1meventloop\u001b[22m\u001b[1m(\u001b[22m::ZMQ.Socket\u001b[1m)\u001b[22m at \u001b[1m/Users/eh540/.julia/packages/IJulia/fRegO/src/eventloop.jl:8\u001b[22m\n",
      " [22] \u001b[1m(::IJulia.var\"#15#18\")\u001b[22m\u001b[1m(\u001b[22m\u001b[1m)\u001b[22m at \u001b[1m./task.jl:333\u001b[22mCannot multiply two expressions of sizes (50, 100) and (4, 1)\n",
      "Stacktrace:\n",
      " [1] \u001b[1merror\u001b[22m\u001b[1m(\u001b[22m::String\u001b[1m)\u001b[22m at \u001b[1m./error.jl:33\u001b[22m\n",
      " [2] \u001b[1mMultiplyAtom\u001b[22m at \u001b[1m/Users/eh540/Dropbox (Personal)/LinkedFolders/Julia/dev/Convex/src/atoms/affine/multiply_divide.jl:28\u001b[22m [inlined]\n",
      " [3] \u001b[1m*\u001b[22m\u001b[1m(\u001b[22m::Array{Float64,2}, ::Variable\u001b[1m)\u001b[22m at \u001b[1m/Users/eh540/Dropbox (Personal)/LinkedFolders/Julia/dev/Convex/src/atoms/affine/multiply_divide.jl:103\u001b[22m\n",
      " [4] \u001b[1m(::var\"#7#8\")\u001b[22m\u001b[1m(\u001b[22m::Float64, ::Float64\u001b[1m)\u001b[22m at \u001b[1m./In[6]:4\u001b[22m\n",
      " [5] \u001b[1m(::Observables.var\"#16#17\"{var\"#7#8\",Observable{Any}})\u001b[22m\u001b[1m(\u001b[22m::Float64, ::Vararg{Float64,N} where N\u001b[1m)\u001b[22m at \u001b[1m/Users/eh540/.julia/packages/Observables/qCJWB/src/Observables.jl:152\u001b[22m\n",
      " [6] \u001b[1m(::Observables.var\"#g#15\"{Observables.var\"#16#17\"{var\"#7#8\",Observable{Any}},Tuple{Widget{:slider,Float64},Widget{:slider,Float64}}})\u001b[22m\u001b[1m(\u001b[22m::Float64\u001b[1m)\u001b[22m at \u001b[1m/Users/eh540/.julia/packages/Observables/qCJWB/src/Observables.jl:136\u001b[22m\n",
      " [7] \u001b[1m#setindex!#1\u001b[22m\u001b[1m(\u001b[22m::Base.var\"#58#59\"{Base.Fix2{typeof(in),Array{Function,1}}}, ::typeof(setindex!), ::Observable{Float64}, ::Float64\u001b[1m)\u001b[22m at \u001b[1m/Users/eh540/.julia/packages/Observables/qCJWB/src/Observables.jl:87\u001b[22m\n",
      " [8] \u001b[1m(::Base.var\"#kw##setindex!\")\u001b[22m\u001b[1m(\u001b[22m::NamedTuple{(:notify,),Tuple{Base.var\"#58#59\"{Base.Fix2{typeof(in),Array{Function,1}}}}}, ::typeof(setindex!), ::Observable{Float64}, ::Float64\u001b[1m)\u001b[22m at \u001b[1m./none:0\u001b[22m\n",
      " [9] \u001b[1m(::Observables.var\"#25#28\"{InteractBase.var\"#77#80\",Observable{Float64},Array{Function,1}})\u001b[22m\u001b[1m(\u001b[22m::Int64\u001b[1m)\u001b[22m at \u001b[1m/Users/eh540/.julia/packages/Observables/qCJWB/src/observablepair.jl:14\u001b[22m\n",
      " [10] \u001b[1m#setindex!#1\u001b[22m\u001b[1m(\u001b[22m::WebIO.var\"#44#45\", ::typeof(setindex!), ::Observable{Any}, ::Int64\u001b[1m)\u001b[22m at \u001b[1m/Users/eh540/.julia/packages/Observables/qCJWB/src/Observables.jl:87\u001b[22m\n",
      " [11] \u001b[1m#setindex!\u001b[22m at \u001b[1m./none:0\u001b[22m [inlined]\n",
      " [12] \u001b[1msetexcludinghandlers\u001b[22m at \u001b[1m/Users/eh540/.julia/packages/Observables/qCJWB/src/Observables.jl:103\u001b[22m [inlined]\n",
      " [13] \u001b[1mset_nosync\u001b[22m\u001b[1m(\u001b[22m::Observable{Any}, ::Int64\u001b[1m)\u001b[22m at \u001b[1m/Users/eh540/.julia/packages/WebIO/2mZPb/src/scope.jl:339\u001b[22m\n",
      " [14] \u001b[1mdispatch\u001b[22m\u001b[1m(\u001b[22m::Scope, ::String, ::Int64\u001b[1m)\u001b[22m at \u001b[1m/Users/eh540/.julia/packages/WebIO/2mZPb/src/scope.jl:348\u001b[22m\n",
      " [15] \u001b[1mdispatch_command\u001b[22m\u001b[1m(\u001b[22m::WebIO.IJuliaConnection, ::Dict{String,Any}\u001b[1m)\u001b[22m at \u001b[1m/Users/eh540/.julia/packages/WebIO/2mZPb/src/messaging.jl:104\u001b[22m\n",
      " [16] \u001b[1mdispatch\u001b[22m\u001b[1m(\u001b[22m::WebIO.IJuliaConnection, ::Dict{String,Any}\u001b[1m)\u001b[22m at \u001b[1m/Users/eh540/.julia/packages/WebIO/2mZPb/src/messaging.jl:81\u001b[22m\n",
      " [17] \u001b[1m(::WebIO.var\"#92#93\"{WebIO.IJuliaConnection})\u001b[22m\u001b[1m(\u001b[22m::IJulia.Msg\u001b[1m)\u001b[22m at \u001b[1m/Users/eh540/.julia/packages/WebIO/2mZPb/src/providers/ijulia.jl:21\u001b[22m\n",
      " [18] \u001b[1mcomm_msg\u001b[22m\u001b[1m(\u001b[22m::ZMQ.Socket, ::IJulia.Msg\u001b[1m)\u001b[22m at \u001b[1m/Users/eh540/.julia/packages/IJulia/fRegO/src/comm_manager.jl:134\u001b[22m\n",
      " [19] \u001b[1m#invokelatest#1\u001b[22m at \u001b[1m./essentials.jl:709\u001b[22m [inlined]\n",
      " [20] \u001b[1minvokelatest\u001b[22m at \u001b[1m./essentials.jl:708\u001b[22m [inlined]\n",
      " [21] \u001b[1meventloop\u001b[22m\u001b[1m(\u001b[22m::ZMQ.Socket\u001b[1m)\u001b[22m at \u001b[1m/Users/eh540/.julia/packages/IJulia/fRegO/src/eventloop.jl:8\u001b[22m\n",
      " [22] \u001b[1m(::IJulia.var\"#15#18\")\u001b[22m\u001b[1m(\u001b[22m\u001b[1m)\u001b[22m at \u001b[1m./task.jl:333\u001b[22m"
     ]
    },
    {
     "ename": "ErrorException",
     "evalue": "Cannot multiply two expressions of sizes (50, 100) and (4, 1)",
     "output_type": "error",
     "traceback": [
      "KERNEL EXCEPTION",
      "Cannot multiply two expressions of sizes (50, 100) and (4, 1)",
      "",
      "Stacktrace:",
      " [1] error(::String) at ./error.jl:33",
      " [2] MultiplyAtom at /Users/eh540/Dropbox (Personal)/LinkedFolders/Julia/dev/Convex/src/atoms/affine/multiply_divide.jl:28 [inlined]",
      " [3] *(::Array{Float64,2}, ::Variable) at /Users/eh540/Dropbox (Personal)/LinkedFolders/Julia/dev/Convex/src/atoms/affine/multiply_divide.jl:103",
      " [4] (::var\"#7#8\")(::Float64, ::Float64) at ./In[6]:4",
      " [5] (::Observables.var\"#16#17\"{var\"#7#8\",Observable{Any}})(::Float64, ::Vararg{Float64,N} where N) at /Users/eh540/.julia/packages/Observables/qCJWB/src/Observables.jl:152",
      " [6] (::Observables.var\"#g#15\"{Observables.var\"#16#17\"{var\"#7#8\",Observable{Any}},Tuple{Widget{:slider,Float64},Widget{:slider,Float64}}})(::Float64) at /Users/eh540/.julia/packages/Observables/qCJWB/src/Observables.jl:136",
      " [7] #setindex!#1(::Base.var\"#58#59\"{Base.Fix2{typeof(in),Array{Function,1}}}, ::typeof(setindex!), ::Observable{Float64}, ::Float64) at /Users/eh540/.julia/packages/Observables/qCJWB/src/Observables.jl:87",
      " [8] (::Base.var\"#kw##setindex!\")(::NamedTuple{(:notify,),Tuple{Base.var\"#58#59\"{Base.Fix2{typeof(in),Array{Function,1}}}}}, ::typeof(setindex!), ::Observable{Float64}, ::Float64) at ./none:0",
      " [9] (::Observables.var\"#25#28\"{InteractBase.var\"#77#80\",Observable{Float64},Array{Function,1}})(::Int64) at /Users/eh540/.julia/packages/Observables/qCJWB/src/observablepair.jl:14",
      " [10] #setindex!#1(::WebIO.var\"#44#45\", ::typeof(setindex!), ::Observable{Any}, ::Int64) at /Users/eh540/.julia/packages/Observables/qCJWB/src/Observables.jl:87",
      " [11] #setindex! at ./none:0 [inlined]",
      " [12] setexcludinghandlers at /Users/eh540/.julia/packages/Observables/qCJWB/src/Observables.jl:103 [inlined]",
      " [13] set_nosync(::Observable{Any}, ::Int64) at /Users/eh540/.julia/packages/WebIO/2mZPb/src/scope.jl:339",
      " [14] dispatch(::Scope, ::String, ::Int64) at /Users/eh540/.julia/packages/WebIO/2mZPb/src/scope.jl:348",
      " [15] dispatch_command(::WebIO.IJuliaConnection, ::Dict{String,Any}) at /Users/eh540/.julia/packages/WebIO/2mZPb/src/messaging.jl:104",
      " [16] dispatch(::WebIO.IJuliaConnection, ::Dict{String,Any}) at /Users/eh540/.julia/packages/WebIO/2mZPb/src/messaging.jl:81",
      " [17] (::WebIO.var\"#92#93\"{WebIO.IJuliaConnection})(::IJulia.Msg) at /Users/eh540/.julia/packages/WebIO/2mZPb/src/providers/ijulia.jl:21",
      " [18] comm_msg(::ZMQ.Socket, ::IJulia.Msg) at /Users/eh540/.julia/packages/IJulia/fRegO/src/comm_manager.jl:134",
      " [19] #invokelatest#1 at ./essentials.jl:709 [inlined]",
      " [20] invokelatest at ./essentials.jl:708 [inlined]",
      " [21] eventloop(::ZMQ.Socket) at /Users/eh540/.julia/packages/IJulia/fRegO/src/eventloop.jl:8",
      " [22] (::IJulia.var\"#15#18\")() at ./task.jl:333"
     ]
    },
    {
     "name": "stderr",
     "output_type": "stream",
     "text": [
      "Cannot multiply two expressions of sizes (50, 100) and (4, 1)\n",
      "Stacktrace:\n",
      " [1] \u001b[1merror\u001b[22m\u001b[1m(\u001b[22m::String\u001b[1m)\u001b[22m at \u001b[1m./error.jl:33\u001b[22m\n",
      " [2] \u001b[1mMultiplyAtom\u001b[22m at \u001b[1m/Users/eh540/Dropbox (Personal)/LinkedFolders/Julia/dev/Convex/src/atoms/affine/multiply_divide.jl:28\u001b[22m [inlined]\n",
      " [3] \u001b[1m*\u001b[22m\u001b[1m(\u001b[22m::Array{Float64,2}, ::Variable\u001b[1m)\u001b[22m at \u001b[1m/Users/eh540/Dropbox (Personal)/LinkedFolders/Julia/dev/Convex/src/atoms/affine/multiply_divide.jl:103\u001b[22m\n",
      " [4] \u001b[1m(::var\"#7#8\")\u001b[22m\u001b[1m(\u001b[22m::Float64, ::Float64\u001b[1m)\u001b[22m at \u001b[1m./In[6]:4\u001b[22m\n",
      " [5] \u001b[1m(::Observables.var\"#16#17\"{var\"#7#8\",Observable{Any}})\u001b[22m\u001b[1m(\u001b[22m::Float64, ::Vararg{Float64,N} where N\u001b[1m)\u001b[22m at \u001b[1m/Users/eh540/.julia/packages/Observables/qCJWB/src/Observables.jl:152\u001b[22m\n",
      " [6] \u001b[1m(::Observables.var\"#g#15\"{Observables.var\"#16#17\"{var\"#7#8\",Observable{Any}},Tuple{Widget{:slider,Float64},Widget{:slider,Float64}}})\u001b[22m\u001b[1m(\u001b[22m::Float64\u001b[1m)\u001b[22m at \u001b[1m/Users/eh540/.julia/packages/Observables/qCJWB/src/Observables.jl:136\u001b[22m\n",
      " [7] \u001b[1m#setindex!#1\u001b[22m\u001b[1m(\u001b[22m::Base.var\"#58#59\"{Base.Fix2{typeof(in),Array{Function,1}}}, ::typeof(setindex!), ::Observable{Float64}, ::Float64\u001b[1m)\u001b[22m at \u001b[1m/Users/eh540/.julia/packages/Observables/qCJWB/src/Observables.jl:87\u001b[22m\n",
      " [8] \u001b[1m(::Base.var\"#kw##setindex!\")\u001b[22m\u001b[1m(\u001b[22m::NamedTuple{(:notify,),Tuple{Base.var\"#58#59\"{Base.Fix2{typeof(in),Array{Function,1}}}}}, ::typeof(setindex!), ::Observable{Float64}, ::Float64\u001b[1m)\u001b[22m at \u001b[1m./none:0\u001b[22m\n",
      " [9] \u001b[1m(::Observables.var\"#25#28\"{InteractBase.var\"#77#80\",Observable{Float64},Array{Function,1}})\u001b[22m\u001b[1m(\u001b[22m::Int64\u001b[1m)\u001b[22m at \u001b[1m/Users/eh540/.julia/packages/Observables/qCJWB/src/observablepair.jl:14\u001b[22m\n",
      " [10] \u001b[1m#setindex!#1\u001b[22m\u001b[1m(\u001b[22m::WebIO.var\"#44#45\", ::typeof(setindex!), ::Observable{Any}, ::Int64\u001b[1m)\u001b[22m at \u001b[1m/Users/eh540/.julia/packages/Observables/qCJWB/src/Observables.jl:87\u001b[22m\n",
      " [11] \u001b[1m#setindex!\u001b[22m at \u001b[1m./none:0\u001b[22m [inlined]\n",
      " [12] \u001b[1msetexcludinghandlers\u001b[22m at \u001b[1m/Users/eh540/.julia/packages/Observables/qCJWB/src/Observables.jl:103\u001b[22m [inlined]\n",
      " [13] \u001b[1mset_nosync\u001b[22m\u001b[1m(\u001b[22m::Observable{Any}, ::Int64\u001b[1m)\u001b[22m at \u001b[1m/Users/eh540/.julia/packages/WebIO/2mZPb/src/scope.jl:339\u001b[22m\n",
      " [14] \u001b[1mdispatch\u001b[22m\u001b[1m(\u001b[22m::Scope, ::String, ::Int64\u001b[1m)\u001b[22m at \u001b[1m/Users/eh540/.julia/packages/WebIO/2mZPb/src/scope.jl:348\u001b[22m\n",
      " [15] \u001b[1mdispatch_command\u001b[22m\u001b[1m(\u001b[22m::WebIO.IJuliaConnection, ::Dict{String,Any}\u001b[1m)\u001b[22m at \u001b[1m/Users/eh540/.julia/packages/WebIO/2mZPb/src/messaging.jl:104\u001b[22m\n",
      " [16] \u001b[1mdispatch\u001b[22m\u001b[1m(\u001b[22m::WebIO.IJuliaConnection, ::Dict{String,Any}\u001b[1m)\u001b[22m at \u001b[1m/Users/eh540/.julia/packages/WebIO/2mZPb/src/messaging.jl:81\u001b[22m\n",
      " [17] \u001b[1m(::WebIO.var\"#92#93\"{WebIO.IJuliaConnection})\u001b[22m\u001b[1m(\u001b[22m::IJulia.Msg\u001b[1m)\u001b[22m at \u001b[1m/Users/eh540/.julia/packages/WebIO/2mZPb/src/providers/ijulia.jl:21\u001b[22m\n",
      " [18] \u001b[1mcomm_msg\u001b[22m\u001b[1m(\u001b[22m::ZMQ.Socket, ::IJulia.Msg\u001b[1m)\u001b[22m at \u001b[1m/Users/eh540/.julia/packages/IJulia/fRegO/src/comm_manager.jl:134\u001b[22m\n",
      " [19] \u001b[1m#invokelatest#1\u001b[22m at \u001b[1m./essentials.jl:709\u001b[22m [inlined]\n",
      " [20] \u001b[1minvokelatest\u001b[22m at \u001b[1m./essentials.jl:708\u001b[22m [inlined]\n",
      " [21] \u001b[1meventloop\u001b[22m\u001b[1m(\u001b[22m::ZMQ.Socket\u001b[1m)\u001b[22m at \u001b[1m/Users/eh540/.julia/packages/IJulia/fRegO/src/eventloop.jl:8\u001b[22m\n",
      " [22] \u001b[1m(::IJulia.var\"#15#18\")\u001b[22m\u001b[1m(\u001b[22m\u001b[1m)\u001b[22m at \u001b[1m./task.jl:333\u001b[22mCannot multiply two expressions of sizes (50, 100) and (4, 1)\n",
      "Stacktrace:\n",
      " [1] \u001b[1merror\u001b[22m\u001b[1m(\u001b[22m::String\u001b[1m)\u001b[22m at \u001b[1m./error.jl:33\u001b[22m\n",
      " [2] \u001b[1mMultiplyAtom\u001b[22m at \u001b[1m/Users/eh540/Dropbox (Personal)/LinkedFolders/Julia/dev/Convex/src/atoms/affine/multiply_divide.jl:28\u001b[22m [inlined]\n",
      " [3] \u001b[1m*\u001b[22m\u001b[1m(\u001b[22m::Array{Float64,2}, ::Variable\u001b[1m)\u001b[22m at \u001b[1m/Users/eh540/Dropbox (Personal)/LinkedFolders/Julia/dev/Convex/src/atoms/affine/multiply_divide.jl:103\u001b[22m\n",
      " [4] \u001b[1m(::var\"#7#8\")\u001b[22m\u001b[1m(\u001b[22m::Float64, ::Float64\u001b[1m)\u001b[22m at \u001b[1m./In[6]:4\u001b[22m\n",
      " [5] \u001b[1m(::Observables.var\"#16#17\"{var\"#7#8\",Observable{Any}})\u001b[22m\u001b[1m(\u001b[22m::Float64, ::Vararg{Float64,N} where N\u001b[1m)\u001b[22m at \u001b[1m/Users/eh540/.julia/packages/Observables/qCJWB/src/Observables.jl:152\u001b[22m\n",
      " [6] \u001b[1m(::Observables.var\"#g#15\"{Observables.var\"#16#17\"{var\"#7#8\",Observable{Any}},Tuple{Widget{:slider,Float64},Widget{:slider,Float64}}})\u001b[22m\u001b[1m(\u001b[22m::Float64\u001b[1m)\u001b[22m at \u001b[1m/Users/eh540/.julia/packages/Observables/qCJWB/src/Observables.jl:136\u001b[22m\n",
      " [7] \u001b[1m#setindex!#1\u001b[22m\u001b[1m(\u001b[22m::Base.var\"#58#59\"{Base.Fix2{typeof(in),Array{Function,1}}}, ::typeof(setindex!), ::Observable{Float64}, ::Float64\u001b[1m)\u001b[22m at \u001b[1m/Users/eh540/.julia/packages/Observables/qCJWB/src/Observables.jl:87\u001b[22m\n",
      " [8] \u001b[1m(::Base.var\"#kw##setindex!\")\u001b[22m\u001b[1m(\u001b[22m::NamedTuple{(:notify,),Tuple{Base.var\"#58#59\"{Base.Fix2{typeof(in),Array{Function,1}}}}}, ::typeof(setindex!), ::Observable{Float64}, ::Float64\u001b[1m)\u001b[22m at \u001b[1m./none:0\u001b[22m\n",
      " [9] \u001b[1m(::Observables.var\"#25#28\"{InteractBase.var\"#77#80\",Observable{Float64},Array{Function,1}})\u001b[22m\u001b[1m(\u001b[22m::Int64\u001b[1m)\u001b[22m at \u001b[1m/Users/eh540/.julia/packages/Observables/qCJWB/src/observablepair.jl:14\u001b[22m\n",
      " [10] \u001b[1m#setindex!#1\u001b[22m\u001b[1m(\u001b[22m::WebIO.var\"#44#45\", ::typeof(setindex!), ::Observable{Any}, ::Int64\u001b[1m)\u001b[22m at \u001b[1m/Users/eh540/.julia/packages/Observables/qCJWB/src/Observables.jl:87\u001b[22m\n",
      " [11] \u001b[1m#setindex!\u001b[22m at \u001b[1m./none:0\u001b[22m [inlined]\n",
      " [12] \u001b[1msetexcludinghandlers\u001b[22m at \u001b[1m/Users/eh540/.julia/packages/Observables/qCJWB/src/Observables.jl:103\u001b[22m [inlined]\n",
      " [13] \u001b[1mset_nosync\u001b[22m\u001b[1m(\u001b[22m::Observable{Any}, ::Int64\u001b[1m)\u001b[22m at \u001b[1m/Users/eh540/.julia/packages/WebIO/2mZPb/src/scope.jl:339\u001b[22m\n",
      " [14] \u001b[1mdispatch\u001b[22m\u001b[1m(\u001b[22m::Scope, ::String, ::Int64\u001b[1m)\u001b[22m at \u001b[1m/Users/eh540/.julia/packages/WebIO/2mZPb/src/scope.jl:348\u001b[22m\n",
      " [15] \u001b[1mdispatch_command\u001b[22m\u001b[1m(\u001b[22m::WebIO.IJuliaConnection, ::Dict{String,Any}\u001b[1m)\u001b[22m at \u001b[1m/Users/eh540/.julia/packages/WebIO/2mZPb/src/messaging.jl:104\u001b[22m\n",
      " [16] \u001b[1mdispatch\u001b[22m\u001b[1m(\u001b[22m::WebIO.IJuliaConnection, ::Dict{String,Any}\u001b[1m)\u001b[22m at \u001b[1m/Users/eh540/.julia/packages/WebIO/2mZPb/src/messaging.jl:81\u001b[22m\n",
      " [17] \u001b[1m(::WebIO.var\"#92#93\"{WebIO.IJuliaConnection})\u001b[22m\u001b[1m(\u001b[22m::IJulia.Msg\u001b[1m)\u001b[22m at \u001b[1m/Users/eh540/.julia/packages/WebIO/2mZPb/src/providers/ijulia.jl:21\u001b[22m\n",
      " [18] \u001b[1mcomm_msg\u001b[22m\u001b[1m(\u001b[22m::ZMQ.Socket, ::IJulia.Msg\u001b[1m)\u001b[22m at \u001b[1m/Users/eh540/.julia/packages/IJulia/fRegO/src/comm_manager.jl:134\u001b[22m\n",
      " [19] \u001b[1m#invokelatest#1\u001b[22m at \u001b[1m./essentials.jl:709\u001b[22m [inlined]\n",
      " [20] \u001b[1minvokelatest\u001b[22m at \u001b[1m./essentials.jl:708\u001b[22m [inlined]\n",
      " [21] \u001b[1meventloop\u001b[22m\u001b[1m(\u001b[22m::ZMQ.Socket\u001b[1m)\u001b[22m at \u001b[1m/Users/eh540/.julia/packages/IJulia/fRegO/src/eventloop.jl:8\u001b[22m\n",
      " [22] \u001b[1m(::IJulia.var\"#15#18\")\u001b[22m\u001b[1m(\u001b[22m\u001b[1m)\u001b[22m at \u001b[1m./task.jl:333\u001b[22m"
     ]
    },
    {
     "ename": "ErrorException",
     "evalue": "Cannot multiply two expressions of sizes (50, 100) and (4, 1)",
     "output_type": "error",
     "traceback": [
      "KERNEL EXCEPTION",
      "Cannot multiply two expressions of sizes (50, 100) and (4, 1)",
      "",
      "Stacktrace:",
      " [1] error(::String) at ./error.jl:33",
      " [2] MultiplyAtom at /Users/eh540/Dropbox (Personal)/LinkedFolders/Julia/dev/Convex/src/atoms/affine/multiply_divide.jl:28 [inlined]",
      " [3] *(::Array{Float64,2}, ::Variable) at /Users/eh540/Dropbox (Personal)/LinkedFolders/Julia/dev/Convex/src/atoms/affine/multiply_divide.jl:103",
      " [4] (::var\"#7#8\")(::Float64, ::Float64) at ./In[6]:4",
      " [5] (::Observables.var\"#16#17\"{var\"#7#8\",Observable{Any}})(::Float64, ::Vararg{Float64,N} where N) at /Users/eh540/.julia/packages/Observables/qCJWB/src/Observables.jl:152",
      " [6] (::Observables.var\"#g#15\"{Observables.var\"#16#17\"{var\"#7#8\",Observable{Any}},Tuple{Widget{:slider,Float64},Widget{:slider,Float64}}})(::Float64) at /Users/eh540/.julia/packages/Observables/qCJWB/src/Observables.jl:136",
      " [7] #setindex!#1(::Base.var\"#58#59\"{Base.Fix2{typeof(in),Array{Function,1}}}, ::typeof(setindex!), ::Observable{Float64}, ::Float64) at /Users/eh540/.julia/packages/Observables/qCJWB/src/Observables.jl:87",
      " [8] (::Base.var\"#kw##setindex!\")(::NamedTuple{(:notify,),Tuple{Base.var\"#58#59\"{Base.Fix2{typeof(in),Array{Function,1}}}}}, ::typeof(setindex!), ::Observable{Float64}, ::Float64) at ./none:0",
      " [9] (::Observables.var\"#25#28\"{InteractBase.var\"#77#80\",Observable{Float64},Array{Function,1}})(::Int64) at /Users/eh540/.julia/packages/Observables/qCJWB/src/observablepair.jl:14",
      " [10] #setindex!#1(::WebIO.var\"#44#45\", ::typeof(setindex!), ::Observable{Any}, ::Int64) at /Users/eh540/.julia/packages/Observables/qCJWB/src/Observables.jl:87",
      " [11] #setindex! at ./none:0 [inlined]",
      " [12] setexcludinghandlers at /Users/eh540/.julia/packages/Observables/qCJWB/src/Observables.jl:103 [inlined]",
      " [13] set_nosync(::Observable{Any}, ::Int64) at /Users/eh540/.julia/packages/WebIO/2mZPb/src/scope.jl:339",
      " [14] dispatch(::Scope, ::String, ::Int64) at /Users/eh540/.julia/packages/WebIO/2mZPb/src/scope.jl:348",
      " [15] dispatch_command(::WebIO.IJuliaConnection, ::Dict{String,Any}) at /Users/eh540/.julia/packages/WebIO/2mZPb/src/messaging.jl:104",
      " [16] dispatch(::WebIO.IJuliaConnection, ::Dict{String,Any}) at /Users/eh540/.julia/packages/WebIO/2mZPb/src/messaging.jl:81",
      " [17] (::WebIO.var\"#92#93\"{WebIO.IJuliaConnection})(::IJulia.Msg) at /Users/eh540/.julia/packages/WebIO/2mZPb/src/providers/ijulia.jl:21",
      " [18] comm_msg(::ZMQ.Socket, ::IJulia.Msg) at /Users/eh540/.julia/packages/IJulia/fRegO/src/comm_manager.jl:134",
      " [19] #invokelatest#1 at ./essentials.jl:709 [inlined]",
      " [20] invokelatest at ./essentials.jl:708 [inlined]",
      " [21] eventloop(::ZMQ.Socket) at /Users/eh540/.julia/packages/IJulia/fRegO/src/eventloop.jl:8",
      " [22] (::IJulia.var\"#15#18\")() at ./task.jl:333"
     ]
    },
    {
     "name": "stderr",
     "output_type": "stream",
     "text": [
      "Cannot multiply two expressions of sizes (50, 100) and (4, 1)\n",
      "Stacktrace:\n",
      " [1] \u001b[1merror\u001b[22m\u001b[1m(\u001b[22m::String\u001b[1m)\u001b[22m at \u001b[1m./error.jl:33\u001b[22m\n",
      " [2] \u001b[1mMultiplyAtom\u001b[22m at \u001b[1m/Users/eh540/Dropbox (Personal)/LinkedFolders/Julia/dev/Convex/src/atoms/affine/multiply_divide.jl:28\u001b[22m [inlined]\n",
      " [3] \u001b[1m*\u001b[22m\u001b[1m(\u001b[22m::Array{Float64,2}, ::Variable\u001b[1m)\u001b[22m at \u001b[1m/Users/eh540/Dropbox (Personal)/LinkedFolders/Julia/dev/Convex/src/atoms/affine/multiply_divide.jl:103\u001b[22m\n",
      " [4] \u001b[1m(::var\"#7#8\")\u001b[22m\u001b[1m(\u001b[22m::Float64, ::Float64\u001b[1m)\u001b[22m at \u001b[1m./In[6]:4\u001b[22m\n",
      " [5] \u001b[1m(::Observables.var\"#16#17\"{var\"#7#8\",Observable{Any}})\u001b[22m\u001b[1m(\u001b[22m::Float64, ::Vararg{Float64,N} where N\u001b[1m)\u001b[22m at \u001b[1m/Users/eh540/.julia/packages/Observables/qCJWB/src/Observables.jl:152\u001b[22m\n",
      " [6] \u001b[1m(::Observables.var\"#g#15\"{Observables.var\"#16#17\"{var\"#7#8\",Observable{Any}},Tuple{Widget{:slider,Float64},Widget{:slider,Float64}}})\u001b[22m\u001b[1m(\u001b[22m::Float64\u001b[1m)\u001b[22m at \u001b[1m/Users/eh540/.julia/packages/Observables/qCJWB/src/Observables.jl:136\u001b[22m\n",
      " [7] \u001b[1m#setindex!#1\u001b[22m\u001b[1m(\u001b[22m::Base.var\"#58#59\"{Base.Fix2{typeof(in),Array{Function,1}}}, ::typeof(setindex!), ::Observable{Float64}, ::Float64\u001b[1m)\u001b[22m at \u001b[1m/Users/eh540/.julia/packages/Observables/qCJWB/src/Observables.jl:87\u001b[22m\n",
      " [8] \u001b[1m(::Base.var\"#kw##setindex!\")\u001b[22m\u001b[1m(\u001b[22m::NamedTuple{(:notify,),Tuple{Base.var\"#58#59\"{Base.Fix2{typeof(in),Array{Function,1}}}}}, ::typeof(setindex!), ::Observable{Float64}, ::Float64\u001b[1m)\u001b[22m at \u001b[1m./none:0\u001b[22m\n",
      " [9] \u001b[1m(::Observables.var\"#25#28\"{InteractBase.var\"#77#80\",Observable{Float64},Array{Function,1}})\u001b[22m\u001b[1m(\u001b[22m::Int64\u001b[1m)\u001b[22m at \u001b[1m/Users/eh540/.julia/packages/Observables/qCJWB/src/observablepair.jl:14\u001b[22m\n",
      " [10] \u001b[1m#setindex!#1\u001b[22m\u001b[1m(\u001b[22m::WebIO.var\"#44#45\", ::typeof(setindex!), ::Observable{Any}, ::Int64\u001b[1m)\u001b[22m at \u001b[1m/Users/eh540/.julia/packages/Observables/qCJWB/src/Observables.jl:87\u001b[22m\n",
      " [11] \u001b[1m#setindex!\u001b[22m at \u001b[1m./none:0\u001b[22m [inlined]\n",
      " [12] \u001b[1msetexcludinghandlers\u001b[22m at \u001b[1m/Users/eh540/.julia/packages/Observables/qCJWB/src/Observables.jl:103\u001b[22m [inlined]\n",
      " [13] \u001b[1mset_nosync\u001b[22m\u001b[1m(\u001b[22m::Observable{Any}, ::Int64\u001b[1m)\u001b[22m at \u001b[1m/Users/eh540/.julia/packages/WebIO/2mZPb/src/scope.jl:339\u001b[22m\n",
      " [14] \u001b[1mdispatch\u001b[22m\u001b[1m(\u001b[22m::Scope, ::String, ::Int64\u001b[1m)\u001b[22m at \u001b[1m/Users/eh540/.julia/packages/WebIO/2mZPb/src/scope.jl:348\u001b[22m\n",
      " [15] \u001b[1mdispatch_command\u001b[22m\u001b[1m(\u001b[22m::WebIO.IJuliaConnection, ::Dict{String,Any}\u001b[1m)\u001b[22m at \u001b[1m/Users/eh540/.julia/packages/WebIO/2mZPb/src/messaging.jl:104\u001b[22m\n",
      " [16] \u001b[1mdispatch\u001b[22m\u001b[1m(\u001b[22m::WebIO.IJuliaConnection, ::Dict{String,Any}\u001b[1m)\u001b[22m at \u001b[1m/Users/eh540/.julia/packages/WebIO/2mZPb/src/messaging.jl:81\u001b[22m\n",
      " [17] \u001b[1m(::WebIO.var\"#92#93\"{WebIO.IJuliaConnection})\u001b[22m\u001b[1m(\u001b[22m::IJulia.Msg\u001b[1m)\u001b[22m at \u001b[1m/Users/eh540/.julia/packages/WebIO/2mZPb/src/providers/ijulia.jl:21\u001b[22m\n",
      " [18] \u001b[1mcomm_msg\u001b[22m\u001b[1m(\u001b[22m::ZMQ.Socket, ::IJulia.Msg\u001b[1m)\u001b[22m at \u001b[1m/Users/eh540/.julia/packages/IJulia/fRegO/src/comm_manager.jl:134\u001b[22m\n",
      " [19] \u001b[1m#invokelatest#1\u001b[22m at \u001b[1m./essentials.jl:709\u001b[22m [inlined]\n",
      " [20] \u001b[1minvokelatest\u001b[22m at \u001b[1m./essentials.jl:708\u001b[22m [inlined]\n",
      " [21] \u001b[1meventloop\u001b[22m\u001b[1m(\u001b[22m::ZMQ.Socket\u001b[1m)\u001b[22m at \u001b[1m/Users/eh540/.julia/packages/IJulia/fRegO/src/eventloop.jl:8\u001b[22m\n",
      " [22] \u001b[1m(::IJulia.var\"#15#18\")\u001b[22m\u001b[1m(\u001b[22m\u001b[1m)\u001b[22m at \u001b[1m./task.jl:333\u001b[22mCannot multiply two expressions of sizes (50, 100) and (4, 1)\n",
      "Stacktrace:\n",
      " [1] \u001b[1merror\u001b[22m\u001b[1m(\u001b[22m::String\u001b[1m)\u001b[22m at \u001b[1m./error.jl:33\u001b[22m\n",
      " [2] \u001b[1mMultiplyAtom\u001b[22m at \u001b[1m/Users/eh540/Dropbox (Personal)/LinkedFolders/Julia/dev/Convex/src/atoms/affine/multiply_divide.jl:28\u001b[22m [inlined]\n",
      " [3] \u001b[1m*\u001b[22m\u001b[1m(\u001b[22m::Array{Float64,2}, ::Variable\u001b[1m)\u001b[22m at \u001b[1m/Users/eh540/Dropbox (Personal)/LinkedFolders/Julia/dev/Convex/src/atoms/affine/multiply_divide.jl:103\u001b[22m\n",
      " [4] \u001b[1m(::var\"#7#8\")\u001b[22m\u001b[1m(\u001b[22m::Float64, ::Float64\u001b[1m)\u001b[22m at \u001b[1m./In[6]:4\u001b[22m\n",
      " [5] \u001b[1m(::Observables.var\"#16#17\"{var\"#7#8\",Observable{Any}})\u001b[22m\u001b[1m(\u001b[22m::Float64, ::Vararg{Float64,N} where N\u001b[1m)\u001b[22m at \u001b[1m/Users/eh540/.julia/packages/Observables/qCJWB/src/Observables.jl:152\u001b[22m\n",
      " [6] \u001b[1m(::Observables.var\"#g#15\"{Observables.var\"#16#17\"{var\"#7#8\",Observable{Any}},Tuple{Widget{:slider,Float64},Widget{:slider,Float64}}})\u001b[22m\u001b[1m(\u001b[22m::Float64\u001b[1m)\u001b[22m at \u001b[1m/Users/eh540/.julia/packages/Observables/qCJWB/src/Observables.jl:136\u001b[22m\n",
      " [7] \u001b[1m#setindex!#1\u001b[22m\u001b[1m(\u001b[22m::Base.var\"#58#59\"{Base.Fix2{typeof(in),Array{Function,1}}}, ::typeof(setindex!), ::Observable{Float64}, ::Float64\u001b[1m)\u001b[22m at \u001b[1m/Users/eh540/.julia/packages/Observables/qCJWB/src/Observables.jl:87\u001b[22m\n",
      " [8] \u001b[1m(::Base.var\"#kw##setindex!\")\u001b[22m\u001b[1m(\u001b[22m::NamedTuple{(:notify,),Tuple{Base.var\"#58#59\"{Base.Fix2{typeof(in),Array{Function,1}}}}}, ::typeof(setindex!), ::Observable{Float64}, ::Float64\u001b[1m)\u001b[22m at \u001b[1m./none:0\u001b[22m\n",
      " [9] \u001b[1m(::Observables.var\"#25#28\"{InteractBase.var\"#77#80\",Observable{Float64},Array{Function,1}})\u001b[22m\u001b[1m(\u001b[22m::Int64\u001b[1m)\u001b[22m at \u001b[1m/Users/eh540/.julia/packages/Observables/qCJWB/src/observablepair.jl:14\u001b[22m\n",
      " [10] \u001b[1m#setindex!#1\u001b[22m\u001b[1m(\u001b[22m::WebIO.var\"#44#45\", ::typeof(setindex!), ::Observable{Any}, ::Int64\u001b[1m)\u001b[22m at \u001b[1m/Users/eh540/.julia/packages/Observables/qCJWB/src/Observables.jl:87\u001b[22m\n",
      " [11] \u001b[1m#setindex!\u001b[22m at \u001b[1m./none:0\u001b[22m [inlined]\n",
      " [12] \u001b[1msetexcludinghandlers\u001b[22m at \u001b[1m/Users/eh540/.julia/packages/Observables/qCJWB/src/Observables.jl:103\u001b[22m [inlined]\n",
      " [13] \u001b[1mset_nosync\u001b[22m\u001b[1m(\u001b[22m::Observable{Any}, ::Int64\u001b[1m)\u001b[22m at \u001b[1m/Users/eh540/.julia/packages/WebIO/2mZPb/src/scope.jl:339\u001b[22m\n",
      " [14] \u001b[1mdispatch\u001b[22m\u001b[1m(\u001b[22m::Scope, ::String, ::Int64\u001b[1m)\u001b[22m at \u001b[1m/Users/eh540/.julia/packages/WebIO/2mZPb/src/scope.jl:348\u001b[22m\n",
      " [15] \u001b[1mdispatch_command\u001b[22m\u001b[1m(\u001b[22m::WebIO.IJuliaConnection, ::Dict{String,Any}\u001b[1m)\u001b[22m at \u001b[1m/Users/eh540/.julia/packages/WebIO/2mZPb/src/messaging.jl:104\u001b[22m\n",
      " [16] \u001b[1mdispatch\u001b[22m\u001b[1m(\u001b[22m::WebIO.IJuliaConnection, ::Dict{String,Any}\u001b[1m)\u001b[22m at \u001b[1m/Users/eh540/.julia/packages/WebIO/2mZPb/src/messaging.jl:81\u001b[22m\n",
      " [17] \u001b[1m(::WebIO.var\"#92#93\"{WebIO.IJuliaConnection})\u001b[22m\u001b[1m(\u001b[22m::IJulia.Msg\u001b[1m)\u001b[22m at \u001b[1m/Users/eh540/.julia/packages/WebIO/2mZPb/src/providers/ijulia.jl:21\u001b[22m\n",
      " [18] \u001b[1mcomm_msg\u001b[22m\u001b[1m(\u001b[22m::ZMQ.Socket, ::IJulia.Msg\u001b[1m)\u001b[22m at \u001b[1m/Users/eh540/.julia/packages/IJulia/fRegO/src/comm_manager.jl:134\u001b[22m\n",
      " [19] \u001b[1m#invokelatest#1\u001b[22m at \u001b[1m./essentials.jl:709\u001b[22m [inlined]\n",
      " [20] \u001b[1minvokelatest\u001b[22m at \u001b[1m./essentials.jl:708\u001b[22m [inlined]\n",
      " [21] \u001b[1meventloop\u001b[22m\u001b[1m(\u001b[22m::ZMQ.Socket\u001b[1m)\u001b[22m at \u001b[1m/Users/eh540/.julia/packages/IJulia/fRegO/src/eventloop.jl:8\u001b[22m\n",
      " [22] \u001b[1m(::IJulia.var\"#15#18\")\u001b[22m\u001b[1m(\u001b[22m\u001b[1m)\u001b[22m at \u001b[1m./task.jl:333\u001b[22m"
     ]
    },
    {
     "ename": "ErrorException",
     "evalue": "Cannot multiply two expressions of sizes (50, 100) and (4, 1)",
     "output_type": "error",
     "traceback": [
      "KERNEL EXCEPTION",
      "Cannot multiply two expressions of sizes (50, 100) and (4, 1)",
      "",
      "Stacktrace:",
      " [1] error(::String) at ./error.jl:33",
      " [2] MultiplyAtom at /Users/eh540/Dropbox (Personal)/LinkedFolders/Julia/dev/Convex/src/atoms/affine/multiply_divide.jl:28 [inlined]",
      " [3] *(::Array{Float64,2}, ::Variable) at /Users/eh540/Dropbox (Personal)/LinkedFolders/Julia/dev/Convex/src/atoms/affine/multiply_divide.jl:103",
      " [4] (::var\"#7#8\")(::Float64, ::Float64) at ./In[6]:4",
      " [5] (::Observables.var\"#16#17\"{var\"#7#8\",Observable{Any}})(::Float64, ::Vararg{Float64,N} where N) at /Users/eh540/.julia/packages/Observables/qCJWB/src/Observables.jl:152",
      " [6] (::Observables.var\"#g#15\"{Observables.var\"#16#17\"{var\"#7#8\",Observable{Any}},Tuple{Widget{:slider,Float64},Widget{:slider,Float64}}})(::Float64) at /Users/eh540/.julia/packages/Observables/qCJWB/src/Observables.jl:136",
      " [7] #setindex!#1(::Base.var\"#58#59\"{Base.Fix2{typeof(in),Array{Function,1}}}, ::typeof(setindex!), ::Observable{Float64}, ::Float64) at /Users/eh540/.julia/packages/Observables/qCJWB/src/Observables.jl:87",
      " [8] (::Base.var\"#kw##setindex!\")(::NamedTuple{(:notify,),Tuple{Base.var\"#58#59\"{Base.Fix2{typeof(in),Array{Function,1}}}}}, ::typeof(setindex!), ::Observable{Float64}, ::Float64) at ./none:0",
      " [9] (::Observables.var\"#25#28\"{InteractBase.var\"#77#80\",Observable{Float64},Array{Function,1}})(::Int64) at /Users/eh540/.julia/packages/Observables/qCJWB/src/observablepair.jl:14",
      " [10] #setindex!#1(::WebIO.var\"#44#45\", ::typeof(setindex!), ::Observable{Any}, ::Int64) at /Users/eh540/.julia/packages/Observables/qCJWB/src/Observables.jl:87",
      " [11] #setindex! at ./none:0 [inlined]",
      " [12] setexcludinghandlers at /Users/eh540/.julia/packages/Observables/qCJWB/src/Observables.jl:103 [inlined]",
      " [13] set_nosync(::Observable{Any}, ::Int64) at /Users/eh540/.julia/packages/WebIO/2mZPb/src/scope.jl:339",
      " [14] dispatch(::Scope, ::String, ::Int64) at /Users/eh540/.julia/packages/WebIO/2mZPb/src/scope.jl:348",
      " [15] dispatch_command(::WebIO.IJuliaConnection, ::Dict{String,Any}) at /Users/eh540/.julia/packages/WebIO/2mZPb/src/messaging.jl:104",
      " [16] dispatch(::WebIO.IJuliaConnection, ::Dict{String,Any}) at /Users/eh540/.julia/packages/WebIO/2mZPb/src/messaging.jl:81",
      " [17] (::WebIO.var\"#92#93\"{WebIO.IJuliaConnection})(::IJulia.Msg) at /Users/eh540/.julia/packages/WebIO/2mZPb/src/providers/ijulia.jl:21",
      " [18] comm_msg(::ZMQ.Socket, ::IJulia.Msg) at /Users/eh540/.julia/packages/IJulia/fRegO/src/comm_manager.jl:134",
      " [19] #invokelatest#1 at ./essentials.jl:709 [inlined]",
      " [20] invokelatest at ./essentials.jl:708 [inlined]",
      " [21] eventloop(::ZMQ.Socket) at /Users/eh540/.julia/packages/IJulia/fRegO/src/eventloop.jl:8",
      " [22] (::IJulia.var\"#15#18\")() at ./task.jl:333"
     ]
    },
    {
     "name": "stderr",
     "output_type": "stream",
     "text": [
      "Cannot multiply two expressions of sizes (50, 100) and (4, 1)\n",
      "Stacktrace:\n",
      " [1] \u001b[1merror\u001b[22m\u001b[1m(\u001b[22m::String\u001b[1m)\u001b[22m at \u001b[1m./error.jl:33\u001b[22m\n",
      " [2] \u001b[1mMultiplyAtom\u001b[22m at \u001b[1m/Users/eh540/Dropbox (Personal)/LinkedFolders/Julia/dev/Convex/src/atoms/affine/multiply_divide.jl:28\u001b[22m [inlined]\n",
      " [3] \u001b[1m*\u001b[22m\u001b[1m(\u001b[22m::Array{Float64,2}, ::Variable\u001b[1m)\u001b[22m at \u001b[1m/Users/eh540/Dropbox (Personal)/LinkedFolders/Julia/dev/Convex/src/atoms/affine/multiply_divide.jl:103\u001b[22m\n",
      " [4] \u001b[1m(::var\"#7#8\")\u001b[22m\u001b[1m(\u001b[22m::Float64, ::Float64\u001b[1m)\u001b[22m at \u001b[1m./In[6]:4\u001b[22m\n",
      " [5] \u001b[1m(::Observables.var\"#16#17\"{var\"#7#8\",Observable{Any}})\u001b[22m\u001b[1m(\u001b[22m::Float64, ::Vararg{Float64,N} where N\u001b[1m)\u001b[22m at \u001b[1m/Users/eh540/.julia/packages/Observables/qCJWB/src/Observables.jl:152\u001b[22m\n",
      " [6] \u001b[1m(::Observables.var\"#g#15\"{Observables.var\"#16#17\"{var\"#7#8\",Observable{Any}},Tuple{Widget{:slider,Float64},Widget{:slider,Float64}}})\u001b[22m\u001b[1m(\u001b[22m::Float64\u001b[1m)\u001b[22m at \u001b[1m/Users/eh540/.julia/packages/Observables/qCJWB/src/Observables.jl:136\u001b[22m\n",
      " [7] \u001b[1m#setindex!#1\u001b[22m\u001b[1m(\u001b[22m::Base.var\"#58#59\"{Base.Fix2{typeof(in),Array{Function,1}}}, ::typeof(setindex!), ::Observable{Float64}, ::Float64\u001b[1m)\u001b[22m at \u001b[1m/Users/eh540/.julia/packages/Observables/qCJWB/src/Observables.jl:87\u001b[22m\n",
      " [8] \u001b[1m(::Base.var\"#kw##setindex!\")\u001b[22m\u001b[1m(\u001b[22m::NamedTuple{(:notify,),Tuple{Base.var\"#58#59\"{Base.Fix2{typeof(in),Array{Function,1}}}}}, ::typeof(setindex!), ::Observable{Float64}, ::Float64\u001b[1m)\u001b[22m at \u001b[1m./none:0\u001b[22m\n",
      " [9] \u001b[1m(::Observables.var\"#25#28\"{InteractBase.var\"#77#80\",Observable{Float64},Array{Function,1}})\u001b[22m\u001b[1m(\u001b[22m::Int64\u001b[1m)\u001b[22m at \u001b[1m/Users/eh540/.julia/packages/Observables/qCJWB/src/observablepair.jl:14\u001b[22m\n",
      " [10] \u001b[1m#setindex!#1\u001b[22m\u001b[1m(\u001b[22m::WebIO.var\"#44#45\", ::typeof(setindex!), ::Observable{Any}, ::Int64\u001b[1m)\u001b[22m at \u001b[1m/Users/eh540/.julia/packages/Observables/qCJWB/src/Observables.jl:87\u001b[22m\n",
      " [11] \u001b[1m#setindex!\u001b[22m at \u001b[1m./none:0\u001b[22m [inlined]\n",
      " [12] \u001b[1msetexcludinghandlers\u001b[22m at \u001b[1m/Users/eh540/.julia/packages/Observables/qCJWB/src/Observables.jl:103\u001b[22m [inlined]\n",
      " [13] \u001b[1mset_nosync\u001b[22m\u001b[1m(\u001b[22m::Observable{Any}, ::Int64\u001b[1m)\u001b[22m at \u001b[1m/Users/eh540/.julia/packages/WebIO/2mZPb/src/scope.jl:339\u001b[22m\n",
      " [14] \u001b[1mdispatch\u001b[22m\u001b[1m(\u001b[22m::Scope, ::String, ::Int64\u001b[1m)\u001b[22m at \u001b[1m/Users/eh540/.julia/packages/WebIO/2mZPb/src/scope.jl:348\u001b[22m\n",
      " [15] \u001b[1mdispatch_command\u001b[22m\u001b[1m(\u001b[22m::WebIO.IJuliaConnection, ::Dict{String,Any}\u001b[1m)\u001b[22m at \u001b[1m/Users/eh540/.julia/packages/WebIO/2mZPb/src/messaging.jl:104\u001b[22m\n",
      " [16] \u001b[1mdispatch\u001b[22m\u001b[1m(\u001b[22m::WebIO.IJuliaConnection, ::Dict{String,Any}\u001b[1m)\u001b[22m at \u001b[1m/Users/eh540/.julia/packages/WebIO/2mZPb/src/messaging.jl:81\u001b[22m\n",
      " [17] \u001b[1m(::WebIO.var\"#92#93\"{WebIO.IJuliaConnection})\u001b[22m\u001b[1m(\u001b[22m::IJulia.Msg\u001b[1m)\u001b[22m at \u001b[1m/Users/eh540/.julia/packages/WebIO/2mZPb/src/providers/ijulia.jl:21\u001b[22m\n",
      " [18] \u001b[1mcomm_msg\u001b[22m\u001b[1m(\u001b[22m::ZMQ.Socket, ::IJulia.Msg\u001b[1m)\u001b[22m at \u001b[1m/Users/eh540/.julia/packages/IJulia/fRegO/src/comm_manager.jl:134\u001b[22m\n",
      " [19] \u001b[1m#invokelatest#1\u001b[22m at \u001b[1m./essentials.jl:709\u001b[22m [inlined]\n",
      " [20] \u001b[1minvokelatest\u001b[22m at \u001b[1m./essentials.jl:708\u001b[22m [inlined]\n",
      " [21] \u001b[1meventloop\u001b[22m\u001b[1m(\u001b[22m::ZMQ.Socket\u001b[1m)\u001b[22m at \u001b[1m/Users/eh540/.julia/packages/IJulia/fRegO/src/eventloop.jl:8\u001b[22m\n",
      " [22] \u001b[1m(::IJulia.var\"#15#18\")\u001b[22m\u001b[1m(\u001b[22m\u001b[1m)\u001b[22m at \u001b[1m./task.jl:333\u001b[22mCannot multiply two expressions of sizes (50, 100) and (4, 1)\n",
      "Stacktrace:\n",
      " [1] \u001b[1merror\u001b[22m\u001b[1m(\u001b[22m::String\u001b[1m)\u001b[22m at \u001b[1m./error.jl:33\u001b[22m\n",
      " [2] \u001b[1mMultiplyAtom\u001b[22m at \u001b[1m/Users/eh540/Dropbox (Personal)/LinkedFolders/Julia/dev/Convex/src/atoms/affine/multiply_divide.jl:28\u001b[22m [inlined]\n",
      " [3] \u001b[1m*\u001b[22m\u001b[1m(\u001b[22m::Array{Float64,2}, ::Variable\u001b[1m)\u001b[22m at \u001b[1m/Users/eh540/Dropbox (Personal)/LinkedFolders/Julia/dev/Convex/src/atoms/affine/multiply_divide.jl:103\u001b[22m\n",
      " [4] \u001b[1m(::var\"#7#8\")\u001b[22m\u001b[1m(\u001b[22m::Float64, ::Float64\u001b[1m)\u001b[22m at \u001b[1m./In[6]:4\u001b[22m\n",
      " [5] \u001b[1m(::Observables.var\"#16#17\"{var\"#7#8\",Observable{Any}})\u001b[22m\u001b[1m(\u001b[22m::Float64, ::Vararg{Float64,N} where N\u001b[1m)\u001b[22m at \u001b[1m/Users/eh540/.julia/packages/Observables/qCJWB/src/Observables.jl:152\u001b[22m\n",
      " [6] \u001b[1m(::Observables.var\"#g#15\"{Observables.var\"#16#17\"{var\"#7#8\",Observable{Any}},Tuple{Widget{:slider,Float64},Widget{:slider,Float64}}})\u001b[22m\u001b[1m(\u001b[22m::Float64\u001b[1m)\u001b[22m at \u001b[1m/Users/eh540/.julia/packages/Observables/qCJWB/src/Observables.jl:136\u001b[22m\n",
      " [7] \u001b[1m#setindex!#1\u001b[22m\u001b[1m(\u001b[22m::Base.var\"#58#59\"{Base.Fix2{typeof(in),Array{Function,1}}}, ::typeof(setindex!), ::Observable{Float64}, ::Float64\u001b[1m)\u001b[22m at \u001b[1m/Users/eh540/.julia/packages/Observables/qCJWB/src/Observables.jl:87\u001b[22m\n",
      " [8] \u001b[1m(::Base.var\"#kw##setindex!\")\u001b[22m\u001b[1m(\u001b[22m::NamedTuple{(:notify,),Tuple{Base.var\"#58#59\"{Base.Fix2{typeof(in),Array{Function,1}}}}}, ::typeof(setindex!), ::Observable{Float64}, ::Float64\u001b[1m)\u001b[22m at \u001b[1m./none:0\u001b[22m\n",
      " [9] \u001b[1m(::Observables.var\"#25#28\"{InteractBase.var\"#77#80\",Observable{Float64},Array{Function,1}})\u001b[22m\u001b[1m(\u001b[22m::Int64\u001b[1m)\u001b[22m at \u001b[1m/Users/eh540/.julia/packages/Observables/qCJWB/src/observablepair.jl:14\u001b[22m\n",
      " [10] \u001b[1m#setindex!#1\u001b[22m\u001b[1m(\u001b[22m::WebIO.var\"#44#45\", ::typeof(setindex!), ::Observable{Any}, ::Int64\u001b[1m)\u001b[22m at \u001b[1m/Users/eh540/.julia/packages/Observables/qCJWB/src/Observables.jl:87\u001b[22m\n",
      " [11] \u001b[1m#setindex!\u001b[22m at \u001b[1m./none:0\u001b[22m [inlined]\n",
      " [12] \u001b[1msetexcludinghandlers\u001b[22m at \u001b[1m/Users/eh540/.julia/packages/Observables/qCJWB/src/Observables.jl:103\u001b[22m [inlined]\n",
      " [13] \u001b[1mset_nosync\u001b[22m\u001b[1m(\u001b[22m::Observable{Any}, ::Int64\u001b[1m)\u001b[22m at \u001b[1m/Users/eh540/.julia/packages/WebIO/2mZPb/src/scope.jl:339\u001b[22m\n",
      " [14] \u001b[1mdispatch\u001b[22m\u001b[1m(\u001b[22m::Scope, ::String, ::Int64\u001b[1m)\u001b[22m at \u001b[1m/Users/eh540/.julia/packages/WebIO/2mZPb/src/scope.jl:348\u001b[22m\n",
      " [15] \u001b[1mdispatch_command\u001b[22m\u001b[1m(\u001b[22m::WebIO.IJuliaConnection, ::Dict{String,Any}\u001b[1m)\u001b[22m at \u001b[1m/Users/eh540/.julia/packages/WebIO/2mZPb/src/messaging.jl:104\u001b[22m\n",
      " [16] \u001b[1mdispatch\u001b[22m\u001b[1m(\u001b[22m::WebIO.IJuliaConnection, ::Dict{String,Any}\u001b[1m)\u001b[22m at \u001b[1m/Users/eh540/.julia/packages/WebIO/2mZPb/src/messaging.jl:81\u001b[22m\n",
      " [17] \u001b[1m(::WebIO.var\"#92#93\"{WebIO.IJuliaConnection})\u001b[22m\u001b[1m(\u001b[22m::IJulia.Msg\u001b[1m)\u001b[22m at \u001b[1m/Users/eh540/.julia/packages/WebIO/2mZPb/src/providers/ijulia.jl:21\u001b[22m\n",
      " [18] \u001b[1mcomm_msg\u001b[22m\u001b[1m(\u001b[22m::ZMQ.Socket, ::IJulia.Msg\u001b[1m)\u001b[22m at \u001b[1m/Users/eh540/.julia/packages/IJulia/fRegO/src/comm_manager.jl:134\u001b[22m\n",
      " [19] \u001b[1m#invokelatest#1\u001b[22m at \u001b[1m./essentials.jl:709\u001b[22m [inlined]\n",
      " [20] \u001b[1minvokelatest\u001b[22m at \u001b[1m./essentials.jl:708\u001b[22m [inlined]\n",
      " [21] \u001b[1meventloop\u001b[22m\u001b[1m(\u001b[22m::ZMQ.Socket\u001b[1m)\u001b[22m at \u001b[1m/Users/eh540/.julia/packages/IJulia/fRegO/src/eventloop.jl:8\u001b[22m\n",
      " [22] \u001b[1m(::IJulia.var\"#15#18\")\u001b[22m\u001b[1m(\u001b[22m\u001b[1m)\u001b[22m at \u001b[1m./task.jl:333\u001b[22m"
     ]
    },
    {
     "ename": "ErrorException",
     "evalue": "Cannot multiply two expressions of sizes (50, 100) and (4, 1)",
     "output_type": "error",
     "traceback": [
      "KERNEL EXCEPTION",
      "Cannot multiply two expressions of sizes (50, 100) and (4, 1)",
      "",
      "Stacktrace:",
      " [1] error(::String) at ./error.jl:33",
      " [2] MultiplyAtom at /Users/eh540/Dropbox (Personal)/LinkedFolders/Julia/dev/Convex/src/atoms/affine/multiply_divide.jl:28 [inlined]",
      " [3] *(::Array{Float64,2}, ::Variable) at /Users/eh540/Dropbox (Personal)/LinkedFolders/Julia/dev/Convex/src/atoms/affine/multiply_divide.jl:103",
      " [4] (::var\"#7#8\")(::Float64, ::Float64) at ./In[6]:4",
      " [5] (::Observables.var\"#16#17\"{var\"#7#8\",Observable{Any}})(::Float64, ::Vararg{Float64,N} where N) at /Users/eh540/.julia/packages/Observables/qCJWB/src/Observables.jl:152",
      " [6] (::Observables.var\"#g#15\"{Observables.var\"#16#17\"{var\"#7#8\",Observable{Any}},Tuple{Widget{:slider,Float64},Widget{:slider,Float64}}})(::Float64) at /Users/eh540/.julia/packages/Observables/qCJWB/src/Observables.jl:136",
      " [7] #setindex!#1(::Base.var\"#58#59\"{Base.Fix2{typeof(in),Array{Function,1}}}, ::typeof(setindex!), ::Observable{Float64}, ::Float64) at /Users/eh540/.julia/packages/Observables/qCJWB/src/Observables.jl:87",
      " [8] (::Base.var\"#kw##setindex!\")(::NamedTuple{(:notify,),Tuple{Base.var\"#58#59\"{Base.Fix2{typeof(in),Array{Function,1}}}}}, ::typeof(setindex!), ::Observable{Float64}, ::Float64) at ./none:0",
      " [9] (::Observables.var\"#25#28\"{InteractBase.var\"#77#80\",Observable{Float64},Array{Function,1}})(::Int64) at /Users/eh540/.julia/packages/Observables/qCJWB/src/observablepair.jl:14",
      " [10] #setindex!#1(::WebIO.var\"#44#45\", ::typeof(setindex!), ::Observable{Any}, ::Int64) at /Users/eh540/.julia/packages/Observables/qCJWB/src/Observables.jl:87",
      " [11] #setindex! at ./none:0 [inlined]",
      " [12] setexcludinghandlers at /Users/eh540/.julia/packages/Observables/qCJWB/src/Observables.jl:103 [inlined]",
      " [13] set_nosync(::Observable{Any}, ::Int64) at /Users/eh540/.julia/packages/WebIO/2mZPb/src/scope.jl:339",
      " [14] dispatch(::Scope, ::String, ::Int64) at /Users/eh540/.julia/packages/WebIO/2mZPb/src/scope.jl:348",
      " [15] dispatch_command(::WebIO.IJuliaConnection, ::Dict{String,Any}) at /Users/eh540/.julia/packages/WebIO/2mZPb/src/messaging.jl:104",
      " [16] dispatch(::WebIO.IJuliaConnection, ::Dict{String,Any}) at /Users/eh540/.julia/packages/WebIO/2mZPb/src/messaging.jl:81",
      " [17] (::WebIO.var\"#92#93\"{WebIO.IJuliaConnection})(::IJulia.Msg) at /Users/eh540/.julia/packages/WebIO/2mZPb/src/providers/ijulia.jl:21",
      " [18] comm_msg(::ZMQ.Socket, ::IJulia.Msg) at /Users/eh540/.julia/packages/IJulia/fRegO/src/comm_manager.jl:134",
      " [19] #invokelatest#1 at ./essentials.jl:709 [inlined]",
      " [20] invokelatest at ./essentials.jl:708 [inlined]",
      " [21] eventloop(::ZMQ.Socket) at /Users/eh540/.julia/packages/IJulia/fRegO/src/eventloop.jl:8",
      " [22] (::IJulia.var\"#15#18\")() at ./task.jl:333"
     ]
    },
    {
     "name": "stderr",
     "output_type": "stream",
     "text": [
      "Cannot multiply two expressions of sizes (50, 100) and (4, 1)\n",
      "Stacktrace:\n",
      " [1] \u001b[1merror\u001b[22m\u001b[1m(\u001b[22m::String\u001b[1m)\u001b[22m at \u001b[1m./error.jl:33\u001b[22m\n",
      " [2] \u001b[1mMultiplyAtom\u001b[22m at \u001b[1m/Users/eh540/Dropbox (Personal)/LinkedFolders/Julia/dev/Convex/src/atoms/affine/multiply_divide.jl:28\u001b[22m [inlined]\n",
      " [3] \u001b[1m*\u001b[22m\u001b[1m(\u001b[22m::Array{Float64,2}, ::Variable\u001b[1m)\u001b[22m at \u001b[1m/Users/eh540/Dropbox (Personal)/LinkedFolders/Julia/dev/Convex/src/atoms/affine/multiply_divide.jl:103\u001b[22m\n",
      " [4] \u001b[1m(::var\"#7#8\")\u001b[22m\u001b[1m(\u001b[22m::Float64, ::Float64\u001b[1m)\u001b[22m at \u001b[1m./In[6]:4\u001b[22m\n",
      " [5] \u001b[1m(::Observables.var\"#16#17\"{var\"#7#8\",Observable{Any}})\u001b[22m\u001b[1m(\u001b[22m::Float64, ::Vararg{Float64,N} where N\u001b[1m)\u001b[22m at \u001b[1m/Users/eh540/.julia/packages/Observables/qCJWB/src/Observables.jl:152\u001b[22m\n",
      " [6] \u001b[1m(::Observables.var\"#g#15\"{Observables.var\"#16#17\"{var\"#7#8\",Observable{Any}},Tuple{Widget{:slider,Float64},Widget{:slider,Float64}}})\u001b[22m\u001b[1m(\u001b[22m::Float64\u001b[1m)\u001b[22m at \u001b[1m/Users/eh540/.julia/packages/Observables/qCJWB/src/Observables.jl:136\u001b[22m\n",
      " [7] \u001b[1m#setindex!#1\u001b[22m\u001b[1m(\u001b[22m::Base.var\"#58#59\"{Base.Fix2{typeof(in),Array{Function,1}}}, ::typeof(setindex!), ::Observable{Float64}, ::Float64\u001b[1m)\u001b[22m at \u001b[1m/Users/eh540/.julia/packages/Observables/qCJWB/src/Observables.jl:87\u001b[22m\n",
      " [8] \u001b[1m(::Base.var\"#kw##setindex!\")\u001b[22m\u001b[1m(\u001b[22m::NamedTuple{(:notify,),Tuple{Base.var\"#58#59\"{Base.Fix2{typeof(in),Array{Function,1}}}}}, ::typeof(setindex!), ::Observable{Float64}, ::Float64\u001b[1m)\u001b[22m at \u001b[1m./none:0\u001b[22m\n",
      " [9] \u001b[1m(::Observables.var\"#25#28\"{InteractBase.var\"#77#80\",Observable{Float64},Array{Function,1}})\u001b[22m\u001b[1m(\u001b[22m::Int64\u001b[1m)\u001b[22m at \u001b[1m/Users/eh540/.julia/packages/Observables/qCJWB/src/observablepair.jl:14\u001b[22m\n",
      " [10] \u001b[1m#setindex!#1\u001b[22m\u001b[1m(\u001b[22m::WebIO.var\"#44#45\", ::typeof(setindex!), ::Observable{Any}, ::Int64\u001b[1m)\u001b[22m at \u001b[1m/Users/eh540/.julia/packages/Observables/qCJWB/src/Observables.jl:87\u001b[22m\n",
      " [11] \u001b[1m#setindex!\u001b[22m at \u001b[1m./none:0\u001b[22m [inlined]\n",
      " [12] \u001b[1msetexcludinghandlers\u001b[22m at \u001b[1m/Users/eh540/.julia/packages/Observables/qCJWB/src/Observables.jl:103\u001b[22m [inlined]\n",
      " [13] \u001b[1mset_nosync\u001b[22m\u001b[1m(\u001b[22m::Observable{Any}, ::Int64\u001b[1m)\u001b[22m at \u001b[1m/Users/eh540/.julia/packages/WebIO/2mZPb/src/scope.jl:339\u001b[22m\n",
      " [14] \u001b[1mdispatch\u001b[22m\u001b[1m(\u001b[22m::Scope, ::String, ::Int64\u001b[1m)\u001b[22m at \u001b[1m/Users/eh540/.julia/packages/WebIO/2mZPb/src/scope.jl:348\u001b[22m\n",
      " [15] \u001b[1mdispatch_command\u001b[22m\u001b[1m(\u001b[22m::WebIO.IJuliaConnection, ::Dict{String,Any}\u001b[1m)\u001b[22m at \u001b[1m/Users/eh540/.julia/packages/WebIO/2mZPb/src/messaging.jl:104\u001b[22m\n",
      " [16] \u001b[1mdispatch\u001b[22m\u001b[1m(\u001b[22m::WebIO.IJuliaConnection, ::Dict{String,Any}\u001b[1m)\u001b[22m at \u001b[1m/Users/eh540/.julia/packages/WebIO/2mZPb/src/messaging.jl:81\u001b[22m\n",
      " [17] \u001b[1m(::WebIO.var\"#92#93\"{WebIO.IJuliaConnection})\u001b[22m\u001b[1m(\u001b[22m::IJulia.Msg\u001b[1m)\u001b[22m at \u001b[1m/Users/eh540/.julia/packages/WebIO/2mZPb/src/providers/ijulia.jl:21\u001b[22m\n",
      " [18] \u001b[1mcomm_msg\u001b[22m\u001b[1m(\u001b[22m::ZMQ.Socket, ::IJulia.Msg\u001b[1m)\u001b[22m at \u001b[1m/Users/eh540/.julia/packages/IJulia/fRegO/src/comm_manager.jl:134\u001b[22m\n",
      " [19] \u001b[1m#invokelatest#1\u001b[22m at \u001b[1m./essentials.jl:709\u001b[22m [inlined]\n",
      " [20] \u001b[1minvokelatest\u001b[22m at \u001b[1m./essentials.jl:708\u001b[22m [inlined]\n",
      " [21] \u001b[1meventloop\u001b[22m\u001b[1m(\u001b[22m::ZMQ.Socket\u001b[1m)\u001b[22m at \u001b[1m/Users/eh540/.julia/packages/IJulia/fRegO/src/eventloop.jl:8\u001b[22m\n",
      " [22] \u001b[1m(::IJulia.var\"#15#18\")\u001b[22m\u001b[1m(\u001b[22m\u001b[1m)\u001b[22m at \u001b[1m./task.jl:333\u001b[22mCannot multiply two expressions of sizes (50, 100) and (4, 1)\n",
      "Stacktrace:\n",
      " [1] \u001b[1merror\u001b[22m\u001b[1m(\u001b[22m::String\u001b[1m)\u001b[22m at \u001b[1m./error.jl:33\u001b[22m\n",
      " [2] \u001b[1mMultiplyAtom\u001b[22m at \u001b[1m/Users/eh540/Dropbox (Personal)/LinkedFolders/Julia/dev/Convex/src/atoms/affine/multiply_divide.jl:28\u001b[22m [inlined]\n",
      " [3] \u001b[1m*\u001b[22m\u001b[1m(\u001b[22m::Array{Float64,2}, ::Variable\u001b[1m)\u001b[22m at \u001b[1m/Users/eh540/Dropbox (Personal)/LinkedFolders/Julia/dev/Convex/src/atoms/affine/multiply_divide.jl:103\u001b[22m\n",
      " [4] \u001b[1m(::var\"#7#8\")\u001b[22m\u001b[1m(\u001b[22m::Float64, ::Float64\u001b[1m)\u001b[22m at \u001b[1m./In[6]:4\u001b[22m\n",
      " [5] \u001b[1m(::Observables.var\"#16#17\"{var\"#7#8\",Observable{Any}})\u001b[22m\u001b[1m(\u001b[22m::Float64, ::Vararg{Float64,N} where N\u001b[1m)\u001b[22m at \u001b[1m/Users/eh540/.julia/packages/Observables/qCJWB/src/Observables.jl:152\u001b[22m\n",
      " [6] \u001b[1m(::Observables.var\"#g#15\"{Observables.var\"#16#17\"{var\"#7#8\",Observable{Any}},Tuple{Widget{:slider,Float64},Widget{:slider,Float64}}})\u001b[22m\u001b[1m(\u001b[22m::Float64\u001b[1m)\u001b[22m at \u001b[1m/Users/eh540/.julia/packages/Observables/qCJWB/src/Observables.jl:136\u001b[22m\n",
      " [7] \u001b[1m#setindex!#1\u001b[22m\u001b[1m(\u001b[22m::Base.var\"#58#59\"{Base.Fix2{typeof(in),Array{Function,1}}}, ::typeof(setindex!), ::Observable{Float64}, ::Float64\u001b[1m)\u001b[22m at \u001b[1m/Users/eh540/.julia/packages/Observables/qCJWB/src/Observables.jl:87\u001b[22m\n",
      " [8] \u001b[1m(::Base.var\"#kw##setindex!\")\u001b[22m\u001b[1m(\u001b[22m::NamedTuple{(:notify,),Tuple{Base.var\"#58#59\"{Base.Fix2{typeof(in),Array{Function,1}}}}}, ::typeof(setindex!), ::Observable{Float64}, ::Float64\u001b[1m)\u001b[22m at \u001b[1m./none:0\u001b[22m\n",
      " [9] \u001b[1m(::Observables.var\"#25#28\"{InteractBase.var\"#77#80\",Observable{Float64},Array{Function,1}})\u001b[22m\u001b[1m(\u001b[22m::Int64\u001b[1m)\u001b[22m at \u001b[1m/Users/eh540/.julia/packages/Observables/qCJWB/src/observablepair.jl:14\u001b[22m\n",
      " [10] \u001b[1m#setindex!#1\u001b[22m\u001b[1m(\u001b[22m::WebIO.var\"#44#45\", ::typeof(setindex!), ::Observable{Any}, ::Int64\u001b[1m)\u001b[22m at \u001b[1m/Users/eh540/.julia/packages/Observables/qCJWB/src/Observables.jl:87\u001b[22m\n",
      " [11] \u001b[1m#setindex!\u001b[22m at \u001b[1m./none:0\u001b[22m [inlined]\n",
      " [12] \u001b[1msetexcludinghandlers\u001b[22m at \u001b[1m/Users/eh540/.julia/packages/Observables/qCJWB/src/Observables.jl:103\u001b[22m [inlined]\n",
      " [13] \u001b[1mset_nosync\u001b[22m\u001b[1m(\u001b[22m::Observable{Any}, ::Int64\u001b[1m)\u001b[22m at \u001b[1m/Users/eh540/.julia/packages/WebIO/2mZPb/src/scope.jl:339\u001b[22m\n",
      " [14] \u001b[1mdispatch\u001b[22m\u001b[1m(\u001b[22m::Scope, ::String, ::Int64\u001b[1m)\u001b[22m at \u001b[1m/Users/eh540/.julia/packages/WebIO/2mZPb/src/scope.jl:348\u001b[22m\n",
      " [15] \u001b[1mdispatch_command\u001b[22m\u001b[1m(\u001b[22m::WebIO.IJuliaConnection, ::Dict{String,Any}\u001b[1m)\u001b[22m at \u001b[1m/Users/eh540/.julia/packages/WebIO/2mZPb/src/messaging.jl:104\u001b[22m\n",
      " [16] \u001b[1mdispatch\u001b[22m\u001b[1m(\u001b[22m::WebIO.IJuliaConnection, ::Dict{String,Any}\u001b[1m)\u001b[22m at \u001b[1m/Users/eh540/.julia/packages/WebIO/2mZPb/src/messaging.jl:81\u001b[22m\n",
      " [17] \u001b[1m(::WebIO.var\"#92#93\"{WebIO.IJuliaConnection})\u001b[22m\u001b[1m(\u001b[22m::IJulia.Msg\u001b[1m)\u001b[22m at \u001b[1m/Users/eh540/.julia/packages/WebIO/2mZPb/src/providers/ijulia.jl:21\u001b[22m\n",
      " [18] \u001b[1mcomm_msg\u001b[22m\u001b[1m(\u001b[22m::ZMQ.Socket, ::IJulia.Msg\u001b[1m)\u001b[22m at \u001b[1m/Users/eh540/.julia/packages/IJulia/fRegO/src/comm_manager.jl:134\u001b[22m\n",
      " [19] \u001b[1m#invokelatest#1\u001b[22m at \u001b[1m./essentials.jl:709\u001b[22m [inlined]\n",
      " [20] \u001b[1minvokelatest\u001b[22m at \u001b[1m./essentials.jl:708\u001b[22m [inlined]\n",
      " [21] \u001b[1meventloop\u001b[22m\u001b[1m(\u001b[22m::ZMQ.Socket\u001b[1m)\u001b[22m at \u001b[1m/Users/eh540/.julia/packages/IJulia/fRegO/src/eventloop.jl:8\u001b[22m\n",
      " [22] \u001b[1m(::IJulia.var\"#15#18\")\u001b[22m\u001b[1m(\u001b[22m\u001b[1m)\u001b[22m at \u001b[1m./task.jl:333\u001b[22m"
     ]
    },
    {
     "ename": "ErrorException",
     "evalue": "Cannot multiply two expressions of sizes (50, 100) and (4, 1)",
     "output_type": "error",
     "traceback": [
      "KERNEL EXCEPTION",
      "Cannot multiply two expressions of sizes (50, 100) and (4, 1)",
      "",
      "Stacktrace:",
      " [1] error(::String) at ./error.jl:33",
      " [2] MultiplyAtom at /Users/eh540/Dropbox (Personal)/LinkedFolders/Julia/dev/Convex/src/atoms/affine/multiply_divide.jl:28 [inlined]",
      " [3] *(::Array{Float64,2}, ::Variable) at /Users/eh540/Dropbox (Personal)/LinkedFolders/Julia/dev/Convex/src/atoms/affine/multiply_divide.jl:103",
      " [4] (::var\"#7#8\")(::Float64, ::Float64) at ./In[6]:4",
      " [5] (::Observables.var\"#16#17\"{var\"#7#8\",Observable{Any}})(::Float64, ::Vararg{Float64,N} where N) at /Users/eh540/.julia/packages/Observables/qCJWB/src/Observables.jl:152",
      " [6] (::Observables.var\"#g#15\"{Observables.var\"#16#17\"{var\"#7#8\",Observable{Any}},Tuple{Widget{:slider,Float64},Widget{:slider,Float64}}})(::Float64) at /Users/eh540/.julia/packages/Observables/qCJWB/src/Observables.jl:136",
      " [7] #setindex!#1(::Base.var\"#58#59\"{Base.Fix2{typeof(in),Array{Function,1}}}, ::typeof(setindex!), ::Observable{Float64}, ::Float64) at /Users/eh540/.julia/packages/Observables/qCJWB/src/Observables.jl:87",
      " [8] (::Base.var\"#kw##setindex!\")(::NamedTuple{(:notify,),Tuple{Base.var\"#58#59\"{Base.Fix2{typeof(in),Array{Function,1}}}}}, ::typeof(setindex!), ::Observable{Float64}, ::Float64) at ./none:0",
      " [9] (::Observables.var\"#25#28\"{InteractBase.var\"#77#80\",Observable{Float64},Array{Function,1}})(::Int64) at /Users/eh540/.julia/packages/Observables/qCJWB/src/observablepair.jl:14",
      " [10] #setindex!#1(::WebIO.var\"#44#45\", ::typeof(setindex!), ::Observable{Any}, ::Int64) at /Users/eh540/.julia/packages/Observables/qCJWB/src/Observables.jl:87",
      " [11] #setindex! at ./none:0 [inlined]",
      " [12] setexcludinghandlers at /Users/eh540/.julia/packages/Observables/qCJWB/src/Observables.jl:103 [inlined]",
      " [13] set_nosync(::Observable{Any}, ::Int64) at /Users/eh540/.julia/packages/WebIO/2mZPb/src/scope.jl:339",
      " [14] dispatch(::Scope, ::String, ::Int64) at /Users/eh540/.julia/packages/WebIO/2mZPb/src/scope.jl:348",
      " [15] dispatch_command(::WebIO.IJuliaConnection, ::Dict{String,Any}) at /Users/eh540/.julia/packages/WebIO/2mZPb/src/messaging.jl:104",
      " [16] dispatch(::WebIO.IJuliaConnection, ::Dict{String,Any}) at /Users/eh540/.julia/packages/WebIO/2mZPb/src/messaging.jl:81",
      " [17] (::WebIO.var\"#92#93\"{WebIO.IJuliaConnection})(::IJulia.Msg) at /Users/eh540/.julia/packages/WebIO/2mZPb/src/providers/ijulia.jl:21",
      " [18] comm_msg(::ZMQ.Socket, ::IJulia.Msg) at /Users/eh540/.julia/packages/IJulia/fRegO/src/comm_manager.jl:134",
      " [19] #invokelatest#1 at ./essentials.jl:709 [inlined]",
      " [20] invokelatest at ./essentials.jl:708 [inlined]",
      " [21] eventloop(::ZMQ.Socket) at /Users/eh540/.julia/packages/IJulia/fRegO/src/eventloop.jl:8",
      " [22] (::IJulia.var\"#15#18\")() at ./task.jl:333"
     ]
    },
    {
     "name": "stderr",
     "output_type": "stream",
     "text": [
      "Cannot multiply two expressions of sizes (50, 100) and (4, 1)\n",
      "Stacktrace:\n",
      " [1] \u001b[1merror\u001b[22m\u001b[1m(\u001b[22m::String\u001b[1m)\u001b[22m at \u001b[1m./error.jl:33\u001b[22m\n",
      " [2] \u001b[1mMultiplyAtom\u001b[22m at \u001b[1m/Users/eh540/Dropbox (Personal)/LinkedFolders/Julia/dev/Convex/src/atoms/affine/multiply_divide.jl:28\u001b[22m [inlined]\n",
      " [3] \u001b[1m*\u001b[22m\u001b[1m(\u001b[22m::Array{Float64,2}, ::Variable\u001b[1m)\u001b[22m at \u001b[1m/Users/eh540/Dropbox (Personal)/LinkedFolders/Julia/dev/Convex/src/atoms/affine/multiply_divide.jl:103\u001b[22m\n",
      " [4] \u001b[1m(::var\"#7#8\")\u001b[22m\u001b[1m(\u001b[22m::Float64, ::Float64\u001b[1m)\u001b[22m at \u001b[1m./In[6]:4\u001b[22m\n",
      " [5] \u001b[1m(::Observables.var\"#16#17\"{var\"#7#8\",Observable{Any}})\u001b[22m\u001b[1m(\u001b[22m::Float64, ::Vararg{Float64,N} where N\u001b[1m)\u001b[22m at \u001b[1m/Users/eh540/.julia/packages/Observables/qCJWB/src/Observables.jl:152\u001b[22m\n",
      " [6] \u001b[1m(::Observables.var\"#g#15\"{Observables.var\"#16#17\"{var\"#7#8\",Observable{Any}},Tuple{Widget{:slider,Float64},Widget{:slider,Float64}}})\u001b[22m\u001b[1m(\u001b[22m::Float64\u001b[1m)\u001b[22m at \u001b[1m/Users/eh540/.julia/packages/Observables/qCJWB/src/Observables.jl:136\u001b[22m\n",
      " [7] \u001b[1m#setindex!#1\u001b[22m\u001b[1m(\u001b[22m::Base.var\"#58#59\"{Base.Fix2{typeof(in),Array{Function,1}}}, ::typeof(setindex!), ::Observable{Float64}, ::Float64\u001b[1m)\u001b[22m at \u001b[1m/Users/eh540/.julia/packages/Observables/qCJWB/src/Observables.jl:87\u001b[22m\n",
      " [8] \u001b[1m(::Base.var\"#kw##setindex!\")\u001b[22m\u001b[1m(\u001b[22m::NamedTuple{(:notify,),Tuple{Base.var\"#58#59\"{Base.Fix2{typeof(in),Array{Function,1}}}}}, ::typeof(setindex!), ::Observable{Float64}, ::Float64\u001b[1m)\u001b[22m at \u001b[1m./none:0\u001b[22m\n",
      " [9] \u001b[1m(::Observables.var\"#25#28\"{InteractBase.var\"#77#80\",Observable{Float64},Array{Function,1}})\u001b[22m\u001b[1m(\u001b[22m::Int64\u001b[1m)\u001b[22m at \u001b[1m/Users/eh540/.julia/packages/Observables/qCJWB/src/observablepair.jl:14\u001b[22m\n",
      " [10] \u001b[1m#setindex!#1\u001b[22m\u001b[1m(\u001b[22m::WebIO.var\"#44#45\", ::typeof(setindex!), ::Observable{Any}, ::Int64\u001b[1m)\u001b[22m at \u001b[1m/Users/eh540/.julia/packages/Observables/qCJWB/src/Observables.jl:87\u001b[22m\n",
      " [11] \u001b[1m#setindex!\u001b[22m at \u001b[1m./none:0\u001b[22m [inlined]\n",
      " [12] \u001b[1msetexcludinghandlers\u001b[22m at \u001b[1m/Users/eh540/.julia/packages/Observables/qCJWB/src/Observables.jl:103\u001b[22m [inlined]\n",
      " [13] \u001b[1mset_nosync\u001b[22m\u001b[1m(\u001b[22m::Observable{Any}, ::Int64\u001b[1m)\u001b[22m at \u001b[1m/Users/eh540/.julia/packages/WebIO/2mZPb/src/scope.jl:339\u001b[22m\n",
      " [14] \u001b[1mdispatch\u001b[22m\u001b[1m(\u001b[22m::Scope, ::String, ::Int64\u001b[1m)\u001b[22m at \u001b[1m/Users/eh540/.julia/packages/WebIO/2mZPb/src/scope.jl:348\u001b[22m\n",
      " [15] \u001b[1mdispatch_command\u001b[22m\u001b[1m(\u001b[22m::WebIO.IJuliaConnection, ::Dict{String,Any}\u001b[1m)\u001b[22m at \u001b[1m/Users/eh540/.julia/packages/WebIO/2mZPb/src/messaging.jl:104\u001b[22m\n",
      " [16] \u001b[1mdispatch\u001b[22m\u001b[1m(\u001b[22m::WebIO.IJuliaConnection, ::Dict{String,Any}\u001b[1m)\u001b[22m at \u001b[1m/Users/eh540/.julia/packages/WebIO/2mZPb/src/messaging.jl:81\u001b[22m\n",
      " [17] \u001b[1m(::WebIO.var\"#92#93\"{WebIO.IJuliaConnection})\u001b[22m\u001b[1m(\u001b[22m::IJulia.Msg\u001b[1m)\u001b[22m at \u001b[1m/Users/eh540/.julia/packages/WebIO/2mZPb/src/providers/ijulia.jl:21\u001b[22m\n",
      " [18] \u001b[1mcomm_msg\u001b[22m\u001b[1m(\u001b[22m::ZMQ.Socket, ::IJulia.Msg\u001b[1m)\u001b[22m at \u001b[1m/Users/eh540/.julia/packages/IJulia/fRegO/src/comm_manager.jl:134\u001b[22m\n",
      " [19] \u001b[1m#invokelatest#1\u001b[22m at \u001b[1m./essentials.jl:709\u001b[22m [inlined]\n",
      " [20] \u001b[1minvokelatest\u001b[22m at \u001b[1m./essentials.jl:708\u001b[22m [inlined]\n",
      " [21] \u001b[1meventloop\u001b[22m\u001b[1m(\u001b[22m::ZMQ.Socket\u001b[1m)\u001b[22m at \u001b[1m/Users/eh540/.julia/packages/IJulia/fRegO/src/eventloop.jl:8\u001b[22m\n",
      " [22] \u001b[1m(::IJulia.var\"#15#18\")\u001b[22m\u001b[1m(\u001b[22m\u001b[1m)\u001b[22m at \u001b[1m./task.jl:333\u001b[22mCannot multiply two expressions of sizes (50, 100) and (4, 1)\n",
      "Stacktrace:\n",
      " [1] \u001b[1merror\u001b[22m\u001b[1m(\u001b[22m::String\u001b[1m)\u001b[22m at \u001b[1m./error.jl:33\u001b[22m\n",
      " [2] \u001b[1mMultiplyAtom\u001b[22m at \u001b[1m/Users/eh540/Dropbox (Personal)/LinkedFolders/Julia/dev/Convex/src/atoms/affine/multiply_divide.jl:28\u001b[22m [inlined]\n",
      " [3] \u001b[1m*\u001b[22m\u001b[1m(\u001b[22m::Array{Float64,2}, ::Variable\u001b[1m)\u001b[22m at \u001b[1m/Users/eh540/Dropbox (Personal)/LinkedFolders/Julia/dev/Convex/src/atoms/affine/multiply_divide.jl:103\u001b[22m\n",
      " [4] \u001b[1m(::var\"#7#8\")\u001b[22m\u001b[1m(\u001b[22m::Float64, ::Float64\u001b[1m)\u001b[22m at \u001b[1m./In[6]:4\u001b[22m\n",
      " [5] \u001b[1m(::Observables.var\"#16#17\"{var\"#7#8\",Observable{Any}})\u001b[22m\u001b[1m(\u001b[22m::Float64, ::Vararg{Float64,N} where N\u001b[1m)\u001b[22m at \u001b[1m/Users/eh540/.julia/packages/Observables/qCJWB/src/Observables.jl:152\u001b[22m\n",
      " [6] \u001b[1m(::Observables.var\"#g#15\"{Observables.var\"#16#17\"{var\"#7#8\",Observable{Any}},Tuple{Widget{:slider,Float64},Widget{:slider,Float64}}})\u001b[22m\u001b[1m(\u001b[22m::Float64\u001b[1m)\u001b[22m at \u001b[1m/Users/eh540/.julia/packages/Observables/qCJWB/src/Observables.jl:136\u001b[22m\n",
      " [7] \u001b[1m#setindex!#1\u001b[22m\u001b[1m(\u001b[22m::Base.var\"#58#59\"{Base.Fix2{typeof(in),Array{Function,1}}}, ::typeof(setindex!), ::Observable{Float64}, ::Float64\u001b[1m)\u001b[22m at \u001b[1m/Users/eh540/.julia/packages/Observables/qCJWB/src/Observables.jl:87\u001b[22m\n",
      " [8] \u001b[1m(::Base.var\"#kw##setindex!\")\u001b[22m\u001b[1m(\u001b[22m::NamedTuple{(:notify,),Tuple{Base.var\"#58#59\"{Base.Fix2{typeof(in),Array{Function,1}}}}}, ::typeof(setindex!), ::Observable{Float64}, ::Float64\u001b[1m)\u001b[22m at \u001b[1m./none:0\u001b[22m\n",
      " [9] \u001b[1m(::Observables.var\"#25#28\"{InteractBase.var\"#77#80\",Observable{Float64},Array{Function,1}})\u001b[22m\u001b[1m(\u001b[22m::Int64\u001b[1m)\u001b[22m at \u001b[1m/Users/eh540/.julia/packages/Observables/qCJWB/src/observablepair.jl:14\u001b[22m\n",
      " [10] \u001b[1m#setindex!#1\u001b[22m\u001b[1m(\u001b[22m::WebIO.var\"#44#45\", ::typeof(setindex!), ::Observable{Any}, ::Int64\u001b[1m)\u001b[22m at \u001b[1m/Users/eh540/.julia/packages/Observables/qCJWB/src/Observables.jl:87\u001b[22m\n",
      " [11] \u001b[1m#setindex!\u001b[22m at \u001b[1m./none:0\u001b[22m [inlined]\n",
      " [12] \u001b[1msetexcludinghandlers\u001b[22m at \u001b[1m/Users/eh540/.julia/packages/Observables/qCJWB/src/Observables.jl:103\u001b[22m [inlined]\n",
      " [13] \u001b[1mset_nosync\u001b[22m\u001b[1m(\u001b[22m::Observable{Any}, ::Int64\u001b[1m)\u001b[22m at \u001b[1m/Users/eh540/.julia/packages/WebIO/2mZPb/src/scope.jl:339\u001b[22m\n",
      " [14] \u001b[1mdispatch\u001b[22m\u001b[1m(\u001b[22m::Scope, ::String, ::Int64\u001b[1m)\u001b[22m at \u001b[1m/Users/eh540/.julia/packages/WebIO/2mZPb/src/scope.jl:348\u001b[22m\n",
      " [15] \u001b[1mdispatch_command\u001b[22m\u001b[1m(\u001b[22m::WebIO.IJuliaConnection, ::Dict{String,Any}\u001b[1m)\u001b[22m at \u001b[1m/Users/eh540/.julia/packages/WebIO/2mZPb/src/messaging.jl:104\u001b[22m\n",
      " [16] \u001b[1mdispatch\u001b[22m\u001b[1m(\u001b[22m::WebIO.IJuliaConnection, ::Dict{String,Any}\u001b[1m)\u001b[22m at \u001b[1m/Users/eh540/.julia/packages/WebIO/2mZPb/src/messaging.jl:81\u001b[22m\n",
      " [17] \u001b[1m(::WebIO.var\"#92#93\"{WebIO.IJuliaConnection})\u001b[22m\u001b[1m(\u001b[22m::IJulia.Msg\u001b[1m)\u001b[22m at \u001b[1m/Users/eh540/.julia/packages/WebIO/2mZPb/src/providers/ijulia.jl:21\u001b[22m\n",
      " [18] \u001b[1mcomm_msg\u001b[22m\u001b[1m(\u001b[22m::ZMQ.Socket, ::IJulia.Msg\u001b[1m)\u001b[22m at \u001b[1m/Users/eh540/.julia/packages/IJulia/fRegO/src/comm_manager.jl:134\u001b[22m\n",
      " [19] \u001b[1m#invokelatest#1\u001b[22m at \u001b[1m./essentials.jl:709\u001b[22m [inlined]\n",
      " [20] \u001b[1minvokelatest\u001b[22m at \u001b[1m./essentials.jl:708\u001b[22m [inlined]\n",
      " [21] \u001b[1meventloop\u001b[22m\u001b[1m(\u001b[22m::ZMQ.Socket\u001b[1m)\u001b[22m at \u001b[1m/Users/eh540/.julia/packages/IJulia/fRegO/src/eventloop.jl:8\u001b[22m\n",
      " [22] \u001b[1m(::IJulia.var\"#15#18\")\u001b[22m\u001b[1m(\u001b[22m\u001b[1m)\u001b[22m at \u001b[1m./task.jl:333\u001b[22m"
     ]
    },
    {
     "ename": "ErrorException",
     "evalue": "Cannot multiply two expressions of sizes (50, 100) and (4, 1)",
     "output_type": "error",
     "traceback": [
      "KERNEL EXCEPTION",
      "Cannot multiply two expressions of sizes (50, 100) and (4, 1)",
      "",
      "Stacktrace:",
      " [1] error(::String) at ./error.jl:33",
      " [2] MultiplyAtom at /Users/eh540/Dropbox (Personal)/LinkedFolders/Julia/dev/Convex/src/atoms/affine/multiply_divide.jl:28 [inlined]",
      " [3] *(::Array{Float64,2}, ::Variable) at /Users/eh540/Dropbox (Personal)/LinkedFolders/Julia/dev/Convex/src/atoms/affine/multiply_divide.jl:103",
      " [4] (::var\"#7#8\")(::Float64, ::Float64) at ./In[6]:4",
      " [5] (::Observables.var\"#16#17\"{var\"#7#8\",Observable{Any}})(::Float64, ::Vararg{Float64,N} where N) at /Users/eh540/.julia/packages/Observables/qCJWB/src/Observables.jl:152",
      " [6] (::Observables.var\"#g#15\"{Observables.var\"#16#17\"{var\"#7#8\",Observable{Any}},Tuple{Widget{:slider,Float64},Widget{:slider,Float64}}})(::Float64) at /Users/eh540/.julia/packages/Observables/qCJWB/src/Observables.jl:136",
      " [7] #setindex!#1(::Base.var\"#58#59\"{Base.Fix2{typeof(in),Array{Function,1}}}, ::typeof(setindex!), ::Observable{Float64}, ::Float64) at /Users/eh540/.julia/packages/Observables/qCJWB/src/Observables.jl:87",
      " [8] (::Base.var\"#kw##setindex!\")(::NamedTuple{(:notify,),Tuple{Base.var\"#58#59\"{Base.Fix2{typeof(in),Array{Function,1}}}}}, ::typeof(setindex!), ::Observable{Float64}, ::Float64) at ./none:0",
      " [9] (::Observables.var\"#25#28\"{InteractBase.var\"#77#80\",Observable{Float64},Array{Function,1}})(::Int64) at /Users/eh540/.julia/packages/Observables/qCJWB/src/observablepair.jl:14",
      " [10] #setindex!#1(::WebIO.var\"#44#45\", ::typeof(setindex!), ::Observable{Any}, ::Int64) at /Users/eh540/.julia/packages/Observables/qCJWB/src/Observables.jl:87",
      " [11] #setindex! at ./none:0 [inlined]",
      " [12] setexcludinghandlers at /Users/eh540/.julia/packages/Observables/qCJWB/src/Observables.jl:103 [inlined]",
      " [13] set_nosync(::Observable{Any}, ::Int64) at /Users/eh540/.julia/packages/WebIO/2mZPb/src/scope.jl:339",
      " [14] dispatch(::Scope, ::String, ::Int64) at /Users/eh540/.julia/packages/WebIO/2mZPb/src/scope.jl:348",
      " [15] dispatch_command(::WebIO.IJuliaConnection, ::Dict{String,Any}) at /Users/eh540/.julia/packages/WebIO/2mZPb/src/messaging.jl:104",
      " [16] dispatch(::WebIO.IJuliaConnection, ::Dict{String,Any}) at /Users/eh540/.julia/packages/WebIO/2mZPb/src/messaging.jl:81",
      " [17] (::WebIO.var\"#92#93\"{WebIO.IJuliaConnection})(::IJulia.Msg) at /Users/eh540/.julia/packages/WebIO/2mZPb/src/providers/ijulia.jl:21",
      " [18] comm_msg(::ZMQ.Socket, ::IJulia.Msg) at /Users/eh540/.julia/packages/IJulia/fRegO/src/comm_manager.jl:134",
      " [19] #invokelatest#1 at ./essentials.jl:709 [inlined]",
      " [20] invokelatest at ./essentials.jl:708 [inlined]",
      " [21] eventloop(::ZMQ.Socket) at /Users/eh540/.julia/packages/IJulia/fRegO/src/eventloop.jl:8",
      " [22] (::IJulia.var\"#15#18\")() at ./task.jl:333"
     ]
    },
    {
     "name": "stderr",
     "output_type": "stream",
     "text": [
      "Cannot multiply two expressions of sizes (50, 100) and (4, 1)\n",
      "Stacktrace:\n",
      " [1] \u001b[1merror\u001b[22m\u001b[1m(\u001b[22m::String\u001b[1m)\u001b[22m at \u001b[1m./error.jl:33\u001b[22m\n",
      " [2] \u001b[1mMultiplyAtom\u001b[22m at \u001b[1m/Users/eh540/Dropbox (Personal)/LinkedFolders/Julia/dev/Convex/src/atoms/affine/multiply_divide.jl:28\u001b[22m [inlined]\n",
      " [3] \u001b[1m*\u001b[22m\u001b[1m(\u001b[22m::Array{Float64,2}, ::Variable\u001b[1m)\u001b[22m at \u001b[1m/Users/eh540/Dropbox (Personal)/LinkedFolders/Julia/dev/Convex/src/atoms/affine/multiply_divide.jl:103\u001b[22m\n",
      " [4] \u001b[1m(::var\"#7#8\")\u001b[22m\u001b[1m(\u001b[22m::Float64, ::Float64\u001b[1m)\u001b[22m at \u001b[1m./In[6]:4\u001b[22m\n",
      " [5] \u001b[1m(::Observables.var\"#16#17\"{var\"#7#8\",Observable{Any}})\u001b[22m\u001b[1m(\u001b[22m::Float64, ::Vararg{Float64,N} where N\u001b[1m)\u001b[22m at \u001b[1m/Users/eh540/.julia/packages/Observables/qCJWB/src/Observables.jl:152\u001b[22m\n",
      " [6] \u001b[1m(::Observables.var\"#g#15\"{Observables.var\"#16#17\"{var\"#7#8\",Observable{Any}},Tuple{Widget{:slider,Float64},Widget{:slider,Float64}}})\u001b[22m\u001b[1m(\u001b[22m::Float64\u001b[1m)\u001b[22m at \u001b[1m/Users/eh540/.julia/packages/Observables/qCJWB/src/Observables.jl:136\u001b[22m\n",
      " [7] \u001b[1m#setindex!#1\u001b[22m\u001b[1m(\u001b[22m::Base.var\"#58#59\"{Base.Fix2{typeof(in),Array{Function,1}}}, ::typeof(setindex!), ::Observable{Float64}, ::Float64\u001b[1m)\u001b[22m at \u001b[1m/Users/eh540/.julia/packages/Observables/qCJWB/src/Observables.jl:87\u001b[22m\n",
      " [8] \u001b[1m(::Base.var\"#kw##setindex!\")\u001b[22m\u001b[1m(\u001b[22m::NamedTuple{(:notify,),Tuple{Base.var\"#58#59\"{Base.Fix2{typeof(in),Array{Function,1}}}}}, ::typeof(setindex!), ::Observable{Float64}, ::Float64\u001b[1m)\u001b[22m at \u001b[1m./none:0\u001b[22m\n",
      " [9] \u001b[1m(::Observables.var\"#25#28\"{InteractBase.var\"#77#80\",Observable{Float64},Array{Function,1}})\u001b[22m\u001b[1m(\u001b[22m::Int64\u001b[1m)\u001b[22m at \u001b[1m/Users/eh540/.julia/packages/Observables/qCJWB/src/observablepair.jl:14\u001b[22m\n",
      " [10] \u001b[1m#setindex!#1\u001b[22m\u001b[1m(\u001b[22m::WebIO.var\"#44#45\", ::typeof(setindex!), ::Observable{Any}, ::Int64\u001b[1m)\u001b[22m at \u001b[1m/Users/eh540/.julia/packages/Observables/qCJWB/src/Observables.jl:87\u001b[22m\n",
      " [11] \u001b[1m#setindex!\u001b[22m at \u001b[1m./none:0\u001b[22m [inlined]\n",
      " [12] \u001b[1msetexcludinghandlers\u001b[22m at \u001b[1m/Users/eh540/.julia/packages/Observables/qCJWB/src/Observables.jl:103\u001b[22m [inlined]\n",
      " [13] \u001b[1mset_nosync\u001b[22m\u001b[1m(\u001b[22m::Observable{Any}, ::Int64\u001b[1m)\u001b[22m at \u001b[1m/Users/eh540/.julia/packages/WebIO/2mZPb/src/scope.jl:339\u001b[22m\n",
      " [14] \u001b[1mdispatch\u001b[22m\u001b[1m(\u001b[22m::Scope, ::String, ::Int64\u001b[1m)\u001b[22m at \u001b[1m/Users/eh540/.julia/packages/WebIO/2mZPb/src/scope.jl:348\u001b[22m\n",
      " [15] \u001b[1mdispatch_command\u001b[22m\u001b[1m(\u001b[22m::WebIO.IJuliaConnection, ::Dict{String,Any}\u001b[1m)\u001b[22m at \u001b[1m/Users/eh540/.julia/packages/WebIO/2mZPb/src/messaging.jl:104\u001b[22m\n",
      " [16] \u001b[1mdispatch\u001b[22m\u001b[1m(\u001b[22m::WebIO.IJuliaConnection, ::Dict{String,Any}\u001b[1m)\u001b[22m at \u001b[1m/Users/eh540/.julia/packages/WebIO/2mZPb/src/messaging.jl:81\u001b[22m\n",
      " [17] \u001b[1m(::WebIO.var\"#92#93\"{WebIO.IJuliaConnection})\u001b[22m\u001b[1m(\u001b[22m::IJulia.Msg\u001b[1m)\u001b[22m at \u001b[1m/Users/eh540/.julia/packages/WebIO/2mZPb/src/providers/ijulia.jl:21\u001b[22m\n",
      " [18] \u001b[1mcomm_msg\u001b[22m\u001b[1m(\u001b[22m::ZMQ.Socket, ::IJulia.Msg\u001b[1m)\u001b[22m at \u001b[1m/Users/eh540/.julia/packages/IJulia/fRegO/src/comm_manager.jl:134\u001b[22m\n",
      " [19] \u001b[1m#invokelatest#1\u001b[22m at \u001b[1m./essentials.jl:709\u001b[22m [inlined]\n",
      " [20] \u001b[1minvokelatest\u001b[22m at \u001b[1m./essentials.jl:708\u001b[22m [inlined]\n",
      " [21] \u001b[1meventloop\u001b[22m\u001b[1m(\u001b[22m::ZMQ.Socket\u001b[1m)\u001b[22m at \u001b[1m/Users/eh540/.julia/packages/IJulia/fRegO/src/eventloop.jl:8\u001b[22m\n",
      " [22] \u001b[1m(::IJulia.var\"#15#18\")\u001b[22m\u001b[1m(\u001b[22m\u001b[1m)\u001b[22m at \u001b[1m./task.jl:333\u001b[22mCannot multiply two expressions of sizes (50, 100) and (4, 1)\n",
      "Stacktrace:\n",
      " [1] \u001b[1merror\u001b[22m\u001b[1m(\u001b[22m::String\u001b[1m)\u001b[22m at \u001b[1m./error.jl:33\u001b[22m\n",
      " [2] \u001b[1mMultiplyAtom\u001b[22m at \u001b[1m/Users/eh540/Dropbox (Personal)/LinkedFolders/Julia/dev/Convex/src/atoms/affine/multiply_divide.jl:28\u001b[22m [inlined]\n",
      " [3] \u001b[1m*\u001b[22m\u001b[1m(\u001b[22m::Array{Float64,2}, ::Variable\u001b[1m)\u001b[22m at \u001b[1m/Users/eh540/Dropbox (Personal)/LinkedFolders/Julia/dev/Convex/src/atoms/affine/multiply_divide.jl:103\u001b[22m\n",
      " [4] \u001b[1m(::var\"#7#8\")\u001b[22m\u001b[1m(\u001b[22m::Float64, ::Float64\u001b[1m)\u001b[22m at \u001b[1m./In[6]:4\u001b[22m\n",
      " [5] \u001b[1m(::Observables.var\"#16#17\"{var\"#7#8\",Observable{Any}})\u001b[22m\u001b[1m(\u001b[22m::Float64, ::Vararg{Float64,N} where N\u001b[1m)\u001b[22m at \u001b[1m/Users/eh540/.julia/packages/Observables/qCJWB/src/Observables.jl:152\u001b[22m\n",
      " [6] \u001b[1m(::Observables.var\"#g#15\"{Observables.var\"#16#17\"{var\"#7#8\",Observable{Any}},Tuple{Widget{:slider,Float64},Widget{:slider,Float64}}})\u001b[22m\u001b[1m(\u001b[22m::Float64\u001b[1m)\u001b[22m at \u001b[1m/Users/eh540/.julia/packages/Observables/qCJWB/src/Observables.jl:136\u001b[22m\n",
      " [7] \u001b[1m#setindex!#1\u001b[22m\u001b[1m(\u001b[22m::Base.var\"#58#59\"{Base.Fix2{typeof(in),Array{Function,1}}}, ::typeof(setindex!), ::Observable{Float64}, ::Float64\u001b[1m)\u001b[22m at \u001b[1m/Users/eh540/.julia/packages/Observables/qCJWB/src/Observables.jl:87\u001b[22m\n",
      " [8] \u001b[1m(::Base.var\"#kw##setindex!\")\u001b[22m\u001b[1m(\u001b[22m::NamedTuple{(:notify,),Tuple{Base.var\"#58#59\"{Base.Fix2{typeof(in),Array{Function,1}}}}}, ::typeof(setindex!), ::Observable{Float64}, ::Float64\u001b[1m)\u001b[22m at \u001b[1m./none:0\u001b[22m\n",
      " [9] \u001b[1m(::Observables.var\"#25#28\"{InteractBase.var\"#77#80\",Observable{Float64},Array{Function,1}})\u001b[22m\u001b[1m(\u001b[22m::Int64\u001b[1m)\u001b[22m at \u001b[1m/Users/eh540/.julia/packages/Observables/qCJWB/src/observablepair.jl:14\u001b[22m\n",
      " [10] \u001b[1m#setindex!#1\u001b[22m\u001b[1m(\u001b[22m::WebIO.var\"#44#45\", ::typeof(setindex!), ::Observable{Any}, ::Int64\u001b[1m)\u001b[22m at \u001b[1m/Users/eh540/.julia/packages/Observables/qCJWB/src/Observables.jl:87\u001b[22m\n",
      " [11] \u001b[1m#setindex!\u001b[22m at \u001b[1m./none:0\u001b[22m [inlined]\n",
      " [12] \u001b[1msetexcludinghandlers\u001b[22m at \u001b[1m/Users/eh540/.julia/packages/Observables/qCJWB/src/Observables.jl:103\u001b[22m [inlined]\n",
      " [13] \u001b[1mset_nosync\u001b[22m\u001b[1m(\u001b[22m::Observable{Any}, ::Int64\u001b[1m)\u001b[22m at \u001b[1m/Users/eh540/.julia/packages/WebIO/2mZPb/src/scope.jl:339\u001b[22m\n",
      " [14] \u001b[1mdispatch\u001b[22m\u001b[1m(\u001b[22m::Scope, ::String, ::Int64\u001b[1m)\u001b[22m at \u001b[1m/Users/eh540/.julia/packages/WebIO/2mZPb/src/scope.jl:348\u001b[22m\n",
      " [15] \u001b[1mdispatch_command\u001b[22m\u001b[1m(\u001b[22m::WebIO.IJuliaConnection, ::Dict{String,Any}\u001b[1m)\u001b[22m at \u001b[1m/Users/eh540/.julia/packages/WebIO/2mZPb/src/messaging.jl:104\u001b[22m\n",
      " [16] \u001b[1mdispatch\u001b[22m\u001b[1m(\u001b[22m::WebIO.IJuliaConnection, ::Dict{String,Any}\u001b[1m)\u001b[22m at \u001b[1m/Users/eh540/.julia/packages/WebIO/2mZPb/src/messaging.jl:81\u001b[22m\n",
      " [17] \u001b[1m(::WebIO.var\"#92#93\"{WebIO.IJuliaConnection})\u001b[22m\u001b[1m(\u001b[22m::IJulia.Msg\u001b[1m)\u001b[22m at \u001b[1m/Users/eh540/.julia/packages/WebIO/2mZPb/src/providers/ijulia.jl:21\u001b[22m\n",
      " [18] \u001b[1mcomm_msg\u001b[22m\u001b[1m(\u001b[22m::ZMQ.Socket, ::IJulia.Msg\u001b[1m)\u001b[22m at \u001b[1m/Users/eh540/.julia/packages/IJulia/fRegO/src/comm_manager.jl:134\u001b[22m\n",
      " [19] \u001b[1m#invokelatest#1\u001b[22m at \u001b[1m./essentials.jl:709\u001b[22m [inlined]\n",
      " [20] \u001b[1minvokelatest\u001b[22m at \u001b[1m./essentials.jl:708\u001b[22m [inlined]\n",
      " [21] \u001b[1meventloop\u001b[22m\u001b[1m(\u001b[22m::ZMQ.Socket\u001b[1m)\u001b[22m at \u001b[1m/Users/eh540/.julia/packages/IJulia/fRegO/src/eventloop.jl:8\u001b[22m\n",
      " [22] \u001b[1m(::IJulia.var\"#15#18\")\u001b[22m\u001b[1m(\u001b[22m\u001b[1m)\u001b[22m at \u001b[1m./task.jl:333\u001b[22mCannot multiply two expressions of sizes (50, 100) and (4, 1)\n",
      "Stacktrace:\n",
      " [1] \u001b[1merror\u001b[22m\u001b[1m(\u001b[22m::String\u001b[1m)\u001b[22m at \u001b[1m./error.jl:33\u001b[22m\n",
      " [2] \u001b[1mMultiplyAtom\u001b[22m at \u001b[1m/Users/eh540/Dropbox (Personal)/LinkedFolders/Julia/dev/Convex/src/atoms/affine/multiply_divide.jl:28\u001b[22m [inlined]\n",
      " [3] \u001b[1m*\u001b[22m"
     ]
    },
    {
     "ename": "ErrorException",
     "evalue": "Cannot multiply two expressions of sizes (50, 100) and (4, 1)",
     "output_type": "error",
     "traceback": [
      "KERNEL EXCEPTION",
      "Cannot multiply two expressions of sizes (50, 100) and (4, 1)",
      "",
      "Stacktrace:",
      " [1] error(::String) at ./error.jl:33",
      " [2] MultiplyAtom at /Users/eh540/Dropbox (Personal)/LinkedFolders/Julia/dev/Convex/src/atoms/affine/multiply_divide.jl:28 [inlined]",
      " [3] *(::Array{Float64,2}, ::Variable) at /Users/eh540/Dropbox (Personal)/LinkedFolders/Julia/dev/Convex/src/atoms/affine/multiply_divide.jl:103",
      " [4] (::var\"#7#8\")(::Float64, ::Float64) at ./In[6]:4",
      " [5] (::Observables.var\"#16#17\"{var\"#7#8\",Observable{Any}})(::Float64, ::Vararg{Float64,N} where N) at /Users/eh540/.julia/packages/Observables/qCJWB/src/Observables.jl:152",
      " [6] (::Observables.var\"#g#15\"{Observables.var\"#16#17\"{var\"#7#8\",Observable{Any}},Tuple{Widget{:slider,Float64},Widget{:slider,Float64}}})(::Float64) at /Users/eh540/.julia/packages/Observables/qCJWB/src/Observables.jl:136",
      " [7] #setindex!#1(::Base.var\"#58#59\"{Base.Fix2{typeof(in),Array{Function,1}}}, ::typeof(setindex!), ::Observable{Float64}, ::Float64) at /Users/eh540/.julia/packages/Observables/qCJWB/src/Observables.jl:87",
      " [8] (::Base.var\"#kw##setindex!\")(::NamedTuple{(:notify,),Tuple{Base.var\"#58#59\"{Base.Fix2{typeof(in),Array{Function,1}}}}}, ::typeof(setindex!), ::Observable{Float64}, ::Float64) at ./none:0",
      " [9] (::Observables.var\"#25#28\"{InteractBase.var\"#77#80\",Observable{Float64},Array{Function,1}})(::Int64) at /Users/eh540/.julia/packages/Observables/qCJWB/src/observablepair.jl:14",
      " [10] #setindex!#1(::WebIO.var\"#44#45\", ::typeof(setindex!), ::Observable{Any}, ::Int64) at /Users/eh540/.julia/packages/Observables/qCJWB/src/Observables.jl:87",
      " [11] #setindex! at ./none:0 [inlined]",
      " [12] setexcludinghandlers at /Users/eh540/.julia/packages/Observables/qCJWB/src/Observables.jl:103 [inlined]",
      " [13] set_nosync(::Observable{Any}, ::Int64) at /Users/eh540/.julia/packages/WebIO/2mZPb/src/scope.jl:339",
      " [14] dispatch(::Scope, ::String, ::Int64) at /Users/eh540/.julia/packages/WebIO/2mZPb/src/scope.jl:348",
      " [15] dispatch_command(::WebIO.IJuliaConnection, ::Dict{String,Any}) at /Users/eh540/.julia/packages/WebIO/2mZPb/src/messaging.jl:104",
      " [16] dispatch(::WebIO.IJuliaConnection, ::Dict{String,Any}) at /Users/eh540/.julia/packages/WebIO/2mZPb/src/messaging.jl:81",
      " [17] (::WebIO.var\"#92#93\"{WebIO.IJuliaConnection})(::IJulia.Msg) at /Users/eh540/.julia/packages/WebIO/2mZPb/src/providers/ijulia.jl:21",
      " [18] comm_msg(::ZMQ.Socket, ::IJulia.Msg) at /Users/eh540/.julia/packages/IJulia/fRegO/src/comm_manager.jl:134",
      " [19] #invokelatest#1 at ./essentials.jl:709 [inlined]",
      " [20] invokelatest at ./essentials.jl:708 [inlined]",
      " [21] eventloop(::ZMQ.Socket) at /Users/eh540/.julia/packages/IJulia/fRegO/src/eventloop.jl:8",
      " [22] (::IJulia.var\"#15#18\")() at ./task.jl:333"
     ]
    },
    {
     "name": "stderr",
     "output_type": "stream",
     "text": [
      "\u001b[1m(\u001b[22m::Array{Float64,2}, ::Variable\u001b[1m)\u001b[22m at \u001b[1m/Users/eh540/Dropbox (Personal)/LinkedFolders/Julia/dev/Convex/src/atoms/affine/multiply_divide.jl:103\u001b[22m\n",
      " [4] \u001b[1m(::var\"#7#8\")\u001b[22m\u001b[1m(\u001b[22m::Float64, ::Float64\u001b[1m)\u001b[22m at \u001b[1m./In[6]:4\u001b[22m\n",
      " [5] \u001b[1m(::Observables.var\"#16#17\"{var\"#7#8\",Observable{Any}})\u001b[22m\u001b[1m(\u001b[22m::Float64, ::Vararg{Float64,N} where N\u001b[1m)\u001b[22m at \u001b[1m/Users/eh540/.julia/packages/Observables/qCJWB/src/Observables.jl:152\u001b[22m\n",
      " [6] \u001b[1m(::Observables.var\"#g#15\"{Observables.var\"#16#17\"{var\"#7#8\",Observable{Any}},Tuple{Widget{:slider,Float64},Widget{:slider,Float64}}})\u001b[22m\u001b[1m(\u001b[22m::Float64\u001b[1m)\u001b[22m at \u001b[1m/Users/eh540/.julia/packages/Observables/qCJWB/src/Observables.jl:136\u001b[22m\n",
      " [7] \u001b[1m#setindex!#1\u001b[22m\u001b[1m(\u001b[22m::Base.var\"#58#59\"{Base.Fix2{typeof(in),Array{Function,1}}}, ::typeof(setindex!), ::Observable{Float64}, ::Float64\u001b[1m)\u001b[22m at \u001b[1m/Users/eh540/.julia/packages/Observables/qCJWB/src/Observables.jl:87\u001b[22m\n",
      " [8] \u001b[1m(::Base.var\"#kw##setindex!\")\u001b[22m\u001b[1m(\u001b[22m::NamedTuple{(:notify,),Tuple{Base.var\"#58#59\"{Base.Fix2{typeof(in),Array{Function,1}}}}}, ::typeof(setindex!), ::Observable{Float64}, ::Float64\u001b[1m)\u001b[22m at \u001b[1m./none:0\u001b[22m\n",
      " [9] \u001b[1m(::Observables.var\"#25#28\"{InteractBase.var\"#77#80\",Observable{Float64},Array{Function,1}})\u001b[22m\u001b[1m(\u001b[22m::Int64\u001b[1m)\u001b[22m at \u001b[1m/Users/eh540/.julia/packages/Observables/qCJWB/src/observablepair.jl:14\u001b[22m\n",
      " [10] \u001b[1m#setindex!#1\u001b[22m\u001b[1m(\u001b[22m::WebIO.var\"#44#45\", ::typeof(setindex!), ::Observable{Any}, ::Int64\u001b[1m)\u001b[22m at \u001b[1m/Users/eh540/.julia/packages/Observables/qCJWB/src/Observables.jl:87\u001b[22m\n",
      " [11] \u001b[1m#setindex!\u001b[22m at \u001b[1m./none:0\u001b[22m [inlined]\n",
      " [12] \u001b[1msetexcludinghandlers\u001b[22m at \u001b[1m/Users/eh540/.julia/packages/Observables/qCJWB/src/Observables.jl:103\u001b[22m [inlined]\n",
      " [13] \u001b[1mset_nosync\u001b[22m\u001b[1m(\u001b[22m::Observable{Any}, ::Int64\u001b[1m)\u001b[22m at \u001b[1m/Users/eh540/.julia/packages/WebIO/2mZPb/src/scope.jl:339\u001b[22m\n",
      " [14] \u001b[1mdispatch\u001b[22m\u001b[1m(\u001b[22m::Scope, ::String, ::Int64\u001b[1m)\u001b[22m at \u001b[1m/Users/eh540/.julia/packages/WebIO/2mZPb/src/scope.jl:348\u001b[22m\n",
      " [15] \u001b[1mdispatch_command\u001b[22m\u001b[1m(\u001b[22m::WebIO.IJuliaConnection, ::Dict{String,Any}\u001b[1m)\u001b[22m at \u001b[1m/Users/eh540/.julia/packages/WebIO/2mZPb/src/messaging.jl:104\u001b[22m\n",
      " [16] \u001b[1mdispatch\u001b[22m\u001b[1m(\u001b[22m::WebIO.IJuliaConnection, ::Dict{String,Any}\u001b[1m)\u001b[22m at \u001b[1m/Users/eh540/.julia/packages/WebIO/2mZPb/src/messaging.jl:81\u001b[22m\n",
      " [17] \u001b[1m(::WebIO.var\"#92#93\"{WebIO.IJuliaConnection})\u001b[22m\u001b[1m(\u001b[22m::IJulia.Msg\u001b[1m)\u001b[22m at \u001b[1m/Users/eh540/.julia/packages/WebIO/2mZPb/src/providers/ijulia.jl:21\u001b[22m\n",
      " [18] \u001b[1mcomm_msg\u001b[22m\u001b[1m(\u001b[22m::ZMQ.Socket, ::IJulia.Msg\u001b[1m)\u001b[22m at \u001b[1m/Users/eh540/.julia/packages/IJulia/fRegO/src/comm_manager.jl:134\u001b[22m\n",
      " [19] \u001b[1m#invokelatest#1\u001b[22m at \u001b[1m./essentials.jl:709\u001b[22m [inlined]\n",
      " [20] \u001b[1minvokelatest\u001b[22m at \u001b[1m./essentials.jl:708\u001b[22m [inlined]\n",
      " [21] \u001b[1meventloop\u001b[22m\u001b[1m(\u001b[22m::ZMQ.Socket\u001b[1m)\u001b[22m at \u001b[1m/Users/eh540/.julia/packages/IJulia/fRegO/src/eventloop.jl:8\u001b[22m\n",
      " [22] \u001b[1m(::IJulia.var\"#15#18\")\u001b[22m\u001b[1m(\u001b[22m\u001b[1m)\u001b[22m at \u001b[1m./task.jl:333\u001b[22mCannot multiply two expressions of sizes (50, 100) and (4, 1)\n",
      "Stacktrace:\n",
      " [1] \u001b[1merror\u001b[22m\u001b[1m(\u001b[22m::String\u001b[1m)\u001b[22m at \u001b[1m./error.jl:33\u001b[22m\n",
      " [2] \u001b[1mMultiplyAtom\u001b[22m at \u001b[1m/Users/eh540/Dropbox (Personal)/LinkedFolders/Julia/dev/Convex/src/atoms/affine/multiply_divide.jl:28\u001b[22m [inlined]\n",
      " [3] \u001b[1m*\u001b[22m\u001b[1m(\u001b[22m::Array{Float64,2}, ::Variable\u001b[1m)\u001b[22m at \u001b[1m/Users/eh540/Dropbox (Personal)/LinkedFolders/Julia/dev/Convex/src/atoms/affine/multiply_divide.jl:103\u001b[22m\n",
      " [4] \u001b[1m(::var\"#7#8\")\u001b[22m\u001b[1m(\u001b[22m::Float64, ::Float64\u001b[1m)\u001b[22m at \u001b[1m./In[6]:4\u001b[22m\n",
      " [5] \u001b[1m(::Observables.var\"#16#17\"{var\"#7#8\",Observable{Any}})\u001b[22m\u001b[1m(\u001b[22m::Float64, ::Vararg{Float64,N} where N\u001b[1m)\u001b[22m at \u001b[1m/Users/eh540/.julia/packages/Observables/qCJWB/src/Observables.jl:152\u001b[22m\n",
      " [6] \u001b[1m(::Observables.var\"#g#15\"{Observables.var\"#16#17\"{var\"#7#8\",Observable{Any}},Tuple{Widget{:slider,Float64},Widget{:slider,Float64}}})\u001b[22m\u001b[1m(\u001b[22m::Float64\u001b[1m)\u001b[22m at \u001b[1m/Users/eh540/.julia/packages/Observables/qCJWB/src/Observables.jl:136\u001b[22m\n",
      " [7] \u001b[1m#setindex!#1\u001b[22m\u001b[1m(\u001b[22m::Base.var\"#58#59\"{Base.Fix2{typeof(in),Array{Function,1}}}, ::typeof(setindex!), ::Observable{Float64}, ::Float64\u001b[1m)\u001b[22m at \u001b[1m/Users/eh540/.julia/packages/Observables/qCJWB/src/Observables.jl:87\u001b[22m\n",
      " [8] \u001b[1m(::Base.var\"#kw##setindex!\")\u001b[22m\u001b[1m(\u001b[22m::NamedTuple{(:notify,),Tuple{Base.var\"#58#59\"{Base.Fix2{typeof(in),Array{Function,1}}}}}, ::typeof(setindex!), ::Observable{Float64}, ::Float64\u001b[1m)\u001b[22m at \u001b[1m./none:0\u001b[22m\n",
      " [9] \u001b[1m(::Observables.var\"#25#28\"{InteractBase.var\"#77#80\",Observable{Float64},Array{Function,1}})\u001b[22m\u001b[1m(\u001b[22m::Int64\u001b[1m)\u001b[22m at \u001b[1m/Users/eh540/.julia/packages/Observables/qCJWB/src/observablepair.jl:14\u001b[22m\n",
      " [10] \u001b[1m#setindex!#1\u001b[22m\u001b[1m(\u001b[22m::WebIO.var\"#44#45\", ::typeof(setindex!), ::Observable{Any}, ::Int64\u001b[1m)\u001b[22m at \u001b[1m/Users/eh540/.julia/packages/Observables/qCJWB/src/Observables.jl:87\u001b[22m\n",
      " [11] \u001b[1m#setindex!\u001b[22m at \u001b[1m./none:0\u001b[22m [inlined]\n",
      " [12] \u001b[1msetexcludinghandlers\u001b[22m at \u001b[1m/Users/eh540/.julia/packages/Observables/qCJWB/src/Observables.jl:103\u001b[22m [inlined]\n",
      " [13] \u001b[1mset_nosync\u001b[22m\u001b[1m(\u001b[22m::Observable{Any}, ::Int64\u001b[1m)\u001b[22m at \u001b[1m/Users/eh540/.julia/packages/WebIO/2mZPb/src/scope.jl:339\u001b[22m\n",
      " [14] \u001b[1mdispatch\u001b[22m\u001b[1m(\u001b[22m::Scope, ::String, ::Int64\u001b[1m)\u001b[22m at \u001b[1m/Users/eh540/.julia/packages/WebIO/2mZPb/src/scope.jl:348\u001b[22m\n",
      " [15] \u001b[1mdispatch_command\u001b[22m\u001b[1m(\u001b[22m::WebIO.IJuliaConnection, ::Dict{String,Any}\u001b[1m)\u001b[22m at \u001b[1m/Users/eh540/.julia/packages/WebIO/2mZPb/src/messaging.jl:104\u001b[22m\n",
      " [16] \u001b[1mdispatch\u001b[22m\u001b[1m(\u001b[22m::WebIO.IJuliaConnection, ::Dict{String,Any}\u001b[1m)\u001b[22m at \u001b[1m/Users/eh540/.julia/packages/WebIO/2mZPb/src/messaging.jl:81\u001b[22m\n",
      " [17] \u001b[1m(::WebIO.var\"#92#93\"{WebIO.IJuliaConnection})\u001b[22m\u001b[1m(\u001b[22m::IJulia.Msg\u001b[1m)\u001b[22m at \u001b[1m/Users/eh540/.julia/packages/WebIO/2mZPb/src/providers/ijulia.jl:21\u001b[22m\n",
      " [18] \u001b[1mcomm_msg\u001b[22m\u001b[1m(\u001b[22m::ZMQ.Socket, ::IJulia.Msg\u001b[1m)\u001b[22m at \u001b[1m/Users/eh540/.julia/packages/IJulia/fRegO/src/comm_manager.jl:134\u001b[22m\n",
      " [19] \u001b[1m#invokelatest#1\u001b[22m at \u001b[1m./essentials.jl:709\u001b[22m [inlined]\n",
      " [20] \u001b[1minvokelatest\u001b[22m at \u001b[1m./essentials.jl:708\u001b[22m [inlined]\n",
      " [21] \u001b[1meventloop\u001b[22m\u001b[1m(\u001b[22m::ZMQ.Socket\u001b[1m)\u001b[22m at \u001b[1m/Users/eh540/.julia/packages/IJulia/fRegO/src/eventloop.jl:8\u001b[22m\n",
      " [22] \u001b[1m(::IJulia.var\"#15#18\")\u001b[22m\u001b[1m(\u001b[22m\u001b[1m)\u001b[22m at \u001b[1m./task.jl:333\u001b[22m"
     ]
    },
    {
     "ename": "ErrorException",
     "evalue": "Cannot multiply two expressions of sizes (50, 100) and (4, 1)",
     "output_type": "error",
     "traceback": [
      "KERNEL EXCEPTION",
      "Cannot multiply two expressions of sizes (50, 100) and (4, 1)",
      "",
      "Stacktrace:",
      " [1] error(::String) at ./error.jl:33",
      " [2] MultiplyAtom at /Users/eh540/Dropbox (Personal)/LinkedFolders/Julia/dev/Convex/src/atoms/affine/multiply_divide.jl:28 [inlined]",
      " [3] *(::Array{Float64,2}, ::Variable) at /Users/eh540/Dropbox (Personal)/LinkedFolders/Julia/dev/Convex/src/atoms/affine/multiply_divide.jl:103",
      " [4] (::var\"#7#8\")(::Float64, ::Float64) at ./In[6]:4",
      " [5] (::Observables.var\"#16#17\"{var\"#7#8\",Observable{Any}})(::Float64, ::Vararg{Float64,N} where N) at /Users/eh540/.julia/packages/Observables/qCJWB/src/Observables.jl:152",
      " [6] (::Observables.var\"#g#15\"{Observables.var\"#16#17\"{var\"#7#8\",Observable{Any}},Tuple{Widget{:slider,Float64},Widget{:slider,Float64}}})(::Float64) at /Users/eh540/.julia/packages/Observables/qCJWB/src/Observables.jl:136",
      " [7] #setindex!#1(::Base.var\"#58#59\"{Base.Fix2{typeof(in),Array{Function,1}}}, ::typeof(setindex!), ::Observable{Float64}, ::Float64) at /Users/eh540/.julia/packages/Observables/qCJWB/src/Observables.jl:87",
      " [8] (::Base.var\"#kw##setindex!\")(::NamedTuple{(:notify,),Tuple{Base.var\"#58#59\"{Base.Fix2{typeof(in),Array{Function,1}}}}}, ::typeof(setindex!), ::Observable{Float64}, ::Float64) at ./none:0",
      " [9] (::Observables.var\"#25#28\"{InteractBase.var\"#77#80\",Observable{Float64},Array{Function,1}})(::Int64) at /Users/eh540/.julia/packages/Observables/qCJWB/src/observablepair.jl:14",
      " [10] #setindex!#1(::WebIO.var\"#44#45\", ::typeof(setindex!), ::Observable{Any}, ::Int64) at /Users/eh540/.julia/packages/Observables/qCJWB/src/Observables.jl:87",
      " [11] #setindex! at ./none:0 [inlined]",
      " [12] setexcludinghandlers at /Users/eh540/.julia/packages/Observables/qCJWB/src/Observables.jl:103 [inlined]",
      " [13] set_nosync(::Observable{Any}, ::Int64) at /Users/eh540/.julia/packages/WebIO/2mZPb/src/scope.jl:339",
      " [14] dispatch(::Scope, ::String, ::Int64) at /Users/eh540/.julia/packages/WebIO/2mZPb/src/scope.jl:348",
      " [15] dispatch_command(::WebIO.IJuliaConnection, ::Dict{String,Any}) at /Users/eh540/.julia/packages/WebIO/2mZPb/src/messaging.jl:104",
      " [16] dispatch(::WebIO.IJuliaConnection, ::Dict{String,Any}) at /Users/eh540/.julia/packages/WebIO/2mZPb/src/messaging.jl:81",
      " [17] (::WebIO.var\"#92#93\"{WebIO.IJuliaConnection})(::IJulia.Msg) at /Users/eh540/.julia/packages/WebIO/2mZPb/src/providers/ijulia.jl:21",
      " [18] comm_msg(::ZMQ.Socket, ::IJulia.Msg) at /Users/eh540/.julia/packages/IJulia/fRegO/src/comm_manager.jl:134",
      " [19] #invokelatest#1 at ./essentials.jl:709 [inlined]",
      " [20] invokelatest at ./essentials.jl:708 [inlined]",
      " [21] eventloop(::ZMQ.Socket) at /Users/eh540/.julia/packages/IJulia/fRegO/src/eventloop.jl:8",
      " [22] (::IJulia.var\"#15#18\")() at ./task.jl:333"
     ]
    },
    {
     "name": "stderr",
     "output_type": "stream",
     "text": [
      "Cannot multiply two expressions of sizes (50, 100) and (4, 1)\n",
      "Stacktrace:\n",
      " [1] \u001b[1merror\u001b[22m\u001b[1m(\u001b[22m::String\u001b[1m)\u001b[22m at \u001b[1m./error.jl:33\u001b[22m\n",
      " [2] \u001b[1mMultiplyAtom\u001b[22m at \u001b[1m/Users/eh540/Dropbox (Personal)/LinkedFolders/Julia/dev/Convex/src/atoms/affine/multiply_divide.jl:28\u001b[22m [inlined]\n",
      " [3] \u001b[1m*\u001b[22m\u001b[1m(\u001b[22m::Array{Float64,2}, ::Variable\u001b[1m)\u001b[22m at \u001b[1m/Users/eh540/Dropbox (Personal)/LinkedFolders/Julia/dev/Convex/src/atoms/affine/multiply_divide.jl:103\u001b[22m\n",
      " [4] \u001b[1m(::var\"#7#8\")\u001b[22m\u001b[1m(\u001b[22m::Float64, ::Float64\u001b[1m)\u001b[22m at \u001b[1m./In[6]:4\u001b[22m\n",
      " [5] \u001b[1m(::Observables.var\"#16#17\"{var\"#7#8\",Observable{Any}})\u001b[22m\u001b[1m(\u001b[22m::Float64, ::Vararg{Float64,N} where N\u001b[1m)\u001b[22m at \u001b[1m/Users/eh540/.julia/packages/Observables/qCJWB/src/Observables.jl:152\u001b[22m\n",
      " [6] \u001b[1m(::Observables.var\"#g#15\"{Observables.var\"#16#17\"{var\"#7#8\",Observable{Any}},Tuple{Widget{:slider,Float64},Widget{:slider,Float64}}})\u001b[22m\u001b[1m(\u001b[22m::Float64\u001b[1m)\u001b[22m at \u001b[1m/Users/eh540/.julia/packages/Observables/qCJWB/src/Observables.jl:136\u001b[22m\n",
      " [7] \u001b[1m#setindex!#1\u001b[22m\u001b[1m(\u001b[22m::Base.var\"#58#59\"{Base.Fix2{typeof(in),Array{Function,1}}}, ::typeof(setindex!), ::Observable{Float64}, ::Float64\u001b[1m)\u001b[22m at \u001b[1m/Users/eh540/.julia/packages/Observables/qCJWB/src/Observables.jl:87\u001b[22m\n",
      " [8] \u001b[1m(::Base.var\"#kw##setindex!\")\u001b[22m\u001b[1m(\u001b[22m::NamedTuple{(:notify,),Tuple{Base.var\"#58#59\"{Base.Fix2{typeof(in),Array{Function,1}}}}}, ::typeof(setindex!), ::Observable{Float64}, ::Float64\u001b[1m)\u001b[22m at \u001b[1m./none:0\u001b[22m\n",
      " [9] \u001b[1m(::Observables.var\"#25#28\"{InteractBase.var\"#77#80\",Observable{Float64},Array{Function,1}})\u001b[22m\u001b[1m(\u001b[22m::Int64\u001b[1m)\u001b[22m at \u001b[1m/Users/eh540/.julia/packages/Observables/qCJWB/src/observablepair.jl:14\u001b[22m\n",
      " [10] \u001b[1m#setindex!#1\u001b[22m\u001b[1m(\u001b[22m::WebIO.var\"#44#45\", ::typeof(setindex!), ::Observable{Any}, ::Int64\u001b[1m)\u001b[22m at \u001b[1m/Users/eh540/.julia/packages/Observables/qCJWB/src/Observables.jl:87\u001b[22m\n",
      " [11] \u001b[1m#setindex!\u001b[22m at \u001b[1m./none:0\u001b[22m [inlined]\n",
      " [12] \u001b[1msetexcludinghandlers\u001b[22m at \u001b[1m/Users/eh540/.julia/packages/Observables/qCJWB/src/Observables.jl:103\u001b[22m [inlined]\n",
      " [13] \u001b[1mset_nosync\u001b[22m\u001b[1m(\u001b[22m::Observable{Any}, ::Int64\u001b[1m)\u001b[22m at \u001b[1m/Users/eh540/.julia/packages/WebIO/2mZPb/src/scope.jl:339\u001b[22m\n",
      " [14] \u001b[1mdispatch\u001b[22m\u001b[1m(\u001b[22m::Scope, ::String, ::Int64\u001b[1m)\u001b[22m at \u001b[1m/Users/eh540/.julia/packages/WebIO/2mZPb/src/scope.jl:348\u001b[22m\n",
      " [15] \u001b[1mdispatch_command\u001b[22m\u001b[1m(\u001b[22m::WebIO.IJuliaConnection, ::Dict{String,Any}\u001b[1m)\u001b[22m at \u001b[1m/Users/eh540/.julia/packages/WebIO/2mZPb/src/messaging.jl:104\u001b[22m\n",
      " [16] \u001b[1mdispatch\u001b[22m\u001b[1m(\u001b[22m::WebIO.IJuliaConnection, ::Dict{String,Any}\u001b[1m)\u001b[22m at \u001b[1m/Users/eh540/.julia/packages/WebIO/2mZPb/src/messaging.jl:81\u001b[22m\n",
      " [17] \u001b[1m(::WebIO.var\"#92#93\"{WebIO.IJuliaConnection})\u001b[22m\u001b[1m(\u001b[22m::IJulia.Msg\u001b[1m)\u001b[22m at \u001b[1m/Users/eh540/.julia/packages/WebIO/2mZPb/src/providers/ijulia.jl:21\u001b[22m\n",
      " [18] \u001b[1mcomm_msg\u001b[22m\u001b[1m(\u001b[22m::ZMQ.Socket, ::IJulia.Msg\u001b[1m)\u001b[22m at \u001b[1m/Users/eh540/.julia/packages/IJulia/fRegO/src/comm_manager.jl:134\u001b[22m\n",
      " [19] \u001b[1m#invokelatest#1\u001b[22m at \u001b[1m./essentials.jl:709\u001b[22m [inlined]\n",
      " [20] \u001b[1minvokelatest\u001b[22m at \u001b[1m./essentials.jl:708\u001b[22m [inlined]\n",
      " [21] \u001b[1meventloop\u001b[22m\u001b[1m(\u001b[22m::ZMQ.Socket\u001b[1m)\u001b[22m at \u001b[1m/Users/eh540/.julia/packages/IJulia/fRegO/src/eventloop.jl:8\u001b[22m\n",
      " [22] \u001b[1m(::IJulia.var\"#15#18\")\u001b[22m\u001b[1m(\u001b[22m\u001b[1m)\u001b[22m at \u001b[1m./task.jl:333\u001b[22mCannot multiply two expressions of sizes (50, 100) and (4, 1)\n",
      "Stacktrace:\n",
      " [1] \u001b[1merror\u001b[22m\u001b[1m(\u001b[22m::String\u001b[1m)\u001b[22m at \u001b[1m./error.jl:33\u001b[22m\n",
      " [2] \u001b[1mMultiplyAtom\u001b[22m at \u001b[1m/Users/eh540/Dropbox (Personal)/LinkedFolders/Julia/dev/Convex/src/atoms/affine/multiply_divide.jl:28\u001b[22m [inlined]\n",
      " [3] \u001b[1m*\u001b[22m\u001b[1m(\u001b[22m::Array{Float64,2}, ::Variable\u001b[1m)\u001b[22m at \u001b[1m/Users/eh540/Dropbox (Personal)/LinkedFolders/Julia/dev/Convex/src/atoms/affine/multiply_divide.jl:103\u001b[22m\n",
      " [4] \u001b[1m(::var\"#7#8\")\u001b[22m\u001b[1m(\u001b[22m::Float64, ::Float64\u001b[1m)\u001b[22m at \u001b[1m./In[6]:4\u001b[22m\n",
      " [5] \u001b[1m(::Observables.var\"#16#17\"{var\"#7#8\",Observable{Any}})\u001b[22m\u001b[1m(\u001b[22m::Float64, ::Vararg{Float64,N} where N\u001b[1m)\u001b[22m at \u001b[1m/Users/eh540/.julia/packages/Observables/qCJWB/src/Observables.jl:152\u001b[22m\n",
      " [6] \u001b[1m(::Observables.var\"#g#15\"{Observables.var\"#16#17\"{var\"#7#8\",Observable{Any}},Tuple{Widget{:slider,Float64},Widget{:slider,Float64}}})\u001b[22m\u001b[1m(\u001b[22m::Float64\u001b[1m)\u001b[22m at \u001b[1m/Users/eh540/.julia/packages/Observables/qCJWB/src/Observables.jl:136\u001b[22m\n",
      " [7] \u001b[1m#setindex!#1\u001b[22m\u001b[1m(\u001b[22m::Base.var\"#58#59\"{Base.Fix2{typeof(in),Array{Function,1}}}, ::typeof(setindex!), ::Observable{Float64}, ::Float64\u001b[1m)\u001b[22m at \u001b[1m/Users/eh540/.julia/packages/Observables/qCJWB/src/Observables.jl:87\u001b[22m\n",
      " [8] \u001b[1m(::Base.var\"#kw##setindex!\")\u001b[22m\u001b[1m(\u001b[22m::NamedTuple{(:notify,),Tuple{Base.var\"#58#59\"{Base.Fix2{typeof(in),Array{Function,1}}}}}, ::typeof(setindex!), ::Observable{Float64}, ::Float64\u001b[1m)\u001b[22m at \u001b[1m./none:0\u001b[22m\n",
      " [9] \u001b[1m(::Observables.var\"#25#28\"{InteractBase.var\"#77#80\",Observable{Float64},Array{Function,1}})\u001b[22m\u001b[1m(\u001b[22m::Int64\u001b[1m)\u001b[22m at \u001b[1m/Users/eh540/.julia/packages/Observables/qCJWB/src/observablepair.jl:14\u001b[22m\n",
      " [10] \u001b[1m#setindex!#1\u001b[22m\u001b[1m(\u001b[22m::WebIO.var\"#44#45\", ::typeof(setindex!), ::Observable{Any}, ::Int64\u001b[1m)\u001b[22m at \u001b[1m/Users/eh540/.julia/packages/Observables/qCJWB/src/Observables.jl:87\u001b[22m\n",
      " [11] \u001b[1m#setindex!\u001b[22m at \u001b[1m./none:0\u001b[22m [inlined]\n",
      " [12] \u001b[1msetexcludinghandlers\u001b[22m at \u001b[1m/Users/eh540/.julia/packages/Observables/qCJWB/src/Observables.jl:103\u001b[22m [inlined]\n",
      " [13] \u001b[1mset_nosync\u001b[22m\u001b[1m(\u001b[22m::Observable{Any}, ::Int64\u001b[1m)\u001b[22m at \u001b[1m/Users/eh540/.julia/packages/WebIO/2mZPb/src/scope.jl:339\u001b[22m\n",
      " [14] \u001b[1mdispatch\u001b[22m\u001b[1m(\u001b[22m::Scope, ::String, ::Int64\u001b[1m)\u001b[22m at \u001b[1m/Users/eh540/.julia/packages/WebIO/2mZPb/src/scope.jl:348\u001b[22m\n",
      " [15] \u001b[1mdispatch_command\u001b[22m\u001b[1m(\u001b[22m::WebIO.IJuliaConnection, ::Dict{String,Any}\u001b[1m)\u001b[22m at \u001b[1m/Users/eh540/.julia/packages/WebIO/2mZPb/src/messaging.jl:104\u001b[22m\n",
      " [16] \u001b[1mdispatch\u001b[22m\u001b[1m(\u001b[22m::WebIO.IJuliaConnection, ::Dict{String,Any}\u001b[1m)\u001b[22m at \u001b[1m/Users/eh540/.julia/packages/WebIO/2mZPb/src/messaging.jl:81\u001b[22m\n",
      " [17] \u001b[1m(::WebIO.var\"#92#93\"{WebIO.IJuliaConnection})\u001b[22m\u001b[1m(\u001b[22m::IJulia.Msg\u001b[1m)\u001b[22m at \u001b[1m/Users/eh540/.julia/packages/WebIO/2mZPb/src/providers/ijulia.jl:21\u001b[22m\n",
      " [18] \u001b[1mcomm_msg\u001b[22m\u001b[1m(\u001b[22m::ZMQ.Socket, ::IJulia.Msg\u001b[1m)\u001b[22m at \u001b[1m/Users/eh540/.julia/packages/IJulia/fRegO/src/comm_manager.jl:134\u001b[22m\n",
      " [19] \u001b[1m#invokelatest#1\u001b[22m at \u001b[1m./essentials.jl:709\u001b[22m [inlined]\n",
      " [20] \u001b[1minvokelatest\u001b[22m at \u001b[1m./essentials.jl:708\u001b[22m [inlined]\n",
      " [21] \u001b[1meventloop\u001b[22m\u001b[1m(\u001b[22m::ZMQ.Socket\u001b[1m)\u001b[22m at \u001b[1m/Users/eh540/.julia/packages/IJulia/fRegO/src/eventloop.jl:8\u001b[22m\n",
      " [22] \u001b[1m(::IJulia.var\"#15#18\")\u001b[22m\u001b[1m(\u001b[22m\u001b[1m)\u001b[22m at \u001b[1m./task.jl:333\u001b[22m"
     ]
    },
    {
     "ename": "ErrorException",
     "evalue": "Cannot multiply two expressions of sizes (50, 100) and (4, 1)",
     "output_type": "error",
     "traceback": [
      "KERNEL EXCEPTION",
      "Cannot multiply two expressions of sizes (50, 100) and (4, 1)",
      "",
      "Stacktrace:",
      " [1] error(::String) at ./error.jl:33",
      " [2] MultiplyAtom at /Users/eh540/Dropbox (Personal)/LinkedFolders/Julia/dev/Convex/src/atoms/affine/multiply_divide.jl:28 [inlined]",
      " [3] *(::Array{Float64,2}, ::Variable) at /Users/eh540/Dropbox (Personal)/LinkedFolders/Julia/dev/Convex/src/atoms/affine/multiply_divide.jl:103",
      " [4] (::var\"#7#8\")(::Float64, ::Float64) at ./In[6]:4",
      " [5] (::Observables.var\"#16#17\"{var\"#7#8\",Observable{Any}})(::Float64, ::Vararg{Float64,N} where N) at /Users/eh540/.julia/packages/Observables/qCJWB/src/Observables.jl:152",
      " [6] (::Observables.var\"#g#15\"{Observables.var\"#16#17\"{var\"#7#8\",Observable{Any}},Tuple{Widget{:slider,Float64},Widget{:slider,Float64}}})(::Float64) at /Users/eh540/.julia/packages/Observables/qCJWB/src/Observables.jl:136",
      " [7] #setindex!#1(::Base.var\"#58#59\"{Base.Fix2{typeof(in),Array{Function,1}}}, ::typeof(setindex!), ::Observable{Float64}, ::Float64) at /Users/eh540/.julia/packages/Observables/qCJWB/src/Observables.jl:87",
      " [8] (::Base.var\"#kw##setindex!\")(::NamedTuple{(:notify,),Tuple{Base.var\"#58#59\"{Base.Fix2{typeof(in),Array{Function,1}}}}}, ::typeof(setindex!), ::Observable{Float64}, ::Float64) at ./none:0",
      " [9] (::Observables.var\"#25#28\"{InteractBase.var\"#77#80\",Observable{Float64},Array{Function,1}})(::Int64) at /Users/eh540/.julia/packages/Observables/qCJWB/src/observablepair.jl:14",
      " [10] #setindex!#1(::WebIO.var\"#44#45\", ::typeof(setindex!), ::Observable{Any}, ::Int64) at /Users/eh540/.julia/packages/Observables/qCJWB/src/Observables.jl:87",
      " [11] #setindex! at ./none:0 [inlined]",
      " [12] setexcludinghandlers at /Users/eh540/.julia/packages/Observables/qCJWB/src/Observables.jl:103 [inlined]",
      " [13] set_nosync(::Observable{Any}, ::Int64) at /Users/eh540/.julia/packages/WebIO/2mZPb/src/scope.jl:339",
      " [14] dispatch(::Scope, ::String, ::Int64) at /Users/eh540/.julia/packages/WebIO/2mZPb/src/scope.jl:348",
      " [15] dispatch_command(::WebIO.IJuliaConnection, ::Dict{String,Any}) at /Users/eh540/.julia/packages/WebIO/2mZPb/src/messaging.jl:104",
      " [16] dispatch(::WebIO.IJuliaConnection, ::Dict{String,Any}) at /Users/eh540/.julia/packages/WebIO/2mZPb/src/messaging.jl:81",
      " [17] (::WebIO.var\"#92#93\"{WebIO.IJuliaConnection})(::IJulia.Msg) at /Users/eh540/.julia/packages/WebIO/2mZPb/src/providers/ijulia.jl:21",
      " [18] comm_msg(::ZMQ.Socket, ::IJulia.Msg) at /Users/eh540/.julia/packages/IJulia/fRegO/src/comm_manager.jl:134",
      " [19] #invokelatest#1 at ./essentials.jl:709 [inlined]",
      " [20] invokelatest at ./essentials.jl:708 [inlined]",
      " [21] eventloop(::ZMQ.Socket) at /Users/eh540/.julia/packages/IJulia/fRegO/src/eventloop.jl:8",
      " [22] (::IJulia.var\"#15#18\")() at ./task.jl:333"
     ]
    },
    {
     "name": "stderr",
     "output_type": "stream",
     "text": [
      "Cannot multiply two expressions of sizes (50, 100) and (4, 1)\n",
      "Stacktrace:\n",
      " [1] \u001b[1merror\u001b[22m\u001b[1m(\u001b[22m::String\u001b[1m)\u001b[22m at \u001b[1m./error.jl:33\u001b[22m\n",
      " [2] \u001b[1mMultiplyAtom\u001b[22m at \u001b[1m/Users/eh540/Dropbox (Personal)/LinkedFolders/Julia/dev/Convex/src/atoms/affine/multiply_divide.jl:28\u001b[22m [inlined]\n",
      " [3] \u001b[1m*\u001b[22m\u001b[1m(\u001b[22m::Array{Float64,2}, ::Variable\u001b[1m)\u001b[22m at \u001b[1m/Users/eh540/Dropbox (Personal)/LinkedFolders/Julia/dev/Convex/src/atoms/affine/multiply_divide.jl:103\u001b[22m\n",
      " [4] \u001b[1m(::var\"#7#8\")\u001b[22m\u001b[1m(\u001b[22m::Float64, ::Float64\u001b[1m)\u001b[22m at \u001b[1m./In[6]:4\u001b[22m\n",
      " [5] \u001b[1m(::Observables.var\"#16#17\"{var\"#7#8\",Observable{Any}})\u001b[22m\u001b[1m(\u001b[22m::Float64, ::Vararg{Float64,N} where N\u001b[1m)\u001b[22m at \u001b[1m/Users/eh540/.julia/packages/Observables/qCJWB/src/Observables.jl:152\u001b[22m\n",
      " [6] \u001b[1m(::Observables.var\"#g#15\"{Observables.var\"#16#17\"{var\"#7#8\",Observable{Any}},Tuple{Widget{:slider,Float64},Widget{:slider,Float64}}})\u001b[22m\u001b[1m(\u001b[22m::Float64\u001b[1m)\u001b[22m at \u001b[1m/Users/eh540/.julia/packages/Observables/qCJWB/src/Observables.jl:136\u001b[22m\n",
      " [7] \u001b[1m#setindex!#1\u001b[22m\u001b[1m(\u001b[22m::Base.var\"#58#59\"{Base.Fix2{typeof(in),Array{Function,1}}}, ::typeof(setindex!), ::Observable{Float64}, ::Float64\u001b[1m)\u001b[22m at \u001b[1m/Users/eh540/.julia/packages/Observables/qCJWB/src/Observables.jl:87\u001b[22m\n",
      " [8] \u001b[1m(::Base.var\"#kw##setindex!\")\u001b[22m\u001b[1m(\u001b[22m::NamedTuple{(:notify,),Tuple{Base.var\"#58#59\"{Base.Fix2{typeof(in),Array{Function,1}}}}}, ::typeof(setindex!), ::Observable{Float64}, ::Float64\u001b[1m)\u001b[22m at \u001b[1m./none:0\u001b[22m\n",
      " [9] \u001b[1m(::Observables.var\"#25#28\"{InteractBase.var\"#77#80\",Observable{Float64},Array{Function,1}})\u001b[22m\u001b[1m(\u001b[22m::Int64\u001b[1m)\u001b[22m at \u001b[1m/Users/eh540/.julia/packages/Observables/qCJWB/src/observablepair.jl:14\u001b[22m\n",
      " [10] \u001b[1m#setindex!#1\u001b[22m\u001b[1m(\u001b[22m::WebIO.var\"#44#45\", ::typeof(setindex!), ::Observable{Any}, ::Int64\u001b[1m)\u001b[22m at \u001b[1m/Users/eh540/.julia/packages/Observables/qCJWB/src/Observables.jl:87\u001b[22m\n",
      " [11] \u001b[1m#setindex!\u001b[22m at \u001b[1m./none:0\u001b[22m [inlined]\n",
      " [12] \u001b[1msetexcludinghandlers\u001b[22m at \u001b[1m/Users/eh540/.julia/packages/Observables/qCJWB/src/Observables.jl:103\u001b[22m [inlined]\n",
      " [13] \u001b[1mset_nosync\u001b[22m\u001b[1m(\u001b[22m::Observable{Any}, ::Int64\u001b[1m)\u001b[22m at \u001b[1m/Users/eh540/.julia/packages/WebIO/2mZPb/src/scope.jl:339\u001b[22m\n",
      " [14] \u001b[1mdispatch\u001b[22m\u001b[1m(\u001b[22m::Scope, ::String, ::Int64\u001b[1m)\u001b[22m at \u001b[1m/Users/eh540/.julia/packages/WebIO/2mZPb/src/scope.jl:348\u001b[22m\n",
      " [15] \u001b[1mdispatch_command\u001b[22m\u001b[1m(\u001b[22m::WebIO.IJuliaConnection, ::Dict{String,Any}\u001b[1m)\u001b[22m at \u001b[1m/Users/eh540/.julia/packages/WebIO/2mZPb/src/messaging.jl:104\u001b[22m\n",
      " [16] \u001b[1mdispatch\u001b[22m\u001b[1m(\u001b[22m::WebIO.IJuliaConnection, ::Dict{String,Any}\u001b[1m)\u001b[22m at \u001b[1m/Users/eh540/.julia/packages/WebIO/2mZPb/src/messaging.jl:81\u001b[22m\n",
      " [17] \u001b[1m(::WebIO.var\"#92#93\"{WebIO.IJuliaConnection})\u001b[22m\u001b[1m(\u001b[22m::IJulia.Msg\u001b[1m)\u001b[22m at \u001b[1m/Users/eh540/.julia/packages/WebIO/2mZPb/src/providers/ijulia.jl:21\u001b[22m\n",
      " [18] \u001b[1mcomm_msg\u001b[22m\u001b[1m(\u001b[22m::ZMQ.Socket, ::IJulia.Msg\u001b[1m)\u001b[22m at \u001b[1m/Users/eh540/.julia/packages/IJulia/fRegO/src/comm_manager.jl:134\u001b[22m\n",
      " [19] \u001b[1m#invokelatest#1\u001b[22m at \u001b[1m./essentials.jl:709\u001b[22m [inlined]\n",
      " [20] \u001b[1minvokelatest\u001b[22m at \u001b[1m./essentials.jl:708\u001b[22m [inlined]\n",
      " [21] \u001b[1meventloop\u001b[22m\u001b[1m(\u001b[22m::ZMQ.Socket\u001b[1m)\u001b[22m at \u001b[1m/Users/eh540/.julia/packages/IJulia/fRegO/src/eventloop.jl:8\u001b[22m\n",
      " [22] \u001b[1m(::IJulia.var\"#15#18\")\u001b[22m\u001b[1m(\u001b[22m\u001b[1m)\u001b[22m at \u001b[1m./task.jl:333\u001b[22mCannot multiply two expressions of sizes (50, 100) and (4, 1)\n",
      "Stacktrace:\n",
      " [1] \u001b[1merror\u001b[22m\u001b[1m(\u001b[22m::String\u001b[1m)\u001b[22m at \u001b[1m./error.jl:33\u001b[22m\n",
      " [2] \u001b[1mMultiplyAtom\u001b[22m at \u001b[1m/Users/eh540/Dropbox (Personal)/LinkedFolders/Julia/dev/Convex/src/atoms/affine/multiply_divide.jl:28\u001b[22m [inlined]\n",
      " [3] \u001b[1m*\u001b[22m\u001b[1m(\u001b[22m::Array{Float64,2}, ::Variable\u001b[1m)\u001b[22m at \u001b[1m/Users/eh540/Dropbox (Personal)/LinkedFolders/Julia/dev/Convex/src/atoms/affine/multiply_divide.jl:103\u001b[22m\n",
      " [4] \u001b[1m(::var\"#7#8\")\u001b[22m\u001b[1m(\u001b[22m::Float64, ::Float64\u001b[1m)\u001b[22m at \u001b[1m./In[6]:4\u001b[22m\n",
      " [5] \u001b[1m(::Observables.var\"#16#17\"{var\"#7#8\",Observable{Any}})\u001b[22m\u001b[1m(\u001b[22m::Float64, ::Vararg{Float64,N} where N\u001b[1m)\u001b[22m at \u001b[1m/Users/eh540/.julia/packages/Observables/qCJWB/src/Observables.jl:152\u001b[22m\n",
      " [6] \u001b[1m(::Observables.var\"#g#15\"{Observables.var\"#16#17\"{var\"#7#8\",Observable{Any}},Tuple{Widget{:slider,Float64},Widget{:slider,Float64}}})\u001b[22m\u001b[1m(\u001b[22m::Float64\u001b[1m)\u001b[22m at \u001b[1m/Users/eh540/.julia/packages/Observables/qCJWB/src/Observables.jl:136\u001b[22m\n",
      " [7] \u001b[1m#setindex!#1\u001b[22m\u001b[1m(\u001b[22m::Base.var\"#58#59\"{Base.Fix2{typeof(in),Array{Function,1}}}, ::typeof(setindex!), ::Observable{Float64}, ::Float64\u001b[1m)\u001b[22m at \u001b[1m/Users/eh540/.julia/packages/Observables/qCJWB/src/Observables.jl:87\u001b[22m\n",
      " [8] \u001b[1m(::Base.var\"#kw##setindex!\")\u001b[22m\u001b[1m(\u001b[22m::NamedTuple{(:notify,),Tuple{Base.var\"#58#59\"{Base.Fix2{typeof(in),Array{Function,1}}}}}, ::typeof(setindex!), ::Observable{Float64}, ::Float64\u001b[1m)\u001b[22m at \u001b[1m./none:0\u001b[22m\n",
      " [9] \u001b[1m(::Observables.var\"#25#28\"{InteractBase.var\"#77#80\",Observable{Float64},Array{Function,1}})\u001b[22m\u001b[1m(\u001b[22m::Int64\u001b[1m)\u001b[22m at \u001b[1m/Users/eh540/.julia/packages/Observables/qCJWB/src/observablepair.jl:14\u001b[22m\n",
      " [10] \u001b[1m#setindex!#1\u001b[22m\u001b[1m(\u001b[22m::WebIO.var\"#44#45\", ::typeof(setindex!), ::Observable{Any}, ::Int64\u001b[1m)\u001b[22m at \u001b[1m/Users/eh540/.julia/packages/Observables/qCJWB/src/Observables.jl:87\u001b[22m\n",
      " [11] \u001b[1m#setindex!\u001b[22m at \u001b[1m./none:0\u001b[22m [inlined]\n",
      " [12] \u001b[1msetexcludinghandlers\u001b[22m at \u001b[1m/Users/eh540/.julia/packages/Observables/qCJWB/src/Observables.jl:103\u001b[22m [inlined]\n",
      " [13] \u001b[1mset_nosync\u001b[22m\u001b[1m(\u001b[22m::Observable{Any}, ::Int64\u001b[1m)\u001b[22m at \u001b[1m/Users/eh540/.julia/packages/WebIO/2mZPb/src/scope.jl:339\u001b[22m\n",
      " [14] \u001b[1mdispatch\u001b[22m\u001b[1m(\u001b[22m::Scope, ::String, ::Int64\u001b[1m)\u001b[22m at \u001b[1m/Users/eh540/.julia/packages/WebIO/2mZPb/src/scope.jl:348\u001b[22m\n",
      " [15] \u001b[1mdispatch_command\u001b[22m\u001b[1m(\u001b[22m::WebIO.IJuliaConnection, ::Dict{String,Any}\u001b[1m)\u001b[22m at \u001b[1m/Users/eh540/.julia/packages/WebIO/2mZPb/src/messaging.jl:104\u001b[22m\n",
      " [16] \u001b[1mdispatch\u001b[22m\u001b[1m(\u001b[22m::WebIO.IJuliaConnection, ::Dict{String,Any}\u001b[1m)\u001b[22m at \u001b[1m/Users/eh540/.julia/packages/WebIO/2mZPb/src/messaging.jl:81\u001b[22m\n",
      " [17] \u001b[1m(::WebIO.var\"#92#93\"{WebIO.IJuliaConnection})\u001b[22m\u001b[1m(\u001b[22m::IJulia.Msg\u001b[1m)\u001b[22m at \u001b[1m/Users/eh540/.julia/packages/WebIO/2mZPb/src/providers/ijulia.jl:21\u001b[22m\n",
      " [18] \u001b[1mcomm_msg\u001b[22m\u001b[1m(\u001b[22m::ZMQ.Socket, ::IJulia.Msg\u001b[1m)\u001b[22m at \u001b[1m/Users/eh540/.julia/packages/IJulia/fRegO/src/comm_manager.jl:134\u001b[22m\n",
      " [19] \u001b[1m#invokelatest#1\u001b[22m at \u001b[1m./essentials.jl:709\u001b[22m [inlined]\n",
      " [20] \u001b[1minvokelatest\u001b[22m at \u001b[1m./essentials.jl:708\u001b[22m [inlined]\n",
      " [21] \u001b[1meventloop\u001b[22m\u001b[1m(\u001b[22m::ZMQ.Socket\u001b[1m)\u001b[22m at \u001b[1m/Users/eh540/.julia/packages/IJulia/fRegO/src/eventloop.jl:8\u001b[22m\n",
      " [22] \u001b[1m(::IJulia.var\"#15#18\")\u001b[22m\u001b[1m(\u001b[22m\u001b[1m)\u001b[22m at \u001b[1m./task.jl:333\u001b[22m"
     ]
    },
    {
     "ename": "ErrorException",
     "evalue": "Cannot multiply two expressions of sizes (50, 100) and (4, 1)",
     "output_type": "error",
     "traceback": [
      "KERNEL EXCEPTION",
      "Cannot multiply two expressions of sizes (50, 100) and (4, 1)",
      "",
      "Stacktrace:",
      " [1] error(::String) at ./error.jl:33",
      " [2] MultiplyAtom at /Users/eh540/Dropbox (Personal)/LinkedFolders/Julia/dev/Convex/src/atoms/affine/multiply_divide.jl:28 [inlined]",
      " [3] *(::Array{Float64,2}, ::Variable) at /Users/eh540/Dropbox (Personal)/LinkedFolders/Julia/dev/Convex/src/atoms/affine/multiply_divide.jl:103",
      " [4] (::var\"#7#8\")(::Float64, ::Float64) at ./In[6]:4",
      " [5] (::Observables.var\"#16#17\"{var\"#7#8\",Observable{Any}})(::Float64, ::Vararg{Float64,N} where N) at /Users/eh540/.julia/packages/Observables/qCJWB/src/Observables.jl:152",
      " [6] (::Observables.var\"#g#15\"{Observables.var\"#16#17\"{var\"#7#8\",Observable{Any}},Tuple{Widget{:slider,Float64},Widget{:slider,Float64}}})(::Float64) at /Users/eh540/.julia/packages/Observables/qCJWB/src/Observables.jl:136",
      " [7] #setindex!#1(::Base.var\"#58#59\"{Base.Fix2{typeof(in),Array{Function,1}}}, ::typeof(setindex!), ::Observable{Float64}, ::Float64) at /Users/eh540/.julia/packages/Observables/qCJWB/src/Observables.jl:87",
      " [8] (::Base.var\"#kw##setindex!\")(::NamedTuple{(:notify,),Tuple{Base.var\"#58#59\"{Base.Fix2{typeof(in),Array{Function,1}}}}}, ::typeof(setindex!), ::Observable{Float64}, ::Float64) at ./none:0",
      " [9] (::Observables.var\"#25#28\"{InteractBase.var\"#77#80\",Observable{Float64},Array{Function,1}})(::Int64) at /Users/eh540/.julia/packages/Observables/qCJWB/src/observablepair.jl:14",
      " [10] #setindex!#1(::WebIO.var\"#44#45\", ::typeof(setindex!), ::Observable{Any}, ::Int64) at /Users/eh540/.julia/packages/Observables/qCJWB/src/Observables.jl:87",
      " [11] #setindex! at ./none:0 [inlined]",
      " [12] setexcludinghandlers at /Users/eh540/.julia/packages/Observables/qCJWB/src/Observables.jl:103 [inlined]",
      " [13] set_nosync(::Observable{Any}, ::Int64) at /Users/eh540/.julia/packages/WebIO/2mZPb/src/scope.jl:339",
      " [14] dispatch(::Scope, ::String, ::Int64) at /Users/eh540/.julia/packages/WebIO/2mZPb/src/scope.jl:348",
      " [15] dispatch_command(::WebIO.IJuliaConnection, ::Dict{String,Any}) at /Users/eh540/.julia/packages/WebIO/2mZPb/src/messaging.jl:104",
      " [16] dispatch(::WebIO.IJuliaConnection, ::Dict{String,Any}) at /Users/eh540/.julia/packages/WebIO/2mZPb/src/messaging.jl:81",
      " [17] (::WebIO.var\"#92#93\"{WebIO.IJuliaConnection})(::IJulia.Msg) at /Users/eh540/.julia/packages/WebIO/2mZPb/src/providers/ijulia.jl:21",
      " [18] comm_msg(::ZMQ.Socket, ::IJulia.Msg) at /Users/eh540/.julia/packages/IJulia/fRegO/src/comm_manager.jl:134",
      " [19] #invokelatest#1 at ./essentials.jl:709 [inlined]",
      " [20] invokelatest at ./essentials.jl:708 [inlined]",
      " [21] eventloop(::ZMQ.Socket) at /Users/eh540/.julia/packages/IJulia/fRegO/src/eventloop.jl:8",
      " [22] (::IJulia.var\"#15#18\")() at ./task.jl:333"
     ]
    },
    {
     "name": "stderr",
     "output_type": "stream",
     "text": [
      "Cannot multiply two expressions of sizes (50, 100) and (4, 1)\n",
      "Stacktrace:\n",
      " [1] \u001b[1merror\u001b[22m\u001b[1m(\u001b[22m::String\u001b[1m)\u001b[22m at \u001b[1m./error.jl:33\u001b[22m\n",
      " [2] \u001b[1mMultiplyAtom\u001b[22m at \u001b[1m/Users/eh540/Dropbox (Personal)/LinkedFolders/Julia/dev/Convex/src/atoms/affine/multiply_divide.jl:28\u001b[22m [inlined]\n",
      " [3] \u001b[1m*\u001b[22m\u001b[1m(\u001b[22m::Array{Float64,2}, ::Variable\u001b[1m)\u001b[22m at \u001b[1m/Users/eh540/Dropbox (Personal)/LinkedFolders/Julia/dev/Convex/src/atoms/affine/multiply_divide.jl:103\u001b[22m\n",
      " [4] \u001b[1m(::var\"#7#8\")\u001b[22m\u001b[1m(\u001b[22m::Float64, ::Float64\u001b[1m)\u001b[22m at \u001b[1m./In[6]:4\u001b[22m\n",
      " [5] \u001b[1m(::Observables.var\"#16#17\"{var\"#7#8\",Observable{Any}})\u001b[22m\u001b[1m(\u001b[22m::Float64, ::Vararg{Float64,N} where N\u001b[1m)\u001b[22m at \u001b[1m/Users/eh540/.julia/packages/Observables/qCJWB/src/Observables.jl:152\u001b[22m\n",
      " [6] \u001b[1m(::Observables.var\"#g#15\"{Observables.var\"#16#17\"{var\"#7#8\",Observable{Any}},Tuple{Widget{:slider,Float64},Widget{:slider,Float64}}})\u001b[22m\u001b[1m(\u001b[22m::Float64\u001b[1m)\u001b[22m at \u001b[1m/Users/eh540/.julia/packages/Observables/qCJWB/src/Observables.jl:136\u001b[22m\n",
      " [7] \u001b[1m#setindex!#1\u001b[22m\u001b[1m(\u001b[22m::Base.var\"#58#59\"{Base.Fix2{typeof(in),Array{Function,1}}}, ::typeof(setindex!), ::Observable{Float64}, ::Float64\u001b[1m)\u001b[22m at \u001b[1m/Users/eh540/.julia/packages/Observables/qCJWB/src/Observables.jl:87\u001b[22m\n",
      " [8] \u001b[1m(::Base.var\"#kw##setindex!\")\u001b[22m\u001b[1m(\u001b[22m::NamedTuple{(:notify,),Tuple{Base.var\"#58#59\"{Base.Fix2{typeof(in),Array{Function,1}}}}}, ::typeof(setindex!), ::Observable{Float64}, ::Float64\u001b[1m)\u001b[22m at \u001b[1m./none:0\u001b[22m\n",
      " [9] \u001b[1m(::Observables.var\"#25#28\"{InteractBase.var\"#77#80\",Observable{Float64},Array{Function,1}})\u001b[22m\u001b[1m(\u001b[22m::Int64\u001b[1m)\u001b[22m at \u001b[1m/Users/eh540/.julia/packages/Observables/qCJWB/src/observablepair.jl:14\u001b[22m\n",
      " [10] \u001b[1m#setindex!#1\u001b[22m\u001b[1m(\u001b[22m::WebIO.var\"#44#45\", ::typeof(setindex!), ::Observable{Any}, ::Int64\u001b[1m)\u001b[22m at \u001b[1m/Users/eh540/.julia/packages/Observables/qCJWB/src/Observables.jl:87\u001b[22m\n",
      " [11] \u001b[1m#setindex!\u001b[22m at \u001b[1m./none:0\u001b[22m [inlined]\n",
      " [12] \u001b[1msetexcludinghandlers\u001b[22m at \u001b[1m/Users/eh540/.julia/packages/Observables/qCJWB/src/Observables.jl:103\u001b[22m [inlined]\n",
      " [13] \u001b[1mset_nosync\u001b[22m\u001b[1m(\u001b[22m::Observable{Any}, ::Int64\u001b[1m)\u001b[22m at \u001b[1m/Users/eh540/.julia/packages/WebIO/2mZPb/src/scope.jl:339\u001b[22m\n",
      " [14] \u001b[1mdispatch\u001b[22m\u001b[1m(\u001b[22m::Scope, ::String, ::Int64\u001b[1m)\u001b[22m at \u001b[1m/Users/eh540/.julia/packages/WebIO/2mZPb/src/scope.jl:348\u001b[22m\n",
      " [15] \u001b[1mdispatch_command\u001b[22m\u001b[1m(\u001b[22m::WebIO.IJuliaConnection, ::Dict{String,Any}\u001b[1m)\u001b[22m at \u001b[1m/Users/eh540/.julia/packages/WebIO/2mZPb/src/messaging.jl:104\u001b[22m\n",
      " [16] \u001b[1mdispatch\u001b[22m\u001b[1m(\u001b[22m::WebIO.IJuliaConnection, ::Dict{String,Any}\u001b[1m)\u001b[22m at \u001b[1m/Users/eh540/.julia/packages/WebIO/2mZPb/src/messaging.jl:81\u001b[22m\n",
      " [17] \u001b[1m(::WebIO.var\"#92#93\"{WebIO.IJuliaConnection})\u001b[22m\u001b[1m(\u001b[22m::IJulia.Msg\u001b[1m)\u001b[22m at \u001b[1m/Users/eh540/.julia/packages/WebIO/2mZPb/src/providers/ijulia.jl:21\u001b[22m\n",
      " [18] \u001b[1mcomm_msg\u001b[22m\u001b[1m(\u001b[22m::ZMQ.Socket, ::IJulia.Msg\u001b[1m)\u001b[22m at \u001b[1m/Users/eh540/.julia/packages/IJulia/fRegO/src/comm_manager.jl:134\u001b[22m\n",
      " [19] \u001b[1m#invokelatest#1\u001b[22m at \u001b[1m./essentials.jl:709\u001b[22m [inlined]\n",
      " [20] \u001b[1minvokelatest\u001b[22m at \u001b[1m./essentials.jl:708\u001b[22m [inlined]\n",
      " [21] \u001b[1meventloop\u001b[22m\u001b[1m(\u001b[22m::ZMQ.Socket\u001b[1m)\u001b[22m at \u001b[1m/Users/eh540/.julia/packages/IJulia/fRegO/src/eventloop.jl:8\u001b[22m\n",
      " [22] \u001b[1m(::IJulia.var\"#15#18\")\u001b[22m\u001b[1m(\u001b[22m\u001b[1m)\u001b[22m at \u001b[1m./task.jl:333\u001b[22mCannot multiply two expressions of sizes (50, 100) and (4, 1)\n",
      "Stacktrace:\n",
      " [1] \u001b[1merror\u001b[22m\u001b[1m(\u001b[22m::String\u001b[1m)\u001b[22m at \u001b[1m./error.jl:33\u001b[22m\n",
      " [2] \u001b[1mMultiplyAtom\u001b[22m at \u001b[1m/Users/eh540/Dropbox (Personal)/LinkedFolders/Julia/dev/Convex/src/atoms/affine/multiply_divide.jl:28\u001b[22m [inlined]\n",
      " [3] \u001b[1m*\u001b[22m\u001b[1m(\u001b[22m::Array{Float64,2}, ::Variable\u001b[1m)\u001b[22m at \u001b[1m/Users/eh540/Dropbox (Personal)/LinkedFolders/Julia/dev/Convex/src/atoms/affine/multiply_divide.jl:103\u001b[22m\n",
      " [4] \u001b[1m(::var\"#7#8\")\u001b[22m\u001b[1m(\u001b[22m::Float64, ::Float64\u001b[1m)\u001b[22m at \u001b[1m./In[6]:4\u001b[22m\n",
      " [5] \u001b[1m(::Observables.var\"#16#17\"{var\"#7#8\",Observable{Any}})\u001b[22m\u001b[1m(\u001b[22m::Float64, ::Vararg{Float64,N} where N\u001b[1m)\u001b[22m at \u001b[1m/Users/eh540/.julia/packages/Observables/qCJWB/src/Observables.jl:152\u001b[22m\n",
      " [6] \u001b[1m(::Observables.var\"#g#15\"{Observables.var\"#16#17\"{var\"#7#8\",Observable{Any}},Tuple{Widget{:slider,Float64},Widget{:slider,Float64}}})\u001b[22m\u001b[1m(\u001b[22m::Float64\u001b[1m)\u001b[22m at \u001b[1m/Users/eh540/.julia/packages/Observables/qCJWB/src/Observables.jl:136\u001b[22m\n",
      " [7] \u001b[1m#setindex!#1\u001b[22m\u001b[1m(\u001b[22m::Base.var\"#58#59\"{Base.Fix2{typeof(in),Array{Function,1}}}, ::typeof(setindex!), ::Observable{Float64}, ::Float64\u001b[1m)\u001b[22m at \u001b[1m/Users/eh540/.julia/packages/Observables/qCJWB/src/Observables.jl:87\u001b[22m\n",
      " [8] \u001b[1m(::Base.var\"#kw##setindex!\")\u001b[22m\u001b[1m(\u001b[22m::NamedTuple{(:notify,),Tuple{Base.var\"#58#59\"{Base.Fix2{typeof(in),Array{Function,1}}}}}, ::typeof(setindex!), ::Observable{Float64}, ::Float64\u001b[1m)\u001b[22m at \u001b[1m./none:0\u001b[22m\n",
      " [9] \u001b[1m(::Observables.var\"#25#28\"{InteractBase.var\"#77#80\",Observable{Float64},Array{Function,1}})\u001b[22m\u001b[1m(\u001b[22m::Int64\u001b[1m)\u001b[22m at \u001b[1m/Users/eh540/.julia/packages/Observables/qCJWB/src/observablepair.jl:14\u001b[22m\n",
      " [10] \u001b[1m#setindex!#1\u001b[22m\u001b[1m(\u001b[22m::WebIO.var\"#44#45\", ::typeof(setindex!), ::Observable{Any}, ::Int64\u001b[1m)\u001b[22m at \u001b[1m/Users/eh540/.julia/packages/Observables/qCJWB/src/Observables.jl:87\u001b[22m\n",
      " [11] \u001b[1m#setindex!\u001b[22m at \u001b[1m./none:0\u001b[22m [inlined]\n",
      " [12] \u001b[1msetexcludinghandlers\u001b[22m at \u001b[1m/Users/eh540/.julia/packages/Observables/qCJWB/src/Observables.jl:103\u001b[22m [inlined]\n",
      " [13] \u001b[1mset_nosync\u001b[22m\u001b[1m(\u001b[22m::Observable{Any}, ::Int64\u001b[1m)\u001b[22m at \u001b[1m/Users/eh540/.julia/packages/WebIO/2mZPb/src/scope.jl:339\u001b[22m\n",
      " [14] \u001b[1mdispatch\u001b[22m\u001b[1m(\u001b[22m::Scope, ::String, ::Int64\u001b[1m)\u001b[22m at \u001b[1m/Users/eh540/.julia/packages/WebIO/2mZPb/src/scope.jl:348\u001b[22m\n",
      " [15] \u001b[1mdispatch_command\u001b[22m\u001b[1m(\u001b[22m::WebIO.IJuliaConnection, ::Dict{String,Any}\u001b[1m)\u001b[22m at \u001b[1m/Users/eh540/.julia/packages/WebIO/2mZPb/src/messaging.jl:104\u001b[22m\n",
      " [16] \u001b[1mdispatch\u001b[22m\u001b[1m(\u001b[22m::WebIO.IJuliaConnection, ::Dict{String,Any}\u001b[1m)\u001b[22m at \u001b[1m/Users/eh540/.julia/packages/WebIO/2mZPb/src/messaging.jl:81\u001b[22m\n",
      " [17] \u001b[1m(::WebIO.var\"#92#93\"{WebIO.IJuliaConnection})\u001b[22m\u001b[1m(\u001b[22m::IJulia.Msg\u001b[1m)\u001b[22m at \u001b[1m/Users/eh540/.julia/packages/WebIO/2mZPb/src/providers/ijulia.jl:21\u001b[22m\n",
      " [18] \u001b[1mcomm_msg\u001b[22m\u001b[1m(\u001b[22m::ZMQ.Socket, ::IJulia.Msg\u001b[1m)\u001b[22m at \u001b[1m/Users/eh540/.julia/packages/IJulia/fRegO/src/comm_manager.jl:134\u001b[22m\n",
      " [19] \u001b[1m#invokelatest#1\u001b[22m at \u001b[1m./essentials.jl:709\u001b[22m [inlined]\n",
      " [20] \u001b[1minvokelatest\u001b[22m at \u001b[1m./essentials.jl:708\u001b[22m [inlined]\n",
      " [21] \u001b[1meventloop\u001b[22m\u001b[1m(\u001b[22m::ZMQ.Socket\u001b[1m)\u001b[22m at \u001b[1m/Users/eh540/.julia/packages/IJulia/fRegO/src/eventloop.jl:8\u001b[22m\n",
      " [22] \u001b[1m(::IJulia.var\"#15#18\")\u001b[22m\u001b[1m(\u001b[22m\u001b[1m)\u001b[22m at \u001b[1m./task.jl:333\u001b[22mCannot multiply two expressions of sizes (50, 100) and (4, 1)\n",
      "Stacktrace:\n",
      " [1] \u001b[1merror\u001b[22m\u001b[1m(\u001b[22m::String\u001b[1m)\u001b[22m at \u001b[1m./error.jl:33\u001b[22m\n",
      " [2] \u001b[1mMultiplyAtom\u001b[22m at \u001b[1m/Users/eh540/Dropbox (Personal)/LinkedFolders/Julia/dev/Convex/src/atoms/affine/multiply_divide.jl:28\u001b[22m [inlined]\n",
      " [3] \u001b[1m*\u001b[22m\u001b[1m(\u001b[22m::Array{Float64,2}, ::Variable\u001b[1m)\u001b[22m at \u001b[1m/Users/eh540/Dropbox (Personal)/LinkedFolders/Julia/dev/Convex/src/atoms/affine/multiply_divide.jl:103\u001b[22m\n",
      " [4] \u001b[1m(::var\"#7#8\")\u001b[22m\u001b[1m(\u001b[22m::Float64, ::Float64\u001b[1m)\u001b[22m at \u001b[1m./In[6]:4\u001b[22m\n",
      " [5] \u001b[1m(::Observables.var\"#16#17\"{var\"#7#8\",Observable{Any}})\u001b[22m\u001b[1m(\u001b[22m::Float64, ::Vararg{Float64,N} where N\u001b[1m)\u001b[22m at \u001b[1m/Users/eh540/.julia/packages/Observables/qCJWB/src/Observables.jl:152\u001b[22m\n",
      " [6] \u001b[1m(::Observables.var\"#g#15\"{Observables.var\"#16#17\"{var\"#7#8\",Observable{Any}},Tuple{Widget{:slider,Float64},Widget{:slider,Float64}}})\u001b[22m\u001b[1m(\u001b[22m::Float64\u001b[1m)\u001b[22m at \u001b[1m/Users/eh540/.julia/packages/Observables/qCJWB/src/Observables.jl:136\u001b[22m\n",
      " [7] \u001b[1m#setindex!#1\u001b[22m\u001b[1m(\u001b[22m::Base.var\"#58#59\"{Base.Fix2{typeof(in),Array{Function,1}}}, ::typeof(setindex!), ::Observable{Float64}, ::Float64\u001b[1m)\u001b[22m at \u001b[1m/Users/eh540/.julia/packages/Observables/qCJWB/src/Observables.jl:87\u001b[22m\n",
      " [8] \u001b[1m(::Base.var\"#kw##setindex!\")\u001b[22m\u001b[1m(\u001b[22m::NamedTuple{(:notify,),Tuple{Base.var\"#58#59\"{Base.Fix2{typeof(in),Array{Function,1}}}}}, ::typeof(setindex!), ::Observable{Float64}, ::Float64\u001b[1m)\u001b[22m at \u001b[1m./none:0\u001b[22m\n",
      " [9] \u001b[1m(::Observables.var\"#25#28\"{InteractBase.var\"#77#80\",Observable{Float64},Array{Function,1}})\u001b[22m\u001b[1m(\u001b[22m::Int64\u001b[1m)\u001b[22m at \u001b[1m/Users/eh540/.julia/packages/Observables/qCJWB/src/observablepair.jl:14\u001b[22m\n",
      " [10] \u001b[1m#setindex!#1\u001b[22m\u001b[1m(\u001b[22m::WebIO.var\"#44#45\", ::typeof(setindex!), ::Observable{Any}, ::Int64\u001b[1m)\u001b[22m at \u001b[1m/Users/eh540/.julia/packages/Observables/qCJWB/src/Observables.jl:87\u001b[22m\n",
      " [11] \u001b[1m#setindex!\u001b[22m at \u001b[1m./none:0\u001b[22m [inlined]\n",
      " [12] \u001b[1msetexcludinghandlers\u001b[22m at \u001b[1m/Users/eh540/.julia/packages/Observables/qCJWB/src/Observables.jl:103\u001b[22m [inlined]\n",
      " [13] \u001b[1mset_nosync\u001b[22m\u001b[1m(\u001b[22m::Observable{Any}, ::Int64\u001b[1m)\u001b[22m at \u001b[1m/Users/eh540/.julia/packages/WebIO/2mZPb/src/scope.jl:339\u001b[22m\n",
      " [14] \u001b[1mdispatch\u001b[22m\u001b[1m(\u001b[22m::Scope, ::String, ::Int64\u001b[1m)\u001b[22m at \u001b[1m/Users/eh540/.julia/packages/WebIO/2mZPb/src/scope.jl:348\u001b[22m\n",
      " [15] \u001b[1mdispatch_command\u001b[22m\u001b[1m(\u001b[22m::WebIO.IJuliaConnection, ::Dict{String,Any}\u001b[1m)\u001b[22m at \u001b[1m/Users/eh540/.julia/packages/WebIO/2mZPb/src/messaging.jl:104\u001b[22m\n",
      " [16] \u001b[1mdispatch\u001b[22m\u001b[1m(\u001b[22m::WebIO.IJuliaConnection, ::Dict{String,Any}\u001b[1m)\u001b[22m at \u001b[1m/Users/eh540/.julia/packages/WebIO/2mZPb/src/messaging.jl:81\u001b[22m\n",
      " [17] \u001b[1m(::WebIO.var\"#92#93\"{WebIO.IJuliaConnection})\u001b[22m\u001b[1m(\u001b[22m::IJulia.Msg\u001b[1m)\u001b[22m at \u001b[1m/Users/eh540/.julia/packages/WebIO/2mZPb/src/providers/ijulia.jl:21\u001b[22m\n",
      " [18] \u001b[1mcomm_msg\u001b[22m\u001b[1m(\u001b[22m::ZMQ.Socket, ::IJulia.Msg\u001b[1m)\u001b[22m at \u001b[1m/Users/eh540/.julia/packages/IJulia/fRegO/src/comm_manager.jl:134\u001b[22m\n",
      " [19] \u001b[1m#invokelatest#1\u001b[22m at \u001b[1m./essentials.jl:709\u001b[22m [inlined]\n",
      " [20] \u001b[1minvokelatest\u001b[22m at \u001b[1m./essentials.jl:708\u001b[22m [inlined]\n",
      " [21] \u001b[1meventloop\u001b[22m\u001b[1m(\u001b[22m::ZMQ.Socket\u001b[1m)\u001b[22m at \u001b[1m/Users/eh540/.julia/packages/IJulia/fRegO/src/eventloop.jl:8\u001b[22m\n",
      " [22] \u001b[1m(::IJulia.var\"#15#18\")\u001b[22m\u001b[1m(\u001b[22m\u001b[1m)\u001b[22m at \u001b[1m./task.jl:333\u001b[22mCannot multiply two expressions of sizes (50, 100) and (4, 1)\n",
      "Stacktrace:\n",
      " [1] \u001b[1merror\u001b[22m\u001b[1m(\u001b[22m::String\u001b[1m)\u001b[22m at \u001b[1m./error.jl:33\u001b[22m\n",
      " [2] \u001b[1mMultiplyAtom\u001b[22m at \u001b[1m/Users/eh540/Dropbox (Personal)/LinkedFolders/Julia/dev/Convex/src/atoms/affine/multiply_divide.jl:28\u001b[22m [inlined]\n",
      " [3] \u001b[1m*\u001b[22m\u001b[1m(\u001b[22m::Array{Float64,2}, ::Variable\u001b[1m)\u001b[22m at \u001b[1m/Users/eh540/Dropbox (Personal)/LinkedFolders/Julia/dev/Convex/src/atoms/affine/multiply_divide.jl:103\u001b[22m\n",
      " [4] \u001b[1m(::var\"#7#8\")\u001b[22m\u001b[1m(\u001b[22m::Float64, ::Float64\u001b[1m)\u001b[22m at \u001b[1m./In[6]:4\u001b[22m\n",
      " [5] \u001b[1m(::Observables.var\"#16#17\"{var\"#7#8\",Observable{Any}})\u001b[22m\u001b[1m(\u001b[22m::Float64, ::Vararg{Float64,N} where N\u001b[1m)\u001b[22m at \u001b[1m/Users/eh540/.julia/packages/Observables/qCJWB/src/Observables.jl:152\u001b[22m\n",
      " [6] \u001b[1m(::Observables.var\"#g#15\"{Observables.var\"#16#17\"{var\"#7#8\",Observable{Any}},Tuple{Widget{:slider,Float64},Widget{:slider,Float64}}})\u001b[22m\u001b[1m(\u001b[22m::Float64\u001b[1m)\u001b[22m at \u001b[1m/Users/eh540/.julia/packages/Observables/qCJWB/src/Observables.jl:136\u001b[22m\n",
      " [7] \u001b[1m#setindex!#1\u001b[22m\u001b[1m(\u001b[22m::Base.var\"#58#59\"{Base.Fix2{typeof(in),Array{Function,1}}}"
     ]
    },
    {
     "ename": "ErrorException",
     "evalue": "Cannot multiply two expressions of sizes (50, 100) and (4, 1)",
     "output_type": "error",
     "traceback": [
      "KERNEL EXCEPTION",
      "Cannot multiply two expressions of sizes (50, 100) and (4, 1)",
      "",
      "Stacktrace:",
      " [1] error(::String) at ./error.jl:33",
      " [2] MultiplyAtom at /Users/eh540/Dropbox (Personal)/LinkedFolders/Julia/dev/Convex/src/atoms/affine/multiply_divide.jl:28 [inlined]",
      " [3] *(::Array{Float64,2}, ::Variable) at /Users/eh540/Dropbox (Personal)/LinkedFolders/Julia/dev/Convex/src/atoms/affine/multiply_divide.jl:103",
      " [4] (::var\"#7#8\")(::Float64, ::Float64) at ./In[6]:4",
      " [5] (::Observables.var\"#16#17\"{var\"#7#8\",Observable{Any}})(::Float64, ::Vararg{Float64,N} where N) at /Users/eh540/.julia/packages/Observables/qCJWB/src/Observables.jl:152",
      " [6] (::Observables.var\"#g#15\"{Observables.var\"#16#17\"{var\"#7#8\",Observable{Any}},Tuple{Widget{:slider,Float64},Widget{:slider,Float64}}})(::Float64) at /Users/eh540/.julia/packages/Observables/qCJWB/src/Observables.jl:136",
      " [7] #setindex!#1(::Base.var\"#58#59\"{Base.Fix2{typeof(in),Array{Function,1}}}, ::typeof(setindex!), ::Observable{Float64}, ::Float64) at /Users/eh540/.julia/packages/Observables/qCJWB/src/Observables.jl:87",
      " [8] (::Base.var\"#kw##setindex!\")(::NamedTuple{(:notify,),Tuple{Base.var\"#58#59\"{Base.Fix2{typeof(in),Array{Function,1}}}}}, ::typeof(setindex!), ::Observable{Float64}, ::Float64) at ./none:0",
      " [9] (::Observables.var\"#25#28\"{InteractBase.var\"#77#80\",Observable{Float64},Array{Function,1}})(::Int64) at /Users/eh540/.julia/packages/Observables/qCJWB/src/observablepair.jl:14",
      " [10] #setindex!#1(::WebIO.var\"#44#45\", ::typeof(setindex!), ::Observable{Any}, ::Int64) at /Users/eh540/.julia/packages/Observables/qCJWB/src/Observables.jl:87",
      " [11] #setindex! at ./none:0 [inlined]",
      " [12] setexcludinghandlers at /Users/eh540/.julia/packages/Observables/qCJWB/src/Observables.jl:103 [inlined]",
      " [13] set_nosync(::Observable{Any}, ::Int64) at /Users/eh540/.julia/packages/WebIO/2mZPb/src/scope.jl:339",
      " [14] dispatch(::Scope, ::String, ::Int64) at /Users/eh540/.julia/packages/WebIO/2mZPb/src/scope.jl:348",
      " [15] dispatch_command(::WebIO.IJuliaConnection, ::Dict{String,Any}) at /Users/eh540/.julia/packages/WebIO/2mZPb/src/messaging.jl:104",
      " [16] dispatch(::WebIO.IJuliaConnection, ::Dict{String,Any}) at /Users/eh540/.julia/packages/WebIO/2mZPb/src/messaging.jl:81",
      " [17] (::WebIO.var\"#92#93\"{WebIO.IJuliaConnection})(::IJulia.Msg) at /Users/eh540/.julia/packages/WebIO/2mZPb/src/providers/ijulia.jl:21",
      " [18] comm_msg(::ZMQ.Socket, ::IJulia.Msg) at /Users/eh540/.julia/packages/IJulia/fRegO/src/comm_manager.jl:134",
      " [19] #invokelatest#1 at ./essentials.jl:709 [inlined]",
      " [20] invokelatest at ./essentials.jl:708 [inlined]",
      " [21] eventloop(::ZMQ.Socket) at /Users/eh540/.julia/packages/IJulia/fRegO/src/eventloop.jl:8",
      " [22] (::IJulia.var\"#15#18\")() at ./task.jl:333"
     ]
    },
    {
     "name": "stderr",
     "output_type": "stream",
     "text": [
      ", ::typeof(setindex!), ::Observable{Float64}, ::Float64\u001b[1m)\u001b[22m at \u001b[1m/Users/eh540/.julia/packages/Observables/qCJWB/src/Observables.jl:87\u001b[22m\n",
      " [8] \u001b[1m(::Base.var\"#kw##setindex!\")\u001b[22m\u001b[1m(\u001b[22m::NamedTuple{(:notify,),Tuple{Base.var\"#58#59\"{Base.Fix2{typeof(in),Array{Function,1}}}}}, ::typeof(setindex!), ::Observable{Float64}, ::Float64\u001b[1m)\u001b[22m at \u001b[1m./none:0\u001b[22m\n",
      " [9] \u001b[1m(::Observables.var\"#25#28\"{InteractBase.var\"#77#80\",Observable{Float64},Array{Function,1}})\u001b[22m\u001b[1m(\u001b[22m::Int64\u001b[1m)\u001b[22m at \u001b[1m/Users/eh540/.julia/packages/Observables/qCJWB/src/observablepair.jl:14\u001b[22m\n",
      " [10] \u001b[1m#setindex!#1\u001b[22m\u001b[1m(\u001b[22m::WebIO.var\"#44#45\", ::typeof(setindex!), ::Observable{Any}, ::Int64\u001b[1m)\u001b[22m at \u001b[1m/Users/eh540/.julia/packages/Observables/qCJWB/src/Observables.jl:87\u001b[22m\n",
      " [11] \u001b[1m#setindex!\u001b[22m at \u001b[1m./none:0\u001b[22m [inlined]\n",
      " [12] \u001b[1msetexcludinghandlers\u001b[22m at \u001b[1m/Users/eh540/.julia/packages/Observables/qCJWB/src/Observables.jl:103\u001b[22m [inlined]\n",
      " [13] \u001b[1mset_nosync\u001b[22m\u001b[1m(\u001b[22m::Observable{Any}, ::Int64\u001b[1m)\u001b[22m at \u001b[1m/Users/eh540/.julia/packages/WebIO/2mZPb/src/scope.jl:339\u001b[22m\n",
      " [14] \u001b[1mdispatch\u001b[22m\u001b[1m(\u001b[22m::Scope, ::String, ::Int64\u001b[1m)\u001b[22m at \u001b[1m/Users/eh540/.julia/packages/WebIO/2mZPb/src/scope.jl:348\u001b[22m\n",
      " [15] \u001b[1mdispatch_command\u001b[22m\u001b[1m(\u001b[22m::WebIO.IJuliaConnection, ::Dict{String,Any}\u001b[1m)\u001b[22m at \u001b[1m/Users/eh540/.julia/packages/WebIO/2mZPb/src/messaging.jl:104\u001b[22m\n",
      " [16] \u001b[1mdispatch\u001b[22m\u001b[1m(\u001b[22m::WebIO.IJuliaConnection, ::Dict{String,Any}\u001b[1m)\u001b[22m at \u001b[1m/Users/eh540/.julia/packages/WebIO/2mZPb/src/messaging.jl:81\u001b[22m\n",
      " [17] \u001b[1m(::WebIO.var\"#92#93\"{WebIO.IJuliaConnection})\u001b[22m\u001b[1m(\u001b[22m::IJulia.Msg\u001b[1m)\u001b[22m at \u001b[1m/Users/eh540/.julia/packages/WebIO/2mZPb/src/providers/ijulia.jl:21\u001b[22m\n",
      " [18] \u001b[1mcomm_msg\u001b[22m\u001b[1m(\u001b[22m::ZMQ.Socket, ::IJulia.Msg\u001b[1m)\u001b[22m at \u001b[1m/Users/eh540/.julia/packages/IJulia/fRegO/src/comm_manager.jl:134\u001b[22m\n",
      " [19] \u001b[1m#invokelatest#1\u001b[22m at \u001b[1m./essentials.jl:709\u001b[22m [inlined]\n",
      " [20] \u001b[1minvokelatest\u001b[22m at \u001b[1m./essentials.jl:708\u001b[22m [inlined]\n",
      " [21] \u001b[1meventloop\u001b[22m\u001b[1m(\u001b[22m::ZMQ.Socket\u001b[1m)\u001b[22m at \u001b[1m/Users/eh540/.julia/packages/IJulia/fRegO/src/eventloop.jl:8\u001b[22m\n",
      " [22] \u001b[1m(::IJulia.var\"#15#18\")\u001b[22m\u001b[1m(\u001b[22m\u001b[1m)\u001b[22m at \u001b[1m./task.jl:333\u001b[22m"
     ]
    },
    {
     "ename": "ErrorException",
     "evalue": "Cannot multiply two expressions of sizes (50, 100) and (4, 1)",
     "output_type": "error",
     "traceback": [
      "KERNEL EXCEPTION",
      "Cannot multiply two expressions of sizes (50, 100) and (4, 1)",
      "",
      "Stacktrace:",
      " [1] error(::String) at ./error.jl:33",
      " [2] MultiplyAtom at /Users/eh540/Dropbox (Personal)/LinkedFolders/Julia/dev/Convex/src/atoms/affine/multiply_divide.jl:28 [inlined]",
      " [3] *(::Array{Float64,2}, ::Variable) at /Users/eh540/Dropbox (Personal)/LinkedFolders/Julia/dev/Convex/src/atoms/affine/multiply_divide.jl:103",
      " [4] (::var\"#7#8\")(::Float64, ::Float64) at ./In[6]:4",
      " [5] (::Observables.var\"#16#17\"{var\"#7#8\",Observable{Any}})(::Float64, ::Vararg{Float64,N} where N) at /Users/eh540/.julia/packages/Observables/qCJWB/src/Observables.jl:152",
      " [6] (::Observables.var\"#g#15\"{Observables.var\"#16#17\"{var\"#7#8\",Observable{Any}},Tuple{Widget{:slider,Float64},Widget{:slider,Float64}}})(::Float64) at /Users/eh540/.julia/packages/Observables/qCJWB/src/Observables.jl:136",
      " [7] #setindex!#1(::Base.var\"#58#59\"{Base.Fix2{typeof(in),Array{Function,1}}}, ::typeof(setindex!), ::Observable{Float64}, ::Float64) at /Users/eh540/.julia/packages/Observables/qCJWB/src/Observables.jl:87",
      " [8] (::Base.var\"#kw##setindex!\")(::NamedTuple{(:notify,),Tuple{Base.var\"#58#59\"{Base.Fix2{typeof(in),Array{Function,1}}}}}, ::typeof(setindex!), ::Observable{Float64}, ::Float64) at ./none:0",
      " [9] (::Observables.var\"#25#28\"{InteractBase.var\"#77#80\",Observable{Float64},Array{Function,1}})(::Int64) at /Users/eh540/.julia/packages/Observables/qCJWB/src/observablepair.jl:14",
      " [10] #setindex!#1(::WebIO.var\"#44#45\", ::typeof(setindex!), ::Observable{Any}, ::Int64) at /Users/eh540/.julia/packages/Observables/qCJWB/src/Observables.jl:87",
      " [11] #setindex! at ./none:0 [inlined]",
      " [12] setexcludinghandlers at /Users/eh540/.julia/packages/Observables/qCJWB/src/Observables.jl:103 [inlined]",
      " [13] set_nosync(::Observable{Any}, ::Int64) at /Users/eh540/.julia/packages/WebIO/2mZPb/src/scope.jl:339",
      " [14] dispatch(::Scope, ::String, ::Int64) at /Users/eh540/.julia/packages/WebIO/2mZPb/src/scope.jl:348",
      " [15] dispatch_command(::WebIO.IJuliaConnection, ::Dict{String,Any}) at /Users/eh540/.julia/packages/WebIO/2mZPb/src/messaging.jl:104",
      " [16] dispatch(::WebIO.IJuliaConnection, ::Dict{String,Any}) at /Users/eh540/.julia/packages/WebIO/2mZPb/src/messaging.jl:81",
      " [17] (::WebIO.var\"#92#93\"{WebIO.IJuliaConnection})(::IJulia.Msg) at /Users/eh540/.julia/packages/WebIO/2mZPb/src/providers/ijulia.jl:21",
      " [18] comm_msg(::ZMQ.Socket, ::IJulia.Msg) at /Users/eh540/.julia/packages/IJulia/fRegO/src/comm_manager.jl:134",
      " [19] #invokelatest#1 at ./essentials.jl:709 [inlined]",
      " [20] invokelatest at ./essentials.jl:708 [inlined]",
      " [21] eventloop(::ZMQ.Socket) at /Users/eh540/.julia/packages/IJulia/fRegO/src/eventloop.jl:8",
      " [22] (::IJulia.var\"#15#18\")() at ./task.jl:333"
     ]
    },
    {
     "name": "stderr",
     "output_type": "stream",
     "text": [
      "Cannot multiply two expressions of sizes (50, 100) and (4, 1)\n",
      "Stacktrace:\n",
      " [1] \u001b[1merror\u001b[22m\u001b[1m(\u001b[22m::String\u001b[1m)\u001b[22m at \u001b[1m./error.jl:33\u001b[22m\n",
      " [2] \u001b[1mMultiplyAtom\u001b[22m at \u001b[1m/Users/eh540/Dropbox (Personal)/LinkedFolders/Julia/dev/Convex/src/atoms/affine/multiply_divide.jl:28\u001b[22m [inlined]\n",
      " [3] \u001b[1m*\u001b[22m\u001b[1m(\u001b[22m::Array{Float64,2}, ::Variable\u001b[1m)\u001b[22m at \u001b[1m/Users/eh540/Dropbox (Personal)/LinkedFolders/Julia/dev/Convex/src/atoms/affine/multiply_divide.jl:103\u001b[22m\n",
      " [4] \u001b[1m(::var\"#7#8\")\u001b[22m\u001b[1m(\u001b[22m::Float64, ::Float64\u001b[1m)\u001b[22m at \u001b[1m./In[6]:4\u001b[22m\n",
      " [5] \u001b[1m(::Observables.var\"#16#17\"{var\"#7#8\",Observable{Any}})\u001b[22m\u001b[1m(\u001b[22m::Float64, ::Vararg{Float64,N} where N\u001b[1m)\u001b[22m at \u001b[1m/Users/eh540/.julia/packages/Observables/qCJWB/src/Observables.jl:152\u001b[22m\n",
      " [6] \u001b[1m(::Observables.var\"#g#15\"{Observables.var\"#16#17\"{var\"#7#8\",Observable{Any}},Tuple{Widget{:slider,Float64},Widget{:slider,Float64}}})\u001b[22m\u001b[1m(\u001b[22m::Float64\u001b[1m)\u001b[22m at \u001b[1m/Users/eh540/.julia/packages/Observables/qCJWB/src/Observables.jl:136\u001b[22m\n",
      " [7] \u001b[1m#setindex!#1\u001b[22m\u001b[1m(\u001b[22m::Base.var\"#58#59\"{Base.Fix2{typeof(in),Array{Function,1}}}, ::typeof(setindex!), ::Observable{Float64}, ::Float64\u001b[1m)\u001b[22m at \u001b[1m/Users/eh540/.julia/packages/Observables/qCJWB/src/Observables.jl:87\u001b[22m\n",
      " [8] \u001b[1m(::Base.var\"#kw##setindex!\")\u001b[22m\u001b[1m(\u001b[22m::NamedTuple{(:notify,),Tuple{Base.var\"#58#59\"{Base.Fix2{typeof(in),Array{Function,1}}}}}, ::typeof(setindex!), ::Observable{Float64}, ::Float64\u001b[1m)\u001b[22m at \u001b[1m./none:0\u001b[22m\n",
      " [9] \u001b[1m(::Observables.var\"#25#28\"{InteractBase.var\"#77#80\",Observable{Float64},Array{Function,1}})\u001b[22m\u001b[1m(\u001b[22m::Int64\u001b[1m)\u001b[22m at \u001b[1m/Users/eh540/.julia/packages/Observables/qCJWB/src/observablepair.jl:14\u001b[22m\n",
      " [10] \u001b[1m#setindex!#1\u001b[22m\u001b[1m(\u001b[22m::WebIO.var\"#44#45\", ::typeof(setindex!), ::Observable{Any}, ::Int64\u001b[1m)\u001b[22m at \u001b[1m/Users/eh540/.julia/packages/Observables/qCJWB/src/Observables.jl:87\u001b[22m\n",
      " [11] \u001b[1m#setindex!\u001b[22m at \u001b[1m./none:0\u001b[22m [inlined]\n",
      " [12] \u001b[1msetexcludinghandlers\u001b[22m at \u001b[1m/Users/eh540/.julia/packages/Observables/qCJWB/src/Observables.jl:103\u001b[22m [inlined]\n",
      " [13] \u001b[1mset_nosync\u001b[22m\u001b[1m(\u001b[22m::Observable{Any}, ::Int64\u001b[1m)\u001b[22m at \u001b[1m/Users/eh540/.julia/packages/WebIO/2mZPb/src/scope.jl:339\u001b[22m\n",
      " [14] \u001b[1mdispatch\u001b[22m\u001b[1m(\u001b[22m::Scope, ::String, ::Int64\u001b[1m)\u001b[22m at \u001b[1m/Users/eh540/.julia/packages/WebIO/2mZPb/src/scope.jl:348\u001b[22m\n",
      " [15] \u001b[1mdispatch_command\u001b[22m\u001b[1m(\u001b[22m::WebIO.IJuliaConnection, ::Dict{String,Any}\u001b[1m)\u001b[22m at \u001b[1m/Users/eh540/.julia/packages/WebIO/2mZPb/src/messaging.jl:104\u001b[22m\n",
      " [16] \u001b[1mdispatch\u001b[22m\u001b[1m(\u001b[22m::WebIO.IJuliaConnection, ::Dict{String,Any}\u001b[1m)\u001b[22m at \u001b[1m/Users/eh540/.julia/packages/WebIO/2mZPb/src/messaging.jl:81\u001b[22m\n",
      " [17] \u001b[1m(::WebIO.var\"#92#93\"{WebIO.IJuliaConnection})\u001b[22m\u001b[1m(\u001b[22m::IJulia.Msg\u001b[1m)\u001b[22m at \u001b[1m/Users/eh540/.julia/packages/WebIO/2mZPb/src/providers/ijulia.jl:21\u001b[22m\n",
      " [18] \u001b[1mcomm_msg\u001b[22m\u001b[1m(\u001b[22m::ZMQ.Socket, ::IJulia.Msg\u001b[1m)\u001b[22m at \u001b[1m/Users/eh540/.julia/packages/IJulia/fRegO/src/comm_manager.jl:134\u001b[22m\n",
      " [19] \u001b[1m#invokelatest#1\u001b[22m at \u001b[1m./essentials.jl:709\u001b[22m [inlined]\n",
      " [20] \u001b[1minvokelatest\u001b[22m at \u001b[1m./essentials.jl:708\u001b[22m [inlined]\n",
      " [21] \u001b[1meventloop\u001b[22m\u001b[1m(\u001b[22m::ZMQ.Socket\u001b[1m)\u001b[22m at \u001b[1m/Users/eh540/.julia/packages/IJulia/fRegO/src/eventloop.jl:8\u001b[22m\n",
      " [22] \u001b[1m(::IJulia.var\"#15#18\")\u001b[22m\u001b[1m(\u001b[22m\u001b[1m)\u001b[22m at \u001b[1m./task.jl:333\u001b[22mCannot multiply two expressions of sizes (50, 100) and (4, 1)\n",
      "Stacktrace:\n",
      " [1] \u001b[1merror\u001b[22m\u001b[1m(\u001b[22m::String\u001b[1m)\u001b[22m at \u001b[1m./error.jl:33\u001b[22m\n",
      " [2] \u001b[1mMultiplyAtom\u001b[22m at \u001b[1m/Users/eh540/Dropbox (Personal)/LinkedFolders/Julia/dev/Convex/src/atoms/affine/multiply_divide.jl:28\u001b[22m [inlined]\n",
      " [3] \u001b[1m*\u001b[22m\u001b[1m(\u001b[22m::Array{Float64,2}, ::Variable\u001b[1m)\u001b[22m at \u001b[1m/Users/eh540/Dropbox (Personal)/LinkedFolders/Julia/dev/Convex/src/atoms/affine/multiply_divide.jl:103\u001b[22m\n",
      " [4] \u001b[1m(::var\"#7#8\")\u001b[22m\u001b[1m(\u001b[22m::Float64, ::Float64\u001b[1m)\u001b[22m at \u001b[1m./In[6]:4\u001b[22m\n",
      " [5] \u001b[1m(::Observables.var\"#16#17\"{var\"#7#8\",Observable{Any}})\u001b[22m\u001b[1m(\u001b[22m::Float64, ::Vararg{Float64,N} where N\u001b[1m)\u001b[22m at \u001b[1m/Users/eh540/.julia/packages/Observables/qCJWB/src/Observables.jl:152\u001b[22m\n",
      " [6] \u001b[1m(::Observables.var\"#g#15\"{Observables.var\"#16#17\"{var\"#7#8\",Observable{Any}},Tuple{Widget{:slider,Float64},Widget{:slider,Float64}}})\u001b[22m\u001b[1m(\u001b[22m::Float64\u001b[1m)\u001b[22m at \u001b[1m/Users/eh540/.julia/packages/Observables/qCJWB/src/Observables.jl:136\u001b[22m\n",
      " [7] \u001b[1m#setindex!#1\u001b[22m\u001b[1m(\u001b[22m::Base.var\"#58#59\"{Base.Fix2{typeof(in),Array{Function,1}}}, ::typeof(setindex!), ::Observable{Float64}, ::Float64\u001b[1m)\u001b[22m at \u001b[1m/Users/eh540/.julia/packages/Observables/qCJWB/src/Observables.jl:87\u001b[22m\n",
      " [8] \u001b[1m(::Base.var\"#kw##setindex!\")\u001b[22m\u001b[1m(\u001b[22m::NamedTuple{(:notify,),Tuple{Base.var\"#58#59\"{Base.Fix2{typeof(in),Array{Function,1}}}}}, ::typeof(setindex!), ::Observable{Float64}, ::Float64\u001b[1m)\u001b[22m at \u001b[1m./none:0\u001b[22m\n",
      " [9] \u001b[1m(::Observables.var\"#25#28\"{InteractBase.var\"#77#80\",Observable{Float64},Array{Function,1}})\u001b[22m\u001b[1m(\u001b[22m::Int64\u001b[1m)\u001b[22m at \u001b[1m/Users/eh540/.julia/packages/Observables/qCJWB/src/observablepair.jl:14\u001b[22m\n",
      " [10] \u001b[1m#setindex!#1\u001b[22m\u001b[1m(\u001b[22m::WebIO.var\"#44#45\", ::typeof(setindex!), ::Observable{Any}, ::Int64\u001b[1m)\u001b[22m at \u001b[1m/Users/eh540/.julia/packages/Observables/qCJWB/src/Observables.jl:87\u001b[22m\n",
      " [11] \u001b[1m#setindex!\u001b[22m at \u001b[1m./none:0\u001b[22m [inlined]\n",
      " [12] \u001b[1msetexcludinghandlers\u001b[22m at \u001b[1m/Users/eh540/.julia/packages/Observables/qCJWB/src/Observables.jl:103\u001b[22m [inlined]\n",
      " [13] \u001b[1mset_nosync\u001b[22m\u001b[1m(\u001b[22m::Observable{Any}, ::Int64\u001b[1m)\u001b[22m at \u001b[1m/Users/eh540/.julia/packages/WebIO/2mZPb/src/scope.jl:339\u001b[22m\n",
      " [14] \u001b[1mdispatch\u001b[22m\u001b[1m(\u001b[22m::Scope, ::String, ::Int64\u001b[1m)\u001b[22m at \u001b[1m/Users/eh540/.julia/packages/WebIO/2mZPb/src/scope.jl:348\u001b[22m\n",
      " [15] \u001b[1mdispatch_command\u001b[22m\u001b[1m(\u001b[22m::WebIO.IJuliaConnection, ::Dict{String,Any}\u001b[1m)\u001b[22m at \u001b[1m/Users/eh540/.julia/packages/WebIO/2mZPb/src/messaging.jl:104\u001b[22m\n",
      " [16] \u001b[1mdispatch\u001b[22m\u001b[1m(\u001b[22m::WebIO.IJuliaConnection, ::Dict{String,Any}\u001b[1m)\u001b[22m at \u001b[1m/Users/eh540/.julia/packages/WebIO/2mZPb/src/messaging.jl:81\u001b[22m\n",
      " [17] \u001b[1m(::WebIO.var\"#92#93\"{WebIO.IJuliaConnection})\u001b[22m\u001b[1m(\u001b[22m::IJulia.Msg\u001b[1m)\u001b[22m at \u001b[1m/Users/eh540/.julia/packages/WebIO/2mZPb/src/providers/ijulia.jl:21\u001b[22m\n",
      " [18] \u001b[1mcomm_msg\u001b[22m\u001b[1m(\u001b[22m::ZMQ.Socket, ::IJulia.Msg\u001b[1m)\u001b[22m at \u001b[1m/Users/eh540/.julia/packages/IJulia/fRegO/src/comm_manager.jl:134\u001b[22m\n",
      " [19] \u001b[1m#invokelatest#1\u001b[22m at \u001b[1m./essentials.jl:709\u001b[22m [inlined]\n",
      " [20] \u001b[1minvokelatest\u001b[22m at \u001b[1m./essentials.jl:708\u001b[22m [inlined]\n",
      " [21] \u001b[1meventloop\u001b[22m\u001b[1m(\u001b[22m::ZMQ.Socket\u001b[1m)\u001b[22m at \u001b[1m/Users/eh540/.julia/packages/IJulia/fRegO/src/eventloop.jl:8\u001b[22m\n",
      " [22] \u001b[1m(::IJulia.var\"#15#18\")\u001b[22m\u001b[1m(\u001b[22m\u001b[1m)\u001b[22m at \u001b[1m./task.jl:333\u001b[22m"
     ]
    },
    {
     "ename": "ErrorException",
     "evalue": "Cannot multiply two expressions of sizes (50, 100) and (4, 1)",
     "output_type": "error",
     "traceback": [
      "KERNEL EXCEPTION",
      "Cannot multiply two expressions of sizes (50, 100) and (4, 1)",
      "",
      "Stacktrace:",
      " [1] error(::String) at ./error.jl:33",
      " [2] MultiplyAtom at /Users/eh540/Dropbox (Personal)/LinkedFolders/Julia/dev/Convex/src/atoms/affine/multiply_divide.jl:28 [inlined]",
      " [3] *(::Array{Float64,2}, ::Variable) at /Users/eh540/Dropbox (Personal)/LinkedFolders/Julia/dev/Convex/src/atoms/affine/multiply_divide.jl:103",
      " [4] (::var\"#7#8\")(::Float64, ::Float64) at ./In[6]:4",
      " [5] (::Observables.var\"#16#17\"{var\"#7#8\",Observable{Any}})(::Float64, ::Vararg{Float64,N} where N) at /Users/eh540/.julia/packages/Observables/qCJWB/src/Observables.jl:152",
      " [6] (::Observables.var\"#g#15\"{Observables.var\"#16#17\"{var\"#7#8\",Observable{Any}},Tuple{Widget{:slider,Float64},Widget{:slider,Float64}}})(::Float64) at /Users/eh540/.julia/packages/Observables/qCJWB/src/Observables.jl:136",
      " [7] #setindex!#1(::Base.var\"#58#59\"{Base.Fix2{typeof(in),Array{Function,1}}}, ::typeof(setindex!), ::Observable{Float64}, ::Float64) at /Users/eh540/.julia/packages/Observables/qCJWB/src/Observables.jl:87",
      " [8] (::Base.var\"#kw##setindex!\")(::NamedTuple{(:notify,),Tuple{Base.var\"#58#59\"{Base.Fix2{typeof(in),Array{Function,1}}}}}, ::typeof(setindex!), ::Observable{Float64}, ::Float64) at ./none:0",
      " [9] (::Observables.var\"#25#28\"{InteractBase.var\"#77#80\",Observable{Float64},Array{Function,1}})(::Int64) at /Users/eh540/.julia/packages/Observables/qCJWB/src/observablepair.jl:14",
      " [10] #setindex!#1(::WebIO.var\"#44#45\", ::typeof(setindex!), ::Observable{Any}, ::Int64) at /Users/eh540/.julia/packages/Observables/qCJWB/src/Observables.jl:87",
      " [11] #setindex! at ./none:0 [inlined]",
      " [12] setexcludinghandlers at /Users/eh540/.julia/packages/Observables/qCJWB/src/Observables.jl:103 [inlined]",
      " [13] set_nosync(::Observable{Any}, ::Int64) at /Users/eh540/.julia/packages/WebIO/2mZPb/src/scope.jl:339",
      " [14] dispatch(::Scope, ::String, ::Int64) at /Users/eh540/.julia/packages/WebIO/2mZPb/src/scope.jl:348",
      " [15] dispatch_command(::WebIO.IJuliaConnection, ::Dict{String,Any}) at /Users/eh540/.julia/packages/WebIO/2mZPb/src/messaging.jl:104",
      " [16] dispatch(::WebIO.IJuliaConnection, ::Dict{String,Any}) at /Users/eh540/.julia/packages/WebIO/2mZPb/src/messaging.jl:81",
      " [17] (::WebIO.var\"#92#93\"{WebIO.IJuliaConnection})(::IJulia.Msg) at /Users/eh540/.julia/packages/WebIO/2mZPb/src/providers/ijulia.jl:21",
      " [18] comm_msg(::ZMQ.Socket, ::IJulia.Msg) at /Users/eh540/.julia/packages/IJulia/fRegO/src/comm_manager.jl:134",
      " [19] #invokelatest#1 at ./essentials.jl:709 [inlined]",
      " [20] invokelatest at ./essentials.jl:708 [inlined]",
      " [21] eventloop(::ZMQ.Socket) at /Users/eh540/.julia/packages/IJulia/fRegO/src/eventloop.jl:8",
      " [22] (::IJulia.var\"#15#18\")() at ./task.jl:333"
     ]
    },
    {
     "name": "stderr",
     "output_type": "stream",
     "text": [
      "Cannot multiply two expressions of sizes (50, 100) and (4, 1)\n",
      "Stacktrace:\n",
      " [1] \u001b[1merror\u001b[22m\u001b[1m(\u001b[22m::String\u001b[1m)\u001b[22m at \u001b[1m./error.jl:33\u001b[22m\n",
      " [2] \u001b[1mMultiplyAtom\u001b[22m at \u001b[1m/Users/eh540/Dropbox (Personal)/LinkedFolders/Julia/dev/Convex/src/atoms/affine/multiply_divide.jl:28\u001b[22m [inlined]\n",
      " [3] \u001b[1m*\u001b[22m\u001b[1m(\u001b[22m::Array{Float64,2}, ::Variable\u001b[1m)\u001b[22m at \u001b[1m/Users/eh540/Dropbox (Personal)/LinkedFolders/Julia/dev/Convex/src/atoms/affine/multiply_divide.jl:103\u001b[22m\n",
      " [4] \u001b[1m(::var\"#7#8\")\u001b[22m\u001b[1m(\u001b[22m::Float64, ::Float64\u001b[1m)\u001b[22m at \u001b[1m./In[6]:4\u001b[22m\n",
      " [5] \u001b[1m(::Observables.var\"#16#17\"{var\"#7#8\",Observable{Any}})\u001b[22m\u001b[1m(\u001b[22m::Float64, ::Vararg{Float64,N} where N\u001b[1m)\u001b[22m at \u001b[1m/Users/eh540/.julia/packages/Observables/qCJWB/src/Observables.jl:152\u001b[22m\n",
      " [6] \u001b[1m(::Observables.var\"#g#15\"{Observables.var\"#16#17\"{var\"#7#8\",Observable{Any}},Tuple{Widget{:slider,Float64},Widget{:slider,Float64}}})\u001b[22m\u001b[1m(\u001b[22m::Float64\u001b[1m)\u001b[22m at \u001b[1m/Users/eh540/.julia/packages/Observables/qCJWB/src/Observables.jl:136\u001b[22m\n",
      " [7] \u001b[1m#setindex!#1\u001b[22m\u001b[1m(\u001b[22m::Base.var\"#58#59\"{Base.Fix2{typeof(in),Array{Function,1}}}, ::typeof(setindex!), ::Observable{Float64}, ::Float64\u001b[1m)\u001b[22m at \u001b[1m/Users/eh540/.julia/packages/Observables/qCJWB/src/Observables.jl:87\u001b[22m\n",
      " [8] \u001b[1m(::Base.var\"#kw##setindex!\")\u001b[22m\u001b[1m(\u001b[22m::NamedTuple{(:notify,),Tuple{Base.var\"#58#59\"{Base.Fix2{typeof(in),Array{Function,1}}}}}, ::typeof(setindex!), ::Observable{Float64}, ::Float64\u001b[1m)\u001b[22m at \u001b[1m./none:0\u001b[22m\n",
      " [9] \u001b[1m(::Observables.var\"#25#28\"{InteractBase.var\"#77#80\",Observable{Float64},Array{Function,1}})\u001b[22m\u001b[1m(\u001b[22m::Int64\u001b[1m)\u001b[22m at \u001b[1m/Users/eh540/.julia/packages/Observables/qCJWB/src/observablepair.jl:14\u001b[22m\n",
      " [10] \u001b[1m#setindex!#1\u001b[22m\u001b[1m(\u001b[22m::WebIO.var\"#44#45\", ::typeof(setindex!), ::Observable{Any}, ::Int64\u001b[1m)\u001b[22m at \u001b[1m/Users/eh540/.julia/packages/Observables/qCJWB/src/Observables.jl:87\u001b[22m\n",
      " [11] \u001b[1m#setindex!\u001b[22m at \u001b[1m./none:0\u001b[22m [inlined]\n",
      " [12] \u001b[1msetexcludinghandlers\u001b[22m at \u001b[1m/Users/eh540/.julia/packages/Observables/qCJWB/src/Observables.jl:103\u001b[22m [inlined]\n",
      " [13] \u001b[1mset_nosync\u001b[22m\u001b[1m(\u001b[22m::Observable{Any}, ::Int64\u001b[1m)\u001b[22m at \u001b[1m/Users/eh540/.julia/packages/WebIO/2mZPb/src/scope.jl:339\u001b[22m\n",
      " [14] \u001b[1mdispatch\u001b[22m\u001b[1m(\u001b[22m::Scope, ::String, ::Int64\u001b[1m)\u001b[22m at \u001b[1m/Users/eh540/.julia/packages/WebIO/2mZPb/src/scope.jl:348\u001b[22m\n",
      " [15] \u001b[1mdispatch_command\u001b[22m\u001b[1m(\u001b[22m::WebIO.IJuliaConnection, ::Dict{String,Any}\u001b[1m)\u001b[22m at \u001b[1m/Users/eh540/.julia/packages/WebIO/2mZPb/src/messaging.jl:104\u001b[22m\n",
      " [16] \u001b[1mdispatch\u001b[22m\u001b[1m(\u001b[22m::WebIO.IJuliaConnection, ::Dict{String,Any}\u001b[1m)\u001b[22m at \u001b[1m/Users/eh540/.julia/packages/WebIO/2mZPb/src/messaging.jl:81\u001b[22m\n",
      " [17] \u001b[1m(::WebIO.var\"#92#93\"{WebIO.IJuliaConnection})\u001b[22m\u001b[1m(\u001b[22m::IJulia.Msg\u001b[1m)\u001b[22m at \u001b[1m/Users/eh540/.julia/packages/WebIO/2mZPb/src/providers/ijulia.jl:21\u001b[22m\n",
      " [18] \u001b[1mcomm_msg\u001b[22m\u001b[1m(\u001b[22m::ZMQ.Socket, ::IJulia.Msg\u001b[1m)\u001b[22m at \u001b[1m/Users/eh540/.julia/packages/IJulia/fRegO/src/comm_manager.jl:134\u001b[22m\n",
      " [19] \u001b[1m#invokelatest#1\u001b[22m at \u001b[1m./essentials.jl:709\u001b[22m [inlined]\n",
      " [20] \u001b[1minvokelatest\u001b[22m at \u001b[1m./essentials.jl:708\u001b[22m [inlined]\n",
      " [21] \u001b[1meventloop\u001b[22m\u001b[1m(\u001b[22m::ZMQ.Socket\u001b[1m)\u001b[22m at \u001b[1m/Users/eh540/.julia/packages/IJulia/fRegO/src/eventloop.jl:8\u001b[22m\n",
      " [22] \u001b[1m(::IJulia.var\"#15#18\")\u001b[22m\u001b[1m(\u001b[22m\u001b[1m)\u001b[22m at \u001b[1m./task.jl:333\u001b[22mCannot multiply two expressions of sizes (50, 100) and (4, 1)\n",
      "Stacktrace:\n",
      " [1] \u001b[1merror\u001b[22m\u001b[1m(\u001b[22m::String\u001b[1m)\u001b[22m at \u001b[1m./error.jl:33\u001b[22m\n",
      " [2] \u001b[1mMultiplyAtom\u001b[22m at \u001b[1m/Users/eh540/Dropbox (Personal)/LinkedFolders/Julia/dev/Convex/src/atoms/affine/multiply_divide.jl:28\u001b[22m [inlined]\n",
      " [3] \u001b[1m*\u001b[22m\u001b[1m(\u001b[22m::Array{Float64,2}, ::Variable\u001b[1m)\u001b[22m at \u001b[1m/Users/eh540/Dropbox (Personal)/LinkedFolders/Julia/dev/Convex/src/atoms/affine/multiply_divide.jl:103\u001b[22m\n",
      " [4] \u001b[1m(::var\"#7#8\")\u001b[22m\u001b[1m(\u001b[22m::Float64, ::Float64\u001b[1m)\u001b[22m at \u001b[1m./In[6]:4\u001b[22m\n",
      " [5] \u001b[1m(::Observables.var\"#16#17\"{var\"#7#8\",Observable{Any}})\u001b[22m\u001b[1m(\u001b[22m::Float64, ::Vararg{Float64,N} where N\u001b[1m)\u001b[22m at \u001b[1m/Users/eh540/.julia/packages/Observables/qCJWB/src/Observables.jl:152\u001b[22m\n",
      " [6] \u001b[1m(::Observables.var\"#g#15\"{Observables.var\"#16#17\"{var\"#7#8\",Observable{Any}},Tuple{Widget{:slider,Float64},Widget{:slider,Float64}}})\u001b[22m\u001b[1m(\u001b[22m::Float64\u001b[1m)\u001b[22m at \u001b[1m/Users/eh540/.julia/packages/Observables/qCJWB/src/Observables.jl:136\u001b[22m\n",
      " [7] \u001b[1m#setindex!#1\u001b[22m\u001b[1m(\u001b[22m::Base.var\"#58#59\"{Base.Fix2{typeof(in),Array{Function,1}}}, ::typeof(setindex!), ::Observable{Float64}, ::Float64\u001b[1m)\u001b[22m at \u001b[1m/Users/eh540/.julia/packages/Observables/qCJWB/src/Observables.jl:87\u001b[22m\n",
      " [8] \u001b[1m(::Base.var\"#kw##setindex!\")\u001b[22m\u001b[1m(\u001b[22m::NamedTuple{(:notify,),Tuple{Base.var\"#58#59\"{Base.Fix2{typeof(in),Array{Function,1}}}}}, ::typeof(setindex!), ::Observable{Float64}, ::Float64\u001b[1m)\u001b[22m at \u001b[1m./none:0\u001b[22m\n",
      " [9] \u001b[1m(::Observables.var\"#25#28\"{InteractBase.var\"#77#80\",Observable{Float64},Array{Function,1}})\u001b[22m\u001b[1m(\u001b[22m::Int64\u001b[1m)\u001b[22m at \u001b[1m/Users/eh540/.julia/packages/Observables/qCJWB/src/observablepair.jl:14\u001b[22m\n",
      " [10] \u001b[1m#setindex!#1\u001b[22m\u001b[1m(\u001b[22m::WebIO.var\"#44#45\", ::typeof(setindex!), ::Observable{Any}, ::Int64\u001b[1m)\u001b[22m at \u001b[1m/Users/eh540/.julia/packages/Observables/qCJWB/src/Observables.jl:87\u001b[22m\n",
      " [11] \u001b[1m#setindex!\u001b[22m at \u001b[1m./none:0\u001b[22m [inlined]\n",
      " [12] \u001b[1msetexcludinghandlers\u001b[22m at \u001b[1m/Users/eh540/.julia/packages/Observables/qCJWB/src/Observables.jl:103\u001b[22m [inlined]\n",
      " [13] \u001b[1mset_nosync\u001b[22m\u001b[1m(\u001b[22m::Observable{Any}, ::Int64\u001b[1m)\u001b[22m at \u001b[1m/Users/eh540/.julia/packages/WebIO/2mZPb/src/scope.jl:339\u001b[22m\n",
      " [14] \u001b[1mdispatch\u001b[22m\u001b[1m(\u001b[22m::Scope, ::String, ::Int64\u001b[1m)\u001b[22m at \u001b[1m/Users/eh540/.julia/packages/WebIO/2mZPb/src/scope.jl:348\u001b[22m\n",
      " [15] \u001b[1mdispatch_command\u001b[22m\u001b[1m(\u001b[22m::WebIO.IJuliaConnection, ::Dict{String,Any}\u001b[1m)\u001b[22m at \u001b[1m/Users/eh540/.julia/packages/WebIO/2mZPb/src/messaging.jl:104\u001b[22m\n",
      " [16] \u001b[1mdispatch\u001b[22m\u001b[1m(\u001b[22m::WebIO.IJuliaConnection, ::Dict{String,Any}\u001b[1m)\u001b[22m at \u001b[1m/Users/eh540/.julia/packages/WebIO/2mZPb/src/messaging.jl:81\u001b[22m\n",
      " [17] \u001b[1m(::WebIO.var\"#92#93\"{WebIO.IJuliaConnection})\u001b[22m\u001b[1m(\u001b[22m::IJulia.Msg\u001b[1m)\u001b[22m at \u001b[1m/Users/eh540/.julia/packages/WebIO/2mZPb/src/providers/ijulia.jl:21\u001b[22m\n",
      " [18] \u001b[1mcomm_msg\u001b[22m\u001b[1m(\u001b[22m::ZMQ.Socket, ::IJulia.Msg\u001b[1m)\u001b[22m at \u001b[1m/Users/eh540/.julia/packages/IJulia/fRegO/src/comm_manager.jl:134\u001b[22m\n",
      " [19] \u001b[1m#invokelatest#1\u001b[22m at \u001b[1m./essentials.jl:709\u001b[22m [inlined]\n",
      " [20] \u001b[1minvokelatest\u001b[22m at \u001b[1m./essentials.jl:708\u001b[22m [inlined]\n",
      " [21] \u001b[1meventloop\u001b[22m\u001b[1m(\u001b[22m::ZMQ.Socket\u001b[1m)\u001b[22m at \u001b[1m/Users/eh540/.julia/packages/IJulia/fRegO/src/eventloop.jl:8\u001b[22m\n",
      " [22] \u001b[1m(::IJulia.var\"#15#18\")\u001b[22m\u001b[1m(\u001b[22m\u001b[1m)\u001b[22m at \u001b[1m./task.jl:333\u001b[22m"
     ]
    },
    {
     "ename": "ErrorException",
     "evalue": "Cannot multiply two expressions of sizes (50, 100) and (4, 1)",
     "output_type": "error",
     "traceback": [
      "KERNEL EXCEPTION",
      "Cannot multiply two expressions of sizes (50, 100) and (4, 1)",
      "",
      "Stacktrace:",
      " [1] error(::String) at ./error.jl:33",
      " [2] MultiplyAtom at /Users/eh540/Dropbox (Personal)/LinkedFolders/Julia/dev/Convex/src/atoms/affine/multiply_divide.jl:28 [inlined]",
      " [3] *(::Array{Float64,2}, ::Variable) at /Users/eh540/Dropbox (Personal)/LinkedFolders/Julia/dev/Convex/src/atoms/affine/multiply_divide.jl:103",
      " [4] (::var\"#7#8\")(::Float64, ::Float64) at ./In[6]:4",
      " [5] (::Observables.var\"#16#17\"{var\"#7#8\",Observable{Any}})(::Float64, ::Vararg{Float64,N} where N) at /Users/eh540/.julia/packages/Observables/qCJWB/src/Observables.jl:152",
      " [6] (::Observables.var\"#g#15\"{Observables.var\"#16#17\"{var\"#7#8\",Observable{Any}},Tuple{Widget{:slider,Float64},Widget{:slider,Float64}}})(::Float64) at /Users/eh540/.julia/packages/Observables/qCJWB/src/Observables.jl:136",
      " [7] #setindex!#1(::Base.var\"#58#59\"{Base.Fix2{typeof(in),Array{Function,1}}}, ::typeof(setindex!), ::Observable{Float64}, ::Float64) at /Users/eh540/.julia/packages/Observables/qCJWB/src/Observables.jl:87",
      " [8] (::Base.var\"#kw##setindex!\")(::NamedTuple{(:notify,),Tuple{Base.var\"#58#59\"{Base.Fix2{typeof(in),Array{Function,1}}}}}, ::typeof(setindex!), ::Observable{Float64}, ::Float64) at ./none:0",
      " [9] (::Observables.var\"#25#28\"{InteractBase.var\"#77#80\",Observable{Float64},Array{Function,1}})(::Int64) at /Users/eh540/.julia/packages/Observables/qCJWB/src/observablepair.jl:14",
      " [10] #setindex!#1(::WebIO.var\"#44#45\", ::typeof(setindex!), ::Observable{Any}, ::Int64) at /Users/eh540/.julia/packages/Observables/qCJWB/src/Observables.jl:87",
      " [11] #setindex! at ./none:0 [inlined]",
      " [12] setexcludinghandlers at /Users/eh540/.julia/packages/Observables/qCJWB/src/Observables.jl:103 [inlined]",
      " [13] set_nosync(::Observable{Any}, ::Int64) at /Users/eh540/.julia/packages/WebIO/2mZPb/src/scope.jl:339",
      " [14] dispatch(::Scope, ::String, ::Int64) at /Users/eh540/.julia/packages/WebIO/2mZPb/src/scope.jl:348",
      " [15] dispatch_command(::WebIO.IJuliaConnection, ::Dict{String,Any}) at /Users/eh540/.julia/packages/WebIO/2mZPb/src/messaging.jl:104",
      " [16] dispatch(::WebIO.IJuliaConnection, ::Dict{String,Any}) at /Users/eh540/.julia/packages/WebIO/2mZPb/src/messaging.jl:81",
      " [17] (::WebIO.var\"#92#93\"{WebIO.IJuliaConnection})(::IJulia.Msg) at /Users/eh540/.julia/packages/WebIO/2mZPb/src/providers/ijulia.jl:21",
      " [18] comm_msg(::ZMQ.Socket, ::IJulia.Msg) at /Users/eh540/.julia/packages/IJulia/fRegO/src/comm_manager.jl:134",
      " [19] #invokelatest#1 at ./essentials.jl:709 [inlined]",
      " [20] invokelatest at ./essentials.jl:708 [inlined]",
      " [21] eventloop(::ZMQ.Socket) at /Users/eh540/.julia/packages/IJulia/fRegO/src/eventloop.jl:8",
      " [22] (::IJulia.var\"#15#18\")() at ./task.jl:333"
     ]
    },
    {
     "name": "stderr",
     "output_type": "stream",
     "text": [
      "Cannot multiply two expressions of sizes (50, 100) and (4, 1)\n",
      "Stacktrace:\n",
      " [1] \u001b[1merror\u001b[22m\u001b[1m(\u001b[22m::String\u001b[1m)\u001b[22m at \u001b[1m./error.jl:33\u001b[22m\n",
      " [2] \u001b[1mMultiplyAtom\u001b[22m at \u001b[1m/Users/eh540/Dropbox (Personal)/LinkedFolders/Julia/dev/Convex/src/atoms/affine/multiply_divide.jl:28\u001b[22m [inlined]\n",
      " [3] \u001b[1m*\u001b[22m\u001b[1m(\u001b[22m::Array{Float64,2}, ::Variable\u001b[1m)\u001b[22m at \u001b[1m/Users/eh540/Dropbox (Personal)/LinkedFolders/Julia/dev/Convex/src/atoms/affine/multiply_divide.jl:103\u001b[22m\n",
      " [4] \u001b[1m(::var\"#7#8\")\u001b[22m\u001b[1m(\u001b[22m::Float64, ::Float64\u001b[1m)\u001b[22m at \u001b[1m./In[6]:4\u001b[22m\n",
      " [5] \u001b[1m(::Observables.var\"#16#17\"{var\"#7#8\",Observable{Any}})\u001b[22m\u001b[1m(\u001b[22m::Float64, ::Vararg{Float64,N} where N\u001b[1m)\u001b[22m at \u001b[1m/Users/eh540/.julia/packages/Observables/qCJWB/src/Observables.jl:152\u001b[22m\n",
      " [6] \u001b[1m(::Observables.var\"#g#15\"{Observables.var\"#16#17\"{var\"#7#8\",Observable{Any}},Tuple{Widget{:slider,Float64},Widget{:slider,Float64}}})\u001b[22m\u001b[1m(\u001b[22m::Float64\u001b[1m)\u001b[22m at \u001b[1m/Users/eh540/.julia/packages/Observables/qCJWB/src/Observables.jl:136\u001b[22m\n",
      " [7] \u001b[1m#setindex!#1\u001b[22m\u001b[1m(\u001b[22m::Base.var\"#58#59\"{Base.Fix2{typeof(in),Array{Function,1}}}, ::typeof(setindex!), ::Observable{Float64}, ::Float64\u001b[1m)\u001b[22m at \u001b[1m/Users/eh540/.julia/packages/Observables/qCJWB/src/Observables.jl:87\u001b[22m\n",
      " [8] \u001b[1m(::Base.var\"#kw##setindex!\")\u001b[22m\u001b[1m(\u001b[22m::NamedTuple{(:notify,),Tuple{Base.var\"#58#59\"{Base.Fix2{typeof(in),Array{Function,1}}}}}, ::typeof(setindex!), ::Observable{Float64}, ::Float64\u001b[1m)\u001b[22m at \u001b[1m./none:0\u001b[22m\n",
      " [9] \u001b[1m(::Observables.var\"#25#28\"{InteractBase.var\"#77#80\",Observable{Float64},Array{Function,1}})\u001b[22m\u001b[1m(\u001b[22m::Int64\u001b[1m)\u001b[22m at \u001b[1m/Users/eh540/.julia/packages/Observables/qCJWB/src/observablepair.jl:14\u001b[22m\n",
      " [10] \u001b[1m#setindex!#1\u001b[22m\u001b[1m(\u001b[22m::WebIO.var\"#44#45\", ::typeof(setindex!), ::Observable{Any}, ::Int64\u001b[1m)\u001b[22m at \u001b[1m/Users/eh540/.julia/packages/Observables/qCJWB/src/Observables.jl:87\u001b[22m\n",
      " [11] \u001b[1m#setindex!\u001b[22m at \u001b[1m./none:0\u001b[22m [inlined]\n",
      " [12] \u001b[1msetexcludinghandlers\u001b[22m at \u001b[1m/Users/eh540/.julia/packages/Observables/qCJWB/src/Observables.jl:103\u001b[22m [inlined]\n",
      " [13] \u001b[1mset_nosync\u001b[22m\u001b[1m(\u001b[22m::Observable{Any}, ::Int64\u001b[1m)\u001b[22m at \u001b[1m/Users/eh540/.julia/packages/WebIO/2mZPb/src/scope.jl:339\u001b[22m\n",
      " [14] \u001b[1mdispatch\u001b[22m\u001b[1m(\u001b[22m::Scope, ::String, ::Int64\u001b[1m)\u001b[22m at \u001b[1m/Users/eh540/.julia/packages/WebIO/2mZPb/src/scope.jl:348\u001b[22m\n",
      " [15] \u001b[1mdispatch_command\u001b[22m\u001b[1m(\u001b[22m::WebIO.IJuliaConnection, ::Dict{String,Any}\u001b[1m)\u001b[22m at \u001b[1m/Users/eh540/.julia/packages/WebIO/2mZPb/src/messaging.jl:104\u001b[22m\n",
      " [16] \u001b[1mdispatch\u001b[22m\u001b[1m(\u001b[22m::WebIO.IJuliaConnection, ::Dict{String,Any}\u001b[1m)\u001b[22m at \u001b[1m/Users/eh540/.julia/packages/WebIO/2mZPb/src/messaging.jl:81\u001b[22m\n",
      " [17] \u001b[1m(::WebIO.var\"#92#93\"{WebIO.IJuliaConnection})\u001b[22m\u001b[1m(\u001b[22m::IJulia.Msg\u001b[1m)\u001b[22m at \u001b[1m/Users/eh540/.julia/packages/WebIO/2mZPb/src/providers/ijulia.jl:21\u001b[22m\n",
      " [18] \u001b[1mcomm_msg\u001b[22m\u001b[1m(\u001b[22m::ZMQ.Socket, ::IJulia.Msg\u001b[1m)\u001b[22m at \u001b[1m/Users/eh540/.julia/packages/IJulia/fRegO/src/comm_manager.jl:134\u001b[22m\n",
      " [19] \u001b[1m#invokelatest#1\u001b[22m at \u001b[1m./essentials.jl:709\u001b[22m [inlined]\n",
      " [20] \u001b[1minvokelatest\u001b[22m at \u001b[1m./essentials.jl:708\u001b[22m [inlined]\n",
      " [21] \u001b[1meventloop\u001b[22m\u001b[1m(\u001b[22m::ZMQ.Socket\u001b[1m)\u001b[22m at \u001b[1m/Users/eh540/.julia/packages/IJulia/fRegO/src/eventloop.jl:8\u001b[22m\n",
      " [22] \u001b[1m(::IJulia.var\"#15#18\")\u001b[22m\u001b[1m(\u001b[22m\u001b[1m)\u001b[22m at \u001b[1m./task.jl:333\u001b[22mCannot multiply two expressions of sizes (50, 100) and (4, 1)\n",
      "Stacktrace:\n",
      " [1] \u001b[1merror\u001b[22m\u001b[1m(\u001b[22m::String\u001b[1m)\u001b[22m at \u001b[1m./error.jl:33\u001b[22m\n",
      " [2] \u001b[1mMultiplyAtom\u001b[22m at \u001b[1m/Users/eh540/Dropbox (Personal)/LinkedFolders/Julia/dev/Convex/src/atoms/affine/multiply_divide.jl:28\u001b[22m [inlined]\n",
      " [3] \u001b[1m*\u001b[22m\u001b[1m(\u001b[22m::Array{Float64,2}, ::Variable\u001b[1m)\u001b[22m at \u001b[1m/Users/eh540/Dropbox (Personal)/LinkedFolders/Julia/dev/Convex/src/atoms/affine/multiply_divide.jl:103\u001b[22m\n",
      " [4] \u001b[1m(::var\"#7#8\")\u001b[22m\u001b[1m(\u001b[22m::Float64, ::Float64\u001b[1m)\u001b[22m at \u001b[1m./In[6]:4\u001b[22m\n",
      " [5] \u001b[1m(::Observables.var\"#16#17\"{var\"#7#8\",Observable{Any}})\u001b[22m\u001b[1m(\u001b[22m::Float64, ::Vararg{Float64,N} where N\u001b[1m)\u001b[22m at \u001b[1m/Users/eh540/.julia/packages/Observables/qCJWB/src/Observables.jl:152\u001b[22m\n",
      " [6] \u001b[1m(::Observables.var\"#g#15\"{Observables.var\"#16#17\"{var\"#7#8\",Observable{Any}},Tuple{Widget{:slider,Float64},Widget{:slider,Float64}}})\u001b[22m\u001b[1m(\u001b[22m::Float64\u001b[1m)\u001b[22m at \u001b[1m/Users/eh540/.julia/packages/Observables/qCJWB/src/Observables.jl:136\u001b[22m\n",
      " [7] \u001b[1m#setindex!#1\u001b[22m\u001b[1m(\u001b[22m::Base.var\"#58#59\"{Base.Fix2{typeof(in),Array{Function,1}}}, ::typeof(setindex!), ::Observable{Float64}, ::Float64\u001b[1m)\u001b[22m at \u001b[1m/Users/eh540/.julia/packages/Observables/qCJWB/src/Observables.jl:87\u001b[22m\n",
      " [8] \u001b[1m(::Base.var\"#kw##setindex!\")\u001b[22m\u001b[1m(\u001b[22m::NamedTuple{(:notify,),Tuple{Base.var\"#58#59\"{Base.Fix2{typeof(in),Array{Function,1}}}}}, ::typeof(setindex!), ::Observable{Float64}, ::Float64\u001b[1m)\u001b[22m at \u001b[1m./none:0\u001b[22m\n",
      " [9] \u001b[1m(::Observables.var\"#25#28\"{InteractBase.var\"#77#80\",Observable{Float64},Array{Function,1}})\u001b[22m\u001b[1m(\u001b[22m::Int64\u001b[1m)\u001b[22m at \u001b[1m/Users/eh540/.julia/packages/Observables/qCJWB/src/observablepair.jl:14\u001b[22m\n",
      " [10] \u001b[1m#setindex!#1\u001b[22m\u001b[1m(\u001b[22m::WebIO.var\"#44#45\", ::typeof(setindex!), ::Observable{Any}, ::Int64\u001b[1m)\u001b[22m at \u001b[1m/Users/eh540/.julia/packages/Observables/qCJWB/src/Observables.jl:87\u001b[22m\n",
      " [11] \u001b[1m#setindex!\u001b[22m at \u001b[1m./none:0\u001b[22m [inlined]\n",
      " [12] \u001b[1msetexcludinghandlers\u001b[22m at \u001b[1m/Users/eh540/.julia/packages/Observables/qCJWB/src/Observables.jl:103\u001b[22m [inlined]\n",
      " [13] \u001b[1mset_nosync\u001b[22m\u001b[1m(\u001b[22m::Observable{Any}, ::Int64\u001b[1m)\u001b[22m at \u001b[1m/Users/eh540/.julia/packages/WebIO/2mZPb/src/scope.jl:339\u001b[22m\n",
      " [14] \u001b[1mdispatch\u001b[22m\u001b[1m(\u001b[22m::Scope, ::String, ::Int64\u001b[1m)\u001b[22m at \u001b[1m/Users/eh540/.julia/packages/WebIO/2mZPb/src/scope.jl:348\u001b[22m\n",
      " [15] \u001b[1mdispatch_command\u001b[22m\u001b[1m(\u001b[22m::WebIO.IJuliaConnection, ::Dict{String,Any}\u001b[1m)\u001b[22m at \u001b[1m/Users/eh540/.julia/packages/WebIO/2mZPb/src/messaging.jl:104\u001b[22m\n",
      " [16] \u001b[1mdispatch\u001b[22m\u001b[1m(\u001b[22m::WebIO.IJuliaConnection, ::Dict{String,Any}\u001b[1m)\u001b[22m at \u001b[1m/Users/eh540/.julia/packages/WebIO/2mZPb/src/messaging.jl:81\u001b[22m\n",
      " [17] \u001b[1m(::WebIO.var\"#92#93\"{WebIO.IJuliaConnection})\u001b[22m\u001b[1m(\u001b[22m::IJulia.Msg\u001b[1m)\u001b[22m at \u001b[1m/Users/eh540/.julia/packages/WebIO/2mZPb/src/providers/ijulia.jl:21\u001b[22m\n",
      " [18] \u001b[1mcomm_msg\u001b[22m\u001b[1m(\u001b[22m::ZMQ.Socket, ::IJulia.Msg\u001b[1m)\u001b[22m at \u001b[1m/Users/eh540/.julia/packages/IJulia/fRegO/src/comm_manager.jl:134\u001b[22m\n",
      " [19] \u001b[1m#invokelatest#1\u001b[22m at \u001b[1m./essentials.jl:709\u001b[22m [inlined]\n",
      " [20] \u001b[1minvokelatest\u001b[22m at \u001b[1m./essentials.jl:708\u001b[22m [inlined]\n",
      " [21] \u001b[1meventloop\u001b[22m\u001b[1m(\u001b[22m::ZMQ.Socket\u001b[1m)\u001b[22m at \u001b[1m/Users/eh540/.julia/packages/IJulia/fRegO/src/eventloop.jl:8\u001b[22m\n",
      " [22] \u001b[1m(::IJulia.var\"#15#18\")\u001b[22m\u001b[1m(\u001b[22m\u001b[1m)\u001b[22m at \u001b[1m./task.jl:333\u001b[22m"
     ]
    }
   ],
   "source": [
    "# $f$ is concave increasing and $g$ is concave\n",
    "sqrt(sqrt(x))"
   ]
  },
  {
   "cell_type": "markdown",
   "metadata": {},
   "source": [
    "*This notebook was generated using [Literate.jl](https://github.com/fredrikekre/Literate.jl).*"
   ]
  }
 ],
 "metadata": {
  "@webio": {
   "lastCommId": "5bdd4808b0654e3889a9b01c1d2e66e2",
   "lastKernelId": "38ab185f-30ed-47e2-aa08-c89ada6122e3"
  },
  "kernelspec": {
   "display_name": "Julia 1.3.0-rc2",
   "language": "julia",
   "name": "julia-1.3"
  },
  "language_info": {
   "file_extension": ".jl",
   "mimetype": "application/julia",
   "name": "julia",
   "version": "1.3.0"
  }
 },
 "nbformat": 4,
 "nbformat_minor": 3
}
